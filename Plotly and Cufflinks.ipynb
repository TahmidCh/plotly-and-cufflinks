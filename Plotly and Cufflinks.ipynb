{
 "cells": [
  {
   "cell_type": "code",
   "execution_count": 1,
   "id": "35601147",
   "metadata": {},
   "outputs": [
    {
     "name": "stdout",
     "output_type": "stream",
     "text": [
      "Collecting plotly\n",
      "  Downloading plotly-5.3.1-py2.py3-none-any.whl (23.9 MB)\n",
      "Collecting tenacity>=6.2.0\n",
      "  Downloading tenacity-8.0.1-py3-none-any.whl (24 kB)\n",
      "Requirement already satisfied: six in c:\\users\\tahmid\\anaconda3\\lib\\site-packages (from plotly) (1.15.0)\n",
      "Installing collected packages: tenacity, plotly\n",
      "Successfully installed plotly-5.3.1 tenacity-8.0.1\n",
      "Note: you may need to restart the kernel to use updated packages.\n"
     ]
    }
   ],
   "source": [
    "pip install plotly"
   ]
  },
  {
   "cell_type": "code",
   "execution_count": 2,
   "id": "c31911f2",
   "metadata": {},
   "outputs": [
    {
     "name": "stdout",
     "output_type": "stream",
     "text": [
      "Collecting cufflinks\n",
      "  Downloading cufflinks-0.17.3.tar.gz (81 kB)\n",
      "Requirement already satisfied: numpy>=1.9.2 in c:\\users\\tahmid\\anaconda3\\lib\\site-packages (from cufflinks) (1.20.1)\n",
      "Requirement already satisfied: pandas>=0.19.2 in c:\\users\\tahmid\\anaconda3\\lib\\site-packages (from cufflinks) (1.2.4)\n",
      "Requirement already satisfied: plotly>=4.1.1 in c:\\users\\tahmid\\anaconda3\\lib\\site-packages (from cufflinks) (5.3.1)\n",
      "Requirement already satisfied: six>=1.9.0 in c:\\users\\tahmid\\anaconda3\\lib\\site-packages (from cufflinks) (1.15.0)\n",
      "Collecting colorlover>=0.2.1\n",
      "  Downloading colorlover-0.3.0-py3-none-any.whl (8.9 kB)\n",
      "Requirement already satisfied: setuptools>=34.4.1 in c:\\users\\tahmid\\anaconda3\\lib\\site-packages (from cufflinks) (52.0.0.post20210125)\n",
      "Requirement already satisfied: ipython>=5.3.0 in c:\\users\\tahmid\\anaconda3\\lib\\site-packages (from cufflinks) (7.22.0)\n",
      "Requirement already satisfied: ipywidgets>=7.0.0 in c:\\users\\tahmid\\anaconda3\\lib\\site-packages (from cufflinks) (7.6.3)\n",
      "Requirement already satisfied: pygments in c:\\users\\tahmid\\anaconda3\\lib\\site-packages (from ipython>=5.3.0->cufflinks) (2.8.1)\n",
      "Requirement already satisfied: prompt-toolkit!=3.0.0,!=3.0.1,<3.1.0,>=2.0.0 in c:\\users\\tahmid\\anaconda3\\lib\\site-packages (from ipython>=5.3.0->cufflinks) (3.0.17)\n",
      "Requirement already satisfied: colorama in c:\\users\\tahmid\\anaconda3\\lib\\site-packages (from ipython>=5.3.0->cufflinks) (0.4.4)\n",
      "Requirement already satisfied: traitlets>=4.2 in c:\\users\\tahmid\\anaconda3\\lib\\site-packages (from ipython>=5.3.0->cufflinks) (5.0.5)\n",
      "Requirement already satisfied: jedi>=0.16 in c:\\users\\tahmid\\anaconda3\\lib\\site-packages (from ipython>=5.3.0->cufflinks) (0.17.2)\n",
      "Requirement already satisfied: pickleshare in c:\\users\\tahmid\\anaconda3\\lib\\site-packages (from ipython>=5.3.0->cufflinks) (0.7.5)\n",
      "Requirement already satisfied: decorator in c:\\users\\tahmid\\anaconda3\\lib\\site-packages (from ipython>=5.3.0->cufflinks) (5.0.6)\n",
      "Requirement already satisfied: backcall in c:\\users\\tahmid\\anaconda3\\lib\\site-packages (from ipython>=5.3.0->cufflinks) (0.2.0)\n",
      "Requirement already satisfied: ipykernel>=4.5.1 in c:\\users\\tahmid\\anaconda3\\lib\\site-packages (from ipywidgets>=7.0.0->cufflinks) (5.3.4)\n",
      "Requirement already satisfied: widgetsnbextension~=3.5.0 in c:\\users\\tahmid\\anaconda3\\lib\\site-packages (from ipywidgets>=7.0.0->cufflinks) (3.5.1)\n",
      "Requirement already satisfied: nbformat>=4.2.0 in c:\\users\\tahmid\\anaconda3\\lib\\site-packages (from ipywidgets>=7.0.0->cufflinks) (5.1.3)\n",
      "Requirement already satisfied: jupyterlab-widgets>=1.0.0 in c:\\users\\tahmid\\anaconda3\\lib\\site-packages (from ipywidgets>=7.0.0->cufflinks) (1.0.0)\n",
      "Requirement already satisfied: jupyter-client in c:\\users\\tahmid\\anaconda3\\lib\\site-packages (from ipykernel>=4.5.1->ipywidgets>=7.0.0->cufflinks) (6.1.12)\n",
      "Requirement already satisfied: tornado>=4.2 in c:\\users\\tahmid\\anaconda3\\lib\\site-packages (from ipykernel>=4.5.1->ipywidgets>=7.0.0->cufflinks) (6.1)\n",
      "Requirement already satisfied: parso<0.8.0,>=0.7.0 in c:\\users\\tahmid\\anaconda3\\lib\\site-packages (from jedi>=0.16->ipython>=5.3.0->cufflinks) (0.7.0)\n",
      "Requirement already satisfied: ipython-genutils in c:\\users\\tahmid\\anaconda3\\lib\\site-packages (from nbformat>=4.2.0->ipywidgets>=7.0.0->cufflinks) (0.2.0)\n",
      "Requirement already satisfied: jsonschema!=2.5.0,>=2.4 in c:\\users\\tahmid\\anaconda3\\lib\\site-packages (from nbformat>=4.2.0->ipywidgets>=7.0.0->cufflinks) (3.2.0)\n",
      "Requirement already satisfied: jupyter-core in c:\\users\\tahmid\\anaconda3\\lib\\site-packages (from nbformat>=4.2.0->ipywidgets>=7.0.0->cufflinks) (4.7.1)\n",
      "Requirement already satisfied: attrs>=17.4.0 in c:\\users\\tahmid\\anaconda3\\lib\\site-packages (from jsonschema!=2.5.0,>=2.4->nbformat>=4.2.0->ipywidgets>=7.0.0->cufflinks) (20.3.0)\n",
      "Requirement already satisfied: pyrsistent>=0.14.0 in c:\\users\\tahmid\\anaconda3\\lib\\site-packages (from jsonschema!=2.5.0,>=2.4->nbformat>=4.2.0->ipywidgets>=7.0.0->cufflinks) (0.17.3)\n",
      "Requirement already satisfied: python-dateutil>=2.7.3 in c:\\users\\tahmid\\anaconda3\\lib\\site-packages (from pandas>=0.19.2->cufflinks) (2.8.1)\n",
      "Requirement already satisfied: pytz>=2017.3 in c:\\users\\tahmid\\anaconda3\\lib\\site-packages (from pandas>=0.19.2->cufflinks) (2021.1)\n",
      "Requirement already satisfied: tenacity>=6.2.0 in c:\\users\\tahmid\\anaconda3\\lib\\site-packages (from plotly>=4.1.1->cufflinks) (8.0.1)\n",
      "Requirement already satisfied: wcwidth in c:\\users\\tahmid\\anaconda3\\lib\\site-packages (from prompt-toolkit!=3.0.0,!=3.0.1,<3.1.0,>=2.0.0->ipython>=5.3.0->cufflinks) (0.2.5)\n",
      "Requirement already satisfied: notebook>=4.4.1 in c:\\users\\tahmid\\anaconda3\\lib\\site-packages (from widgetsnbextension~=3.5.0->ipywidgets>=7.0.0->cufflinks) (6.3.0)\n",
      "Requirement already satisfied: Send2Trash>=1.5.0 in c:\\users\\tahmid\\anaconda3\\lib\\site-packages (from notebook>=4.4.1->widgetsnbextension~=3.5.0->ipywidgets>=7.0.0->cufflinks) (1.5.0)\n",
      "Requirement already satisfied: terminado>=0.8.3 in c:\\users\\tahmid\\anaconda3\\lib\\site-packages (from notebook>=4.4.1->widgetsnbextension~=3.5.0->ipywidgets>=7.0.0->cufflinks) (0.9.4)\n",
      "Requirement already satisfied: pyzmq>=17 in c:\\users\\tahmid\\anaconda3\\lib\\site-packages (from notebook>=4.4.1->widgetsnbextension~=3.5.0->ipywidgets>=7.0.0->cufflinks) (20.0.0)\n",
      "Requirement already satisfied: jinja2 in c:\\users\\tahmid\\anaconda3\\lib\\site-packages (from notebook>=4.4.1->widgetsnbextension~=3.5.0->ipywidgets>=7.0.0->cufflinks) (2.11.3)\n",
      "Requirement already satisfied: prometheus-client in c:\\users\\tahmid\\anaconda3\\lib\\site-packages (from notebook>=4.4.1->widgetsnbextension~=3.5.0->ipywidgets>=7.0.0->cufflinks) (0.10.1)\n",
      "Requirement already satisfied: argon2-cffi in c:\\users\\tahmid\\anaconda3\\lib\\site-packages (from notebook>=4.4.1->widgetsnbextension~=3.5.0->ipywidgets>=7.0.0->cufflinks) (20.1.0)\n",
      "Requirement already satisfied: nbconvert in c:\\users\\tahmid\\anaconda3\\lib\\site-packages (from notebook>=4.4.1->widgetsnbextension~=3.5.0->ipywidgets>=7.0.0->cufflinks) (6.0.7)\n",
      "Requirement already satisfied: pywin32>=1.0 in c:\\users\\tahmid\\anaconda3\\lib\\site-packages (from jupyter-core->nbformat>=4.2.0->ipywidgets>=7.0.0->cufflinks) (227)\n",
      "Requirement already satisfied: pywinpty>=0.5 in c:\\users\\tahmid\\anaconda3\\lib\\site-packages (from terminado>=0.8.3->notebook>=4.4.1->widgetsnbextension~=3.5.0->ipywidgets>=7.0.0->cufflinks) (0.5.7)\n",
      "Requirement already satisfied: cffi>=1.0.0 in c:\\users\\tahmid\\anaconda3\\lib\\site-packages (from argon2-cffi->notebook>=4.4.1->widgetsnbextension~=3.5.0->ipywidgets>=7.0.0->cufflinks) (1.14.5)\n",
      "Requirement already satisfied: pycparser in c:\\users\\tahmid\\anaconda3\\lib\\site-packages (from cffi>=1.0.0->argon2-cffi->notebook>=4.4.1->widgetsnbextension~=3.5.0->ipywidgets>=7.0.0->cufflinks) (2.20)\n",
      "Requirement already satisfied: MarkupSafe>=0.23 in c:\\users\\tahmid\\anaconda3\\lib\\site-packages (from jinja2->notebook>=4.4.1->widgetsnbextension~=3.5.0->ipywidgets>=7.0.0->cufflinks) (1.1.1)\n",
      "Requirement already satisfied: jupyterlab-pygments in c:\\users\\tahmid\\anaconda3\\lib\\site-packages (from nbconvert->notebook>=4.4.1->widgetsnbextension~=3.5.0->ipywidgets>=7.0.0->cufflinks) (0.1.2)\n",
      "Requirement already satisfied: pandocfilters>=1.4.1 in c:\\users\\tahmid\\anaconda3\\lib\\site-packages (from nbconvert->notebook>=4.4.1->widgetsnbextension~=3.5.0->ipywidgets>=7.0.0->cufflinks) (1.4.3)\n",
      "Requirement already satisfied: entrypoints>=0.2.2 in c:\\users\\tahmid\\anaconda3\\lib\\site-packages (from nbconvert->notebook>=4.4.1->widgetsnbextension~=3.5.0->ipywidgets>=7.0.0->cufflinks) (0.3)\n",
      "Requirement already satisfied: testpath in c:\\users\\tahmid\\anaconda3\\lib\\site-packages (from nbconvert->notebook>=4.4.1->widgetsnbextension~=3.5.0->ipywidgets>=7.0.0->cufflinks) (0.4.4)\n",
      "Requirement already satisfied: defusedxml in c:\\users\\tahmid\\anaconda3\\lib\\site-packages (from nbconvert->notebook>=4.4.1->widgetsnbextension~=3.5.0->ipywidgets>=7.0.0->cufflinks) (0.7.1)\n",
      "Requirement already satisfied: nbclient<0.6.0,>=0.5.0 in c:\\users\\tahmid\\anaconda3\\lib\\site-packages (from nbconvert->notebook>=4.4.1->widgetsnbextension~=3.5.0->ipywidgets>=7.0.0->cufflinks) (0.5.3)\n",
      "Requirement already satisfied: bleach in c:\\users\\tahmid\\anaconda3\\lib\\site-packages (from nbconvert->notebook>=4.4.1->widgetsnbextension~=3.5.0->ipywidgets>=7.0.0->cufflinks) (3.3.0)\n",
      "Requirement already satisfied: mistune<2,>=0.8.1 in c:\\users\\tahmid\\anaconda3\\lib\\site-packages (from nbconvert->notebook>=4.4.1->widgetsnbextension~=3.5.0->ipywidgets>=7.0.0->cufflinks) (0.8.4)\n",
      "Requirement already satisfied: nest-asyncio in c:\\users\\tahmid\\anaconda3\\lib\\site-packages (from nbclient<0.6.0,>=0.5.0->nbconvert->notebook>=4.4.1->widgetsnbextension~=3.5.0->ipywidgets>=7.0.0->cufflinks) (1.5.1)\n",
      "Requirement already satisfied: async-generator in c:\\users\\tahmid\\anaconda3\\lib\\site-packages (from nbclient<0.6.0,>=0.5.0->nbconvert->notebook>=4.4.1->widgetsnbextension~=3.5.0->ipywidgets>=7.0.0->cufflinks) (1.10)\n",
      "Requirement already satisfied: webencodings in c:\\users\\tahmid\\anaconda3\\lib\\site-packages (from bleach->nbconvert->notebook>=4.4.1->widgetsnbextension~=3.5.0->ipywidgets>=7.0.0->cufflinks) (0.5.1)\n",
      "Requirement already satisfied: packaging in c:\\users\\tahmid\\anaconda3\\lib\\site-packages (from bleach->nbconvert->notebook>=4.4.1->widgetsnbextension~=3.5.0->ipywidgets>=7.0.0->cufflinks) (20.9)\n",
      "Requirement already satisfied: pyparsing>=2.0.2 in c:\\users\\tahmid\\anaconda3\\lib\\site-packages (from packaging->bleach->nbconvert->notebook>=4.4.1->widgetsnbextension~=3.5.0->ipywidgets>=7.0.0->cufflinks) (2.4.7)\n",
      "Building wheels for collected packages: cufflinks\n",
      "  Building wheel for cufflinks (setup.py): started\n",
      "  Building wheel for cufflinks (setup.py): finished with status 'done'\n",
      "  Created wheel for cufflinks: filename=cufflinks-0.17.3-py3-none-any.whl size=68724 sha256=5cc0bd8705d4db267e574afd694a4516dc646fb32754b4c078b5568b8555658b\n",
      "  Stored in directory: c:\\users\\tahmid\\appdata\\local\\pip\\cache\\wheels\\6b\\76\\62\\6da97734911ffcbdd559fd1a3f28526321f0ae699182a23866\n",
      "Successfully built cufflinks\n",
      "Installing collected packages: colorlover, cufflinks\n",
      "Successfully installed colorlover-0.3.0 cufflinks-0.17.3\n",
      "Note: you may need to restart the kernel to use updated packages.\n"
     ]
    }
   ],
   "source": [
    "pip install cufflinks"
   ]
  },
  {
   "cell_type": "code",
   "execution_count": 17,
   "id": "3c3da85d",
   "metadata": {},
   "outputs": [],
   "source": [
    "import pandas as pd\n",
    "import numpy as np\n",
    "%matplotlib inline"
   ]
  },
  {
   "cell_type": "code",
   "execution_count": 4,
   "id": "e88f50f4",
   "metadata": {},
   "outputs": [],
   "source": [
    "from plotly import __version__"
   ]
  },
  {
   "cell_type": "code",
   "execution_count": 6,
   "id": "cc65217d",
   "metadata": {},
   "outputs": [
    {
     "name": "stdout",
     "output_type": "stream",
     "text": [
      "5.3.1\n"
     ]
    }
   ],
   "source": [
    "print(__version__)"
   ]
  },
  {
   "cell_type": "code",
   "execution_count": 7,
   "id": "752e174a",
   "metadata": {},
   "outputs": [],
   "source": [
    "import cufflinks as cf"
   ]
  },
  {
   "cell_type": "code",
   "execution_count": 8,
   "id": "a62f676b",
   "metadata": {},
   "outputs": [],
   "source": [
    "from plotly.offline import download_plotlyjs,init_notebook_mode,plot,iplot"
   ]
  },
  {
   "cell_type": "code",
   "execution_count": 9,
   "id": "efb95d93",
   "metadata": {},
   "outputs": [
    {
     "data": {
      "text/html": [
       "        <script type=\"text/javascript\">\n",
       "        window.PlotlyConfig = {MathJaxConfig: 'local'};\n",
       "        if (window.MathJax) {MathJax.Hub.Config({SVG: {font: \"STIX-Web\"}});}\n",
       "        if (typeof require !== 'undefined') {\n",
       "        require.undef(\"plotly\");\n",
       "        requirejs.config({\n",
       "            paths: {\n",
       "                'plotly': ['https://cdn.plot.ly/plotly-2.4.2.min']\n",
       "            }\n",
       "        });\n",
       "        require(['plotly'], function(Plotly) {\n",
       "            window._Plotly = Plotly;\n",
       "        });\n",
       "        }\n",
       "        </script>\n",
       "        "
      ]
     },
     "metadata": {},
     "output_type": "display_data"
    }
   ],
   "source": [
    "init_notebook_mode(connected=True)"
   ]
  },
  {
   "cell_type": "code",
   "execution_count": 10,
   "id": "bc11ad15",
   "metadata": {},
   "outputs": [
    {
     "data": {
      "text/html": [
       "        <script type=\"text/javascript\">\n",
       "        window.PlotlyConfig = {MathJaxConfig: 'local'};\n",
       "        if (window.MathJax) {MathJax.Hub.Config({SVG: {font: \"STIX-Web\"}});}\n",
       "        if (typeof require !== 'undefined') {\n",
       "        require.undef(\"plotly\");\n",
       "        requirejs.config({\n",
       "            paths: {\n",
       "                'plotly': ['https://cdn.plot.ly/plotly-2.4.2.min']\n",
       "            }\n",
       "        });\n",
       "        require(['plotly'], function(Plotly) {\n",
       "            window._Plotly = Plotly;\n",
       "        });\n",
       "        }\n",
       "        </script>\n",
       "        "
      ]
     },
     "metadata": {},
     "output_type": "display_data"
    }
   ],
   "source": [
    "cf.go_offline()"
   ]
  },
  {
   "cell_type": "code",
   "execution_count": 12,
   "id": "00a0565a",
   "metadata": {},
   "outputs": [],
   "source": [
    "df = pd.DataFrame(np.random.rand(100,4),columns='A B C D'.split())"
   ]
  },
  {
   "cell_type": "code",
   "execution_count": 13,
   "id": "6f0b34d2",
   "metadata": {},
   "outputs": [
    {
     "data": {
      "text/html": [
       "<div>\n",
       "<style scoped>\n",
       "    .dataframe tbody tr th:only-of-type {\n",
       "        vertical-align: middle;\n",
       "    }\n",
       "\n",
       "    .dataframe tbody tr th {\n",
       "        vertical-align: top;\n",
       "    }\n",
       "\n",
       "    .dataframe thead th {\n",
       "        text-align: right;\n",
       "    }\n",
       "</style>\n",
       "<table border=\"1\" class=\"dataframe\">\n",
       "  <thead>\n",
       "    <tr style=\"text-align: right;\">\n",
       "      <th></th>\n",
       "      <th>A</th>\n",
       "      <th>B</th>\n",
       "      <th>C</th>\n",
       "      <th>D</th>\n",
       "    </tr>\n",
       "  </thead>\n",
       "  <tbody>\n",
       "    <tr>\n",
       "      <th>0</th>\n",
       "      <td>0.687485</td>\n",
       "      <td>0.884326</td>\n",
       "      <td>0.272766</td>\n",
       "      <td>0.531294</td>\n",
       "    </tr>\n",
       "    <tr>\n",
       "      <th>1</th>\n",
       "      <td>0.551397</td>\n",
       "      <td>0.475345</td>\n",
       "      <td>0.100133</td>\n",
       "      <td>0.197012</td>\n",
       "    </tr>\n",
       "    <tr>\n",
       "      <th>2</th>\n",
       "      <td>0.452196</td>\n",
       "      <td>0.556477</td>\n",
       "      <td>0.544833</td>\n",
       "      <td>0.364344</td>\n",
       "    </tr>\n",
       "    <tr>\n",
       "      <th>3</th>\n",
       "      <td>0.322007</td>\n",
       "      <td>0.418137</td>\n",
       "      <td>0.097273</td>\n",
       "      <td>0.745800</td>\n",
       "    </tr>\n",
       "    <tr>\n",
       "      <th>4</th>\n",
       "      <td>0.498486</td>\n",
       "      <td>0.808257</td>\n",
       "      <td>0.219734</td>\n",
       "      <td>0.173478</td>\n",
       "    </tr>\n",
       "  </tbody>\n",
       "</table>\n",
       "</div>"
      ],
      "text/plain": [
       "          A         B         C         D\n",
       "0  0.687485  0.884326  0.272766  0.531294\n",
       "1  0.551397  0.475345  0.100133  0.197012\n",
       "2  0.452196  0.556477  0.544833  0.364344\n",
       "3  0.322007  0.418137  0.097273  0.745800\n",
       "4  0.498486  0.808257  0.219734  0.173478"
      ]
     },
     "execution_count": 13,
     "metadata": {},
     "output_type": "execute_result"
    }
   ],
   "source": [
    "df.head()"
   ]
  },
  {
   "cell_type": "code",
   "execution_count": 14,
   "id": "93ac368d",
   "metadata": {},
   "outputs": [],
   "source": [
    "df2 = pd.DataFrame({'Category':['A','B','c'],'Values':[32,43,50]})"
   ]
  },
  {
   "cell_type": "code",
   "execution_count": 15,
   "id": "0bd3f85d",
   "metadata": {},
   "outputs": [
    {
     "data": {
      "text/html": [
       "<div>\n",
       "<style scoped>\n",
       "    .dataframe tbody tr th:only-of-type {\n",
       "        vertical-align: middle;\n",
       "    }\n",
       "\n",
       "    .dataframe tbody tr th {\n",
       "        vertical-align: top;\n",
       "    }\n",
       "\n",
       "    .dataframe thead th {\n",
       "        text-align: right;\n",
       "    }\n",
       "</style>\n",
       "<table border=\"1\" class=\"dataframe\">\n",
       "  <thead>\n",
       "    <tr style=\"text-align: right;\">\n",
       "      <th></th>\n",
       "      <th>Category</th>\n",
       "      <th>Values</th>\n",
       "    </tr>\n",
       "  </thead>\n",
       "  <tbody>\n",
       "    <tr>\n",
       "      <th>0</th>\n",
       "      <td>A</td>\n",
       "      <td>32</td>\n",
       "    </tr>\n",
       "    <tr>\n",
       "      <th>1</th>\n",
       "      <td>B</td>\n",
       "      <td>43</td>\n",
       "    </tr>\n",
       "    <tr>\n",
       "      <th>2</th>\n",
       "      <td>c</td>\n",
       "      <td>50</td>\n",
       "    </tr>\n",
       "  </tbody>\n",
       "</table>\n",
       "</div>"
      ],
      "text/plain": [
       "  Category  Values\n",
       "0        A      32\n",
       "1        B      43\n",
       "2        c      50"
      ]
     },
     "execution_count": 15,
     "metadata": {},
     "output_type": "execute_result"
    }
   ],
   "source": [
    "df2"
   ]
  },
  {
   "cell_type": "code",
   "execution_count": 18,
   "id": "42c7a042",
   "metadata": {
    "scrolled": true
   },
   "outputs": [
    {
     "data": {
      "application/vnd.plotly.v1+json": {
       "config": {
        "linkText": "Export to plot.ly",
        "plotlyServerURL": "https://plot.ly",
        "showLink": true
       },
       "data": [
        {
         "line": {
          "color": "rgba(255, 153, 51, 1.0)",
          "dash": "solid",
          "shape": "linear",
          "width": 1.3
         },
         "mode": "lines",
         "name": "A",
         "text": "",
         "type": "scatter",
         "x": [
          0,
          1,
          2,
          3,
          4,
          5,
          6,
          7,
          8,
          9,
          10,
          11,
          12,
          13,
          14,
          15,
          16,
          17,
          18,
          19,
          20,
          21,
          22,
          23,
          24,
          25,
          26,
          27,
          28,
          29,
          30,
          31,
          32,
          33,
          34,
          35,
          36,
          37,
          38,
          39,
          40,
          41,
          42,
          43,
          44,
          45,
          46,
          47,
          48,
          49,
          50,
          51,
          52,
          53,
          54,
          55,
          56,
          57,
          58,
          59,
          60,
          61,
          62,
          63,
          64,
          65,
          66,
          67,
          68,
          69,
          70,
          71,
          72,
          73,
          74,
          75,
          76,
          77,
          78,
          79,
          80,
          81,
          82,
          83,
          84,
          85,
          86,
          87,
          88,
          89,
          90,
          91,
          92,
          93,
          94,
          95,
          96,
          97,
          98,
          99
         ],
         "y": [
          0.6874854690341766,
          0.5513974765103675,
          0.45219615905465405,
          0.3220074688721969,
          0.49848573503280835,
          0.8958082016552023,
          0.5924551606207522,
          0.019085849506069286,
          0.16849589082793093,
          0.03917191500638728,
          0.9121123388386799,
          0.23796051949259922,
          0.7258352658575087,
          0.34011954084222296,
          0.9491936521385159,
          0.15990653103289698,
          0.9754274244115759,
          0.3513871614097297,
          0.7066711673159177,
          0.6239263416350013,
          0.7027295187093794,
          0.799269947258963,
          0.33849993354535746,
          0.6301050773543084,
          0.051192931727014224,
          0.7224205087266852,
          0.4610464129486934,
          0.18313301492030254,
          0.40054735793284857,
          0.014412382101959054,
          0.5456590908441381,
          0.10855883211332473,
          0.11586655917905408,
          0.10568130158337796,
          0.9818825910553824,
          0.8617623526104413,
          0.9415055939261352,
          0.35812691402662733,
          0.6234732510966413,
          0.15305832576902845,
          0.23400930433298706,
          0.4388023440377373,
          0.09120750092250074,
          0.2590262261903984,
          0.03974027611508335,
          0.9284703344580862,
          0.6080577294722969,
          0.1012374898742957,
          0.11618317926899302,
          0.6088220366799406,
          0.11991550032916609,
          0.28278449287021923,
          0.12753378858961406,
          0.21490654709576862,
          0.7204691205883724,
          0.5518301887870176,
          0.7226709942872196,
          0.328001954785583,
          0.49011610109086257,
          0.11945543432845651,
          0.7686714245848407,
          0.8652286415169714,
          0.3387705814403654,
          0.20014342665332918,
          0.260917778080169,
          0.9954206073810935,
          0.27240193790782574,
          0.27575568228905967,
          0.30877116216175204,
          0.579622051446661,
          0.5461726196682098,
          0.6872479995752397,
          0.4276608269347526,
          0.6431573587078688,
          0.10326755653659647,
          0.021542551887952288,
          0.5826640406415982,
          0.1961995137374999,
          0.9301684925096566,
          0.35239104974070956,
          0.9269534890286317,
          0.00967037511330382,
          0.6469773371700347,
          0.08189466503482001,
          0.6470770636312277,
          0.7186538462033282,
          0.64798841147515,
          0.9390131824104669,
          0.39599019547534,
          0.4997378936919815,
          0.3979814103169699,
          0.43334068025240957,
          0.18204684784992287,
          0.9055616278589967,
          0.4950070469382203,
          0.2728325871340562,
          0.3263777289755577,
          0.9382923709357847,
          0.9228802624702013,
          0.2280123275393151
         ]
        },
        {
         "line": {
          "color": "rgba(55, 128, 191, 1.0)",
          "dash": "solid",
          "shape": "linear",
          "width": 1.3
         },
         "mode": "lines",
         "name": "B",
         "text": "",
         "type": "scatter",
         "x": [
          0,
          1,
          2,
          3,
          4,
          5,
          6,
          7,
          8,
          9,
          10,
          11,
          12,
          13,
          14,
          15,
          16,
          17,
          18,
          19,
          20,
          21,
          22,
          23,
          24,
          25,
          26,
          27,
          28,
          29,
          30,
          31,
          32,
          33,
          34,
          35,
          36,
          37,
          38,
          39,
          40,
          41,
          42,
          43,
          44,
          45,
          46,
          47,
          48,
          49,
          50,
          51,
          52,
          53,
          54,
          55,
          56,
          57,
          58,
          59,
          60,
          61,
          62,
          63,
          64,
          65,
          66,
          67,
          68,
          69,
          70,
          71,
          72,
          73,
          74,
          75,
          76,
          77,
          78,
          79,
          80,
          81,
          82,
          83,
          84,
          85,
          86,
          87,
          88,
          89,
          90,
          91,
          92,
          93,
          94,
          95,
          96,
          97,
          98,
          99
         ],
         "y": [
          0.8843255679714199,
          0.4753451338820551,
          0.5564770416397901,
          0.4181370124941951,
          0.8082568964572047,
          0.0041675524322632995,
          0.7357309494209592,
          0.12236491926338045,
          0.8026430626697526,
          0.8551481461602891,
          0.9160726083915803,
          0.1948611008604485,
          0.10701810828909286,
          0.5659538314632473,
          0.006860980634156744,
          0.9230463812155936,
          0.3674568219671307,
          0.19570344085171865,
          0.4859113095727293,
          0.7788449077848387,
          0.4019894727335077,
          0.7895054616695254,
          0.950720477376916,
          0.7324935991597183,
          0.8294060719954223,
          0.6182198093766845,
          0.3101609180831728,
          0.8393311468830299,
          0.541810088608328,
          0.9808512663420359,
          0.7004636554110424,
          0.6112366152144356,
          0.7291840796906991,
          0.3664280752889001,
          0.22748883431446054,
          0.5760954477062057,
          0.056814697827563765,
          0.2644182837393171,
          0.5254839699381781,
          0.6053576784527464,
          0.7582588213806051,
          0.600899443738797,
          0.28418780384870856,
          0.7235975540666422,
          0.5248556362855886,
          0.17192615028233327,
          0.002118427862049077,
          0.10281536998752638,
          0.7699441949341121,
          0.5084122480003067,
          0.6273821881374195,
          0.5823393257132602,
          0.7747669163013711,
          0.7157246969337302,
          0.08690490847151733,
          0.9386285860148799,
          0.24252824943674178,
          0.2869278394690582,
          0.9268408784154505,
          0.45499666799956184,
          0.24128442648819093,
          0.0859334387635351,
          0.587303931632512,
          0.05725274216827514,
          0.02205346107514128,
          0.17496362033400514,
          0.8985829347769082,
          0.2567072722096292,
          0.035850198583307624,
          0.2200534368233742,
          0.9571000858043736,
          0.9737365908047143,
          0.3963828806802123,
          0.6362415350449229,
          0.15697065950891187,
          0.036360552886472775,
          0.982439271041864,
          0.07103230413276096,
          0.04406673582766252,
          0.9977258111089317,
          0.9375260641083187,
          0.5165719897735459,
          0.5328280702622757,
          0.14681397756233838,
          0.5506515843640556,
          0.18482825515656975,
          0.018811782698625823,
          0.3565744638001872,
          0.08815156772705057,
          0.3442811317469232,
          0.829660538258542,
          0.21618861100269104,
          0.3143410975104918,
          0.7634603125071553,
          0.4724020632558451,
          0.4600717513761058,
          0.1361911206485652,
          0.37637493132673405,
          0.8939930917701026,
          0.45455119567056856
         ]
        },
        {
         "line": {
          "color": "rgba(50, 171, 96, 1.0)",
          "dash": "solid",
          "shape": "linear",
          "width": 1.3
         },
         "mode": "lines",
         "name": "C",
         "text": "",
         "type": "scatter",
         "x": [
          0,
          1,
          2,
          3,
          4,
          5,
          6,
          7,
          8,
          9,
          10,
          11,
          12,
          13,
          14,
          15,
          16,
          17,
          18,
          19,
          20,
          21,
          22,
          23,
          24,
          25,
          26,
          27,
          28,
          29,
          30,
          31,
          32,
          33,
          34,
          35,
          36,
          37,
          38,
          39,
          40,
          41,
          42,
          43,
          44,
          45,
          46,
          47,
          48,
          49,
          50,
          51,
          52,
          53,
          54,
          55,
          56,
          57,
          58,
          59,
          60,
          61,
          62,
          63,
          64,
          65,
          66,
          67,
          68,
          69,
          70,
          71,
          72,
          73,
          74,
          75,
          76,
          77,
          78,
          79,
          80,
          81,
          82,
          83,
          84,
          85,
          86,
          87,
          88,
          89,
          90,
          91,
          92,
          93,
          94,
          95,
          96,
          97,
          98,
          99
         ],
         "y": [
          0.2727659694171646,
          0.10013266711232538,
          0.5448327863460596,
          0.09727329894900805,
          0.2197344135623024,
          0.04214646070583883,
          0.46821889609474976,
          0.8025023567493255,
          0.01573595417142093,
          0.8039627485723932,
          0.05351035310071783,
          0.9000406066334424,
          0.037098494546418004,
          0.2629835388810038,
          0.6565807923926823,
          0.8123690081745882,
          0.09871617059775817,
          0.17238693234887326,
          0.934884113405032,
          0.34064314236757254,
          0.9115421177085139,
          0.5131761680134694,
          0.5379622467693852,
          0.284426545392087,
          0.8345670148283205,
          0.8487558681961126,
          0.5900632249409625,
          0.714154243306131,
          0.49242633777860434,
          0.5336573146516208,
          0.1453402204294264,
          0.8163375471348691,
          0.6811463764736094,
          0.6245439838334139,
          0.4894177841709727,
          0.10532400939912523,
          0.3618680768124718,
          0.32272026156317757,
          0.8433884451270447,
          0.19000243572657838,
          0.6539164107900397,
          0.9521670993114382,
          0.9987033922593445,
          0.770424395262453,
          0.5375133721748498,
          0.082381733581116,
          0.7608344269402947,
          0.008898723946493714,
          0.0495688379008824,
          0.12610535479249285,
          0.762356668150164,
          0.5806095750100767,
          0.607013446608908,
          0.9196984128010408,
          0.28276562212501666,
          0.2625431879724742,
          0.4614249618074985,
          0.17704613485673404,
          0.7868397345361017,
          0.8066783941246661,
          0.4864485987873186,
          0.6135022168649812,
          0.6273290657176195,
          0.6145518813492507,
          0.23944297122292757,
          0.8931918852211221,
          0.3798528483404081,
          0.33649416223700135,
          0.043255334208812224,
          0.553039130920302,
          0.3620196403359204,
          0.5856002401687663,
          0.6080727470900651,
          0.6777037301958364,
          0.4224623950184081,
          0.5079081085198162,
          0.43057034579573017,
          0.6902588282783292,
          0.411766731657773,
          0.4410796490087915,
          0.5088675781055102,
          0.8729896925135645,
          0.09661973445640559,
          0.7642709600505615,
          0.2637435603231273,
          0.5831670398586298,
          0.0639600760652358,
          0.6666363233039206,
          0.2797930223401284,
          0.00906139330142075,
          0.3949603726304901,
          0.33339740804984064,
          0.05697582815757041,
          0.7295051035746041,
          0.4978557217912828,
          0.8432200315712669,
          0.3665848164074931,
          0.19071377651795673,
          0.3134459169813113,
          0.8906068235198399
         ]
        },
        {
         "line": {
          "color": "rgba(128, 0, 128, 1.0)",
          "dash": "solid",
          "shape": "linear",
          "width": 1.3
         },
         "mode": "lines",
         "name": "D",
         "text": "",
         "type": "scatter",
         "x": [
          0,
          1,
          2,
          3,
          4,
          5,
          6,
          7,
          8,
          9,
          10,
          11,
          12,
          13,
          14,
          15,
          16,
          17,
          18,
          19,
          20,
          21,
          22,
          23,
          24,
          25,
          26,
          27,
          28,
          29,
          30,
          31,
          32,
          33,
          34,
          35,
          36,
          37,
          38,
          39,
          40,
          41,
          42,
          43,
          44,
          45,
          46,
          47,
          48,
          49,
          50,
          51,
          52,
          53,
          54,
          55,
          56,
          57,
          58,
          59,
          60,
          61,
          62,
          63,
          64,
          65,
          66,
          67,
          68,
          69,
          70,
          71,
          72,
          73,
          74,
          75,
          76,
          77,
          78,
          79,
          80,
          81,
          82,
          83,
          84,
          85,
          86,
          87,
          88,
          89,
          90,
          91,
          92,
          93,
          94,
          95,
          96,
          97,
          98,
          99
         ],
         "y": [
          0.531294116296426,
          0.19701194010803857,
          0.36434386467679614,
          0.7458001203276531,
          0.17347779351050963,
          0.5472650332783991,
          0.20544178533742818,
          0.6562607253878838,
          0.26853162694740906,
          0.4881979053580182,
          0.5005925234679313,
          0.11531827042724174,
          0.07724001706144845,
          0.8772379707414086,
          0.32891027646901105,
          0.5437696224417293,
          0.6087019800021553,
          0.1017477381914369,
          0.7597565219358867,
          0.7075870895329108,
          0.7824508389972364,
          0.42490351579904595,
          0.44614267994536105,
          0.7371651939483885,
          0.10515654964232335,
          0.3721918184923646,
          0.4000347031993342,
          0.4811459355861514,
          0.28527624524152306,
          0.6108657981650865,
          0.11789606615592574,
          0.0277722663248563,
          0.8769255225809013,
          0.7115275938327793,
          0.11637247371244663,
          0.6664260205940643,
          0.26428574246004877,
          0.1546039499227917,
          0.7866297050243156,
          0.2640539371816679,
          0.017563027647325202,
          0.4072262393364442,
          0.14003560411484361,
          0.9173998380286212,
          0.5597047231192082,
          0.41036967448991135,
          0.9541359098140745,
          0.9902816120106191,
          0.1415037621225823,
          0.6603396390178276,
          0.6579803055591977,
          0.28293678148689194,
          0.7100677203501573,
          0.7792898210151603,
          0.8199346757081758,
          0.9942471970436231,
          0.34197956696915943,
          0.21538847491699653,
          0.24341009312576722,
          0.5295471707344911,
          0.5626079307554687,
          0.5791795721212617,
          0.4887896598370344,
          0.10556584705722183,
          0.05244441702583369,
          0.056921755072777636,
          0.34312237867599027,
          0.13814114956923884,
          0.27090922114601856,
          0.058817672507912366,
          0.7761114588567718,
          0.13401279581048786,
          0.6414201109781611,
          0.048337886591371726,
          0.4024651244047073,
          0.6151419104465695,
          0.6038409436244889,
          0.007146886921568063,
          0.1909741808633073,
          0.7552171870061412,
          0.37798713573425746,
          0.5033973090492699,
          0.5584382428813486,
          0.90021115687748,
          0.6036546937785389,
          0.14620869127019653,
          0.9077622637907194,
          0.36983232215393747,
          0.1766061217443502,
          0.42006766155659614,
          0.9945948240552664,
          0.351962390526806,
          0.8273353540020281,
          0.4065405784702987,
          0.48489755686655456,
          0.544047922177115,
          0.9107186822299095,
          0.7707004394369558,
          0.12804846560045036,
          0.048428768381344134
         ]
        }
       ],
       "layout": {
        "legend": {
         "bgcolor": "#F5F6F9",
         "font": {
          "color": "#4D5663"
         }
        },
        "paper_bgcolor": "#F5F6F9",
        "plot_bgcolor": "#F5F6F9",
        "template": {
         "data": {
          "bar": [
           {
            "error_x": {
             "color": "#2a3f5f"
            },
            "error_y": {
             "color": "#2a3f5f"
            },
            "marker": {
             "line": {
              "color": "#E5ECF6",
              "width": 0.5
             },
             "pattern": {
              "fillmode": "overlay",
              "size": 10,
              "solidity": 0.2
             }
            },
            "type": "bar"
           }
          ],
          "barpolar": [
           {
            "marker": {
             "line": {
              "color": "#E5ECF6",
              "width": 0.5
             },
             "pattern": {
              "fillmode": "overlay",
              "size": 10,
              "solidity": 0.2
             }
            },
            "type": "barpolar"
           }
          ],
          "carpet": [
           {
            "aaxis": {
             "endlinecolor": "#2a3f5f",
             "gridcolor": "white",
             "linecolor": "white",
             "minorgridcolor": "white",
             "startlinecolor": "#2a3f5f"
            },
            "baxis": {
             "endlinecolor": "#2a3f5f",
             "gridcolor": "white",
             "linecolor": "white",
             "minorgridcolor": "white",
             "startlinecolor": "#2a3f5f"
            },
            "type": "carpet"
           }
          ],
          "choropleth": [
           {
            "colorbar": {
             "outlinewidth": 0,
             "ticks": ""
            },
            "type": "choropleth"
           }
          ],
          "contour": [
           {
            "colorbar": {
             "outlinewidth": 0,
             "ticks": ""
            },
            "colorscale": [
             [
              0,
              "#0d0887"
             ],
             [
              0.1111111111111111,
              "#46039f"
             ],
             [
              0.2222222222222222,
              "#7201a8"
             ],
             [
              0.3333333333333333,
              "#9c179e"
             ],
             [
              0.4444444444444444,
              "#bd3786"
             ],
             [
              0.5555555555555556,
              "#d8576b"
             ],
             [
              0.6666666666666666,
              "#ed7953"
             ],
             [
              0.7777777777777778,
              "#fb9f3a"
             ],
             [
              0.8888888888888888,
              "#fdca26"
             ],
             [
              1,
              "#f0f921"
             ]
            ],
            "type": "contour"
           }
          ],
          "contourcarpet": [
           {
            "colorbar": {
             "outlinewidth": 0,
             "ticks": ""
            },
            "type": "contourcarpet"
           }
          ],
          "heatmap": [
           {
            "colorbar": {
             "outlinewidth": 0,
             "ticks": ""
            },
            "colorscale": [
             [
              0,
              "#0d0887"
             ],
             [
              0.1111111111111111,
              "#46039f"
             ],
             [
              0.2222222222222222,
              "#7201a8"
             ],
             [
              0.3333333333333333,
              "#9c179e"
             ],
             [
              0.4444444444444444,
              "#bd3786"
             ],
             [
              0.5555555555555556,
              "#d8576b"
             ],
             [
              0.6666666666666666,
              "#ed7953"
             ],
             [
              0.7777777777777778,
              "#fb9f3a"
             ],
             [
              0.8888888888888888,
              "#fdca26"
             ],
             [
              1,
              "#f0f921"
             ]
            ],
            "type": "heatmap"
           }
          ],
          "heatmapgl": [
           {
            "colorbar": {
             "outlinewidth": 0,
             "ticks": ""
            },
            "colorscale": [
             [
              0,
              "#0d0887"
             ],
             [
              0.1111111111111111,
              "#46039f"
             ],
             [
              0.2222222222222222,
              "#7201a8"
             ],
             [
              0.3333333333333333,
              "#9c179e"
             ],
             [
              0.4444444444444444,
              "#bd3786"
             ],
             [
              0.5555555555555556,
              "#d8576b"
             ],
             [
              0.6666666666666666,
              "#ed7953"
             ],
             [
              0.7777777777777778,
              "#fb9f3a"
             ],
             [
              0.8888888888888888,
              "#fdca26"
             ],
             [
              1,
              "#f0f921"
             ]
            ],
            "type": "heatmapgl"
           }
          ],
          "histogram": [
           {
            "marker": {
             "pattern": {
              "fillmode": "overlay",
              "size": 10,
              "solidity": 0.2
             }
            },
            "type": "histogram"
           }
          ],
          "histogram2d": [
           {
            "colorbar": {
             "outlinewidth": 0,
             "ticks": ""
            },
            "colorscale": [
             [
              0,
              "#0d0887"
             ],
             [
              0.1111111111111111,
              "#46039f"
             ],
             [
              0.2222222222222222,
              "#7201a8"
             ],
             [
              0.3333333333333333,
              "#9c179e"
             ],
             [
              0.4444444444444444,
              "#bd3786"
             ],
             [
              0.5555555555555556,
              "#d8576b"
             ],
             [
              0.6666666666666666,
              "#ed7953"
             ],
             [
              0.7777777777777778,
              "#fb9f3a"
             ],
             [
              0.8888888888888888,
              "#fdca26"
             ],
             [
              1,
              "#f0f921"
             ]
            ],
            "type": "histogram2d"
           }
          ],
          "histogram2dcontour": [
           {
            "colorbar": {
             "outlinewidth": 0,
             "ticks": ""
            },
            "colorscale": [
             [
              0,
              "#0d0887"
             ],
             [
              0.1111111111111111,
              "#46039f"
             ],
             [
              0.2222222222222222,
              "#7201a8"
             ],
             [
              0.3333333333333333,
              "#9c179e"
             ],
             [
              0.4444444444444444,
              "#bd3786"
             ],
             [
              0.5555555555555556,
              "#d8576b"
             ],
             [
              0.6666666666666666,
              "#ed7953"
             ],
             [
              0.7777777777777778,
              "#fb9f3a"
             ],
             [
              0.8888888888888888,
              "#fdca26"
             ],
             [
              1,
              "#f0f921"
             ]
            ],
            "type": "histogram2dcontour"
           }
          ],
          "mesh3d": [
           {
            "colorbar": {
             "outlinewidth": 0,
             "ticks": ""
            },
            "type": "mesh3d"
           }
          ],
          "parcoords": [
           {
            "line": {
             "colorbar": {
              "outlinewidth": 0,
              "ticks": ""
             }
            },
            "type": "parcoords"
           }
          ],
          "pie": [
           {
            "automargin": true,
            "type": "pie"
           }
          ],
          "scatter": [
           {
            "marker": {
             "colorbar": {
              "outlinewidth": 0,
              "ticks": ""
             }
            },
            "type": "scatter"
           }
          ],
          "scatter3d": [
           {
            "line": {
             "colorbar": {
              "outlinewidth": 0,
              "ticks": ""
             }
            },
            "marker": {
             "colorbar": {
              "outlinewidth": 0,
              "ticks": ""
             }
            },
            "type": "scatter3d"
           }
          ],
          "scattercarpet": [
           {
            "marker": {
             "colorbar": {
              "outlinewidth": 0,
              "ticks": ""
             }
            },
            "type": "scattercarpet"
           }
          ],
          "scattergeo": [
           {
            "marker": {
             "colorbar": {
              "outlinewidth": 0,
              "ticks": ""
             }
            },
            "type": "scattergeo"
           }
          ],
          "scattergl": [
           {
            "marker": {
             "colorbar": {
              "outlinewidth": 0,
              "ticks": ""
             }
            },
            "type": "scattergl"
           }
          ],
          "scattermapbox": [
           {
            "marker": {
             "colorbar": {
              "outlinewidth": 0,
              "ticks": ""
             }
            },
            "type": "scattermapbox"
           }
          ],
          "scatterpolar": [
           {
            "marker": {
             "colorbar": {
              "outlinewidth": 0,
              "ticks": ""
             }
            },
            "type": "scatterpolar"
           }
          ],
          "scatterpolargl": [
           {
            "marker": {
             "colorbar": {
              "outlinewidth": 0,
              "ticks": ""
             }
            },
            "type": "scatterpolargl"
           }
          ],
          "scatterternary": [
           {
            "marker": {
             "colorbar": {
              "outlinewidth": 0,
              "ticks": ""
             }
            },
            "type": "scatterternary"
           }
          ],
          "surface": [
           {
            "colorbar": {
             "outlinewidth": 0,
             "ticks": ""
            },
            "colorscale": [
             [
              0,
              "#0d0887"
             ],
             [
              0.1111111111111111,
              "#46039f"
             ],
             [
              0.2222222222222222,
              "#7201a8"
             ],
             [
              0.3333333333333333,
              "#9c179e"
             ],
             [
              0.4444444444444444,
              "#bd3786"
             ],
             [
              0.5555555555555556,
              "#d8576b"
             ],
             [
              0.6666666666666666,
              "#ed7953"
             ],
             [
              0.7777777777777778,
              "#fb9f3a"
             ],
             [
              0.8888888888888888,
              "#fdca26"
             ],
             [
              1,
              "#f0f921"
             ]
            ],
            "type": "surface"
           }
          ],
          "table": [
           {
            "cells": {
             "fill": {
              "color": "#EBF0F8"
             },
             "line": {
              "color": "white"
             }
            },
            "header": {
             "fill": {
              "color": "#C8D4E3"
             },
             "line": {
              "color": "white"
             }
            },
            "type": "table"
           }
          ]
         },
         "layout": {
          "annotationdefaults": {
           "arrowcolor": "#2a3f5f",
           "arrowhead": 0,
           "arrowwidth": 1
          },
          "autotypenumbers": "strict",
          "coloraxis": {
           "colorbar": {
            "outlinewidth": 0,
            "ticks": ""
           }
          },
          "colorscale": {
           "diverging": [
            [
             0,
             "#8e0152"
            ],
            [
             0.1,
             "#c51b7d"
            ],
            [
             0.2,
             "#de77ae"
            ],
            [
             0.3,
             "#f1b6da"
            ],
            [
             0.4,
             "#fde0ef"
            ],
            [
             0.5,
             "#f7f7f7"
            ],
            [
             0.6,
             "#e6f5d0"
            ],
            [
             0.7,
             "#b8e186"
            ],
            [
             0.8,
             "#7fbc41"
            ],
            [
             0.9,
             "#4d9221"
            ],
            [
             1,
             "#276419"
            ]
           ],
           "sequential": [
            [
             0,
             "#0d0887"
            ],
            [
             0.1111111111111111,
             "#46039f"
            ],
            [
             0.2222222222222222,
             "#7201a8"
            ],
            [
             0.3333333333333333,
             "#9c179e"
            ],
            [
             0.4444444444444444,
             "#bd3786"
            ],
            [
             0.5555555555555556,
             "#d8576b"
            ],
            [
             0.6666666666666666,
             "#ed7953"
            ],
            [
             0.7777777777777778,
             "#fb9f3a"
            ],
            [
             0.8888888888888888,
             "#fdca26"
            ],
            [
             1,
             "#f0f921"
            ]
           ],
           "sequentialminus": [
            [
             0,
             "#0d0887"
            ],
            [
             0.1111111111111111,
             "#46039f"
            ],
            [
             0.2222222222222222,
             "#7201a8"
            ],
            [
             0.3333333333333333,
             "#9c179e"
            ],
            [
             0.4444444444444444,
             "#bd3786"
            ],
            [
             0.5555555555555556,
             "#d8576b"
            ],
            [
             0.6666666666666666,
             "#ed7953"
            ],
            [
             0.7777777777777778,
             "#fb9f3a"
            ],
            [
             0.8888888888888888,
             "#fdca26"
            ],
            [
             1,
             "#f0f921"
            ]
           ]
          },
          "colorway": [
           "#636efa",
           "#EF553B",
           "#00cc96",
           "#ab63fa",
           "#FFA15A",
           "#19d3f3",
           "#FF6692",
           "#B6E880",
           "#FF97FF",
           "#FECB52"
          ],
          "font": {
           "color": "#2a3f5f"
          },
          "geo": {
           "bgcolor": "white",
           "lakecolor": "white",
           "landcolor": "#E5ECF6",
           "showlakes": true,
           "showland": true,
           "subunitcolor": "white"
          },
          "hoverlabel": {
           "align": "left"
          },
          "hovermode": "closest",
          "mapbox": {
           "style": "light"
          },
          "paper_bgcolor": "white",
          "plot_bgcolor": "#E5ECF6",
          "polar": {
           "angularaxis": {
            "gridcolor": "white",
            "linecolor": "white",
            "ticks": ""
           },
           "bgcolor": "#E5ECF6",
           "radialaxis": {
            "gridcolor": "white",
            "linecolor": "white",
            "ticks": ""
           }
          },
          "scene": {
           "xaxis": {
            "backgroundcolor": "#E5ECF6",
            "gridcolor": "white",
            "gridwidth": 2,
            "linecolor": "white",
            "showbackground": true,
            "ticks": "",
            "zerolinecolor": "white"
           },
           "yaxis": {
            "backgroundcolor": "#E5ECF6",
            "gridcolor": "white",
            "gridwidth": 2,
            "linecolor": "white",
            "showbackground": true,
            "ticks": "",
            "zerolinecolor": "white"
           },
           "zaxis": {
            "backgroundcolor": "#E5ECF6",
            "gridcolor": "white",
            "gridwidth": 2,
            "linecolor": "white",
            "showbackground": true,
            "ticks": "",
            "zerolinecolor": "white"
           }
          },
          "shapedefaults": {
           "line": {
            "color": "#2a3f5f"
           }
          },
          "ternary": {
           "aaxis": {
            "gridcolor": "white",
            "linecolor": "white",
            "ticks": ""
           },
           "baxis": {
            "gridcolor": "white",
            "linecolor": "white",
            "ticks": ""
           },
           "bgcolor": "#E5ECF6",
           "caxis": {
            "gridcolor": "white",
            "linecolor": "white",
            "ticks": ""
           }
          },
          "title": {
           "x": 0.05
          },
          "xaxis": {
           "automargin": true,
           "gridcolor": "white",
           "linecolor": "white",
           "ticks": "",
           "title": {
            "standoff": 15
           },
           "zerolinecolor": "white",
           "zerolinewidth": 2
          },
          "yaxis": {
           "automargin": true,
           "gridcolor": "white",
           "linecolor": "white",
           "ticks": "",
           "title": {
            "standoff": 15
           },
           "zerolinecolor": "white",
           "zerolinewidth": 2
          }
         }
        },
        "title": {
         "font": {
          "color": "#4D5663"
         }
        },
        "xaxis": {
         "gridcolor": "#E1E5ED",
         "showgrid": true,
         "tickfont": {
          "color": "#4D5663"
         },
         "title": {
          "font": {
           "color": "#4D5663"
          },
          "text": ""
         },
         "zerolinecolor": "#E1E5ED"
        },
        "yaxis": {
         "gridcolor": "#E1E5ED",
         "showgrid": true,
         "tickfont": {
          "color": "#4D5663"
         },
         "title": {
          "font": {
           "color": "#4D5663"
          },
          "text": ""
         },
         "zerolinecolor": "#E1E5ED"
        }
       }
      },
      "text/html": [
       "<div>                            <div id=\"4c0f00ec-f734-4aa8-bd47-8498a3379571\" class=\"plotly-graph-div\" style=\"height:525px; width:100%;\"></div>            <script type=\"text/javascript\">                require([\"plotly\"], function(Plotly) {                    window.PLOTLYENV=window.PLOTLYENV || {};\n",
       "                    window.PLOTLYENV.BASE_URL='https://plot.ly';                                    if (document.getElementById(\"4c0f00ec-f734-4aa8-bd47-8498a3379571\")) {                    Plotly.newPlot(                        \"4c0f00ec-f734-4aa8-bd47-8498a3379571\",                        [{\"line\":{\"color\":\"rgba(255, 153, 51, 1.0)\",\"dash\":\"solid\",\"shape\":\"linear\",\"width\":1.3},\"mode\":\"lines\",\"name\":\"A\",\"text\":\"\",\"type\":\"scatter\",\"x\":[0,1,2,3,4,5,6,7,8,9,10,11,12,13,14,15,16,17,18,19,20,21,22,23,24,25,26,27,28,29,30,31,32,33,34,35,36,37,38,39,40,41,42,43,44,45,46,47,48,49,50,51,52,53,54,55,56,57,58,59,60,61,62,63,64,65,66,67,68,69,70,71,72,73,74,75,76,77,78,79,80,81,82,83,84,85,86,87,88,89,90,91,92,93,94,95,96,97,98,99],\"y\":[0.6874854690341766,0.5513974765103675,0.45219615905465405,0.3220074688721969,0.49848573503280835,0.8958082016552023,0.5924551606207522,0.019085849506069286,0.16849589082793093,0.03917191500638728,0.9121123388386799,0.23796051949259922,0.7258352658575087,0.34011954084222296,0.9491936521385159,0.15990653103289698,0.9754274244115759,0.3513871614097297,0.7066711673159177,0.6239263416350013,0.7027295187093794,0.799269947258963,0.33849993354535746,0.6301050773543084,0.051192931727014224,0.7224205087266852,0.4610464129486934,0.18313301492030254,0.40054735793284857,0.014412382101959054,0.5456590908441381,0.10855883211332473,0.11586655917905408,0.10568130158337796,0.9818825910553824,0.8617623526104413,0.9415055939261352,0.35812691402662733,0.6234732510966413,0.15305832576902845,0.23400930433298706,0.4388023440377373,0.09120750092250074,0.2590262261903984,0.03974027611508335,0.9284703344580862,0.6080577294722969,0.1012374898742957,0.11618317926899302,0.6088220366799406,0.11991550032916609,0.28278449287021923,0.12753378858961406,0.21490654709576862,0.7204691205883724,0.5518301887870176,0.7226709942872196,0.328001954785583,0.49011610109086257,0.11945543432845651,0.7686714245848407,0.8652286415169714,0.3387705814403654,0.20014342665332918,0.260917778080169,0.9954206073810935,0.27240193790782574,0.27575568228905967,0.30877116216175204,0.579622051446661,0.5461726196682098,0.6872479995752397,0.4276608269347526,0.6431573587078688,0.10326755653659647,0.021542551887952288,0.5826640406415982,0.1961995137374999,0.9301684925096566,0.35239104974070956,0.9269534890286317,0.00967037511330382,0.6469773371700347,0.08189466503482001,0.6470770636312277,0.7186538462033282,0.64798841147515,0.9390131824104669,0.39599019547534,0.4997378936919815,0.3979814103169699,0.43334068025240957,0.18204684784992287,0.9055616278589967,0.4950070469382203,0.2728325871340562,0.3263777289755577,0.9382923709357847,0.9228802624702013,0.2280123275393151]},{\"line\":{\"color\":\"rgba(55, 128, 191, 1.0)\",\"dash\":\"solid\",\"shape\":\"linear\",\"width\":1.3},\"mode\":\"lines\",\"name\":\"B\",\"text\":\"\",\"type\":\"scatter\",\"x\":[0,1,2,3,4,5,6,7,8,9,10,11,12,13,14,15,16,17,18,19,20,21,22,23,24,25,26,27,28,29,30,31,32,33,34,35,36,37,38,39,40,41,42,43,44,45,46,47,48,49,50,51,52,53,54,55,56,57,58,59,60,61,62,63,64,65,66,67,68,69,70,71,72,73,74,75,76,77,78,79,80,81,82,83,84,85,86,87,88,89,90,91,92,93,94,95,96,97,98,99],\"y\":[0.8843255679714199,0.4753451338820551,0.5564770416397901,0.4181370124941951,0.8082568964572047,0.0041675524322632995,0.7357309494209592,0.12236491926338045,0.8026430626697526,0.8551481461602891,0.9160726083915803,0.1948611008604485,0.10701810828909286,0.5659538314632473,0.006860980634156744,0.9230463812155936,0.3674568219671307,0.19570344085171865,0.4859113095727293,0.7788449077848387,0.4019894727335077,0.7895054616695254,0.950720477376916,0.7324935991597183,0.8294060719954223,0.6182198093766845,0.3101609180831728,0.8393311468830299,0.541810088608328,0.9808512663420359,0.7004636554110424,0.6112366152144356,0.7291840796906991,0.3664280752889001,0.22748883431446054,0.5760954477062057,0.056814697827563765,0.2644182837393171,0.5254839699381781,0.6053576784527464,0.7582588213806051,0.600899443738797,0.28418780384870856,0.7235975540666422,0.5248556362855886,0.17192615028233327,0.002118427862049077,0.10281536998752638,0.7699441949341121,0.5084122480003067,0.6273821881374195,0.5823393257132602,0.7747669163013711,0.7157246969337302,0.08690490847151733,0.9386285860148799,0.24252824943674178,0.2869278394690582,0.9268408784154505,0.45499666799956184,0.24128442648819093,0.0859334387635351,0.587303931632512,0.05725274216827514,0.02205346107514128,0.17496362033400514,0.8985829347769082,0.2567072722096292,0.035850198583307624,0.2200534368233742,0.9571000858043736,0.9737365908047143,0.3963828806802123,0.6362415350449229,0.15697065950891187,0.036360552886472775,0.982439271041864,0.07103230413276096,0.04406673582766252,0.9977258111089317,0.9375260641083187,0.5165719897735459,0.5328280702622757,0.14681397756233838,0.5506515843640556,0.18482825515656975,0.018811782698625823,0.3565744638001872,0.08815156772705057,0.3442811317469232,0.829660538258542,0.21618861100269104,0.3143410975104918,0.7634603125071553,0.4724020632558451,0.4600717513761058,0.1361911206485652,0.37637493132673405,0.8939930917701026,0.45455119567056856]},{\"line\":{\"color\":\"rgba(50, 171, 96, 1.0)\",\"dash\":\"solid\",\"shape\":\"linear\",\"width\":1.3},\"mode\":\"lines\",\"name\":\"C\",\"text\":\"\",\"type\":\"scatter\",\"x\":[0,1,2,3,4,5,6,7,8,9,10,11,12,13,14,15,16,17,18,19,20,21,22,23,24,25,26,27,28,29,30,31,32,33,34,35,36,37,38,39,40,41,42,43,44,45,46,47,48,49,50,51,52,53,54,55,56,57,58,59,60,61,62,63,64,65,66,67,68,69,70,71,72,73,74,75,76,77,78,79,80,81,82,83,84,85,86,87,88,89,90,91,92,93,94,95,96,97,98,99],\"y\":[0.2727659694171646,0.10013266711232538,0.5448327863460596,0.09727329894900805,0.2197344135623024,0.04214646070583883,0.46821889609474976,0.8025023567493255,0.01573595417142093,0.8039627485723932,0.05351035310071783,0.9000406066334424,0.037098494546418004,0.2629835388810038,0.6565807923926823,0.8123690081745882,0.09871617059775817,0.17238693234887326,0.934884113405032,0.34064314236757254,0.9115421177085139,0.5131761680134694,0.5379622467693852,0.284426545392087,0.8345670148283205,0.8487558681961126,0.5900632249409625,0.714154243306131,0.49242633777860434,0.5336573146516208,0.1453402204294264,0.8163375471348691,0.6811463764736094,0.6245439838334139,0.4894177841709727,0.10532400939912523,0.3618680768124718,0.32272026156317757,0.8433884451270447,0.19000243572657838,0.6539164107900397,0.9521670993114382,0.9987033922593445,0.770424395262453,0.5375133721748498,0.082381733581116,0.7608344269402947,0.008898723946493714,0.0495688379008824,0.12610535479249285,0.762356668150164,0.5806095750100767,0.607013446608908,0.9196984128010408,0.28276562212501666,0.2625431879724742,0.4614249618074985,0.17704613485673404,0.7868397345361017,0.8066783941246661,0.4864485987873186,0.6135022168649812,0.6273290657176195,0.6145518813492507,0.23944297122292757,0.8931918852211221,0.3798528483404081,0.33649416223700135,0.043255334208812224,0.553039130920302,0.3620196403359204,0.5856002401687663,0.6080727470900651,0.6777037301958364,0.4224623950184081,0.5079081085198162,0.43057034579573017,0.6902588282783292,0.411766731657773,0.4410796490087915,0.5088675781055102,0.8729896925135645,0.09661973445640559,0.7642709600505615,0.2637435603231273,0.5831670398586298,0.0639600760652358,0.6666363233039206,0.2797930223401284,0.00906139330142075,0.3949603726304901,0.33339740804984064,0.05697582815757041,0.7295051035746041,0.4978557217912828,0.8432200315712669,0.3665848164074931,0.19071377651795673,0.3134459169813113,0.8906068235198399]},{\"line\":{\"color\":\"rgba(128, 0, 128, 1.0)\",\"dash\":\"solid\",\"shape\":\"linear\",\"width\":1.3},\"mode\":\"lines\",\"name\":\"D\",\"text\":\"\",\"type\":\"scatter\",\"x\":[0,1,2,3,4,5,6,7,8,9,10,11,12,13,14,15,16,17,18,19,20,21,22,23,24,25,26,27,28,29,30,31,32,33,34,35,36,37,38,39,40,41,42,43,44,45,46,47,48,49,50,51,52,53,54,55,56,57,58,59,60,61,62,63,64,65,66,67,68,69,70,71,72,73,74,75,76,77,78,79,80,81,82,83,84,85,86,87,88,89,90,91,92,93,94,95,96,97,98,99],\"y\":[0.531294116296426,0.19701194010803857,0.36434386467679614,0.7458001203276531,0.17347779351050963,0.5472650332783991,0.20544178533742818,0.6562607253878838,0.26853162694740906,0.4881979053580182,0.5005925234679313,0.11531827042724174,0.07724001706144845,0.8772379707414086,0.32891027646901105,0.5437696224417293,0.6087019800021553,0.1017477381914369,0.7597565219358867,0.7075870895329108,0.7824508389972364,0.42490351579904595,0.44614267994536105,0.7371651939483885,0.10515654964232335,0.3721918184923646,0.4000347031993342,0.4811459355861514,0.28527624524152306,0.6108657981650865,0.11789606615592574,0.0277722663248563,0.8769255225809013,0.7115275938327793,0.11637247371244663,0.6664260205940643,0.26428574246004877,0.1546039499227917,0.7866297050243156,0.2640539371816679,0.017563027647325202,0.4072262393364442,0.14003560411484361,0.9173998380286212,0.5597047231192082,0.41036967448991135,0.9541359098140745,0.9902816120106191,0.1415037621225823,0.6603396390178276,0.6579803055591977,0.28293678148689194,0.7100677203501573,0.7792898210151603,0.8199346757081758,0.9942471970436231,0.34197956696915943,0.21538847491699653,0.24341009312576722,0.5295471707344911,0.5626079307554687,0.5791795721212617,0.4887896598370344,0.10556584705722183,0.05244441702583369,0.056921755072777636,0.34312237867599027,0.13814114956923884,0.27090922114601856,0.058817672507912366,0.7761114588567718,0.13401279581048786,0.6414201109781611,0.048337886591371726,0.4024651244047073,0.6151419104465695,0.6038409436244889,0.007146886921568063,0.1909741808633073,0.7552171870061412,0.37798713573425746,0.5033973090492699,0.5584382428813486,0.90021115687748,0.6036546937785389,0.14620869127019653,0.9077622637907194,0.36983232215393747,0.1766061217443502,0.42006766155659614,0.9945948240552664,0.351962390526806,0.8273353540020281,0.4065405784702987,0.48489755686655456,0.544047922177115,0.9107186822299095,0.7707004394369558,0.12804846560045036,0.048428768381344134]}],                        {\"legend\":{\"bgcolor\":\"#F5F6F9\",\"font\":{\"color\":\"#4D5663\"}},\"paper_bgcolor\":\"#F5F6F9\",\"plot_bgcolor\":\"#F5F6F9\",\"template\":{\"data\":{\"bar\":[{\"error_x\":{\"color\":\"#2a3f5f\"},\"error_y\":{\"color\":\"#2a3f5f\"},\"marker\":{\"line\":{\"color\":\"#E5ECF6\",\"width\":0.5},\"pattern\":{\"fillmode\":\"overlay\",\"size\":10,\"solidity\":0.2}},\"type\":\"bar\"}],\"barpolar\":[{\"marker\":{\"line\":{\"color\":\"#E5ECF6\",\"width\":0.5},\"pattern\":{\"fillmode\":\"overlay\",\"size\":10,\"solidity\":0.2}},\"type\":\"barpolar\"}],\"carpet\":[{\"aaxis\":{\"endlinecolor\":\"#2a3f5f\",\"gridcolor\":\"white\",\"linecolor\":\"white\",\"minorgridcolor\":\"white\",\"startlinecolor\":\"#2a3f5f\"},\"baxis\":{\"endlinecolor\":\"#2a3f5f\",\"gridcolor\":\"white\",\"linecolor\":\"white\",\"minorgridcolor\":\"white\",\"startlinecolor\":\"#2a3f5f\"},\"type\":\"carpet\"}],\"choropleth\":[{\"colorbar\":{\"outlinewidth\":0,\"ticks\":\"\"},\"type\":\"choropleth\"}],\"contour\":[{\"colorbar\":{\"outlinewidth\":0,\"ticks\":\"\"},\"colorscale\":[[0.0,\"#0d0887\"],[0.1111111111111111,\"#46039f\"],[0.2222222222222222,\"#7201a8\"],[0.3333333333333333,\"#9c179e\"],[0.4444444444444444,\"#bd3786\"],[0.5555555555555556,\"#d8576b\"],[0.6666666666666666,\"#ed7953\"],[0.7777777777777778,\"#fb9f3a\"],[0.8888888888888888,\"#fdca26\"],[1.0,\"#f0f921\"]],\"type\":\"contour\"}],\"contourcarpet\":[{\"colorbar\":{\"outlinewidth\":0,\"ticks\":\"\"},\"type\":\"contourcarpet\"}],\"heatmap\":[{\"colorbar\":{\"outlinewidth\":0,\"ticks\":\"\"},\"colorscale\":[[0.0,\"#0d0887\"],[0.1111111111111111,\"#46039f\"],[0.2222222222222222,\"#7201a8\"],[0.3333333333333333,\"#9c179e\"],[0.4444444444444444,\"#bd3786\"],[0.5555555555555556,\"#d8576b\"],[0.6666666666666666,\"#ed7953\"],[0.7777777777777778,\"#fb9f3a\"],[0.8888888888888888,\"#fdca26\"],[1.0,\"#f0f921\"]],\"type\":\"heatmap\"}],\"heatmapgl\":[{\"colorbar\":{\"outlinewidth\":0,\"ticks\":\"\"},\"colorscale\":[[0.0,\"#0d0887\"],[0.1111111111111111,\"#46039f\"],[0.2222222222222222,\"#7201a8\"],[0.3333333333333333,\"#9c179e\"],[0.4444444444444444,\"#bd3786\"],[0.5555555555555556,\"#d8576b\"],[0.6666666666666666,\"#ed7953\"],[0.7777777777777778,\"#fb9f3a\"],[0.8888888888888888,\"#fdca26\"],[1.0,\"#f0f921\"]],\"type\":\"heatmapgl\"}],\"histogram\":[{\"marker\":{\"pattern\":{\"fillmode\":\"overlay\",\"size\":10,\"solidity\":0.2}},\"type\":\"histogram\"}],\"histogram2d\":[{\"colorbar\":{\"outlinewidth\":0,\"ticks\":\"\"},\"colorscale\":[[0.0,\"#0d0887\"],[0.1111111111111111,\"#46039f\"],[0.2222222222222222,\"#7201a8\"],[0.3333333333333333,\"#9c179e\"],[0.4444444444444444,\"#bd3786\"],[0.5555555555555556,\"#d8576b\"],[0.6666666666666666,\"#ed7953\"],[0.7777777777777778,\"#fb9f3a\"],[0.8888888888888888,\"#fdca26\"],[1.0,\"#f0f921\"]],\"type\":\"histogram2d\"}],\"histogram2dcontour\":[{\"colorbar\":{\"outlinewidth\":0,\"ticks\":\"\"},\"colorscale\":[[0.0,\"#0d0887\"],[0.1111111111111111,\"#46039f\"],[0.2222222222222222,\"#7201a8\"],[0.3333333333333333,\"#9c179e\"],[0.4444444444444444,\"#bd3786\"],[0.5555555555555556,\"#d8576b\"],[0.6666666666666666,\"#ed7953\"],[0.7777777777777778,\"#fb9f3a\"],[0.8888888888888888,\"#fdca26\"],[1.0,\"#f0f921\"]],\"type\":\"histogram2dcontour\"}],\"mesh3d\":[{\"colorbar\":{\"outlinewidth\":0,\"ticks\":\"\"},\"type\":\"mesh3d\"}],\"parcoords\":[{\"line\":{\"colorbar\":{\"outlinewidth\":0,\"ticks\":\"\"}},\"type\":\"parcoords\"}],\"pie\":[{\"automargin\":true,\"type\":\"pie\"}],\"scatter\":[{\"marker\":{\"colorbar\":{\"outlinewidth\":0,\"ticks\":\"\"}},\"type\":\"scatter\"}],\"scatter3d\":[{\"line\":{\"colorbar\":{\"outlinewidth\":0,\"ticks\":\"\"}},\"marker\":{\"colorbar\":{\"outlinewidth\":0,\"ticks\":\"\"}},\"type\":\"scatter3d\"}],\"scattercarpet\":[{\"marker\":{\"colorbar\":{\"outlinewidth\":0,\"ticks\":\"\"}},\"type\":\"scattercarpet\"}],\"scattergeo\":[{\"marker\":{\"colorbar\":{\"outlinewidth\":0,\"ticks\":\"\"}},\"type\":\"scattergeo\"}],\"scattergl\":[{\"marker\":{\"colorbar\":{\"outlinewidth\":0,\"ticks\":\"\"}},\"type\":\"scattergl\"}],\"scattermapbox\":[{\"marker\":{\"colorbar\":{\"outlinewidth\":0,\"ticks\":\"\"}},\"type\":\"scattermapbox\"}],\"scatterpolar\":[{\"marker\":{\"colorbar\":{\"outlinewidth\":0,\"ticks\":\"\"}},\"type\":\"scatterpolar\"}],\"scatterpolargl\":[{\"marker\":{\"colorbar\":{\"outlinewidth\":0,\"ticks\":\"\"}},\"type\":\"scatterpolargl\"}],\"scatterternary\":[{\"marker\":{\"colorbar\":{\"outlinewidth\":0,\"ticks\":\"\"}},\"type\":\"scatterternary\"}],\"surface\":[{\"colorbar\":{\"outlinewidth\":0,\"ticks\":\"\"},\"colorscale\":[[0.0,\"#0d0887\"],[0.1111111111111111,\"#46039f\"],[0.2222222222222222,\"#7201a8\"],[0.3333333333333333,\"#9c179e\"],[0.4444444444444444,\"#bd3786\"],[0.5555555555555556,\"#d8576b\"],[0.6666666666666666,\"#ed7953\"],[0.7777777777777778,\"#fb9f3a\"],[0.8888888888888888,\"#fdca26\"],[1.0,\"#f0f921\"]],\"type\":\"surface\"}],\"table\":[{\"cells\":{\"fill\":{\"color\":\"#EBF0F8\"},\"line\":{\"color\":\"white\"}},\"header\":{\"fill\":{\"color\":\"#C8D4E3\"},\"line\":{\"color\":\"white\"}},\"type\":\"table\"}]},\"layout\":{\"annotationdefaults\":{\"arrowcolor\":\"#2a3f5f\",\"arrowhead\":0,\"arrowwidth\":1},\"autotypenumbers\":\"strict\",\"coloraxis\":{\"colorbar\":{\"outlinewidth\":0,\"ticks\":\"\"}},\"colorscale\":{\"diverging\":[[0,\"#8e0152\"],[0.1,\"#c51b7d\"],[0.2,\"#de77ae\"],[0.3,\"#f1b6da\"],[0.4,\"#fde0ef\"],[0.5,\"#f7f7f7\"],[0.6,\"#e6f5d0\"],[0.7,\"#b8e186\"],[0.8,\"#7fbc41\"],[0.9,\"#4d9221\"],[1,\"#276419\"]],\"sequential\":[[0.0,\"#0d0887\"],[0.1111111111111111,\"#46039f\"],[0.2222222222222222,\"#7201a8\"],[0.3333333333333333,\"#9c179e\"],[0.4444444444444444,\"#bd3786\"],[0.5555555555555556,\"#d8576b\"],[0.6666666666666666,\"#ed7953\"],[0.7777777777777778,\"#fb9f3a\"],[0.8888888888888888,\"#fdca26\"],[1.0,\"#f0f921\"]],\"sequentialminus\":[[0.0,\"#0d0887\"],[0.1111111111111111,\"#46039f\"],[0.2222222222222222,\"#7201a8\"],[0.3333333333333333,\"#9c179e\"],[0.4444444444444444,\"#bd3786\"],[0.5555555555555556,\"#d8576b\"],[0.6666666666666666,\"#ed7953\"],[0.7777777777777778,\"#fb9f3a\"],[0.8888888888888888,\"#fdca26\"],[1.0,\"#f0f921\"]]},\"colorway\":[\"#636efa\",\"#EF553B\",\"#00cc96\",\"#ab63fa\",\"#FFA15A\",\"#19d3f3\",\"#FF6692\",\"#B6E880\",\"#FF97FF\",\"#FECB52\"],\"font\":{\"color\":\"#2a3f5f\"},\"geo\":{\"bgcolor\":\"white\",\"lakecolor\":\"white\",\"landcolor\":\"#E5ECF6\",\"showlakes\":true,\"showland\":true,\"subunitcolor\":\"white\"},\"hoverlabel\":{\"align\":\"left\"},\"hovermode\":\"closest\",\"mapbox\":{\"style\":\"light\"},\"paper_bgcolor\":\"white\",\"plot_bgcolor\":\"#E5ECF6\",\"polar\":{\"angularaxis\":{\"gridcolor\":\"white\",\"linecolor\":\"white\",\"ticks\":\"\"},\"bgcolor\":\"#E5ECF6\",\"radialaxis\":{\"gridcolor\":\"white\",\"linecolor\":\"white\",\"ticks\":\"\"}},\"scene\":{\"xaxis\":{\"backgroundcolor\":\"#E5ECF6\",\"gridcolor\":\"white\",\"gridwidth\":2,\"linecolor\":\"white\",\"showbackground\":true,\"ticks\":\"\",\"zerolinecolor\":\"white\"},\"yaxis\":{\"backgroundcolor\":\"#E5ECF6\",\"gridcolor\":\"white\",\"gridwidth\":2,\"linecolor\":\"white\",\"showbackground\":true,\"ticks\":\"\",\"zerolinecolor\":\"white\"},\"zaxis\":{\"backgroundcolor\":\"#E5ECF6\",\"gridcolor\":\"white\",\"gridwidth\":2,\"linecolor\":\"white\",\"showbackground\":true,\"ticks\":\"\",\"zerolinecolor\":\"white\"}},\"shapedefaults\":{\"line\":{\"color\":\"#2a3f5f\"}},\"ternary\":{\"aaxis\":{\"gridcolor\":\"white\",\"linecolor\":\"white\",\"ticks\":\"\"},\"baxis\":{\"gridcolor\":\"white\",\"linecolor\":\"white\",\"ticks\":\"\"},\"bgcolor\":\"#E5ECF6\",\"caxis\":{\"gridcolor\":\"white\",\"linecolor\":\"white\",\"ticks\":\"\"}},\"title\":{\"x\":0.05},\"xaxis\":{\"automargin\":true,\"gridcolor\":\"white\",\"linecolor\":\"white\",\"ticks\":\"\",\"title\":{\"standoff\":15},\"zerolinecolor\":\"white\",\"zerolinewidth\":2},\"yaxis\":{\"automargin\":true,\"gridcolor\":\"white\",\"linecolor\":\"white\",\"ticks\":\"\",\"title\":{\"standoff\":15},\"zerolinecolor\":\"white\",\"zerolinewidth\":2}}},\"title\":{\"font\":{\"color\":\"#4D5663\"}},\"xaxis\":{\"gridcolor\":\"#E1E5ED\",\"showgrid\":true,\"tickfont\":{\"color\":\"#4D5663\"},\"title\":{\"font\":{\"color\":\"#4D5663\"},\"text\":\"\"},\"zerolinecolor\":\"#E1E5ED\"},\"yaxis\":{\"gridcolor\":\"#E1E5ED\",\"showgrid\":true,\"tickfont\":{\"color\":\"#4D5663\"},\"title\":{\"font\":{\"color\":\"#4D5663\"},\"text\":\"\"},\"zerolinecolor\":\"#E1E5ED\"}},                        {\"showLink\": true, \"linkText\": \"Export to plot.ly\", \"plotlyServerURL\": \"https://plot.ly\", \"responsive\": true}                    ).then(function(){\n",
       "                            \n",
       "var gd = document.getElementById('4c0f00ec-f734-4aa8-bd47-8498a3379571');\n",
       "var x = new MutationObserver(function (mutations, observer) {{\n",
       "        var display = window.getComputedStyle(gd).display;\n",
       "        if (!display || display === 'none') {{\n",
       "            console.log([gd, 'removed!']);\n",
       "            Plotly.purge(gd);\n",
       "            observer.disconnect();\n",
       "        }}\n",
       "}});\n",
       "\n",
       "// Listen for the removal of the full notebook cells\n",
       "var notebookContainer = gd.closest('#notebook-container');\n",
       "if (notebookContainer) {{\n",
       "    x.observe(notebookContainer, {childList: true});\n",
       "}}\n",
       "\n",
       "// Listen for the clearing of the current output cell\n",
       "var outputEl = gd.closest('.output');\n",
       "if (outputEl) {{\n",
       "    x.observe(outputEl, {childList: true});\n",
       "}}\n",
       "\n",
       "                        })                };                });            </script>        </div>"
      ]
     },
     "metadata": {},
     "output_type": "display_data"
    }
   ],
   "source": [
    "df.iplot()"
   ]
  },
  {
   "cell_type": "code",
   "execution_count": 21,
   "id": "61217240",
   "metadata": {},
   "outputs": [
    {
     "data": {
      "application/vnd.plotly.v1+json": {
       "config": {
        "linkText": "Export to plot.ly",
        "plotlyServerURL": "https://plot.ly",
        "showLink": true
       },
       "data": [
        {
         "line": {
          "color": "rgba(255, 153, 51, 1.0)",
          "dash": "solid",
          "shape": "linear",
          "width": 1.3
         },
         "marker": {
          "size": 12,
          "symbol": "circle"
         },
         "mode": "markers",
         "name": "B",
         "text": "",
         "type": "scatter",
         "x": [
          0.6874854690341766,
          0.5513974765103675,
          0.45219615905465405,
          0.3220074688721969,
          0.49848573503280835,
          0.8958082016552023,
          0.5924551606207522,
          0.019085849506069286,
          0.16849589082793093,
          0.03917191500638728,
          0.9121123388386799,
          0.23796051949259922,
          0.7258352658575087,
          0.34011954084222296,
          0.9491936521385159,
          0.15990653103289698,
          0.9754274244115759,
          0.3513871614097297,
          0.7066711673159177,
          0.6239263416350013,
          0.7027295187093794,
          0.799269947258963,
          0.33849993354535746,
          0.6301050773543084,
          0.051192931727014224,
          0.7224205087266852,
          0.4610464129486934,
          0.18313301492030254,
          0.40054735793284857,
          0.014412382101959054,
          0.5456590908441381,
          0.10855883211332473,
          0.11586655917905408,
          0.10568130158337796,
          0.9818825910553824,
          0.8617623526104413,
          0.9415055939261352,
          0.35812691402662733,
          0.6234732510966413,
          0.15305832576902845,
          0.23400930433298706,
          0.4388023440377373,
          0.09120750092250074,
          0.2590262261903984,
          0.03974027611508335,
          0.9284703344580862,
          0.6080577294722969,
          0.1012374898742957,
          0.11618317926899302,
          0.6088220366799406,
          0.11991550032916609,
          0.28278449287021923,
          0.12753378858961406,
          0.21490654709576862,
          0.7204691205883724,
          0.5518301887870176,
          0.7226709942872196,
          0.328001954785583,
          0.49011610109086257,
          0.11945543432845651,
          0.7686714245848407,
          0.8652286415169714,
          0.3387705814403654,
          0.20014342665332918,
          0.260917778080169,
          0.9954206073810935,
          0.27240193790782574,
          0.27575568228905967,
          0.30877116216175204,
          0.579622051446661,
          0.5461726196682098,
          0.6872479995752397,
          0.4276608269347526,
          0.6431573587078688,
          0.10326755653659647,
          0.021542551887952288,
          0.5826640406415982,
          0.1961995137374999,
          0.9301684925096566,
          0.35239104974070956,
          0.9269534890286317,
          0.00967037511330382,
          0.6469773371700347,
          0.08189466503482001,
          0.6470770636312277,
          0.7186538462033282,
          0.64798841147515,
          0.9390131824104669,
          0.39599019547534,
          0.4997378936919815,
          0.3979814103169699,
          0.43334068025240957,
          0.18204684784992287,
          0.9055616278589967,
          0.4950070469382203,
          0.2728325871340562,
          0.3263777289755577,
          0.9382923709357847,
          0.9228802624702013,
          0.2280123275393151
         ],
         "y": [
          0.8843255679714199,
          0.4753451338820551,
          0.5564770416397901,
          0.4181370124941951,
          0.8082568964572047,
          0.0041675524322632995,
          0.7357309494209592,
          0.12236491926338045,
          0.8026430626697526,
          0.8551481461602891,
          0.9160726083915803,
          0.1948611008604485,
          0.10701810828909286,
          0.5659538314632473,
          0.006860980634156744,
          0.9230463812155936,
          0.3674568219671307,
          0.19570344085171865,
          0.4859113095727293,
          0.7788449077848387,
          0.4019894727335077,
          0.7895054616695254,
          0.950720477376916,
          0.7324935991597183,
          0.8294060719954223,
          0.6182198093766845,
          0.3101609180831728,
          0.8393311468830299,
          0.541810088608328,
          0.9808512663420359,
          0.7004636554110424,
          0.6112366152144356,
          0.7291840796906991,
          0.3664280752889001,
          0.22748883431446054,
          0.5760954477062057,
          0.056814697827563765,
          0.2644182837393171,
          0.5254839699381781,
          0.6053576784527464,
          0.7582588213806051,
          0.600899443738797,
          0.28418780384870856,
          0.7235975540666422,
          0.5248556362855886,
          0.17192615028233327,
          0.002118427862049077,
          0.10281536998752638,
          0.7699441949341121,
          0.5084122480003067,
          0.6273821881374195,
          0.5823393257132602,
          0.7747669163013711,
          0.7157246969337302,
          0.08690490847151733,
          0.9386285860148799,
          0.24252824943674178,
          0.2869278394690582,
          0.9268408784154505,
          0.45499666799956184,
          0.24128442648819093,
          0.0859334387635351,
          0.587303931632512,
          0.05725274216827514,
          0.02205346107514128,
          0.17496362033400514,
          0.8985829347769082,
          0.2567072722096292,
          0.035850198583307624,
          0.2200534368233742,
          0.9571000858043736,
          0.9737365908047143,
          0.3963828806802123,
          0.6362415350449229,
          0.15697065950891187,
          0.036360552886472775,
          0.982439271041864,
          0.07103230413276096,
          0.04406673582766252,
          0.9977258111089317,
          0.9375260641083187,
          0.5165719897735459,
          0.5328280702622757,
          0.14681397756233838,
          0.5506515843640556,
          0.18482825515656975,
          0.018811782698625823,
          0.3565744638001872,
          0.08815156772705057,
          0.3442811317469232,
          0.829660538258542,
          0.21618861100269104,
          0.3143410975104918,
          0.7634603125071553,
          0.4724020632558451,
          0.4600717513761058,
          0.1361911206485652,
          0.37637493132673405,
          0.8939930917701026,
          0.45455119567056856
         ]
        }
       ],
       "layout": {
        "legend": {
         "bgcolor": "#F5F6F9",
         "font": {
          "color": "#4D5663"
         }
        },
        "paper_bgcolor": "#F5F6F9",
        "plot_bgcolor": "#F5F6F9",
        "template": {
         "data": {
          "bar": [
           {
            "error_x": {
             "color": "#2a3f5f"
            },
            "error_y": {
             "color": "#2a3f5f"
            },
            "marker": {
             "line": {
              "color": "#E5ECF6",
              "width": 0.5
             },
             "pattern": {
              "fillmode": "overlay",
              "size": 10,
              "solidity": 0.2
             }
            },
            "type": "bar"
           }
          ],
          "barpolar": [
           {
            "marker": {
             "line": {
              "color": "#E5ECF6",
              "width": 0.5
             },
             "pattern": {
              "fillmode": "overlay",
              "size": 10,
              "solidity": 0.2
             }
            },
            "type": "barpolar"
           }
          ],
          "carpet": [
           {
            "aaxis": {
             "endlinecolor": "#2a3f5f",
             "gridcolor": "white",
             "linecolor": "white",
             "minorgridcolor": "white",
             "startlinecolor": "#2a3f5f"
            },
            "baxis": {
             "endlinecolor": "#2a3f5f",
             "gridcolor": "white",
             "linecolor": "white",
             "minorgridcolor": "white",
             "startlinecolor": "#2a3f5f"
            },
            "type": "carpet"
           }
          ],
          "choropleth": [
           {
            "colorbar": {
             "outlinewidth": 0,
             "ticks": ""
            },
            "type": "choropleth"
           }
          ],
          "contour": [
           {
            "colorbar": {
             "outlinewidth": 0,
             "ticks": ""
            },
            "colorscale": [
             [
              0,
              "#0d0887"
             ],
             [
              0.1111111111111111,
              "#46039f"
             ],
             [
              0.2222222222222222,
              "#7201a8"
             ],
             [
              0.3333333333333333,
              "#9c179e"
             ],
             [
              0.4444444444444444,
              "#bd3786"
             ],
             [
              0.5555555555555556,
              "#d8576b"
             ],
             [
              0.6666666666666666,
              "#ed7953"
             ],
             [
              0.7777777777777778,
              "#fb9f3a"
             ],
             [
              0.8888888888888888,
              "#fdca26"
             ],
             [
              1,
              "#f0f921"
             ]
            ],
            "type": "contour"
           }
          ],
          "contourcarpet": [
           {
            "colorbar": {
             "outlinewidth": 0,
             "ticks": ""
            },
            "type": "contourcarpet"
           }
          ],
          "heatmap": [
           {
            "colorbar": {
             "outlinewidth": 0,
             "ticks": ""
            },
            "colorscale": [
             [
              0,
              "#0d0887"
             ],
             [
              0.1111111111111111,
              "#46039f"
             ],
             [
              0.2222222222222222,
              "#7201a8"
             ],
             [
              0.3333333333333333,
              "#9c179e"
             ],
             [
              0.4444444444444444,
              "#bd3786"
             ],
             [
              0.5555555555555556,
              "#d8576b"
             ],
             [
              0.6666666666666666,
              "#ed7953"
             ],
             [
              0.7777777777777778,
              "#fb9f3a"
             ],
             [
              0.8888888888888888,
              "#fdca26"
             ],
             [
              1,
              "#f0f921"
             ]
            ],
            "type": "heatmap"
           }
          ],
          "heatmapgl": [
           {
            "colorbar": {
             "outlinewidth": 0,
             "ticks": ""
            },
            "colorscale": [
             [
              0,
              "#0d0887"
             ],
             [
              0.1111111111111111,
              "#46039f"
             ],
             [
              0.2222222222222222,
              "#7201a8"
             ],
             [
              0.3333333333333333,
              "#9c179e"
             ],
             [
              0.4444444444444444,
              "#bd3786"
             ],
             [
              0.5555555555555556,
              "#d8576b"
             ],
             [
              0.6666666666666666,
              "#ed7953"
             ],
             [
              0.7777777777777778,
              "#fb9f3a"
             ],
             [
              0.8888888888888888,
              "#fdca26"
             ],
             [
              1,
              "#f0f921"
             ]
            ],
            "type": "heatmapgl"
           }
          ],
          "histogram": [
           {
            "marker": {
             "pattern": {
              "fillmode": "overlay",
              "size": 10,
              "solidity": 0.2
             }
            },
            "type": "histogram"
           }
          ],
          "histogram2d": [
           {
            "colorbar": {
             "outlinewidth": 0,
             "ticks": ""
            },
            "colorscale": [
             [
              0,
              "#0d0887"
             ],
             [
              0.1111111111111111,
              "#46039f"
             ],
             [
              0.2222222222222222,
              "#7201a8"
             ],
             [
              0.3333333333333333,
              "#9c179e"
             ],
             [
              0.4444444444444444,
              "#bd3786"
             ],
             [
              0.5555555555555556,
              "#d8576b"
             ],
             [
              0.6666666666666666,
              "#ed7953"
             ],
             [
              0.7777777777777778,
              "#fb9f3a"
             ],
             [
              0.8888888888888888,
              "#fdca26"
             ],
             [
              1,
              "#f0f921"
             ]
            ],
            "type": "histogram2d"
           }
          ],
          "histogram2dcontour": [
           {
            "colorbar": {
             "outlinewidth": 0,
             "ticks": ""
            },
            "colorscale": [
             [
              0,
              "#0d0887"
             ],
             [
              0.1111111111111111,
              "#46039f"
             ],
             [
              0.2222222222222222,
              "#7201a8"
             ],
             [
              0.3333333333333333,
              "#9c179e"
             ],
             [
              0.4444444444444444,
              "#bd3786"
             ],
             [
              0.5555555555555556,
              "#d8576b"
             ],
             [
              0.6666666666666666,
              "#ed7953"
             ],
             [
              0.7777777777777778,
              "#fb9f3a"
             ],
             [
              0.8888888888888888,
              "#fdca26"
             ],
             [
              1,
              "#f0f921"
             ]
            ],
            "type": "histogram2dcontour"
           }
          ],
          "mesh3d": [
           {
            "colorbar": {
             "outlinewidth": 0,
             "ticks": ""
            },
            "type": "mesh3d"
           }
          ],
          "parcoords": [
           {
            "line": {
             "colorbar": {
              "outlinewidth": 0,
              "ticks": ""
             }
            },
            "type": "parcoords"
           }
          ],
          "pie": [
           {
            "automargin": true,
            "type": "pie"
           }
          ],
          "scatter": [
           {
            "marker": {
             "colorbar": {
              "outlinewidth": 0,
              "ticks": ""
             }
            },
            "type": "scatter"
           }
          ],
          "scatter3d": [
           {
            "line": {
             "colorbar": {
              "outlinewidth": 0,
              "ticks": ""
             }
            },
            "marker": {
             "colorbar": {
              "outlinewidth": 0,
              "ticks": ""
             }
            },
            "type": "scatter3d"
           }
          ],
          "scattercarpet": [
           {
            "marker": {
             "colorbar": {
              "outlinewidth": 0,
              "ticks": ""
             }
            },
            "type": "scattercarpet"
           }
          ],
          "scattergeo": [
           {
            "marker": {
             "colorbar": {
              "outlinewidth": 0,
              "ticks": ""
             }
            },
            "type": "scattergeo"
           }
          ],
          "scattergl": [
           {
            "marker": {
             "colorbar": {
              "outlinewidth": 0,
              "ticks": ""
             }
            },
            "type": "scattergl"
           }
          ],
          "scattermapbox": [
           {
            "marker": {
             "colorbar": {
              "outlinewidth": 0,
              "ticks": ""
             }
            },
            "type": "scattermapbox"
           }
          ],
          "scatterpolar": [
           {
            "marker": {
             "colorbar": {
              "outlinewidth": 0,
              "ticks": ""
             }
            },
            "type": "scatterpolar"
           }
          ],
          "scatterpolargl": [
           {
            "marker": {
             "colorbar": {
              "outlinewidth": 0,
              "ticks": ""
             }
            },
            "type": "scatterpolargl"
           }
          ],
          "scatterternary": [
           {
            "marker": {
             "colorbar": {
              "outlinewidth": 0,
              "ticks": ""
             }
            },
            "type": "scatterternary"
           }
          ],
          "surface": [
           {
            "colorbar": {
             "outlinewidth": 0,
             "ticks": ""
            },
            "colorscale": [
             [
              0,
              "#0d0887"
             ],
             [
              0.1111111111111111,
              "#46039f"
             ],
             [
              0.2222222222222222,
              "#7201a8"
             ],
             [
              0.3333333333333333,
              "#9c179e"
             ],
             [
              0.4444444444444444,
              "#bd3786"
             ],
             [
              0.5555555555555556,
              "#d8576b"
             ],
             [
              0.6666666666666666,
              "#ed7953"
             ],
             [
              0.7777777777777778,
              "#fb9f3a"
             ],
             [
              0.8888888888888888,
              "#fdca26"
             ],
             [
              1,
              "#f0f921"
             ]
            ],
            "type": "surface"
           }
          ],
          "table": [
           {
            "cells": {
             "fill": {
              "color": "#EBF0F8"
             },
             "line": {
              "color": "white"
             }
            },
            "header": {
             "fill": {
              "color": "#C8D4E3"
             },
             "line": {
              "color": "white"
             }
            },
            "type": "table"
           }
          ]
         },
         "layout": {
          "annotationdefaults": {
           "arrowcolor": "#2a3f5f",
           "arrowhead": 0,
           "arrowwidth": 1
          },
          "autotypenumbers": "strict",
          "coloraxis": {
           "colorbar": {
            "outlinewidth": 0,
            "ticks": ""
           }
          },
          "colorscale": {
           "diverging": [
            [
             0,
             "#8e0152"
            ],
            [
             0.1,
             "#c51b7d"
            ],
            [
             0.2,
             "#de77ae"
            ],
            [
             0.3,
             "#f1b6da"
            ],
            [
             0.4,
             "#fde0ef"
            ],
            [
             0.5,
             "#f7f7f7"
            ],
            [
             0.6,
             "#e6f5d0"
            ],
            [
             0.7,
             "#b8e186"
            ],
            [
             0.8,
             "#7fbc41"
            ],
            [
             0.9,
             "#4d9221"
            ],
            [
             1,
             "#276419"
            ]
           ],
           "sequential": [
            [
             0,
             "#0d0887"
            ],
            [
             0.1111111111111111,
             "#46039f"
            ],
            [
             0.2222222222222222,
             "#7201a8"
            ],
            [
             0.3333333333333333,
             "#9c179e"
            ],
            [
             0.4444444444444444,
             "#bd3786"
            ],
            [
             0.5555555555555556,
             "#d8576b"
            ],
            [
             0.6666666666666666,
             "#ed7953"
            ],
            [
             0.7777777777777778,
             "#fb9f3a"
            ],
            [
             0.8888888888888888,
             "#fdca26"
            ],
            [
             1,
             "#f0f921"
            ]
           ],
           "sequentialminus": [
            [
             0,
             "#0d0887"
            ],
            [
             0.1111111111111111,
             "#46039f"
            ],
            [
             0.2222222222222222,
             "#7201a8"
            ],
            [
             0.3333333333333333,
             "#9c179e"
            ],
            [
             0.4444444444444444,
             "#bd3786"
            ],
            [
             0.5555555555555556,
             "#d8576b"
            ],
            [
             0.6666666666666666,
             "#ed7953"
            ],
            [
             0.7777777777777778,
             "#fb9f3a"
            ],
            [
             0.8888888888888888,
             "#fdca26"
            ],
            [
             1,
             "#f0f921"
            ]
           ]
          },
          "colorway": [
           "#636efa",
           "#EF553B",
           "#00cc96",
           "#ab63fa",
           "#FFA15A",
           "#19d3f3",
           "#FF6692",
           "#B6E880",
           "#FF97FF",
           "#FECB52"
          ],
          "font": {
           "color": "#2a3f5f"
          },
          "geo": {
           "bgcolor": "white",
           "lakecolor": "white",
           "landcolor": "#E5ECF6",
           "showlakes": true,
           "showland": true,
           "subunitcolor": "white"
          },
          "hoverlabel": {
           "align": "left"
          },
          "hovermode": "closest",
          "mapbox": {
           "style": "light"
          },
          "paper_bgcolor": "white",
          "plot_bgcolor": "#E5ECF6",
          "polar": {
           "angularaxis": {
            "gridcolor": "white",
            "linecolor": "white",
            "ticks": ""
           },
           "bgcolor": "#E5ECF6",
           "radialaxis": {
            "gridcolor": "white",
            "linecolor": "white",
            "ticks": ""
           }
          },
          "scene": {
           "xaxis": {
            "backgroundcolor": "#E5ECF6",
            "gridcolor": "white",
            "gridwidth": 2,
            "linecolor": "white",
            "showbackground": true,
            "ticks": "",
            "zerolinecolor": "white"
           },
           "yaxis": {
            "backgroundcolor": "#E5ECF6",
            "gridcolor": "white",
            "gridwidth": 2,
            "linecolor": "white",
            "showbackground": true,
            "ticks": "",
            "zerolinecolor": "white"
           },
           "zaxis": {
            "backgroundcolor": "#E5ECF6",
            "gridcolor": "white",
            "gridwidth": 2,
            "linecolor": "white",
            "showbackground": true,
            "ticks": "",
            "zerolinecolor": "white"
           }
          },
          "shapedefaults": {
           "line": {
            "color": "#2a3f5f"
           }
          },
          "ternary": {
           "aaxis": {
            "gridcolor": "white",
            "linecolor": "white",
            "ticks": ""
           },
           "baxis": {
            "gridcolor": "white",
            "linecolor": "white",
            "ticks": ""
           },
           "bgcolor": "#E5ECF6",
           "caxis": {
            "gridcolor": "white",
            "linecolor": "white",
            "ticks": ""
           }
          },
          "title": {
           "x": 0.05
          },
          "xaxis": {
           "automargin": true,
           "gridcolor": "white",
           "linecolor": "white",
           "ticks": "",
           "title": {
            "standoff": 15
           },
           "zerolinecolor": "white",
           "zerolinewidth": 2
          },
          "yaxis": {
           "automargin": true,
           "gridcolor": "white",
           "linecolor": "white",
           "ticks": "",
           "title": {
            "standoff": 15
           },
           "zerolinecolor": "white",
           "zerolinewidth": 2
          }
         }
        },
        "title": {
         "font": {
          "color": "#4D5663"
         }
        },
        "xaxis": {
         "gridcolor": "#E1E5ED",
         "showgrid": true,
         "tickfont": {
          "color": "#4D5663"
         },
         "title": {
          "font": {
           "color": "#4D5663"
          },
          "text": ""
         },
         "zerolinecolor": "#E1E5ED"
        },
        "yaxis": {
         "gridcolor": "#E1E5ED",
         "showgrid": true,
         "tickfont": {
          "color": "#4D5663"
         },
         "title": {
          "font": {
           "color": "#4D5663"
          },
          "text": ""
         },
         "zerolinecolor": "#E1E5ED"
        }
       }
      },
      "text/html": [
       "<div>                            <div id=\"dbdcc5f1-80c3-44d2-9a71-01314acb9d0d\" class=\"plotly-graph-div\" style=\"height:525px; width:100%;\"></div>            <script type=\"text/javascript\">                require([\"plotly\"], function(Plotly) {                    window.PLOTLYENV=window.PLOTLYENV || {};\n",
       "                    window.PLOTLYENV.BASE_URL='https://plot.ly';                                    if (document.getElementById(\"dbdcc5f1-80c3-44d2-9a71-01314acb9d0d\")) {                    Plotly.newPlot(                        \"dbdcc5f1-80c3-44d2-9a71-01314acb9d0d\",                        [{\"line\":{\"color\":\"rgba(255, 153, 51, 1.0)\",\"dash\":\"solid\",\"shape\":\"linear\",\"width\":1.3},\"marker\":{\"size\":12,\"symbol\":\"circle\"},\"mode\":\"markers\",\"name\":\"B\",\"text\":\"\",\"type\":\"scatter\",\"x\":[0.6874854690341766,0.5513974765103675,0.45219615905465405,0.3220074688721969,0.49848573503280835,0.8958082016552023,0.5924551606207522,0.019085849506069286,0.16849589082793093,0.03917191500638728,0.9121123388386799,0.23796051949259922,0.7258352658575087,0.34011954084222296,0.9491936521385159,0.15990653103289698,0.9754274244115759,0.3513871614097297,0.7066711673159177,0.6239263416350013,0.7027295187093794,0.799269947258963,0.33849993354535746,0.6301050773543084,0.051192931727014224,0.7224205087266852,0.4610464129486934,0.18313301492030254,0.40054735793284857,0.014412382101959054,0.5456590908441381,0.10855883211332473,0.11586655917905408,0.10568130158337796,0.9818825910553824,0.8617623526104413,0.9415055939261352,0.35812691402662733,0.6234732510966413,0.15305832576902845,0.23400930433298706,0.4388023440377373,0.09120750092250074,0.2590262261903984,0.03974027611508335,0.9284703344580862,0.6080577294722969,0.1012374898742957,0.11618317926899302,0.6088220366799406,0.11991550032916609,0.28278449287021923,0.12753378858961406,0.21490654709576862,0.7204691205883724,0.5518301887870176,0.7226709942872196,0.328001954785583,0.49011610109086257,0.11945543432845651,0.7686714245848407,0.8652286415169714,0.3387705814403654,0.20014342665332918,0.260917778080169,0.9954206073810935,0.27240193790782574,0.27575568228905967,0.30877116216175204,0.579622051446661,0.5461726196682098,0.6872479995752397,0.4276608269347526,0.6431573587078688,0.10326755653659647,0.021542551887952288,0.5826640406415982,0.1961995137374999,0.9301684925096566,0.35239104974070956,0.9269534890286317,0.00967037511330382,0.6469773371700347,0.08189466503482001,0.6470770636312277,0.7186538462033282,0.64798841147515,0.9390131824104669,0.39599019547534,0.4997378936919815,0.3979814103169699,0.43334068025240957,0.18204684784992287,0.9055616278589967,0.4950070469382203,0.2728325871340562,0.3263777289755577,0.9382923709357847,0.9228802624702013,0.2280123275393151],\"y\":[0.8843255679714199,0.4753451338820551,0.5564770416397901,0.4181370124941951,0.8082568964572047,0.0041675524322632995,0.7357309494209592,0.12236491926338045,0.8026430626697526,0.8551481461602891,0.9160726083915803,0.1948611008604485,0.10701810828909286,0.5659538314632473,0.006860980634156744,0.9230463812155936,0.3674568219671307,0.19570344085171865,0.4859113095727293,0.7788449077848387,0.4019894727335077,0.7895054616695254,0.950720477376916,0.7324935991597183,0.8294060719954223,0.6182198093766845,0.3101609180831728,0.8393311468830299,0.541810088608328,0.9808512663420359,0.7004636554110424,0.6112366152144356,0.7291840796906991,0.3664280752889001,0.22748883431446054,0.5760954477062057,0.056814697827563765,0.2644182837393171,0.5254839699381781,0.6053576784527464,0.7582588213806051,0.600899443738797,0.28418780384870856,0.7235975540666422,0.5248556362855886,0.17192615028233327,0.002118427862049077,0.10281536998752638,0.7699441949341121,0.5084122480003067,0.6273821881374195,0.5823393257132602,0.7747669163013711,0.7157246969337302,0.08690490847151733,0.9386285860148799,0.24252824943674178,0.2869278394690582,0.9268408784154505,0.45499666799956184,0.24128442648819093,0.0859334387635351,0.587303931632512,0.05725274216827514,0.02205346107514128,0.17496362033400514,0.8985829347769082,0.2567072722096292,0.035850198583307624,0.2200534368233742,0.9571000858043736,0.9737365908047143,0.3963828806802123,0.6362415350449229,0.15697065950891187,0.036360552886472775,0.982439271041864,0.07103230413276096,0.04406673582766252,0.9977258111089317,0.9375260641083187,0.5165719897735459,0.5328280702622757,0.14681397756233838,0.5506515843640556,0.18482825515656975,0.018811782698625823,0.3565744638001872,0.08815156772705057,0.3442811317469232,0.829660538258542,0.21618861100269104,0.3143410975104918,0.7634603125071553,0.4724020632558451,0.4600717513761058,0.1361911206485652,0.37637493132673405,0.8939930917701026,0.45455119567056856]}],                        {\"legend\":{\"bgcolor\":\"#F5F6F9\",\"font\":{\"color\":\"#4D5663\"}},\"paper_bgcolor\":\"#F5F6F9\",\"plot_bgcolor\":\"#F5F6F9\",\"template\":{\"data\":{\"bar\":[{\"error_x\":{\"color\":\"#2a3f5f\"},\"error_y\":{\"color\":\"#2a3f5f\"},\"marker\":{\"line\":{\"color\":\"#E5ECF6\",\"width\":0.5},\"pattern\":{\"fillmode\":\"overlay\",\"size\":10,\"solidity\":0.2}},\"type\":\"bar\"}],\"barpolar\":[{\"marker\":{\"line\":{\"color\":\"#E5ECF6\",\"width\":0.5},\"pattern\":{\"fillmode\":\"overlay\",\"size\":10,\"solidity\":0.2}},\"type\":\"barpolar\"}],\"carpet\":[{\"aaxis\":{\"endlinecolor\":\"#2a3f5f\",\"gridcolor\":\"white\",\"linecolor\":\"white\",\"minorgridcolor\":\"white\",\"startlinecolor\":\"#2a3f5f\"},\"baxis\":{\"endlinecolor\":\"#2a3f5f\",\"gridcolor\":\"white\",\"linecolor\":\"white\",\"minorgridcolor\":\"white\",\"startlinecolor\":\"#2a3f5f\"},\"type\":\"carpet\"}],\"choropleth\":[{\"colorbar\":{\"outlinewidth\":0,\"ticks\":\"\"},\"type\":\"choropleth\"}],\"contour\":[{\"colorbar\":{\"outlinewidth\":0,\"ticks\":\"\"},\"colorscale\":[[0.0,\"#0d0887\"],[0.1111111111111111,\"#46039f\"],[0.2222222222222222,\"#7201a8\"],[0.3333333333333333,\"#9c179e\"],[0.4444444444444444,\"#bd3786\"],[0.5555555555555556,\"#d8576b\"],[0.6666666666666666,\"#ed7953\"],[0.7777777777777778,\"#fb9f3a\"],[0.8888888888888888,\"#fdca26\"],[1.0,\"#f0f921\"]],\"type\":\"contour\"}],\"contourcarpet\":[{\"colorbar\":{\"outlinewidth\":0,\"ticks\":\"\"},\"type\":\"contourcarpet\"}],\"heatmap\":[{\"colorbar\":{\"outlinewidth\":0,\"ticks\":\"\"},\"colorscale\":[[0.0,\"#0d0887\"],[0.1111111111111111,\"#46039f\"],[0.2222222222222222,\"#7201a8\"],[0.3333333333333333,\"#9c179e\"],[0.4444444444444444,\"#bd3786\"],[0.5555555555555556,\"#d8576b\"],[0.6666666666666666,\"#ed7953\"],[0.7777777777777778,\"#fb9f3a\"],[0.8888888888888888,\"#fdca26\"],[1.0,\"#f0f921\"]],\"type\":\"heatmap\"}],\"heatmapgl\":[{\"colorbar\":{\"outlinewidth\":0,\"ticks\":\"\"},\"colorscale\":[[0.0,\"#0d0887\"],[0.1111111111111111,\"#46039f\"],[0.2222222222222222,\"#7201a8\"],[0.3333333333333333,\"#9c179e\"],[0.4444444444444444,\"#bd3786\"],[0.5555555555555556,\"#d8576b\"],[0.6666666666666666,\"#ed7953\"],[0.7777777777777778,\"#fb9f3a\"],[0.8888888888888888,\"#fdca26\"],[1.0,\"#f0f921\"]],\"type\":\"heatmapgl\"}],\"histogram\":[{\"marker\":{\"pattern\":{\"fillmode\":\"overlay\",\"size\":10,\"solidity\":0.2}},\"type\":\"histogram\"}],\"histogram2d\":[{\"colorbar\":{\"outlinewidth\":0,\"ticks\":\"\"},\"colorscale\":[[0.0,\"#0d0887\"],[0.1111111111111111,\"#46039f\"],[0.2222222222222222,\"#7201a8\"],[0.3333333333333333,\"#9c179e\"],[0.4444444444444444,\"#bd3786\"],[0.5555555555555556,\"#d8576b\"],[0.6666666666666666,\"#ed7953\"],[0.7777777777777778,\"#fb9f3a\"],[0.8888888888888888,\"#fdca26\"],[1.0,\"#f0f921\"]],\"type\":\"histogram2d\"}],\"histogram2dcontour\":[{\"colorbar\":{\"outlinewidth\":0,\"ticks\":\"\"},\"colorscale\":[[0.0,\"#0d0887\"],[0.1111111111111111,\"#46039f\"],[0.2222222222222222,\"#7201a8\"],[0.3333333333333333,\"#9c179e\"],[0.4444444444444444,\"#bd3786\"],[0.5555555555555556,\"#d8576b\"],[0.6666666666666666,\"#ed7953\"],[0.7777777777777778,\"#fb9f3a\"],[0.8888888888888888,\"#fdca26\"],[1.0,\"#f0f921\"]],\"type\":\"histogram2dcontour\"}],\"mesh3d\":[{\"colorbar\":{\"outlinewidth\":0,\"ticks\":\"\"},\"type\":\"mesh3d\"}],\"parcoords\":[{\"line\":{\"colorbar\":{\"outlinewidth\":0,\"ticks\":\"\"}},\"type\":\"parcoords\"}],\"pie\":[{\"automargin\":true,\"type\":\"pie\"}],\"scatter\":[{\"marker\":{\"colorbar\":{\"outlinewidth\":0,\"ticks\":\"\"}},\"type\":\"scatter\"}],\"scatter3d\":[{\"line\":{\"colorbar\":{\"outlinewidth\":0,\"ticks\":\"\"}},\"marker\":{\"colorbar\":{\"outlinewidth\":0,\"ticks\":\"\"}},\"type\":\"scatter3d\"}],\"scattercarpet\":[{\"marker\":{\"colorbar\":{\"outlinewidth\":0,\"ticks\":\"\"}},\"type\":\"scattercarpet\"}],\"scattergeo\":[{\"marker\":{\"colorbar\":{\"outlinewidth\":0,\"ticks\":\"\"}},\"type\":\"scattergeo\"}],\"scattergl\":[{\"marker\":{\"colorbar\":{\"outlinewidth\":0,\"ticks\":\"\"}},\"type\":\"scattergl\"}],\"scattermapbox\":[{\"marker\":{\"colorbar\":{\"outlinewidth\":0,\"ticks\":\"\"}},\"type\":\"scattermapbox\"}],\"scatterpolar\":[{\"marker\":{\"colorbar\":{\"outlinewidth\":0,\"ticks\":\"\"}},\"type\":\"scatterpolar\"}],\"scatterpolargl\":[{\"marker\":{\"colorbar\":{\"outlinewidth\":0,\"ticks\":\"\"}},\"type\":\"scatterpolargl\"}],\"scatterternary\":[{\"marker\":{\"colorbar\":{\"outlinewidth\":0,\"ticks\":\"\"}},\"type\":\"scatterternary\"}],\"surface\":[{\"colorbar\":{\"outlinewidth\":0,\"ticks\":\"\"},\"colorscale\":[[0.0,\"#0d0887\"],[0.1111111111111111,\"#46039f\"],[0.2222222222222222,\"#7201a8\"],[0.3333333333333333,\"#9c179e\"],[0.4444444444444444,\"#bd3786\"],[0.5555555555555556,\"#d8576b\"],[0.6666666666666666,\"#ed7953\"],[0.7777777777777778,\"#fb9f3a\"],[0.8888888888888888,\"#fdca26\"],[1.0,\"#f0f921\"]],\"type\":\"surface\"}],\"table\":[{\"cells\":{\"fill\":{\"color\":\"#EBF0F8\"},\"line\":{\"color\":\"white\"}},\"header\":{\"fill\":{\"color\":\"#C8D4E3\"},\"line\":{\"color\":\"white\"}},\"type\":\"table\"}]},\"layout\":{\"annotationdefaults\":{\"arrowcolor\":\"#2a3f5f\",\"arrowhead\":0,\"arrowwidth\":1},\"autotypenumbers\":\"strict\",\"coloraxis\":{\"colorbar\":{\"outlinewidth\":0,\"ticks\":\"\"}},\"colorscale\":{\"diverging\":[[0,\"#8e0152\"],[0.1,\"#c51b7d\"],[0.2,\"#de77ae\"],[0.3,\"#f1b6da\"],[0.4,\"#fde0ef\"],[0.5,\"#f7f7f7\"],[0.6,\"#e6f5d0\"],[0.7,\"#b8e186\"],[0.8,\"#7fbc41\"],[0.9,\"#4d9221\"],[1,\"#276419\"]],\"sequential\":[[0.0,\"#0d0887\"],[0.1111111111111111,\"#46039f\"],[0.2222222222222222,\"#7201a8\"],[0.3333333333333333,\"#9c179e\"],[0.4444444444444444,\"#bd3786\"],[0.5555555555555556,\"#d8576b\"],[0.6666666666666666,\"#ed7953\"],[0.7777777777777778,\"#fb9f3a\"],[0.8888888888888888,\"#fdca26\"],[1.0,\"#f0f921\"]],\"sequentialminus\":[[0.0,\"#0d0887\"],[0.1111111111111111,\"#46039f\"],[0.2222222222222222,\"#7201a8\"],[0.3333333333333333,\"#9c179e\"],[0.4444444444444444,\"#bd3786\"],[0.5555555555555556,\"#d8576b\"],[0.6666666666666666,\"#ed7953\"],[0.7777777777777778,\"#fb9f3a\"],[0.8888888888888888,\"#fdca26\"],[1.0,\"#f0f921\"]]},\"colorway\":[\"#636efa\",\"#EF553B\",\"#00cc96\",\"#ab63fa\",\"#FFA15A\",\"#19d3f3\",\"#FF6692\",\"#B6E880\",\"#FF97FF\",\"#FECB52\"],\"font\":{\"color\":\"#2a3f5f\"},\"geo\":{\"bgcolor\":\"white\",\"lakecolor\":\"white\",\"landcolor\":\"#E5ECF6\",\"showlakes\":true,\"showland\":true,\"subunitcolor\":\"white\"},\"hoverlabel\":{\"align\":\"left\"},\"hovermode\":\"closest\",\"mapbox\":{\"style\":\"light\"},\"paper_bgcolor\":\"white\",\"plot_bgcolor\":\"#E5ECF6\",\"polar\":{\"angularaxis\":{\"gridcolor\":\"white\",\"linecolor\":\"white\",\"ticks\":\"\"},\"bgcolor\":\"#E5ECF6\",\"radialaxis\":{\"gridcolor\":\"white\",\"linecolor\":\"white\",\"ticks\":\"\"}},\"scene\":{\"xaxis\":{\"backgroundcolor\":\"#E5ECF6\",\"gridcolor\":\"white\",\"gridwidth\":2,\"linecolor\":\"white\",\"showbackground\":true,\"ticks\":\"\",\"zerolinecolor\":\"white\"},\"yaxis\":{\"backgroundcolor\":\"#E5ECF6\",\"gridcolor\":\"white\",\"gridwidth\":2,\"linecolor\":\"white\",\"showbackground\":true,\"ticks\":\"\",\"zerolinecolor\":\"white\"},\"zaxis\":{\"backgroundcolor\":\"#E5ECF6\",\"gridcolor\":\"white\",\"gridwidth\":2,\"linecolor\":\"white\",\"showbackground\":true,\"ticks\":\"\",\"zerolinecolor\":\"white\"}},\"shapedefaults\":{\"line\":{\"color\":\"#2a3f5f\"}},\"ternary\":{\"aaxis\":{\"gridcolor\":\"white\",\"linecolor\":\"white\",\"ticks\":\"\"},\"baxis\":{\"gridcolor\":\"white\",\"linecolor\":\"white\",\"ticks\":\"\"},\"bgcolor\":\"#E5ECF6\",\"caxis\":{\"gridcolor\":\"white\",\"linecolor\":\"white\",\"ticks\":\"\"}},\"title\":{\"x\":0.05},\"xaxis\":{\"automargin\":true,\"gridcolor\":\"white\",\"linecolor\":\"white\",\"ticks\":\"\",\"title\":{\"standoff\":15},\"zerolinecolor\":\"white\",\"zerolinewidth\":2},\"yaxis\":{\"automargin\":true,\"gridcolor\":\"white\",\"linecolor\":\"white\",\"ticks\":\"\",\"title\":{\"standoff\":15},\"zerolinecolor\":\"white\",\"zerolinewidth\":2}}},\"title\":{\"font\":{\"color\":\"#4D5663\"}},\"xaxis\":{\"gridcolor\":\"#E1E5ED\",\"showgrid\":true,\"tickfont\":{\"color\":\"#4D5663\"},\"title\":{\"font\":{\"color\":\"#4D5663\"},\"text\":\"\"},\"zerolinecolor\":\"#E1E5ED\"},\"yaxis\":{\"gridcolor\":\"#E1E5ED\",\"showgrid\":true,\"tickfont\":{\"color\":\"#4D5663\"},\"title\":{\"font\":{\"color\":\"#4D5663\"},\"text\":\"\"},\"zerolinecolor\":\"#E1E5ED\"}},                        {\"showLink\": true, \"linkText\": \"Export to plot.ly\", \"plotlyServerURL\": \"https://plot.ly\", \"responsive\": true}                    ).then(function(){\n",
       "                            \n",
       "var gd = document.getElementById('dbdcc5f1-80c3-44d2-9a71-01314acb9d0d');\n",
       "var x = new MutationObserver(function (mutations, observer) {{\n",
       "        var display = window.getComputedStyle(gd).display;\n",
       "        if (!display || display === 'none') {{\n",
       "            console.log([gd, 'removed!']);\n",
       "            Plotly.purge(gd);\n",
       "            observer.disconnect();\n",
       "        }}\n",
       "}});\n",
       "\n",
       "// Listen for the removal of the full notebook cells\n",
       "var notebookContainer = gd.closest('#notebook-container');\n",
       "if (notebookContainer) {{\n",
       "    x.observe(notebookContainer, {childList: true});\n",
       "}}\n",
       "\n",
       "// Listen for the clearing of the current output cell\n",
       "var outputEl = gd.closest('.output');\n",
       "if (outputEl) {{\n",
       "    x.observe(outputEl, {childList: true});\n",
       "}}\n",
       "\n",
       "                        })                };                });            </script>        </div>"
      ]
     },
     "metadata": {},
     "output_type": "display_data"
    }
   ],
   "source": [
    "df.iplot(kind='scatter', x='A', y='B', mode='markers')"
   ]
  },
  {
   "cell_type": "code",
   "execution_count": 22,
   "id": "8bf1a47d",
   "metadata": {},
   "outputs": [
    {
     "data": {
      "application/vnd.plotly.v1+json": {
       "config": {
        "linkText": "Export to plot.ly",
        "plotlyServerURL": "https://plot.ly",
        "showLink": true
       },
       "data": [
        {
         "marker": {
          "color": "rgba(255, 153, 51, 0.6)",
          "line": {
           "color": "rgba(255, 153, 51, 1.0)",
           "width": 1
          }
         },
         "name": "Values",
         "orientation": "v",
         "text": "",
         "type": "bar",
         "x": [
          "A",
          "B",
          "c"
         ],
         "y": [
          32,
          43,
          50
         ]
        }
       ],
       "layout": {
        "legend": {
         "bgcolor": "#F5F6F9",
         "font": {
          "color": "#4D5663"
         }
        },
        "paper_bgcolor": "#F5F6F9",
        "plot_bgcolor": "#F5F6F9",
        "template": {
         "data": {
          "bar": [
           {
            "error_x": {
             "color": "#2a3f5f"
            },
            "error_y": {
             "color": "#2a3f5f"
            },
            "marker": {
             "line": {
              "color": "#E5ECF6",
              "width": 0.5
             },
             "pattern": {
              "fillmode": "overlay",
              "size": 10,
              "solidity": 0.2
             }
            },
            "type": "bar"
           }
          ],
          "barpolar": [
           {
            "marker": {
             "line": {
              "color": "#E5ECF6",
              "width": 0.5
             },
             "pattern": {
              "fillmode": "overlay",
              "size": 10,
              "solidity": 0.2
             }
            },
            "type": "barpolar"
           }
          ],
          "carpet": [
           {
            "aaxis": {
             "endlinecolor": "#2a3f5f",
             "gridcolor": "white",
             "linecolor": "white",
             "minorgridcolor": "white",
             "startlinecolor": "#2a3f5f"
            },
            "baxis": {
             "endlinecolor": "#2a3f5f",
             "gridcolor": "white",
             "linecolor": "white",
             "minorgridcolor": "white",
             "startlinecolor": "#2a3f5f"
            },
            "type": "carpet"
           }
          ],
          "choropleth": [
           {
            "colorbar": {
             "outlinewidth": 0,
             "ticks": ""
            },
            "type": "choropleth"
           }
          ],
          "contour": [
           {
            "colorbar": {
             "outlinewidth": 0,
             "ticks": ""
            },
            "colorscale": [
             [
              0,
              "#0d0887"
             ],
             [
              0.1111111111111111,
              "#46039f"
             ],
             [
              0.2222222222222222,
              "#7201a8"
             ],
             [
              0.3333333333333333,
              "#9c179e"
             ],
             [
              0.4444444444444444,
              "#bd3786"
             ],
             [
              0.5555555555555556,
              "#d8576b"
             ],
             [
              0.6666666666666666,
              "#ed7953"
             ],
             [
              0.7777777777777778,
              "#fb9f3a"
             ],
             [
              0.8888888888888888,
              "#fdca26"
             ],
             [
              1,
              "#f0f921"
             ]
            ],
            "type": "contour"
           }
          ],
          "contourcarpet": [
           {
            "colorbar": {
             "outlinewidth": 0,
             "ticks": ""
            },
            "type": "contourcarpet"
           }
          ],
          "heatmap": [
           {
            "colorbar": {
             "outlinewidth": 0,
             "ticks": ""
            },
            "colorscale": [
             [
              0,
              "#0d0887"
             ],
             [
              0.1111111111111111,
              "#46039f"
             ],
             [
              0.2222222222222222,
              "#7201a8"
             ],
             [
              0.3333333333333333,
              "#9c179e"
             ],
             [
              0.4444444444444444,
              "#bd3786"
             ],
             [
              0.5555555555555556,
              "#d8576b"
             ],
             [
              0.6666666666666666,
              "#ed7953"
             ],
             [
              0.7777777777777778,
              "#fb9f3a"
             ],
             [
              0.8888888888888888,
              "#fdca26"
             ],
             [
              1,
              "#f0f921"
             ]
            ],
            "type": "heatmap"
           }
          ],
          "heatmapgl": [
           {
            "colorbar": {
             "outlinewidth": 0,
             "ticks": ""
            },
            "colorscale": [
             [
              0,
              "#0d0887"
             ],
             [
              0.1111111111111111,
              "#46039f"
             ],
             [
              0.2222222222222222,
              "#7201a8"
             ],
             [
              0.3333333333333333,
              "#9c179e"
             ],
             [
              0.4444444444444444,
              "#bd3786"
             ],
             [
              0.5555555555555556,
              "#d8576b"
             ],
             [
              0.6666666666666666,
              "#ed7953"
             ],
             [
              0.7777777777777778,
              "#fb9f3a"
             ],
             [
              0.8888888888888888,
              "#fdca26"
             ],
             [
              1,
              "#f0f921"
             ]
            ],
            "type": "heatmapgl"
           }
          ],
          "histogram": [
           {
            "marker": {
             "pattern": {
              "fillmode": "overlay",
              "size": 10,
              "solidity": 0.2
             }
            },
            "type": "histogram"
           }
          ],
          "histogram2d": [
           {
            "colorbar": {
             "outlinewidth": 0,
             "ticks": ""
            },
            "colorscale": [
             [
              0,
              "#0d0887"
             ],
             [
              0.1111111111111111,
              "#46039f"
             ],
             [
              0.2222222222222222,
              "#7201a8"
             ],
             [
              0.3333333333333333,
              "#9c179e"
             ],
             [
              0.4444444444444444,
              "#bd3786"
             ],
             [
              0.5555555555555556,
              "#d8576b"
             ],
             [
              0.6666666666666666,
              "#ed7953"
             ],
             [
              0.7777777777777778,
              "#fb9f3a"
             ],
             [
              0.8888888888888888,
              "#fdca26"
             ],
             [
              1,
              "#f0f921"
             ]
            ],
            "type": "histogram2d"
           }
          ],
          "histogram2dcontour": [
           {
            "colorbar": {
             "outlinewidth": 0,
             "ticks": ""
            },
            "colorscale": [
             [
              0,
              "#0d0887"
             ],
             [
              0.1111111111111111,
              "#46039f"
             ],
             [
              0.2222222222222222,
              "#7201a8"
             ],
             [
              0.3333333333333333,
              "#9c179e"
             ],
             [
              0.4444444444444444,
              "#bd3786"
             ],
             [
              0.5555555555555556,
              "#d8576b"
             ],
             [
              0.6666666666666666,
              "#ed7953"
             ],
             [
              0.7777777777777778,
              "#fb9f3a"
             ],
             [
              0.8888888888888888,
              "#fdca26"
             ],
             [
              1,
              "#f0f921"
             ]
            ],
            "type": "histogram2dcontour"
           }
          ],
          "mesh3d": [
           {
            "colorbar": {
             "outlinewidth": 0,
             "ticks": ""
            },
            "type": "mesh3d"
           }
          ],
          "parcoords": [
           {
            "line": {
             "colorbar": {
              "outlinewidth": 0,
              "ticks": ""
             }
            },
            "type": "parcoords"
           }
          ],
          "pie": [
           {
            "automargin": true,
            "type": "pie"
           }
          ],
          "scatter": [
           {
            "marker": {
             "colorbar": {
              "outlinewidth": 0,
              "ticks": ""
             }
            },
            "type": "scatter"
           }
          ],
          "scatter3d": [
           {
            "line": {
             "colorbar": {
              "outlinewidth": 0,
              "ticks": ""
             }
            },
            "marker": {
             "colorbar": {
              "outlinewidth": 0,
              "ticks": ""
             }
            },
            "type": "scatter3d"
           }
          ],
          "scattercarpet": [
           {
            "marker": {
             "colorbar": {
              "outlinewidth": 0,
              "ticks": ""
             }
            },
            "type": "scattercarpet"
           }
          ],
          "scattergeo": [
           {
            "marker": {
             "colorbar": {
              "outlinewidth": 0,
              "ticks": ""
             }
            },
            "type": "scattergeo"
           }
          ],
          "scattergl": [
           {
            "marker": {
             "colorbar": {
              "outlinewidth": 0,
              "ticks": ""
             }
            },
            "type": "scattergl"
           }
          ],
          "scattermapbox": [
           {
            "marker": {
             "colorbar": {
              "outlinewidth": 0,
              "ticks": ""
             }
            },
            "type": "scattermapbox"
           }
          ],
          "scatterpolar": [
           {
            "marker": {
             "colorbar": {
              "outlinewidth": 0,
              "ticks": ""
             }
            },
            "type": "scatterpolar"
           }
          ],
          "scatterpolargl": [
           {
            "marker": {
             "colorbar": {
              "outlinewidth": 0,
              "ticks": ""
             }
            },
            "type": "scatterpolargl"
           }
          ],
          "scatterternary": [
           {
            "marker": {
             "colorbar": {
              "outlinewidth": 0,
              "ticks": ""
             }
            },
            "type": "scatterternary"
           }
          ],
          "surface": [
           {
            "colorbar": {
             "outlinewidth": 0,
             "ticks": ""
            },
            "colorscale": [
             [
              0,
              "#0d0887"
             ],
             [
              0.1111111111111111,
              "#46039f"
             ],
             [
              0.2222222222222222,
              "#7201a8"
             ],
             [
              0.3333333333333333,
              "#9c179e"
             ],
             [
              0.4444444444444444,
              "#bd3786"
             ],
             [
              0.5555555555555556,
              "#d8576b"
             ],
             [
              0.6666666666666666,
              "#ed7953"
             ],
             [
              0.7777777777777778,
              "#fb9f3a"
             ],
             [
              0.8888888888888888,
              "#fdca26"
             ],
             [
              1,
              "#f0f921"
             ]
            ],
            "type": "surface"
           }
          ],
          "table": [
           {
            "cells": {
             "fill": {
              "color": "#EBF0F8"
             },
             "line": {
              "color": "white"
             }
            },
            "header": {
             "fill": {
              "color": "#C8D4E3"
             },
             "line": {
              "color": "white"
             }
            },
            "type": "table"
           }
          ]
         },
         "layout": {
          "annotationdefaults": {
           "arrowcolor": "#2a3f5f",
           "arrowhead": 0,
           "arrowwidth": 1
          },
          "autotypenumbers": "strict",
          "coloraxis": {
           "colorbar": {
            "outlinewidth": 0,
            "ticks": ""
           }
          },
          "colorscale": {
           "diverging": [
            [
             0,
             "#8e0152"
            ],
            [
             0.1,
             "#c51b7d"
            ],
            [
             0.2,
             "#de77ae"
            ],
            [
             0.3,
             "#f1b6da"
            ],
            [
             0.4,
             "#fde0ef"
            ],
            [
             0.5,
             "#f7f7f7"
            ],
            [
             0.6,
             "#e6f5d0"
            ],
            [
             0.7,
             "#b8e186"
            ],
            [
             0.8,
             "#7fbc41"
            ],
            [
             0.9,
             "#4d9221"
            ],
            [
             1,
             "#276419"
            ]
           ],
           "sequential": [
            [
             0,
             "#0d0887"
            ],
            [
             0.1111111111111111,
             "#46039f"
            ],
            [
             0.2222222222222222,
             "#7201a8"
            ],
            [
             0.3333333333333333,
             "#9c179e"
            ],
            [
             0.4444444444444444,
             "#bd3786"
            ],
            [
             0.5555555555555556,
             "#d8576b"
            ],
            [
             0.6666666666666666,
             "#ed7953"
            ],
            [
             0.7777777777777778,
             "#fb9f3a"
            ],
            [
             0.8888888888888888,
             "#fdca26"
            ],
            [
             1,
             "#f0f921"
            ]
           ],
           "sequentialminus": [
            [
             0,
             "#0d0887"
            ],
            [
             0.1111111111111111,
             "#46039f"
            ],
            [
             0.2222222222222222,
             "#7201a8"
            ],
            [
             0.3333333333333333,
             "#9c179e"
            ],
            [
             0.4444444444444444,
             "#bd3786"
            ],
            [
             0.5555555555555556,
             "#d8576b"
            ],
            [
             0.6666666666666666,
             "#ed7953"
            ],
            [
             0.7777777777777778,
             "#fb9f3a"
            ],
            [
             0.8888888888888888,
             "#fdca26"
            ],
            [
             1,
             "#f0f921"
            ]
           ]
          },
          "colorway": [
           "#636efa",
           "#EF553B",
           "#00cc96",
           "#ab63fa",
           "#FFA15A",
           "#19d3f3",
           "#FF6692",
           "#B6E880",
           "#FF97FF",
           "#FECB52"
          ],
          "font": {
           "color": "#2a3f5f"
          },
          "geo": {
           "bgcolor": "white",
           "lakecolor": "white",
           "landcolor": "#E5ECF6",
           "showlakes": true,
           "showland": true,
           "subunitcolor": "white"
          },
          "hoverlabel": {
           "align": "left"
          },
          "hovermode": "closest",
          "mapbox": {
           "style": "light"
          },
          "paper_bgcolor": "white",
          "plot_bgcolor": "#E5ECF6",
          "polar": {
           "angularaxis": {
            "gridcolor": "white",
            "linecolor": "white",
            "ticks": ""
           },
           "bgcolor": "#E5ECF6",
           "radialaxis": {
            "gridcolor": "white",
            "linecolor": "white",
            "ticks": ""
           }
          },
          "scene": {
           "xaxis": {
            "backgroundcolor": "#E5ECF6",
            "gridcolor": "white",
            "gridwidth": 2,
            "linecolor": "white",
            "showbackground": true,
            "ticks": "",
            "zerolinecolor": "white"
           },
           "yaxis": {
            "backgroundcolor": "#E5ECF6",
            "gridcolor": "white",
            "gridwidth": 2,
            "linecolor": "white",
            "showbackground": true,
            "ticks": "",
            "zerolinecolor": "white"
           },
           "zaxis": {
            "backgroundcolor": "#E5ECF6",
            "gridcolor": "white",
            "gridwidth": 2,
            "linecolor": "white",
            "showbackground": true,
            "ticks": "",
            "zerolinecolor": "white"
           }
          },
          "shapedefaults": {
           "line": {
            "color": "#2a3f5f"
           }
          },
          "ternary": {
           "aaxis": {
            "gridcolor": "white",
            "linecolor": "white",
            "ticks": ""
           },
           "baxis": {
            "gridcolor": "white",
            "linecolor": "white",
            "ticks": ""
           },
           "bgcolor": "#E5ECF6",
           "caxis": {
            "gridcolor": "white",
            "linecolor": "white",
            "ticks": ""
           }
          },
          "title": {
           "x": 0.05
          },
          "xaxis": {
           "automargin": true,
           "gridcolor": "white",
           "linecolor": "white",
           "ticks": "",
           "title": {
            "standoff": 15
           },
           "zerolinecolor": "white",
           "zerolinewidth": 2
          },
          "yaxis": {
           "automargin": true,
           "gridcolor": "white",
           "linecolor": "white",
           "ticks": "",
           "title": {
            "standoff": 15
           },
           "zerolinecolor": "white",
           "zerolinewidth": 2
          }
         }
        },
        "title": {
         "font": {
          "color": "#4D5663"
         }
        },
        "xaxis": {
         "gridcolor": "#E1E5ED",
         "showgrid": true,
         "tickfont": {
          "color": "#4D5663"
         },
         "title": {
          "font": {
           "color": "#4D5663"
          },
          "text": ""
         },
         "zerolinecolor": "#E1E5ED"
        },
        "yaxis": {
         "gridcolor": "#E1E5ED",
         "showgrid": true,
         "tickfont": {
          "color": "#4D5663"
         },
         "title": {
          "font": {
           "color": "#4D5663"
          },
          "text": ""
         },
         "zerolinecolor": "#E1E5ED"
        }
       }
      },
      "text/html": [
       "<div>                            <div id=\"91743791-7279-446c-9cbe-24ce3832af94\" class=\"plotly-graph-div\" style=\"height:525px; width:100%;\"></div>            <script type=\"text/javascript\">                require([\"plotly\"], function(Plotly) {                    window.PLOTLYENV=window.PLOTLYENV || {};\n",
       "                    window.PLOTLYENV.BASE_URL='https://plot.ly';                                    if (document.getElementById(\"91743791-7279-446c-9cbe-24ce3832af94\")) {                    Plotly.newPlot(                        \"91743791-7279-446c-9cbe-24ce3832af94\",                        [{\"marker\":{\"color\":\"rgba(255, 153, 51, 0.6)\",\"line\":{\"color\":\"rgba(255, 153, 51, 1.0)\",\"width\":1}},\"name\":\"Values\",\"orientation\":\"v\",\"text\":\"\",\"type\":\"bar\",\"x\":[\"A\",\"B\",\"c\"],\"y\":[32,43,50]}],                        {\"legend\":{\"bgcolor\":\"#F5F6F9\",\"font\":{\"color\":\"#4D5663\"}},\"paper_bgcolor\":\"#F5F6F9\",\"plot_bgcolor\":\"#F5F6F9\",\"template\":{\"data\":{\"bar\":[{\"error_x\":{\"color\":\"#2a3f5f\"},\"error_y\":{\"color\":\"#2a3f5f\"},\"marker\":{\"line\":{\"color\":\"#E5ECF6\",\"width\":0.5},\"pattern\":{\"fillmode\":\"overlay\",\"size\":10,\"solidity\":0.2}},\"type\":\"bar\"}],\"barpolar\":[{\"marker\":{\"line\":{\"color\":\"#E5ECF6\",\"width\":0.5},\"pattern\":{\"fillmode\":\"overlay\",\"size\":10,\"solidity\":0.2}},\"type\":\"barpolar\"}],\"carpet\":[{\"aaxis\":{\"endlinecolor\":\"#2a3f5f\",\"gridcolor\":\"white\",\"linecolor\":\"white\",\"minorgridcolor\":\"white\",\"startlinecolor\":\"#2a3f5f\"},\"baxis\":{\"endlinecolor\":\"#2a3f5f\",\"gridcolor\":\"white\",\"linecolor\":\"white\",\"minorgridcolor\":\"white\",\"startlinecolor\":\"#2a3f5f\"},\"type\":\"carpet\"}],\"choropleth\":[{\"colorbar\":{\"outlinewidth\":0,\"ticks\":\"\"},\"type\":\"choropleth\"}],\"contour\":[{\"colorbar\":{\"outlinewidth\":0,\"ticks\":\"\"},\"colorscale\":[[0.0,\"#0d0887\"],[0.1111111111111111,\"#46039f\"],[0.2222222222222222,\"#7201a8\"],[0.3333333333333333,\"#9c179e\"],[0.4444444444444444,\"#bd3786\"],[0.5555555555555556,\"#d8576b\"],[0.6666666666666666,\"#ed7953\"],[0.7777777777777778,\"#fb9f3a\"],[0.8888888888888888,\"#fdca26\"],[1.0,\"#f0f921\"]],\"type\":\"contour\"}],\"contourcarpet\":[{\"colorbar\":{\"outlinewidth\":0,\"ticks\":\"\"},\"type\":\"contourcarpet\"}],\"heatmap\":[{\"colorbar\":{\"outlinewidth\":0,\"ticks\":\"\"},\"colorscale\":[[0.0,\"#0d0887\"],[0.1111111111111111,\"#46039f\"],[0.2222222222222222,\"#7201a8\"],[0.3333333333333333,\"#9c179e\"],[0.4444444444444444,\"#bd3786\"],[0.5555555555555556,\"#d8576b\"],[0.6666666666666666,\"#ed7953\"],[0.7777777777777778,\"#fb9f3a\"],[0.8888888888888888,\"#fdca26\"],[1.0,\"#f0f921\"]],\"type\":\"heatmap\"}],\"heatmapgl\":[{\"colorbar\":{\"outlinewidth\":0,\"ticks\":\"\"},\"colorscale\":[[0.0,\"#0d0887\"],[0.1111111111111111,\"#46039f\"],[0.2222222222222222,\"#7201a8\"],[0.3333333333333333,\"#9c179e\"],[0.4444444444444444,\"#bd3786\"],[0.5555555555555556,\"#d8576b\"],[0.6666666666666666,\"#ed7953\"],[0.7777777777777778,\"#fb9f3a\"],[0.8888888888888888,\"#fdca26\"],[1.0,\"#f0f921\"]],\"type\":\"heatmapgl\"}],\"histogram\":[{\"marker\":{\"pattern\":{\"fillmode\":\"overlay\",\"size\":10,\"solidity\":0.2}},\"type\":\"histogram\"}],\"histogram2d\":[{\"colorbar\":{\"outlinewidth\":0,\"ticks\":\"\"},\"colorscale\":[[0.0,\"#0d0887\"],[0.1111111111111111,\"#46039f\"],[0.2222222222222222,\"#7201a8\"],[0.3333333333333333,\"#9c179e\"],[0.4444444444444444,\"#bd3786\"],[0.5555555555555556,\"#d8576b\"],[0.6666666666666666,\"#ed7953\"],[0.7777777777777778,\"#fb9f3a\"],[0.8888888888888888,\"#fdca26\"],[1.0,\"#f0f921\"]],\"type\":\"histogram2d\"}],\"histogram2dcontour\":[{\"colorbar\":{\"outlinewidth\":0,\"ticks\":\"\"},\"colorscale\":[[0.0,\"#0d0887\"],[0.1111111111111111,\"#46039f\"],[0.2222222222222222,\"#7201a8\"],[0.3333333333333333,\"#9c179e\"],[0.4444444444444444,\"#bd3786\"],[0.5555555555555556,\"#d8576b\"],[0.6666666666666666,\"#ed7953\"],[0.7777777777777778,\"#fb9f3a\"],[0.8888888888888888,\"#fdca26\"],[1.0,\"#f0f921\"]],\"type\":\"histogram2dcontour\"}],\"mesh3d\":[{\"colorbar\":{\"outlinewidth\":0,\"ticks\":\"\"},\"type\":\"mesh3d\"}],\"parcoords\":[{\"line\":{\"colorbar\":{\"outlinewidth\":0,\"ticks\":\"\"}},\"type\":\"parcoords\"}],\"pie\":[{\"automargin\":true,\"type\":\"pie\"}],\"scatter\":[{\"marker\":{\"colorbar\":{\"outlinewidth\":0,\"ticks\":\"\"}},\"type\":\"scatter\"}],\"scatter3d\":[{\"line\":{\"colorbar\":{\"outlinewidth\":0,\"ticks\":\"\"}},\"marker\":{\"colorbar\":{\"outlinewidth\":0,\"ticks\":\"\"}},\"type\":\"scatter3d\"}],\"scattercarpet\":[{\"marker\":{\"colorbar\":{\"outlinewidth\":0,\"ticks\":\"\"}},\"type\":\"scattercarpet\"}],\"scattergeo\":[{\"marker\":{\"colorbar\":{\"outlinewidth\":0,\"ticks\":\"\"}},\"type\":\"scattergeo\"}],\"scattergl\":[{\"marker\":{\"colorbar\":{\"outlinewidth\":0,\"ticks\":\"\"}},\"type\":\"scattergl\"}],\"scattermapbox\":[{\"marker\":{\"colorbar\":{\"outlinewidth\":0,\"ticks\":\"\"}},\"type\":\"scattermapbox\"}],\"scatterpolar\":[{\"marker\":{\"colorbar\":{\"outlinewidth\":0,\"ticks\":\"\"}},\"type\":\"scatterpolar\"}],\"scatterpolargl\":[{\"marker\":{\"colorbar\":{\"outlinewidth\":0,\"ticks\":\"\"}},\"type\":\"scatterpolargl\"}],\"scatterternary\":[{\"marker\":{\"colorbar\":{\"outlinewidth\":0,\"ticks\":\"\"}},\"type\":\"scatterternary\"}],\"surface\":[{\"colorbar\":{\"outlinewidth\":0,\"ticks\":\"\"},\"colorscale\":[[0.0,\"#0d0887\"],[0.1111111111111111,\"#46039f\"],[0.2222222222222222,\"#7201a8\"],[0.3333333333333333,\"#9c179e\"],[0.4444444444444444,\"#bd3786\"],[0.5555555555555556,\"#d8576b\"],[0.6666666666666666,\"#ed7953\"],[0.7777777777777778,\"#fb9f3a\"],[0.8888888888888888,\"#fdca26\"],[1.0,\"#f0f921\"]],\"type\":\"surface\"}],\"table\":[{\"cells\":{\"fill\":{\"color\":\"#EBF0F8\"},\"line\":{\"color\":\"white\"}},\"header\":{\"fill\":{\"color\":\"#C8D4E3\"},\"line\":{\"color\":\"white\"}},\"type\":\"table\"}]},\"layout\":{\"annotationdefaults\":{\"arrowcolor\":\"#2a3f5f\",\"arrowhead\":0,\"arrowwidth\":1},\"autotypenumbers\":\"strict\",\"coloraxis\":{\"colorbar\":{\"outlinewidth\":0,\"ticks\":\"\"}},\"colorscale\":{\"diverging\":[[0,\"#8e0152\"],[0.1,\"#c51b7d\"],[0.2,\"#de77ae\"],[0.3,\"#f1b6da\"],[0.4,\"#fde0ef\"],[0.5,\"#f7f7f7\"],[0.6,\"#e6f5d0\"],[0.7,\"#b8e186\"],[0.8,\"#7fbc41\"],[0.9,\"#4d9221\"],[1,\"#276419\"]],\"sequential\":[[0.0,\"#0d0887\"],[0.1111111111111111,\"#46039f\"],[0.2222222222222222,\"#7201a8\"],[0.3333333333333333,\"#9c179e\"],[0.4444444444444444,\"#bd3786\"],[0.5555555555555556,\"#d8576b\"],[0.6666666666666666,\"#ed7953\"],[0.7777777777777778,\"#fb9f3a\"],[0.8888888888888888,\"#fdca26\"],[1.0,\"#f0f921\"]],\"sequentialminus\":[[0.0,\"#0d0887\"],[0.1111111111111111,\"#46039f\"],[0.2222222222222222,\"#7201a8\"],[0.3333333333333333,\"#9c179e\"],[0.4444444444444444,\"#bd3786\"],[0.5555555555555556,\"#d8576b\"],[0.6666666666666666,\"#ed7953\"],[0.7777777777777778,\"#fb9f3a\"],[0.8888888888888888,\"#fdca26\"],[1.0,\"#f0f921\"]]},\"colorway\":[\"#636efa\",\"#EF553B\",\"#00cc96\",\"#ab63fa\",\"#FFA15A\",\"#19d3f3\",\"#FF6692\",\"#B6E880\",\"#FF97FF\",\"#FECB52\"],\"font\":{\"color\":\"#2a3f5f\"},\"geo\":{\"bgcolor\":\"white\",\"lakecolor\":\"white\",\"landcolor\":\"#E5ECF6\",\"showlakes\":true,\"showland\":true,\"subunitcolor\":\"white\"},\"hoverlabel\":{\"align\":\"left\"},\"hovermode\":\"closest\",\"mapbox\":{\"style\":\"light\"},\"paper_bgcolor\":\"white\",\"plot_bgcolor\":\"#E5ECF6\",\"polar\":{\"angularaxis\":{\"gridcolor\":\"white\",\"linecolor\":\"white\",\"ticks\":\"\"},\"bgcolor\":\"#E5ECF6\",\"radialaxis\":{\"gridcolor\":\"white\",\"linecolor\":\"white\",\"ticks\":\"\"}},\"scene\":{\"xaxis\":{\"backgroundcolor\":\"#E5ECF6\",\"gridcolor\":\"white\",\"gridwidth\":2,\"linecolor\":\"white\",\"showbackground\":true,\"ticks\":\"\",\"zerolinecolor\":\"white\"},\"yaxis\":{\"backgroundcolor\":\"#E5ECF6\",\"gridcolor\":\"white\",\"gridwidth\":2,\"linecolor\":\"white\",\"showbackground\":true,\"ticks\":\"\",\"zerolinecolor\":\"white\"},\"zaxis\":{\"backgroundcolor\":\"#E5ECF6\",\"gridcolor\":\"white\",\"gridwidth\":2,\"linecolor\":\"white\",\"showbackground\":true,\"ticks\":\"\",\"zerolinecolor\":\"white\"}},\"shapedefaults\":{\"line\":{\"color\":\"#2a3f5f\"}},\"ternary\":{\"aaxis\":{\"gridcolor\":\"white\",\"linecolor\":\"white\",\"ticks\":\"\"},\"baxis\":{\"gridcolor\":\"white\",\"linecolor\":\"white\",\"ticks\":\"\"},\"bgcolor\":\"#E5ECF6\",\"caxis\":{\"gridcolor\":\"white\",\"linecolor\":\"white\",\"ticks\":\"\"}},\"title\":{\"x\":0.05},\"xaxis\":{\"automargin\":true,\"gridcolor\":\"white\",\"linecolor\":\"white\",\"ticks\":\"\",\"title\":{\"standoff\":15},\"zerolinecolor\":\"white\",\"zerolinewidth\":2},\"yaxis\":{\"automargin\":true,\"gridcolor\":\"white\",\"linecolor\":\"white\",\"ticks\":\"\",\"title\":{\"standoff\":15},\"zerolinecolor\":\"white\",\"zerolinewidth\":2}}},\"title\":{\"font\":{\"color\":\"#4D5663\"}},\"xaxis\":{\"gridcolor\":\"#E1E5ED\",\"showgrid\":true,\"tickfont\":{\"color\":\"#4D5663\"},\"title\":{\"font\":{\"color\":\"#4D5663\"},\"text\":\"\"},\"zerolinecolor\":\"#E1E5ED\"},\"yaxis\":{\"gridcolor\":\"#E1E5ED\",\"showgrid\":true,\"tickfont\":{\"color\":\"#4D5663\"},\"title\":{\"font\":{\"color\":\"#4D5663\"},\"text\":\"\"},\"zerolinecolor\":\"#E1E5ED\"}},                        {\"showLink\": true, \"linkText\": \"Export to plot.ly\", \"plotlyServerURL\": \"https://plot.ly\", \"responsive\": true}                    ).then(function(){\n",
       "                            \n",
       "var gd = document.getElementById('91743791-7279-446c-9cbe-24ce3832af94');\n",
       "var x = new MutationObserver(function (mutations, observer) {{\n",
       "        var display = window.getComputedStyle(gd).display;\n",
       "        if (!display || display === 'none') {{\n",
       "            console.log([gd, 'removed!']);\n",
       "            Plotly.purge(gd);\n",
       "            observer.disconnect();\n",
       "        }}\n",
       "}});\n",
       "\n",
       "// Listen for the removal of the full notebook cells\n",
       "var notebookContainer = gd.closest('#notebook-container');\n",
       "if (notebookContainer) {{\n",
       "    x.observe(notebookContainer, {childList: true});\n",
       "}}\n",
       "\n",
       "// Listen for the clearing of the current output cell\n",
       "var outputEl = gd.closest('.output');\n",
       "if (outputEl) {{\n",
       "    x.observe(outputEl, {childList: true});\n",
       "}}\n",
       "\n",
       "                        })                };                });            </script>        </div>"
      ]
     },
     "metadata": {},
     "output_type": "display_data"
    }
   ],
   "source": [
    "df2.iplot(kind='bar', x='Category',y='Values')"
   ]
  },
  {
   "cell_type": "code",
   "execution_count": 23,
   "id": "a77f0453",
   "metadata": {},
   "outputs": [
    {
     "data": {
      "text/html": [
       "<div>\n",
       "<style scoped>\n",
       "    .dataframe tbody tr th:only-of-type {\n",
       "        vertical-align: middle;\n",
       "    }\n",
       "\n",
       "    .dataframe tbody tr th {\n",
       "        vertical-align: top;\n",
       "    }\n",
       "\n",
       "    .dataframe thead th {\n",
       "        text-align: right;\n",
       "    }\n",
       "</style>\n",
       "<table border=\"1\" class=\"dataframe\">\n",
       "  <thead>\n",
       "    <tr style=\"text-align: right;\">\n",
       "      <th></th>\n",
       "      <th>A</th>\n",
       "      <th>B</th>\n",
       "      <th>C</th>\n",
       "      <th>D</th>\n",
       "    </tr>\n",
       "  </thead>\n",
       "  <tbody>\n",
       "    <tr>\n",
       "      <th>0</th>\n",
       "      <td>0.687485</td>\n",
       "      <td>0.884326</td>\n",
       "      <td>0.272766</td>\n",
       "      <td>0.531294</td>\n",
       "    </tr>\n",
       "    <tr>\n",
       "      <th>1</th>\n",
       "      <td>0.551397</td>\n",
       "      <td>0.475345</td>\n",
       "      <td>0.100133</td>\n",
       "      <td>0.197012</td>\n",
       "    </tr>\n",
       "    <tr>\n",
       "      <th>2</th>\n",
       "      <td>0.452196</td>\n",
       "      <td>0.556477</td>\n",
       "      <td>0.544833</td>\n",
       "      <td>0.364344</td>\n",
       "    </tr>\n",
       "    <tr>\n",
       "      <th>3</th>\n",
       "      <td>0.322007</td>\n",
       "      <td>0.418137</td>\n",
       "      <td>0.097273</td>\n",
       "      <td>0.745800</td>\n",
       "    </tr>\n",
       "    <tr>\n",
       "      <th>4</th>\n",
       "      <td>0.498486</td>\n",
       "      <td>0.808257</td>\n",
       "      <td>0.219734</td>\n",
       "      <td>0.173478</td>\n",
       "    </tr>\n",
       "    <tr>\n",
       "      <th>...</th>\n",
       "      <td>...</td>\n",
       "      <td>...</td>\n",
       "      <td>...</td>\n",
       "      <td>...</td>\n",
       "    </tr>\n",
       "    <tr>\n",
       "      <th>95</th>\n",
       "      <td>0.272833</td>\n",
       "      <td>0.460072</td>\n",
       "      <td>0.843220</td>\n",
       "      <td>0.544048</td>\n",
       "    </tr>\n",
       "    <tr>\n",
       "      <th>96</th>\n",
       "      <td>0.326378</td>\n",
       "      <td>0.136191</td>\n",
       "      <td>0.366585</td>\n",
       "      <td>0.910719</td>\n",
       "    </tr>\n",
       "    <tr>\n",
       "      <th>97</th>\n",
       "      <td>0.938292</td>\n",
       "      <td>0.376375</td>\n",
       "      <td>0.190714</td>\n",
       "      <td>0.770700</td>\n",
       "    </tr>\n",
       "    <tr>\n",
       "      <th>98</th>\n",
       "      <td>0.922880</td>\n",
       "      <td>0.893993</td>\n",
       "      <td>0.313446</td>\n",
       "      <td>0.128048</td>\n",
       "    </tr>\n",
       "    <tr>\n",
       "      <th>99</th>\n",
       "      <td>0.228012</td>\n",
       "      <td>0.454551</td>\n",
       "      <td>0.890607</td>\n",
       "      <td>0.048429</td>\n",
       "    </tr>\n",
       "  </tbody>\n",
       "</table>\n",
       "<p>100 rows × 4 columns</p>\n",
       "</div>"
      ],
      "text/plain": [
       "           A         B         C         D\n",
       "0   0.687485  0.884326  0.272766  0.531294\n",
       "1   0.551397  0.475345  0.100133  0.197012\n",
       "2   0.452196  0.556477  0.544833  0.364344\n",
       "3   0.322007  0.418137  0.097273  0.745800\n",
       "4   0.498486  0.808257  0.219734  0.173478\n",
       "..       ...       ...       ...       ...\n",
       "95  0.272833  0.460072  0.843220  0.544048\n",
       "96  0.326378  0.136191  0.366585  0.910719\n",
       "97  0.938292  0.376375  0.190714  0.770700\n",
       "98  0.922880  0.893993  0.313446  0.128048\n",
       "99  0.228012  0.454551  0.890607  0.048429\n",
       "\n",
       "[100 rows x 4 columns]"
      ]
     },
     "execution_count": 23,
     "metadata": {},
     "output_type": "execute_result"
    }
   ],
   "source": [
    "df"
   ]
  },
  {
   "cell_type": "code",
   "execution_count": 24,
   "id": "2627a7b5",
   "metadata": {},
   "outputs": [
    {
     "data": {
      "application/vnd.plotly.v1+json": {
       "config": {
        "linkText": "Export to plot.ly",
        "plotlyServerURL": "https://plot.ly",
        "showLink": true
       },
       "data": [
        {
         "marker": {
          "color": "rgba(255, 153, 51, 0.6)",
          "line": {
           "color": "rgba(255, 153, 51, 1.0)",
           "width": 1
          }
         },
         "name": "None",
         "orientation": "v",
         "text": "",
         "type": "bar",
         "x": [
          "A",
          "B",
          "C",
          "D"
         ],
         "y": [
          46.383766363537326,
          48.372156820735796,
          47.71575450179599,
          45.46626398477318
         ]
        }
       ],
       "layout": {
        "legend": {
         "bgcolor": "#F5F6F9",
         "font": {
          "color": "#4D5663"
         }
        },
        "paper_bgcolor": "#F5F6F9",
        "plot_bgcolor": "#F5F6F9",
        "template": {
         "data": {
          "bar": [
           {
            "error_x": {
             "color": "#2a3f5f"
            },
            "error_y": {
             "color": "#2a3f5f"
            },
            "marker": {
             "line": {
              "color": "#E5ECF6",
              "width": 0.5
             },
             "pattern": {
              "fillmode": "overlay",
              "size": 10,
              "solidity": 0.2
             }
            },
            "type": "bar"
           }
          ],
          "barpolar": [
           {
            "marker": {
             "line": {
              "color": "#E5ECF6",
              "width": 0.5
             },
             "pattern": {
              "fillmode": "overlay",
              "size": 10,
              "solidity": 0.2
             }
            },
            "type": "barpolar"
           }
          ],
          "carpet": [
           {
            "aaxis": {
             "endlinecolor": "#2a3f5f",
             "gridcolor": "white",
             "linecolor": "white",
             "minorgridcolor": "white",
             "startlinecolor": "#2a3f5f"
            },
            "baxis": {
             "endlinecolor": "#2a3f5f",
             "gridcolor": "white",
             "linecolor": "white",
             "minorgridcolor": "white",
             "startlinecolor": "#2a3f5f"
            },
            "type": "carpet"
           }
          ],
          "choropleth": [
           {
            "colorbar": {
             "outlinewidth": 0,
             "ticks": ""
            },
            "type": "choropleth"
           }
          ],
          "contour": [
           {
            "colorbar": {
             "outlinewidth": 0,
             "ticks": ""
            },
            "colorscale": [
             [
              0,
              "#0d0887"
             ],
             [
              0.1111111111111111,
              "#46039f"
             ],
             [
              0.2222222222222222,
              "#7201a8"
             ],
             [
              0.3333333333333333,
              "#9c179e"
             ],
             [
              0.4444444444444444,
              "#bd3786"
             ],
             [
              0.5555555555555556,
              "#d8576b"
             ],
             [
              0.6666666666666666,
              "#ed7953"
             ],
             [
              0.7777777777777778,
              "#fb9f3a"
             ],
             [
              0.8888888888888888,
              "#fdca26"
             ],
             [
              1,
              "#f0f921"
             ]
            ],
            "type": "contour"
           }
          ],
          "contourcarpet": [
           {
            "colorbar": {
             "outlinewidth": 0,
             "ticks": ""
            },
            "type": "contourcarpet"
           }
          ],
          "heatmap": [
           {
            "colorbar": {
             "outlinewidth": 0,
             "ticks": ""
            },
            "colorscale": [
             [
              0,
              "#0d0887"
             ],
             [
              0.1111111111111111,
              "#46039f"
             ],
             [
              0.2222222222222222,
              "#7201a8"
             ],
             [
              0.3333333333333333,
              "#9c179e"
             ],
             [
              0.4444444444444444,
              "#bd3786"
             ],
             [
              0.5555555555555556,
              "#d8576b"
             ],
             [
              0.6666666666666666,
              "#ed7953"
             ],
             [
              0.7777777777777778,
              "#fb9f3a"
             ],
             [
              0.8888888888888888,
              "#fdca26"
             ],
             [
              1,
              "#f0f921"
             ]
            ],
            "type": "heatmap"
           }
          ],
          "heatmapgl": [
           {
            "colorbar": {
             "outlinewidth": 0,
             "ticks": ""
            },
            "colorscale": [
             [
              0,
              "#0d0887"
             ],
             [
              0.1111111111111111,
              "#46039f"
             ],
             [
              0.2222222222222222,
              "#7201a8"
             ],
             [
              0.3333333333333333,
              "#9c179e"
             ],
             [
              0.4444444444444444,
              "#bd3786"
             ],
             [
              0.5555555555555556,
              "#d8576b"
             ],
             [
              0.6666666666666666,
              "#ed7953"
             ],
             [
              0.7777777777777778,
              "#fb9f3a"
             ],
             [
              0.8888888888888888,
              "#fdca26"
             ],
             [
              1,
              "#f0f921"
             ]
            ],
            "type": "heatmapgl"
           }
          ],
          "histogram": [
           {
            "marker": {
             "pattern": {
              "fillmode": "overlay",
              "size": 10,
              "solidity": 0.2
             }
            },
            "type": "histogram"
           }
          ],
          "histogram2d": [
           {
            "colorbar": {
             "outlinewidth": 0,
             "ticks": ""
            },
            "colorscale": [
             [
              0,
              "#0d0887"
             ],
             [
              0.1111111111111111,
              "#46039f"
             ],
             [
              0.2222222222222222,
              "#7201a8"
             ],
             [
              0.3333333333333333,
              "#9c179e"
             ],
             [
              0.4444444444444444,
              "#bd3786"
             ],
             [
              0.5555555555555556,
              "#d8576b"
             ],
             [
              0.6666666666666666,
              "#ed7953"
             ],
             [
              0.7777777777777778,
              "#fb9f3a"
             ],
             [
              0.8888888888888888,
              "#fdca26"
             ],
             [
              1,
              "#f0f921"
             ]
            ],
            "type": "histogram2d"
           }
          ],
          "histogram2dcontour": [
           {
            "colorbar": {
             "outlinewidth": 0,
             "ticks": ""
            },
            "colorscale": [
             [
              0,
              "#0d0887"
             ],
             [
              0.1111111111111111,
              "#46039f"
             ],
             [
              0.2222222222222222,
              "#7201a8"
             ],
             [
              0.3333333333333333,
              "#9c179e"
             ],
             [
              0.4444444444444444,
              "#bd3786"
             ],
             [
              0.5555555555555556,
              "#d8576b"
             ],
             [
              0.6666666666666666,
              "#ed7953"
             ],
             [
              0.7777777777777778,
              "#fb9f3a"
             ],
             [
              0.8888888888888888,
              "#fdca26"
             ],
             [
              1,
              "#f0f921"
             ]
            ],
            "type": "histogram2dcontour"
           }
          ],
          "mesh3d": [
           {
            "colorbar": {
             "outlinewidth": 0,
             "ticks": ""
            },
            "type": "mesh3d"
           }
          ],
          "parcoords": [
           {
            "line": {
             "colorbar": {
              "outlinewidth": 0,
              "ticks": ""
             }
            },
            "type": "parcoords"
           }
          ],
          "pie": [
           {
            "automargin": true,
            "type": "pie"
           }
          ],
          "scatter": [
           {
            "marker": {
             "colorbar": {
              "outlinewidth": 0,
              "ticks": ""
             }
            },
            "type": "scatter"
           }
          ],
          "scatter3d": [
           {
            "line": {
             "colorbar": {
              "outlinewidth": 0,
              "ticks": ""
             }
            },
            "marker": {
             "colorbar": {
              "outlinewidth": 0,
              "ticks": ""
             }
            },
            "type": "scatter3d"
           }
          ],
          "scattercarpet": [
           {
            "marker": {
             "colorbar": {
              "outlinewidth": 0,
              "ticks": ""
             }
            },
            "type": "scattercarpet"
           }
          ],
          "scattergeo": [
           {
            "marker": {
             "colorbar": {
              "outlinewidth": 0,
              "ticks": ""
             }
            },
            "type": "scattergeo"
           }
          ],
          "scattergl": [
           {
            "marker": {
             "colorbar": {
              "outlinewidth": 0,
              "ticks": ""
             }
            },
            "type": "scattergl"
           }
          ],
          "scattermapbox": [
           {
            "marker": {
             "colorbar": {
              "outlinewidth": 0,
              "ticks": ""
             }
            },
            "type": "scattermapbox"
           }
          ],
          "scatterpolar": [
           {
            "marker": {
             "colorbar": {
              "outlinewidth": 0,
              "ticks": ""
             }
            },
            "type": "scatterpolar"
           }
          ],
          "scatterpolargl": [
           {
            "marker": {
             "colorbar": {
              "outlinewidth": 0,
              "ticks": ""
             }
            },
            "type": "scatterpolargl"
           }
          ],
          "scatterternary": [
           {
            "marker": {
             "colorbar": {
              "outlinewidth": 0,
              "ticks": ""
             }
            },
            "type": "scatterternary"
           }
          ],
          "surface": [
           {
            "colorbar": {
             "outlinewidth": 0,
             "ticks": ""
            },
            "colorscale": [
             [
              0,
              "#0d0887"
             ],
             [
              0.1111111111111111,
              "#46039f"
             ],
             [
              0.2222222222222222,
              "#7201a8"
             ],
             [
              0.3333333333333333,
              "#9c179e"
             ],
             [
              0.4444444444444444,
              "#bd3786"
             ],
             [
              0.5555555555555556,
              "#d8576b"
             ],
             [
              0.6666666666666666,
              "#ed7953"
             ],
             [
              0.7777777777777778,
              "#fb9f3a"
             ],
             [
              0.8888888888888888,
              "#fdca26"
             ],
             [
              1,
              "#f0f921"
             ]
            ],
            "type": "surface"
           }
          ],
          "table": [
           {
            "cells": {
             "fill": {
              "color": "#EBF0F8"
             },
             "line": {
              "color": "white"
             }
            },
            "header": {
             "fill": {
              "color": "#C8D4E3"
             },
             "line": {
              "color": "white"
             }
            },
            "type": "table"
           }
          ]
         },
         "layout": {
          "annotationdefaults": {
           "arrowcolor": "#2a3f5f",
           "arrowhead": 0,
           "arrowwidth": 1
          },
          "autotypenumbers": "strict",
          "coloraxis": {
           "colorbar": {
            "outlinewidth": 0,
            "ticks": ""
           }
          },
          "colorscale": {
           "diverging": [
            [
             0,
             "#8e0152"
            ],
            [
             0.1,
             "#c51b7d"
            ],
            [
             0.2,
             "#de77ae"
            ],
            [
             0.3,
             "#f1b6da"
            ],
            [
             0.4,
             "#fde0ef"
            ],
            [
             0.5,
             "#f7f7f7"
            ],
            [
             0.6,
             "#e6f5d0"
            ],
            [
             0.7,
             "#b8e186"
            ],
            [
             0.8,
             "#7fbc41"
            ],
            [
             0.9,
             "#4d9221"
            ],
            [
             1,
             "#276419"
            ]
           ],
           "sequential": [
            [
             0,
             "#0d0887"
            ],
            [
             0.1111111111111111,
             "#46039f"
            ],
            [
             0.2222222222222222,
             "#7201a8"
            ],
            [
             0.3333333333333333,
             "#9c179e"
            ],
            [
             0.4444444444444444,
             "#bd3786"
            ],
            [
             0.5555555555555556,
             "#d8576b"
            ],
            [
             0.6666666666666666,
             "#ed7953"
            ],
            [
             0.7777777777777778,
             "#fb9f3a"
            ],
            [
             0.8888888888888888,
             "#fdca26"
            ],
            [
             1,
             "#f0f921"
            ]
           ],
           "sequentialminus": [
            [
             0,
             "#0d0887"
            ],
            [
             0.1111111111111111,
             "#46039f"
            ],
            [
             0.2222222222222222,
             "#7201a8"
            ],
            [
             0.3333333333333333,
             "#9c179e"
            ],
            [
             0.4444444444444444,
             "#bd3786"
            ],
            [
             0.5555555555555556,
             "#d8576b"
            ],
            [
             0.6666666666666666,
             "#ed7953"
            ],
            [
             0.7777777777777778,
             "#fb9f3a"
            ],
            [
             0.8888888888888888,
             "#fdca26"
            ],
            [
             1,
             "#f0f921"
            ]
           ]
          },
          "colorway": [
           "#636efa",
           "#EF553B",
           "#00cc96",
           "#ab63fa",
           "#FFA15A",
           "#19d3f3",
           "#FF6692",
           "#B6E880",
           "#FF97FF",
           "#FECB52"
          ],
          "font": {
           "color": "#2a3f5f"
          },
          "geo": {
           "bgcolor": "white",
           "lakecolor": "white",
           "landcolor": "#E5ECF6",
           "showlakes": true,
           "showland": true,
           "subunitcolor": "white"
          },
          "hoverlabel": {
           "align": "left"
          },
          "hovermode": "closest",
          "mapbox": {
           "style": "light"
          },
          "paper_bgcolor": "white",
          "plot_bgcolor": "#E5ECF6",
          "polar": {
           "angularaxis": {
            "gridcolor": "white",
            "linecolor": "white",
            "ticks": ""
           },
           "bgcolor": "#E5ECF6",
           "radialaxis": {
            "gridcolor": "white",
            "linecolor": "white",
            "ticks": ""
           }
          },
          "scene": {
           "xaxis": {
            "backgroundcolor": "#E5ECF6",
            "gridcolor": "white",
            "gridwidth": 2,
            "linecolor": "white",
            "showbackground": true,
            "ticks": "",
            "zerolinecolor": "white"
           },
           "yaxis": {
            "backgroundcolor": "#E5ECF6",
            "gridcolor": "white",
            "gridwidth": 2,
            "linecolor": "white",
            "showbackground": true,
            "ticks": "",
            "zerolinecolor": "white"
           },
           "zaxis": {
            "backgroundcolor": "#E5ECF6",
            "gridcolor": "white",
            "gridwidth": 2,
            "linecolor": "white",
            "showbackground": true,
            "ticks": "",
            "zerolinecolor": "white"
           }
          },
          "shapedefaults": {
           "line": {
            "color": "#2a3f5f"
           }
          },
          "ternary": {
           "aaxis": {
            "gridcolor": "white",
            "linecolor": "white",
            "ticks": ""
           },
           "baxis": {
            "gridcolor": "white",
            "linecolor": "white",
            "ticks": ""
           },
           "bgcolor": "#E5ECF6",
           "caxis": {
            "gridcolor": "white",
            "linecolor": "white",
            "ticks": ""
           }
          },
          "title": {
           "x": 0.05
          },
          "xaxis": {
           "automargin": true,
           "gridcolor": "white",
           "linecolor": "white",
           "ticks": "",
           "title": {
            "standoff": 15
           },
           "zerolinecolor": "white",
           "zerolinewidth": 2
          },
          "yaxis": {
           "automargin": true,
           "gridcolor": "white",
           "linecolor": "white",
           "ticks": "",
           "title": {
            "standoff": 15
           },
           "zerolinecolor": "white",
           "zerolinewidth": 2
          }
         }
        },
        "title": {
         "font": {
          "color": "#4D5663"
         }
        },
        "xaxis": {
         "gridcolor": "#E1E5ED",
         "showgrid": true,
         "tickfont": {
          "color": "#4D5663"
         },
         "title": {
          "font": {
           "color": "#4D5663"
          },
          "text": ""
         },
         "zerolinecolor": "#E1E5ED"
        },
        "yaxis": {
         "gridcolor": "#E1E5ED",
         "showgrid": true,
         "tickfont": {
          "color": "#4D5663"
         },
         "title": {
          "font": {
           "color": "#4D5663"
          },
          "text": ""
         },
         "zerolinecolor": "#E1E5ED"
        }
       }
      },
      "text/html": [
       "<div>                            <div id=\"9767e713-7861-4a29-a37e-c83fe370e3cd\" class=\"plotly-graph-div\" style=\"height:525px; width:100%;\"></div>            <script type=\"text/javascript\">                require([\"plotly\"], function(Plotly) {                    window.PLOTLYENV=window.PLOTLYENV || {};\n",
       "                    window.PLOTLYENV.BASE_URL='https://plot.ly';                                    if (document.getElementById(\"9767e713-7861-4a29-a37e-c83fe370e3cd\")) {                    Plotly.newPlot(                        \"9767e713-7861-4a29-a37e-c83fe370e3cd\",                        [{\"marker\":{\"color\":\"rgba(255, 153, 51, 0.6)\",\"line\":{\"color\":\"rgba(255, 153, 51, 1.0)\",\"width\":1}},\"name\":\"None\",\"orientation\":\"v\",\"text\":\"\",\"type\":\"bar\",\"x\":[\"A\",\"B\",\"C\",\"D\"],\"y\":[46.383766363537326,48.372156820735796,47.71575450179599,45.46626398477318]}],                        {\"legend\":{\"bgcolor\":\"#F5F6F9\",\"font\":{\"color\":\"#4D5663\"}},\"paper_bgcolor\":\"#F5F6F9\",\"plot_bgcolor\":\"#F5F6F9\",\"template\":{\"data\":{\"bar\":[{\"error_x\":{\"color\":\"#2a3f5f\"},\"error_y\":{\"color\":\"#2a3f5f\"},\"marker\":{\"line\":{\"color\":\"#E5ECF6\",\"width\":0.5},\"pattern\":{\"fillmode\":\"overlay\",\"size\":10,\"solidity\":0.2}},\"type\":\"bar\"}],\"barpolar\":[{\"marker\":{\"line\":{\"color\":\"#E5ECF6\",\"width\":0.5},\"pattern\":{\"fillmode\":\"overlay\",\"size\":10,\"solidity\":0.2}},\"type\":\"barpolar\"}],\"carpet\":[{\"aaxis\":{\"endlinecolor\":\"#2a3f5f\",\"gridcolor\":\"white\",\"linecolor\":\"white\",\"minorgridcolor\":\"white\",\"startlinecolor\":\"#2a3f5f\"},\"baxis\":{\"endlinecolor\":\"#2a3f5f\",\"gridcolor\":\"white\",\"linecolor\":\"white\",\"minorgridcolor\":\"white\",\"startlinecolor\":\"#2a3f5f\"},\"type\":\"carpet\"}],\"choropleth\":[{\"colorbar\":{\"outlinewidth\":0,\"ticks\":\"\"},\"type\":\"choropleth\"}],\"contour\":[{\"colorbar\":{\"outlinewidth\":0,\"ticks\":\"\"},\"colorscale\":[[0.0,\"#0d0887\"],[0.1111111111111111,\"#46039f\"],[0.2222222222222222,\"#7201a8\"],[0.3333333333333333,\"#9c179e\"],[0.4444444444444444,\"#bd3786\"],[0.5555555555555556,\"#d8576b\"],[0.6666666666666666,\"#ed7953\"],[0.7777777777777778,\"#fb9f3a\"],[0.8888888888888888,\"#fdca26\"],[1.0,\"#f0f921\"]],\"type\":\"contour\"}],\"contourcarpet\":[{\"colorbar\":{\"outlinewidth\":0,\"ticks\":\"\"},\"type\":\"contourcarpet\"}],\"heatmap\":[{\"colorbar\":{\"outlinewidth\":0,\"ticks\":\"\"},\"colorscale\":[[0.0,\"#0d0887\"],[0.1111111111111111,\"#46039f\"],[0.2222222222222222,\"#7201a8\"],[0.3333333333333333,\"#9c179e\"],[0.4444444444444444,\"#bd3786\"],[0.5555555555555556,\"#d8576b\"],[0.6666666666666666,\"#ed7953\"],[0.7777777777777778,\"#fb9f3a\"],[0.8888888888888888,\"#fdca26\"],[1.0,\"#f0f921\"]],\"type\":\"heatmap\"}],\"heatmapgl\":[{\"colorbar\":{\"outlinewidth\":0,\"ticks\":\"\"},\"colorscale\":[[0.0,\"#0d0887\"],[0.1111111111111111,\"#46039f\"],[0.2222222222222222,\"#7201a8\"],[0.3333333333333333,\"#9c179e\"],[0.4444444444444444,\"#bd3786\"],[0.5555555555555556,\"#d8576b\"],[0.6666666666666666,\"#ed7953\"],[0.7777777777777778,\"#fb9f3a\"],[0.8888888888888888,\"#fdca26\"],[1.0,\"#f0f921\"]],\"type\":\"heatmapgl\"}],\"histogram\":[{\"marker\":{\"pattern\":{\"fillmode\":\"overlay\",\"size\":10,\"solidity\":0.2}},\"type\":\"histogram\"}],\"histogram2d\":[{\"colorbar\":{\"outlinewidth\":0,\"ticks\":\"\"},\"colorscale\":[[0.0,\"#0d0887\"],[0.1111111111111111,\"#46039f\"],[0.2222222222222222,\"#7201a8\"],[0.3333333333333333,\"#9c179e\"],[0.4444444444444444,\"#bd3786\"],[0.5555555555555556,\"#d8576b\"],[0.6666666666666666,\"#ed7953\"],[0.7777777777777778,\"#fb9f3a\"],[0.8888888888888888,\"#fdca26\"],[1.0,\"#f0f921\"]],\"type\":\"histogram2d\"}],\"histogram2dcontour\":[{\"colorbar\":{\"outlinewidth\":0,\"ticks\":\"\"},\"colorscale\":[[0.0,\"#0d0887\"],[0.1111111111111111,\"#46039f\"],[0.2222222222222222,\"#7201a8\"],[0.3333333333333333,\"#9c179e\"],[0.4444444444444444,\"#bd3786\"],[0.5555555555555556,\"#d8576b\"],[0.6666666666666666,\"#ed7953\"],[0.7777777777777778,\"#fb9f3a\"],[0.8888888888888888,\"#fdca26\"],[1.0,\"#f0f921\"]],\"type\":\"histogram2dcontour\"}],\"mesh3d\":[{\"colorbar\":{\"outlinewidth\":0,\"ticks\":\"\"},\"type\":\"mesh3d\"}],\"parcoords\":[{\"line\":{\"colorbar\":{\"outlinewidth\":0,\"ticks\":\"\"}},\"type\":\"parcoords\"}],\"pie\":[{\"automargin\":true,\"type\":\"pie\"}],\"scatter\":[{\"marker\":{\"colorbar\":{\"outlinewidth\":0,\"ticks\":\"\"}},\"type\":\"scatter\"}],\"scatter3d\":[{\"line\":{\"colorbar\":{\"outlinewidth\":0,\"ticks\":\"\"}},\"marker\":{\"colorbar\":{\"outlinewidth\":0,\"ticks\":\"\"}},\"type\":\"scatter3d\"}],\"scattercarpet\":[{\"marker\":{\"colorbar\":{\"outlinewidth\":0,\"ticks\":\"\"}},\"type\":\"scattercarpet\"}],\"scattergeo\":[{\"marker\":{\"colorbar\":{\"outlinewidth\":0,\"ticks\":\"\"}},\"type\":\"scattergeo\"}],\"scattergl\":[{\"marker\":{\"colorbar\":{\"outlinewidth\":0,\"ticks\":\"\"}},\"type\":\"scattergl\"}],\"scattermapbox\":[{\"marker\":{\"colorbar\":{\"outlinewidth\":0,\"ticks\":\"\"}},\"type\":\"scattermapbox\"}],\"scatterpolar\":[{\"marker\":{\"colorbar\":{\"outlinewidth\":0,\"ticks\":\"\"}},\"type\":\"scatterpolar\"}],\"scatterpolargl\":[{\"marker\":{\"colorbar\":{\"outlinewidth\":0,\"ticks\":\"\"}},\"type\":\"scatterpolargl\"}],\"scatterternary\":[{\"marker\":{\"colorbar\":{\"outlinewidth\":0,\"ticks\":\"\"}},\"type\":\"scatterternary\"}],\"surface\":[{\"colorbar\":{\"outlinewidth\":0,\"ticks\":\"\"},\"colorscale\":[[0.0,\"#0d0887\"],[0.1111111111111111,\"#46039f\"],[0.2222222222222222,\"#7201a8\"],[0.3333333333333333,\"#9c179e\"],[0.4444444444444444,\"#bd3786\"],[0.5555555555555556,\"#d8576b\"],[0.6666666666666666,\"#ed7953\"],[0.7777777777777778,\"#fb9f3a\"],[0.8888888888888888,\"#fdca26\"],[1.0,\"#f0f921\"]],\"type\":\"surface\"}],\"table\":[{\"cells\":{\"fill\":{\"color\":\"#EBF0F8\"},\"line\":{\"color\":\"white\"}},\"header\":{\"fill\":{\"color\":\"#C8D4E3\"},\"line\":{\"color\":\"white\"}},\"type\":\"table\"}]},\"layout\":{\"annotationdefaults\":{\"arrowcolor\":\"#2a3f5f\",\"arrowhead\":0,\"arrowwidth\":1},\"autotypenumbers\":\"strict\",\"coloraxis\":{\"colorbar\":{\"outlinewidth\":0,\"ticks\":\"\"}},\"colorscale\":{\"diverging\":[[0,\"#8e0152\"],[0.1,\"#c51b7d\"],[0.2,\"#de77ae\"],[0.3,\"#f1b6da\"],[0.4,\"#fde0ef\"],[0.5,\"#f7f7f7\"],[0.6,\"#e6f5d0\"],[0.7,\"#b8e186\"],[0.8,\"#7fbc41\"],[0.9,\"#4d9221\"],[1,\"#276419\"]],\"sequential\":[[0.0,\"#0d0887\"],[0.1111111111111111,\"#46039f\"],[0.2222222222222222,\"#7201a8\"],[0.3333333333333333,\"#9c179e\"],[0.4444444444444444,\"#bd3786\"],[0.5555555555555556,\"#d8576b\"],[0.6666666666666666,\"#ed7953\"],[0.7777777777777778,\"#fb9f3a\"],[0.8888888888888888,\"#fdca26\"],[1.0,\"#f0f921\"]],\"sequentialminus\":[[0.0,\"#0d0887\"],[0.1111111111111111,\"#46039f\"],[0.2222222222222222,\"#7201a8\"],[0.3333333333333333,\"#9c179e\"],[0.4444444444444444,\"#bd3786\"],[0.5555555555555556,\"#d8576b\"],[0.6666666666666666,\"#ed7953\"],[0.7777777777777778,\"#fb9f3a\"],[0.8888888888888888,\"#fdca26\"],[1.0,\"#f0f921\"]]},\"colorway\":[\"#636efa\",\"#EF553B\",\"#00cc96\",\"#ab63fa\",\"#FFA15A\",\"#19d3f3\",\"#FF6692\",\"#B6E880\",\"#FF97FF\",\"#FECB52\"],\"font\":{\"color\":\"#2a3f5f\"},\"geo\":{\"bgcolor\":\"white\",\"lakecolor\":\"white\",\"landcolor\":\"#E5ECF6\",\"showlakes\":true,\"showland\":true,\"subunitcolor\":\"white\"},\"hoverlabel\":{\"align\":\"left\"},\"hovermode\":\"closest\",\"mapbox\":{\"style\":\"light\"},\"paper_bgcolor\":\"white\",\"plot_bgcolor\":\"#E5ECF6\",\"polar\":{\"angularaxis\":{\"gridcolor\":\"white\",\"linecolor\":\"white\",\"ticks\":\"\"},\"bgcolor\":\"#E5ECF6\",\"radialaxis\":{\"gridcolor\":\"white\",\"linecolor\":\"white\",\"ticks\":\"\"}},\"scene\":{\"xaxis\":{\"backgroundcolor\":\"#E5ECF6\",\"gridcolor\":\"white\",\"gridwidth\":2,\"linecolor\":\"white\",\"showbackground\":true,\"ticks\":\"\",\"zerolinecolor\":\"white\"},\"yaxis\":{\"backgroundcolor\":\"#E5ECF6\",\"gridcolor\":\"white\",\"gridwidth\":2,\"linecolor\":\"white\",\"showbackground\":true,\"ticks\":\"\",\"zerolinecolor\":\"white\"},\"zaxis\":{\"backgroundcolor\":\"#E5ECF6\",\"gridcolor\":\"white\",\"gridwidth\":2,\"linecolor\":\"white\",\"showbackground\":true,\"ticks\":\"\",\"zerolinecolor\":\"white\"}},\"shapedefaults\":{\"line\":{\"color\":\"#2a3f5f\"}},\"ternary\":{\"aaxis\":{\"gridcolor\":\"white\",\"linecolor\":\"white\",\"ticks\":\"\"},\"baxis\":{\"gridcolor\":\"white\",\"linecolor\":\"white\",\"ticks\":\"\"},\"bgcolor\":\"#E5ECF6\",\"caxis\":{\"gridcolor\":\"white\",\"linecolor\":\"white\",\"ticks\":\"\"}},\"title\":{\"x\":0.05},\"xaxis\":{\"automargin\":true,\"gridcolor\":\"white\",\"linecolor\":\"white\",\"ticks\":\"\",\"title\":{\"standoff\":15},\"zerolinecolor\":\"white\",\"zerolinewidth\":2},\"yaxis\":{\"automargin\":true,\"gridcolor\":\"white\",\"linecolor\":\"white\",\"ticks\":\"\",\"title\":{\"standoff\":15},\"zerolinecolor\":\"white\",\"zerolinewidth\":2}}},\"title\":{\"font\":{\"color\":\"#4D5663\"}},\"xaxis\":{\"gridcolor\":\"#E1E5ED\",\"showgrid\":true,\"tickfont\":{\"color\":\"#4D5663\"},\"title\":{\"font\":{\"color\":\"#4D5663\"},\"text\":\"\"},\"zerolinecolor\":\"#E1E5ED\"},\"yaxis\":{\"gridcolor\":\"#E1E5ED\",\"showgrid\":true,\"tickfont\":{\"color\":\"#4D5663\"},\"title\":{\"font\":{\"color\":\"#4D5663\"},\"text\":\"\"},\"zerolinecolor\":\"#E1E5ED\"}},                        {\"showLink\": true, \"linkText\": \"Export to plot.ly\", \"plotlyServerURL\": \"https://plot.ly\", \"responsive\": true}                    ).then(function(){\n",
       "                            \n",
       "var gd = document.getElementById('9767e713-7861-4a29-a37e-c83fe370e3cd');\n",
       "var x = new MutationObserver(function (mutations, observer) {{\n",
       "        var display = window.getComputedStyle(gd).display;\n",
       "        if (!display || display === 'none') {{\n",
       "            console.log([gd, 'removed!']);\n",
       "            Plotly.purge(gd);\n",
       "            observer.disconnect();\n",
       "        }}\n",
       "}});\n",
       "\n",
       "// Listen for the removal of the full notebook cells\n",
       "var notebookContainer = gd.closest('#notebook-container');\n",
       "if (notebookContainer) {{\n",
       "    x.observe(notebookContainer, {childList: true});\n",
       "}}\n",
       "\n",
       "// Listen for the clearing of the current output cell\n",
       "var outputEl = gd.closest('.output');\n",
       "if (outputEl) {{\n",
       "    x.observe(outputEl, {childList: true});\n",
       "}}\n",
       "\n",
       "                        })                };                });            </script>        </div>"
      ]
     },
     "metadata": {},
     "output_type": "display_data"
    }
   ],
   "source": [
    "df.sum().iplot(kind='bar')"
   ]
  },
  {
   "cell_type": "code",
   "execution_count": 25,
   "id": "06e267c0",
   "metadata": {},
   "outputs": [
    {
     "data": {
      "application/vnd.plotly.v1+json": {
       "config": {
        "linkText": "Export to plot.ly",
        "plotlyServerURL": "https://plot.ly",
        "showLink": true
       },
       "data": [
        {
         "boxpoints": false,
         "line": {
          "width": 1.3
         },
         "marker": {
          "color": "rgba(255, 153, 51, 1.0)"
         },
         "name": "A",
         "orientation": "v",
         "type": "box",
         "y": [
          0.6874854690341766,
          0.5513974765103675,
          0.45219615905465405,
          0.3220074688721969,
          0.49848573503280835,
          0.8958082016552023,
          0.5924551606207522,
          0.019085849506069286,
          0.16849589082793093,
          0.03917191500638728,
          0.9121123388386799,
          0.23796051949259922,
          0.7258352658575087,
          0.34011954084222296,
          0.9491936521385159,
          0.15990653103289698,
          0.9754274244115759,
          0.3513871614097297,
          0.7066711673159177,
          0.6239263416350013,
          0.7027295187093794,
          0.799269947258963,
          0.33849993354535746,
          0.6301050773543084,
          0.051192931727014224,
          0.7224205087266852,
          0.4610464129486934,
          0.18313301492030254,
          0.40054735793284857,
          0.014412382101959054,
          0.5456590908441381,
          0.10855883211332473,
          0.11586655917905408,
          0.10568130158337796,
          0.9818825910553824,
          0.8617623526104413,
          0.9415055939261352,
          0.35812691402662733,
          0.6234732510966413,
          0.15305832576902845,
          0.23400930433298706,
          0.4388023440377373,
          0.09120750092250074,
          0.2590262261903984,
          0.03974027611508335,
          0.9284703344580862,
          0.6080577294722969,
          0.1012374898742957,
          0.11618317926899302,
          0.6088220366799406,
          0.11991550032916609,
          0.28278449287021923,
          0.12753378858961406,
          0.21490654709576862,
          0.7204691205883724,
          0.5518301887870176,
          0.7226709942872196,
          0.328001954785583,
          0.49011610109086257,
          0.11945543432845651,
          0.7686714245848407,
          0.8652286415169714,
          0.3387705814403654,
          0.20014342665332918,
          0.260917778080169,
          0.9954206073810935,
          0.27240193790782574,
          0.27575568228905967,
          0.30877116216175204,
          0.579622051446661,
          0.5461726196682098,
          0.6872479995752397,
          0.4276608269347526,
          0.6431573587078688,
          0.10326755653659647,
          0.021542551887952288,
          0.5826640406415982,
          0.1961995137374999,
          0.9301684925096566,
          0.35239104974070956,
          0.9269534890286317,
          0.00967037511330382,
          0.6469773371700347,
          0.08189466503482001,
          0.6470770636312277,
          0.7186538462033282,
          0.64798841147515,
          0.9390131824104669,
          0.39599019547534,
          0.4997378936919815,
          0.3979814103169699,
          0.43334068025240957,
          0.18204684784992287,
          0.9055616278589967,
          0.4950070469382203,
          0.2728325871340562,
          0.3263777289755577,
          0.9382923709357847,
          0.9228802624702013,
          0.2280123275393151
         ]
        },
        {
         "boxpoints": false,
         "line": {
          "width": 1.3
         },
         "marker": {
          "color": "rgba(55, 128, 191, 1.0)"
         },
         "name": "B",
         "orientation": "v",
         "type": "box",
         "y": [
          0.8843255679714199,
          0.4753451338820551,
          0.5564770416397901,
          0.4181370124941951,
          0.8082568964572047,
          0.0041675524322632995,
          0.7357309494209592,
          0.12236491926338045,
          0.8026430626697526,
          0.8551481461602891,
          0.9160726083915803,
          0.1948611008604485,
          0.10701810828909286,
          0.5659538314632473,
          0.006860980634156744,
          0.9230463812155936,
          0.3674568219671307,
          0.19570344085171865,
          0.4859113095727293,
          0.7788449077848387,
          0.4019894727335077,
          0.7895054616695254,
          0.950720477376916,
          0.7324935991597183,
          0.8294060719954223,
          0.6182198093766845,
          0.3101609180831728,
          0.8393311468830299,
          0.541810088608328,
          0.9808512663420359,
          0.7004636554110424,
          0.6112366152144356,
          0.7291840796906991,
          0.3664280752889001,
          0.22748883431446054,
          0.5760954477062057,
          0.056814697827563765,
          0.2644182837393171,
          0.5254839699381781,
          0.6053576784527464,
          0.7582588213806051,
          0.600899443738797,
          0.28418780384870856,
          0.7235975540666422,
          0.5248556362855886,
          0.17192615028233327,
          0.002118427862049077,
          0.10281536998752638,
          0.7699441949341121,
          0.5084122480003067,
          0.6273821881374195,
          0.5823393257132602,
          0.7747669163013711,
          0.7157246969337302,
          0.08690490847151733,
          0.9386285860148799,
          0.24252824943674178,
          0.2869278394690582,
          0.9268408784154505,
          0.45499666799956184,
          0.24128442648819093,
          0.0859334387635351,
          0.587303931632512,
          0.05725274216827514,
          0.02205346107514128,
          0.17496362033400514,
          0.8985829347769082,
          0.2567072722096292,
          0.035850198583307624,
          0.2200534368233742,
          0.9571000858043736,
          0.9737365908047143,
          0.3963828806802123,
          0.6362415350449229,
          0.15697065950891187,
          0.036360552886472775,
          0.982439271041864,
          0.07103230413276096,
          0.04406673582766252,
          0.9977258111089317,
          0.9375260641083187,
          0.5165719897735459,
          0.5328280702622757,
          0.14681397756233838,
          0.5506515843640556,
          0.18482825515656975,
          0.018811782698625823,
          0.3565744638001872,
          0.08815156772705057,
          0.3442811317469232,
          0.829660538258542,
          0.21618861100269104,
          0.3143410975104918,
          0.7634603125071553,
          0.4724020632558451,
          0.4600717513761058,
          0.1361911206485652,
          0.37637493132673405,
          0.8939930917701026,
          0.45455119567056856
         ]
        },
        {
         "boxpoints": false,
         "line": {
          "width": 1.3
         },
         "marker": {
          "color": "rgba(50, 171, 96, 1.0)"
         },
         "name": "C",
         "orientation": "v",
         "type": "box",
         "y": [
          0.2727659694171646,
          0.10013266711232538,
          0.5448327863460596,
          0.09727329894900805,
          0.2197344135623024,
          0.04214646070583883,
          0.46821889609474976,
          0.8025023567493255,
          0.01573595417142093,
          0.8039627485723932,
          0.05351035310071783,
          0.9000406066334424,
          0.037098494546418004,
          0.2629835388810038,
          0.6565807923926823,
          0.8123690081745882,
          0.09871617059775817,
          0.17238693234887326,
          0.934884113405032,
          0.34064314236757254,
          0.9115421177085139,
          0.5131761680134694,
          0.5379622467693852,
          0.284426545392087,
          0.8345670148283205,
          0.8487558681961126,
          0.5900632249409625,
          0.714154243306131,
          0.49242633777860434,
          0.5336573146516208,
          0.1453402204294264,
          0.8163375471348691,
          0.6811463764736094,
          0.6245439838334139,
          0.4894177841709727,
          0.10532400939912523,
          0.3618680768124718,
          0.32272026156317757,
          0.8433884451270447,
          0.19000243572657838,
          0.6539164107900397,
          0.9521670993114382,
          0.9987033922593445,
          0.770424395262453,
          0.5375133721748498,
          0.082381733581116,
          0.7608344269402947,
          0.008898723946493714,
          0.0495688379008824,
          0.12610535479249285,
          0.762356668150164,
          0.5806095750100767,
          0.607013446608908,
          0.9196984128010408,
          0.28276562212501666,
          0.2625431879724742,
          0.4614249618074985,
          0.17704613485673404,
          0.7868397345361017,
          0.8066783941246661,
          0.4864485987873186,
          0.6135022168649812,
          0.6273290657176195,
          0.6145518813492507,
          0.23944297122292757,
          0.8931918852211221,
          0.3798528483404081,
          0.33649416223700135,
          0.043255334208812224,
          0.553039130920302,
          0.3620196403359204,
          0.5856002401687663,
          0.6080727470900651,
          0.6777037301958364,
          0.4224623950184081,
          0.5079081085198162,
          0.43057034579573017,
          0.6902588282783292,
          0.411766731657773,
          0.4410796490087915,
          0.5088675781055102,
          0.8729896925135645,
          0.09661973445640559,
          0.7642709600505615,
          0.2637435603231273,
          0.5831670398586298,
          0.0639600760652358,
          0.6666363233039206,
          0.2797930223401284,
          0.00906139330142075,
          0.3949603726304901,
          0.33339740804984064,
          0.05697582815757041,
          0.7295051035746041,
          0.4978557217912828,
          0.8432200315712669,
          0.3665848164074931,
          0.19071377651795673,
          0.3134459169813113,
          0.8906068235198399
         ]
        },
        {
         "boxpoints": false,
         "line": {
          "width": 1.3
         },
         "marker": {
          "color": "rgba(128, 0, 128, 1.0)"
         },
         "name": "D",
         "orientation": "v",
         "type": "box",
         "y": [
          0.531294116296426,
          0.19701194010803857,
          0.36434386467679614,
          0.7458001203276531,
          0.17347779351050963,
          0.5472650332783991,
          0.20544178533742818,
          0.6562607253878838,
          0.26853162694740906,
          0.4881979053580182,
          0.5005925234679313,
          0.11531827042724174,
          0.07724001706144845,
          0.8772379707414086,
          0.32891027646901105,
          0.5437696224417293,
          0.6087019800021553,
          0.1017477381914369,
          0.7597565219358867,
          0.7075870895329108,
          0.7824508389972364,
          0.42490351579904595,
          0.44614267994536105,
          0.7371651939483885,
          0.10515654964232335,
          0.3721918184923646,
          0.4000347031993342,
          0.4811459355861514,
          0.28527624524152306,
          0.6108657981650865,
          0.11789606615592574,
          0.0277722663248563,
          0.8769255225809013,
          0.7115275938327793,
          0.11637247371244663,
          0.6664260205940643,
          0.26428574246004877,
          0.1546039499227917,
          0.7866297050243156,
          0.2640539371816679,
          0.017563027647325202,
          0.4072262393364442,
          0.14003560411484361,
          0.9173998380286212,
          0.5597047231192082,
          0.41036967448991135,
          0.9541359098140745,
          0.9902816120106191,
          0.1415037621225823,
          0.6603396390178276,
          0.6579803055591977,
          0.28293678148689194,
          0.7100677203501573,
          0.7792898210151603,
          0.8199346757081758,
          0.9942471970436231,
          0.34197956696915943,
          0.21538847491699653,
          0.24341009312576722,
          0.5295471707344911,
          0.5626079307554687,
          0.5791795721212617,
          0.4887896598370344,
          0.10556584705722183,
          0.05244441702583369,
          0.056921755072777636,
          0.34312237867599027,
          0.13814114956923884,
          0.27090922114601856,
          0.058817672507912366,
          0.7761114588567718,
          0.13401279581048786,
          0.6414201109781611,
          0.048337886591371726,
          0.4024651244047073,
          0.6151419104465695,
          0.6038409436244889,
          0.007146886921568063,
          0.1909741808633073,
          0.7552171870061412,
          0.37798713573425746,
          0.5033973090492699,
          0.5584382428813486,
          0.90021115687748,
          0.6036546937785389,
          0.14620869127019653,
          0.9077622637907194,
          0.36983232215393747,
          0.1766061217443502,
          0.42006766155659614,
          0.9945948240552664,
          0.351962390526806,
          0.8273353540020281,
          0.4065405784702987,
          0.48489755686655456,
          0.544047922177115,
          0.9107186822299095,
          0.7707004394369558,
          0.12804846560045036,
          0.048428768381344134
         ]
        }
       ],
       "layout": {
        "legend": {
         "bgcolor": "#F5F6F9",
         "font": {
          "color": "#4D5663"
         }
        },
        "paper_bgcolor": "#F5F6F9",
        "plot_bgcolor": "#F5F6F9",
        "template": {
         "data": {
          "bar": [
           {
            "error_x": {
             "color": "#2a3f5f"
            },
            "error_y": {
             "color": "#2a3f5f"
            },
            "marker": {
             "line": {
              "color": "#E5ECF6",
              "width": 0.5
             },
             "pattern": {
              "fillmode": "overlay",
              "size": 10,
              "solidity": 0.2
             }
            },
            "type": "bar"
           }
          ],
          "barpolar": [
           {
            "marker": {
             "line": {
              "color": "#E5ECF6",
              "width": 0.5
             },
             "pattern": {
              "fillmode": "overlay",
              "size": 10,
              "solidity": 0.2
             }
            },
            "type": "barpolar"
           }
          ],
          "carpet": [
           {
            "aaxis": {
             "endlinecolor": "#2a3f5f",
             "gridcolor": "white",
             "linecolor": "white",
             "minorgridcolor": "white",
             "startlinecolor": "#2a3f5f"
            },
            "baxis": {
             "endlinecolor": "#2a3f5f",
             "gridcolor": "white",
             "linecolor": "white",
             "minorgridcolor": "white",
             "startlinecolor": "#2a3f5f"
            },
            "type": "carpet"
           }
          ],
          "choropleth": [
           {
            "colorbar": {
             "outlinewidth": 0,
             "ticks": ""
            },
            "type": "choropleth"
           }
          ],
          "contour": [
           {
            "colorbar": {
             "outlinewidth": 0,
             "ticks": ""
            },
            "colorscale": [
             [
              0,
              "#0d0887"
             ],
             [
              0.1111111111111111,
              "#46039f"
             ],
             [
              0.2222222222222222,
              "#7201a8"
             ],
             [
              0.3333333333333333,
              "#9c179e"
             ],
             [
              0.4444444444444444,
              "#bd3786"
             ],
             [
              0.5555555555555556,
              "#d8576b"
             ],
             [
              0.6666666666666666,
              "#ed7953"
             ],
             [
              0.7777777777777778,
              "#fb9f3a"
             ],
             [
              0.8888888888888888,
              "#fdca26"
             ],
             [
              1,
              "#f0f921"
             ]
            ],
            "type": "contour"
           }
          ],
          "contourcarpet": [
           {
            "colorbar": {
             "outlinewidth": 0,
             "ticks": ""
            },
            "type": "contourcarpet"
           }
          ],
          "heatmap": [
           {
            "colorbar": {
             "outlinewidth": 0,
             "ticks": ""
            },
            "colorscale": [
             [
              0,
              "#0d0887"
             ],
             [
              0.1111111111111111,
              "#46039f"
             ],
             [
              0.2222222222222222,
              "#7201a8"
             ],
             [
              0.3333333333333333,
              "#9c179e"
             ],
             [
              0.4444444444444444,
              "#bd3786"
             ],
             [
              0.5555555555555556,
              "#d8576b"
             ],
             [
              0.6666666666666666,
              "#ed7953"
             ],
             [
              0.7777777777777778,
              "#fb9f3a"
             ],
             [
              0.8888888888888888,
              "#fdca26"
             ],
             [
              1,
              "#f0f921"
             ]
            ],
            "type": "heatmap"
           }
          ],
          "heatmapgl": [
           {
            "colorbar": {
             "outlinewidth": 0,
             "ticks": ""
            },
            "colorscale": [
             [
              0,
              "#0d0887"
             ],
             [
              0.1111111111111111,
              "#46039f"
             ],
             [
              0.2222222222222222,
              "#7201a8"
             ],
             [
              0.3333333333333333,
              "#9c179e"
             ],
             [
              0.4444444444444444,
              "#bd3786"
             ],
             [
              0.5555555555555556,
              "#d8576b"
             ],
             [
              0.6666666666666666,
              "#ed7953"
             ],
             [
              0.7777777777777778,
              "#fb9f3a"
             ],
             [
              0.8888888888888888,
              "#fdca26"
             ],
             [
              1,
              "#f0f921"
             ]
            ],
            "type": "heatmapgl"
           }
          ],
          "histogram": [
           {
            "marker": {
             "pattern": {
              "fillmode": "overlay",
              "size": 10,
              "solidity": 0.2
             }
            },
            "type": "histogram"
           }
          ],
          "histogram2d": [
           {
            "colorbar": {
             "outlinewidth": 0,
             "ticks": ""
            },
            "colorscale": [
             [
              0,
              "#0d0887"
             ],
             [
              0.1111111111111111,
              "#46039f"
             ],
             [
              0.2222222222222222,
              "#7201a8"
             ],
             [
              0.3333333333333333,
              "#9c179e"
             ],
             [
              0.4444444444444444,
              "#bd3786"
             ],
             [
              0.5555555555555556,
              "#d8576b"
             ],
             [
              0.6666666666666666,
              "#ed7953"
             ],
             [
              0.7777777777777778,
              "#fb9f3a"
             ],
             [
              0.8888888888888888,
              "#fdca26"
             ],
             [
              1,
              "#f0f921"
             ]
            ],
            "type": "histogram2d"
           }
          ],
          "histogram2dcontour": [
           {
            "colorbar": {
             "outlinewidth": 0,
             "ticks": ""
            },
            "colorscale": [
             [
              0,
              "#0d0887"
             ],
             [
              0.1111111111111111,
              "#46039f"
             ],
             [
              0.2222222222222222,
              "#7201a8"
             ],
             [
              0.3333333333333333,
              "#9c179e"
             ],
             [
              0.4444444444444444,
              "#bd3786"
             ],
             [
              0.5555555555555556,
              "#d8576b"
             ],
             [
              0.6666666666666666,
              "#ed7953"
             ],
             [
              0.7777777777777778,
              "#fb9f3a"
             ],
             [
              0.8888888888888888,
              "#fdca26"
             ],
             [
              1,
              "#f0f921"
             ]
            ],
            "type": "histogram2dcontour"
           }
          ],
          "mesh3d": [
           {
            "colorbar": {
             "outlinewidth": 0,
             "ticks": ""
            },
            "type": "mesh3d"
           }
          ],
          "parcoords": [
           {
            "line": {
             "colorbar": {
              "outlinewidth": 0,
              "ticks": ""
             }
            },
            "type": "parcoords"
           }
          ],
          "pie": [
           {
            "automargin": true,
            "type": "pie"
           }
          ],
          "scatter": [
           {
            "marker": {
             "colorbar": {
              "outlinewidth": 0,
              "ticks": ""
             }
            },
            "type": "scatter"
           }
          ],
          "scatter3d": [
           {
            "line": {
             "colorbar": {
              "outlinewidth": 0,
              "ticks": ""
             }
            },
            "marker": {
             "colorbar": {
              "outlinewidth": 0,
              "ticks": ""
             }
            },
            "type": "scatter3d"
           }
          ],
          "scattercarpet": [
           {
            "marker": {
             "colorbar": {
              "outlinewidth": 0,
              "ticks": ""
             }
            },
            "type": "scattercarpet"
           }
          ],
          "scattergeo": [
           {
            "marker": {
             "colorbar": {
              "outlinewidth": 0,
              "ticks": ""
             }
            },
            "type": "scattergeo"
           }
          ],
          "scattergl": [
           {
            "marker": {
             "colorbar": {
              "outlinewidth": 0,
              "ticks": ""
             }
            },
            "type": "scattergl"
           }
          ],
          "scattermapbox": [
           {
            "marker": {
             "colorbar": {
              "outlinewidth": 0,
              "ticks": ""
             }
            },
            "type": "scattermapbox"
           }
          ],
          "scatterpolar": [
           {
            "marker": {
             "colorbar": {
              "outlinewidth": 0,
              "ticks": ""
             }
            },
            "type": "scatterpolar"
           }
          ],
          "scatterpolargl": [
           {
            "marker": {
             "colorbar": {
              "outlinewidth": 0,
              "ticks": ""
             }
            },
            "type": "scatterpolargl"
           }
          ],
          "scatterternary": [
           {
            "marker": {
             "colorbar": {
              "outlinewidth": 0,
              "ticks": ""
             }
            },
            "type": "scatterternary"
           }
          ],
          "surface": [
           {
            "colorbar": {
             "outlinewidth": 0,
             "ticks": ""
            },
            "colorscale": [
             [
              0,
              "#0d0887"
             ],
             [
              0.1111111111111111,
              "#46039f"
             ],
             [
              0.2222222222222222,
              "#7201a8"
             ],
             [
              0.3333333333333333,
              "#9c179e"
             ],
             [
              0.4444444444444444,
              "#bd3786"
             ],
             [
              0.5555555555555556,
              "#d8576b"
             ],
             [
              0.6666666666666666,
              "#ed7953"
             ],
             [
              0.7777777777777778,
              "#fb9f3a"
             ],
             [
              0.8888888888888888,
              "#fdca26"
             ],
             [
              1,
              "#f0f921"
             ]
            ],
            "type": "surface"
           }
          ],
          "table": [
           {
            "cells": {
             "fill": {
              "color": "#EBF0F8"
             },
             "line": {
              "color": "white"
             }
            },
            "header": {
             "fill": {
              "color": "#C8D4E3"
             },
             "line": {
              "color": "white"
             }
            },
            "type": "table"
           }
          ]
         },
         "layout": {
          "annotationdefaults": {
           "arrowcolor": "#2a3f5f",
           "arrowhead": 0,
           "arrowwidth": 1
          },
          "autotypenumbers": "strict",
          "coloraxis": {
           "colorbar": {
            "outlinewidth": 0,
            "ticks": ""
           }
          },
          "colorscale": {
           "diverging": [
            [
             0,
             "#8e0152"
            ],
            [
             0.1,
             "#c51b7d"
            ],
            [
             0.2,
             "#de77ae"
            ],
            [
             0.3,
             "#f1b6da"
            ],
            [
             0.4,
             "#fde0ef"
            ],
            [
             0.5,
             "#f7f7f7"
            ],
            [
             0.6,
             "#e6f5d0"
            ],
            [
             0.7,
             "#b8e186"
            ],
            [
             0.8,
             "#7fbc41"
            ],
            [
             0.9,
             "#4d9221"
            ],
            [
             1,
             "#276419"
            ]
           ],
           "sequential": [
            [
             0,
             "#0d0887"
            ],
            [
             0.1111111111111111,
             "#46039f"
            ],
            [
             0.2222222222222222,
             "#7201a8"
            ],
            [
             0.3333333333333333,
             "#9c179e"
            ],
            [
             0.4444444444444444,
             "#bd3786"
            ],
            [
             0.5555555555555556,
             "#d8576b"
            ],
            [
             0.6666666666666666,
             "#ed7953"
            ],
            [
             0.7777777777777778,
             "#fb9f3a"
            ],
            [
             0.8888888888888888,
             "#fdca26"
            ],
            [
             1,
             "#f0f921"
            ]
           ],
           "sequentialminus": [
            [
             0,
             "#0d0887"
            ],
            [
             0.1111111111111111,
             "#46039f"
            ],
            [
             0.2222222222222222,
             "#7201a8"
            ],
            [
             0.3333333333333333,
             "#9c179e"
            ],
            [
             0.4444444444444444,
             "#bd3786"
            ],
            [
             0.5555555555555556,
             "#d8576b"
            ],
            [
             0.6666666666666666,
             "#ed7953"
            ],
            [
             0.7777777777777778,
             "#fb9f3a"
            ],
            [
             0.8888888888888888,
             "#fdca26"
            ],
            [
             1,
             "#f0f921"
            ]
           ]
          },
          "colorway": [
           "#636efa",
           "#EF553B",
           "#00cc96",
           "#ab63fa",
           "#FFA15A",
           "#19d3f3",
           "#FF6692",
           "#B6E880",
           "#FF97FF",
           "#FECB52"
          ],
          "font": {
           "color": "#2a3f5f"
          },
          "geo": {
           "bgcolor": "white",
           "lakecolor": "white",
           "landcolor": "#E5ECF6",
           "showlakes": true,
           "showland": true,
           "subunitcolor": "white"
          },
          "hoverlabel": {
           "align": "left"
          },
          "hovermode": "closest",
          "mapbox": {
           "style": "light"
          },
          "paper_bgcolor": "white",
          "plot_bgcolor": "#E5ECF6",
          "polar": {
           "angularaxis": {
            "gridcolor": "white",
            "linecolor": "white",
            "ticks": ""
           },
           "bgcolor": "#E5ECF6",
           "radialaxis": {
            "gridcolor": "white",
            "linecolor": "white",
            "ticks": ""
           }
          },
          "scene": {
           "xaxis": {
            "backgroundcolor": "#E5ECF6",
            "gridcolor": "white",
            "gridwidth": 2,
            "linecolor": "white",
            "showbackground": true,
            "ticks": "",
            "zerolinecolor": "white"
           },
           "yaxis": {
            "backgroundcolor": "#E5ECF6",
            "gridcolor": "white",
            "gridwidth": 2,
            "linecolor": "white",
            "showbackground": true,
            "ticks": "",
            "zerolinecolor": "white"
           },
           "zaxis": {
            "backgroundcolor": "#E5ECF6",
            "gridcolor": "white",
            "gridwidth": 2,
            "linecolor": "white",
            "showbackground": true,
            "ticks": "",
            "zerolinecolor": "white"
           }
          },
          "shapedefaults": {
           "line": {
            "color": "#2a3f5f"
           }
          },
          "ternary": {
           "aaxis": {
            "gridcolor": "white",
            "linecolor": "white",
            "ticks": ""
           },
           "baxis": {
            "gridcolor": "white",
            "linecolor": "white",
            "ticks": ""
           },
           "bgcolor": "#E5ECF6",
           "caxis": {
            "gridcolor": "white",
            "linecolor": "white",
            "ticks": ""
           }
          },
          "title": {
           "x": 0.05
          },
          "xaxis": {
           "automargin": true,
           "gridcolor": "white",
           "linecolor": "white",
           "ticks": "",
           "title": {
            "standoff": 15
           },
           "zerolinecolor": "white",
           "zerolinewidth": 2
          },
          "yaxis": {
           "automargin": true,
           "gridcolor": "white",
           "linecolor": "white",
           "ticks": "",
           "title": {
            "standoff": 15
           },
           "zerolinecolor": "white",
           "zerolinewidth": 2
          }
         }
        },
        "title": {
         "font": {
          "color": "#4D5663"
         }
        },
        "xaxis": {
         "gridcolor": "#E1E5ED",
         "showgrid": true,
         "tickfont": {
          "color": "#4D5663"
         },
         "title": {
          "font": {
           "color": "#4D5663"
          },
          "text": ""
         },
         "zerolinecolor": "#E1E5ED"
        },
        "yaxis": {
         "gridcolor": "#E1E5ED",
         "showgrid": true,
         "tickfont": {
          "color": "#4D5663"
         },
         "title": {
          "font": {
           "color": "#4D5663"
          },
          "text": ""
         },
         "zerolinecolor": "#E1E5ED"
        }
       }
      },
      "text/html": [
       "<div>                            <div id=\"28045501-adb3-414c-9ca9-5907b0cbce6a\" class=\"plotly-graph-div\" style=\"height:525px; width:100%;\"></div>            <script type=\"text/javascript\">                require([\"plotly\"], function(Plotly) {                    window.PLOTLYENV=window.PLOTLYENV || {};\n",
       "                    window.PLOTLYENV.BASE_URL='https://plot.ly';                                    if (document.getElementById(\"28045501-adb3-414c-9ca9-5907b0cbce6a\")) {                    Plotly.newPlot(                        \"28045501-adb3-414c-9ca9-5907b0cbce6a\",                        [{\"boxpoints\":false,\"line\":{\"width\":1.3},\"marker\":{\"color\":\"rgba(255, 153, 51, 1.0)\"},\"name\":\"A\",\"orientation\":\"v\",\"type\":\"box\",\"y\":[0.6874854690341766,0.5513974765103675,0.45219615905465405,0.3220074688721969,0.49848573503280835,0.8958082016552023,0.5924551606207522,0.019085849506069286,0.16849589082793093,0.03917191500638728,0.9121123388386799,0.23796051949259922,0.7258352658575087,0.34011954084222296,0.9491936521385159,0.15990653103289698,0.9754274244115759,0.3513871614097297,0.7066711673159177,0.6239263416350013,0.7027295187093794,0.799269947258963,0.33849993354535746,0.6301050773543084,0.051192931727014224,0.7224205087266852,0.4610464129486934,0.18313301492030254,0.40054735793284857,0.014412382101959054,0.5456590908441381,0.10855883211332473,0.11586655917905408,0.10568130158337796,0.9818825910553824,0.8617623526104413,0.9415055939261352,0.35812691402662733,0.6234732510966413,0.15305832576902845,0.23400930433298706,0.4388023440377373,0.09120750092250074,0.2590262261903984,0.03974027611508335,0.9284703344580862,0.6080577294722969,0.1012374898742957,0.11618317926899302,0.6088220366799406,0.11991550032916609,0.28278449287021923,0.12753378858961406,0.21490654709576862,0.7204691205883724,0.5518301887870176,0.7226709942872196,0.328001954785583,0.49011610109086257,0.11945543432845651,0.7686714245848407,0.8652286415169714,0.3387705814403654,0.20014342665332918,0.260917778080169,0.9954206073810935,0.27240193790782574,0.27575568228905967,0.30877116216175204,0.579622051446661,0.5461726196682098,0.6872479995752397,0.4276608269347526,0.6431573587078688,0.10326755653659647,0.021542551887952288,0.5826640406415982,0.1961995137374999,0.9301684925096566,0.35239104974070956,0.9269534890286317,0.00967037511330382,0.6469773371700347,0.08189466503482001,0.6470770636312277,0.7186538462033282,0.64798841147515,0.9390131824104669,0.39599019547534,0.4997378936919815,0.3979814103169699,0.43334068025240957,0.18204684784992287,0.9055616278589967,0.4950070469382203,0.2728325871340562,0.3263777289755577,0.9382923709357847,0.9228802624702013,0.2280123275393151]},{\"boxpoints\":false,\"line\":{\"width\":1.3},\"marker\":{\"color\":\"rgba(55, 128, 191, 1.0)\"},\"name\":\"B\",\"orientation\":\"v\",\"type\":\"box\",\"y\":[0.8843255679714199,0.4753451338820551,0.5564770416397901,0.4181370124941951,0.8082568964572047,0.0041675524322632995,0.7357309494209592,0.12236491926338045,0.8026430626697526,0.8551481461602891,0.9160726083915803,0.1948611008604485,0.10701810828909286,0.5659538314632473,0.006860980634156744,0.9230463812155936,0.3674568219671307,0.19570344085171865,0.4859113095727293,0.7788449077848387,0.4019894727335077,0.7895054616695254,0.950720477376916,0.7324935991597183,0.8294060719954223,0.6182198093766845,0.3101609180831728,0.8393311468830299,0.541810088608328,0.9808512663420359,0.7004636554110424,0.6112366152144356,0.7291840796906991,0.3664280752889001,0.22748883431446054,0.5760954477062057,0.056814697827563765,0.2644182837393171,0.5254839699381781,0.6053576784527464,0.7582588213806051,0.600899443738797,0.28418780384870856,0.7235975540666422,0.5248556362855886,0.17192615028233327,0.002118427862049077,0.10281536998752638,0.7699441949341121,0.5084122480003067,0.6273821881374195,0.5823393257132602,0.7747669163013711,0.7157246969337302,0.08690490847151733,0.9386285860148799,0.24252824943674178,0.2869278394690582,0.9268408784154505,0.45499666799956184,0.24128442648819093,0.0859334387635351,0.587303931632512,0.05725274216827514,0.02205346107514128,0.17496362033400514,0.8985829347769082,0.2567072722096292,0.035850198583307624,0.2200534368233742,0.9571000858043736,0.9737365908047143,0.3963828806802123,0.6362415350449229,0.15697065950891187,0.036360552886472775,0.982439271041864,0.07103230413276096,0.04406673582766252,0.9977258111089317,0.9375260641083187,0.5165719897735459,0.5328280702622757,0.14681397756233838,0.5506515843640556,0.18482825515656975,0.018811782698625823,0.3565744638001872,0.08815156772705057,0.3442811317469232,0.829660538258542,0.21618861100269104,0.3143410975104918,0.7634603125071553,0.4724020632558451,0.4600717513761058,0.1361911206485652,0.37637493132673405,0.8939930917701026,0.45455119567056856]},{\"boxpoints\":false,\"line\":{\"width\":1.3},\"marker\":{\"color\":\"rgba(50, 171, 96, 1.0)\"},\"name\":\"C\",\"orientation\":\"v\",\"type\":\"box\",\"y\":[0.2727659694171646,0.10013266711232538,0.5448327863460596,0.09727329894900805,0.2197344135623024,0.04214646070583883,0.46821889609474976,0.8025023567493255,0.01573595417142093,0.8039627485723932,0.05351035310071783,0.9000406066334424,0.037098494546418004,0.2629835388810038,0.6565807923926823,0.8123690081745882,0.09871617059775817,0.17238693234887326,0.934884113405032,0.34064314236757254,0.9115421177085139,0.5131761680134694,0.5379622467693852,0.284426545392087,0.8345670148283205,0.8487558681961126,0.5900632249409625,0.714154243306131,0.49242633777860434,0.5336573146516208,0.1453402204294264,0.8163375471348691,0.6811463764736094,0.6245439838334139,0.4894177841709727,0.10532400939912523,0.3618680768124718,0.32272026156317757,0.8433884451270447,0.19000243572657838,0.6539164107900397,0.9521670993114382,0.9987033922593445,0.770424395262453,0.5375133721748498,0.082381733581116,0.7608344269402947,0.008898723946493714,0.0495688379008824,0.12610535479249285,0.762356668150164,0.5806095750100767,0.607013446608908,0.9196984128010408,0.28276562212501666,0.2625431879724742,0.4614249618074985,0.17704613485673404,0.7868397345361017,0.8066783941246661,0.4864485987873186,0.6135022168649812,0.6273290657176195,0.6145518813492507,0.23944297122292757,0.8931918852211221,0.3798528483404081,0.33649416223700135,0.043255334208812224,0.553039130920302,0.3620196403359204,0.5856002401687663,0.6080727470900651,0.6777037301958364,0.4224623950184081,0.5079081085198162,0.43057034579573017,0.6902588282783292,0.411766731657773,0.4410796490087915,0.5088675781055102,0.8729896925135645,0.09661973445640559,0.7642709600505615,0.2637435603231273,0.5831670398586298,0.0639600760652358,0.6666363233039206,0.2797930223401284,0.00906139330142075,0.3949603726304901,0.33339740804984064,0.05697582815757041,0.7295051035746041,0.4978557217912828,0.8432200315712669,0.3665848164074931,0.19071377651795673,0.3134459169813113,0.8906068235198399]},{\"boxpoints\":false,\"line\":{\"width\":1.3},\"marker\":{\"color\":\"rgba(128, 0, 128, 1.0)\"},\"name\":\"D\",\"orientation\":\"v\",\"type\":\"box\",\"y\":[0.531294116296426,0.19701194010803857,0.36434386467679614,0.7458001203276531,0.17347779351050963,0.5472650332783991,0.20544178533742818,0.6562607253878838,0.26853162694740906,0.4881979053580182,0.5005925234679313,0.11531827042724174,0.07724001706144845,0.8772379707414086,0.32891027646901105,0.5437696224417293,0.6087019800021553,0.1017477381914369,0.7597565219358867,0.7075870895329108,0.7824508389972364,0.42490351579904595,0.44614267994536105,0.7371651939483885,0.10515654964232335,0.3721918184923646,0.4000347031993342,0.4811459355861514,0.28527624524152306,0.6108657981650865,0.11789606615592574,0.0277722663248563,0.8769255225809013,0.7115275938327793,0.11637247371244663,0.6664260205940643,0.26428574246004877,0.1546039499227917,0.7866297050243156,0.2640539371816679,0.017563027647325202,0.4072262393364442,0.14003560411484361,0.9173998380286212,0.5597047231192082,0.41036967448991135,0.9541359098140745,0.9902816120106191,0.1415037621225823,0.6603396390178276,0.6579803055591977,0.28293678148689194,0.7100677203501573,0.7792898210151603,0.8199346757081758,0.9942471970436231,0.34197956696915943,0.21538847491699653,0.24341009312576722,0.5295471707344911,0.5626079307554687,0.5791795721212617,0.4887896598370344,0.10556584705722183,0.05244441702583369,0.056921755072777636,0.34312237867599027,0.13814114956923884,0.27090922114601856,0.058817672507912366,0.7761114588567718,0.13401279581048786,0.6414201109781611,0.048337886591371726,0.4024651244047073,0.6151419104465695,0.6038409436244889,0.007146886921568063,0.1909741808633073,0.7552171870061412,0.37798713573425746,0.5033973090492699,0.5584382428813486,0.90021115687748,0.6036546937785389,0.14620869127019653,0.9077622637907194,0.36983232215393747,0.1766061217443502,0.42006766155659614,0.9945948240552664,0.351962390526806,0.8273353540020281,0.4065405784702987,0.48489755686655456,0.544047922177115,0.9107186822299095,0.7707004394369558,0.12804846560045036,0.048428768381344134]}],                        {\"legend\":{\"bgcolor\":\"#F5F6F9\",\"font\":{\"color\":\"#4D5663\"}},\"paper_bgcolor\":\"#F5F6F9\",\"plot_bgcolor\":\"#F5F6F9\",\"template\":{\"data\":{\"bar\":[{\"error_x\":{\"color\":\"#2a3f5f\"},\"error_y\":{\"color\":\"#2a3f5f\"},\"marker\":{\"line\":{\"color\":\"#E5ECF6\",\"width\":0.5},\"pattern\":{\"fillmode\":\"overlay\",\"size\":10,\"solidity\":0.2}},\"type\":\"bar\"}],\"barpolar\":[{\"marker\":{\"line\":{\"color\":\"#E5ECF6\",\"width\":0.5},\"pattern\":{\"fillmode\":\"overlay\",\"size\":10,\"solidity\":0.2}},\"type\":\"barpolar\"}],\"carpet\":[{\"aaxis\":{\"endlinecolor\":\"#2a3f5f\",\"gridcolor\":\"white\",\"linecolor\":\"white\",\"minorgridcolor\":\"white\",\"startlinecolor\":\"#2a3f5f\"},\"baxis\":{\"endlinecolor\":\"#2a3f5f\",\"gridcolor\":\"white\",\"linecolor\":\"white\",\"minorgridcolor\":\"white\",\"startlinecolor\":\"#2a3f5f\"},\"type\":\"carpet\"}],\"choropleth\":[{\"colorbar\":{\"outlinewidth\":0,\"ticks\":\"\"},\"type\":\"choropleth\"}],\"contour\":[{\"colorbar\":{\"outlinewidth\":0,\"ticks\":\"\"},\"colorscale\":[[0.0,\"#0d0887\"],[0.1111111111111111,\"#46039f\"],[0.2222222222222222,\"#7201a8\"],[0.3333333333333333,\"#9c179e\"],[0.4444444444444444,\"#bd3786\"],[0.5555555555555556,\"#d8576b\"],[0.6666666666666666,\"#ed7953\"],[0.7777777777777778,\"#fb9f3a\"],[0.8888888888888888,\"#fdca26\"],[1.0,\"#f0f921\"]],\"type\":\"contour\"}],\"contourcarpet\":[{\"colorbar\":{\"outlinewidth\":0,\"ticks\":\"\"},\"type\":\"contourcarpet\"}],\"heatmap\":[{\"colorbar\":{\"outlinewidth\":0,\"ticks\":\"\"},\"colorscale\":[[0.0,\"#0d0887\"],[0.1111111111111111,\"#46039f\"],[0.2222222222222222,\"#7201a8\"],[0.3333333333333333,\"#9c179e\"],[0.4444444444444444,\"#bd3786\"],[0.5555555555555556,\"#d8576b\"],[0.6666666666666666,\"#ed7953\"],[0.7777777777777778,\"#fb9f3a\"],[0.8888888888888888,\"#fdca26\"],[1.0,\"#f0f921\"]],\"type\":\"heatmap\"}],\"heatmapgl\":[{\"colorbar\":{\"outlinewidth\":0,\"ticks\":\"\"},\"colorscale\":[[0.0,\"#0d0887\"],[0.1111111111111111,\"#46039f\"],[0.2222222222222222,\"#7201a8\"],[0.3333333333333333,\"#9c179e\"],[0.4444444444444444,\"#bd3786\"],[0.5555555555555556,\"#d8576b\"],[0.6666666666666666,\"#ed7953\"],[0.7777777777777778,\"#fb9f3a\"],[0.8888888888888888,\"#fdca26\"],[1.0,\"#f0f921\"]],\"type\":\"heatmapgl\"}],\"histogram\":[{\"marker\":{\"pattern\":{\"fillmode\":\"overlay\",\"size\":10,\"solidity\":0.2}},\"type\":\"histogram\"}],\"histogram2d\":[{\"colorbar\":{\"outlinewidth\":0,\"ticks\":\"\"},\"colorscale\":[[0.0,\"#0d0887\"],[0.1111111111111111,\"#46039f\"],[0.2222222222222222,\"#7201a8\"],[0.3333333333333333,\"#9c179e\"],[0.4444444444444444,\"#bd3786\"],[0.5555555555555556,\"#d8576b\"],[0.6666666666666666,\"#ed7953\"],[0.7777777777777778,\"#fb9f3a\"],[0.8888888888888888,\"#fdca26\"],[1.0,\"#f0f921\"]],\"type\":\"histogram2d\"}],\"histogram2dcontour\":[{\"colorbar\":{\"outlinewidth\":0,\"ticks\":\"\"},\"colorscale\":[[0.0,\"#0d0887\"],[0.1111111111111111,\"#46039f\"],[0.2222222222222222,\"#7201a8\"],[0.3333333333333333,\"#9c179e\"],[0.4444444444444444,\"#bd3786\"],[0.5555555555555556,\"#d8576b\"],[0.6666666666666666,\"#ed7953\"],[0.7777777777777778,\"#fb9f3a\"],[0.8888888888888888,\"#fdca26\"],[1.0,\"#f0f921\"]],\"type\":\"histogram2dcontour\"}],\"mesh3d\":[{\"colorbar\":{\"outlinewidth\":0,\"ticks\":\"\"},\"type\":\"mesh3d\"}],\"parcoords\":[{\"line\":{\"colorbar\":{\"outlinewidth\":0,\"ticks\":\"\"}},\"type\":\"parcoords\"}],\"pie\":[{\"automargin\":true,\"type\":\"pie\"}],\"scatter\":[{\"marker\":{\"colorbar\":{\"outlinewidth\":0,\"ticks\":\"\"}},\"type\":\"scatter\"}],\"scatter3d\":[{\"line\":{\"colorbar\":{\"outlinewidth\":0,\"ticks\":\"\"}},\"marker\":{\"colorbar\":{\"outlinewidth\":0,\"ticks\":\"\"}},\"type\":\"scatter3d\"}],\"scattercarpet\":[{\"marker\":{\"colorbar\":{\"outlinewidth\":0,\"ticks\":\"\"}},\"type\":\"scattercarpet\"}],\"scattergeo\":[{\"marker\":{\"colorbar\":{\"outlinewidth\":0,\"ticks\":\"\"}},\"type\":\"scattergeo\"}],\"scattergl\":[{\"marker\":{\"colorbar\":{\"outlinewidth\":0,\"ticks\":\"\"}},\"type\":\"scattergl\"}],\"scattermapbox\":[{\"marker\":{\"colorbar\":{\"outlinewidth\":0,\"ticks\":\"\"}},\"type\":\"scattermapbox\"}],\"scatterpolar\":[{\"marker\":{\"colorbar\":{\"outlinewidth\":0,\"ticks\":\"\"}},\"type\":\"scatterpolar\"}],\"scatterpolargl\":[{\"marker\":{\"colorbar\":{\"outlinewidth\":0,\"ticks\":\"\"}},\"type\":\"scatterpolargl\"}],\"scatterternary\":[{\"marker\":{\"colorbar\":{\"outlinewidth\":0,\"ticks\":\"\"}},\"type\":\"scatterternary\"}],\"surface\":[{\"colorbar\":{\"outlinewidth\":0,\"ticks\":\"\"},\"colorscale\":[[0.0,\"#0d0887\"],[0.1111111111111111,\"#46039f\"],[0.2222222222222222,\"#7201a8\"],[0.3333333333333333,\"#9c179e\"],[0.4444444444444444,\"#bd3786\"],[0.5555555555555556,\"#d8576b\"],[0.6666666666666666,\"#ed7953\"],[0.7777777777777778,\"#fb9f3a\"],[0.8888888888888888,\"#fdca26\"],[1.0,\"#f0f921\"]],\"type\":\"surface\"}],\"table\":[{\"cells\":{\"fill\":{\"color\":\"#EBF0F8\"},\"line\":{\"color\":\"white\"}},\"header\":{\"fill\":{\"color\":\"#C8D4E3\"},\"line\":{\"color\":\"white\"}},\"type\":\"table\"}]},\"layout\":{\"annotationdefaults\":{\"arrowcolor\":\"#2a3f5f\",\"arrowhead\":0,\"arrowwidth\":1},\"autotypenumbers\":\"strict\",\"coloraxis\":{\"colorbar\":{\"outlinewidth\":0,\"ticks\":\"\"}},\"colorscale\":{\"diverging\":[[0,\"#8e0152\"],[0.1,\"#c51b7d\"],[0.2,\"#de77ae\"],[0.3,\"#f1b6da\"],[0.4,\"#fde0ef\"],[0.5,\"#f7f7f7\"],[0.6,\"#e6f5d0\"],[0.7,\"#b8e186\"],[0.8,\"#7fbc41\"],[0.9,\"#4d9221\"],[1,\"#276419\"]],\"sequential\":[[0.0,\"#0d0887\"],[0.1111111111111111,\"#46039f\"],[0.2222222222222222,\"#7201a8\"],[0.3333333333333333,\"#9c179e\"],[0.4444444444444444,\"#bd3786\"],[0.5555555555555556,\"#d8576b\"],[0.6666666666666666,\"#ed7953\"],[0.7777777777777778,\"#fb9f3a\"],[0.8888888888888888,\"#fdca26\"],[1.0,\"#f0f921\"]],\"sequentialminus\":[[0.0,\"#0d0887\"],[0.1111111111111111,\"#46039f\"],[0.2222222222222222,\"#7201a8\"],[0.3333333333333333,\"#9c179e\"],[0.4444444444444444,\"#bd3786\"],[0.5555555555555556,\"#d8576b\"],[0.6666666666666666,\"#ed7953\"],[0.7777777777777778,\"#fb9f3a\"],[0.8888888888888888,\"#fdca26\"],[1.0,\"#f0f921\"]]},\"colorway\":[\"#636efa\",\"#EF553B\",\"#00cc96\",\"#ab63fa\",\"#FFA15A\",\"#19d3f3\",\"#FF6692\",\"#B6E880\",\"#FF97FF\",\"#FECB52\"],\"font\":{\"color\":\"#2a3f5f\"},\"geo\":{\"bgcolor\":\"white\",\"lakecolor\":\"white\",\"landcolor\":\"#E5ECF6\",\"showlakes\":true,\"showland\":true,\"subunitcolor\":\"white\"},\"hoverlabel\":{\"align\":\"left\"},\"hovermode\":\"closest\",\"mapbox\":{\"style\":\"light\"},\"paper_bgcolor\":\"white\",\"plot_bgcolor\":\"#E5ECF6\",\"polar\":{\"angularaxis\":{\"gridcolor\":\"white\",\"linecolor\":\"white\",\"ticks\":\"\"},\"bgcolor\":\"#E5ECF6\",\"radialaxis\":{\"gridcolor\":\"white\",\"linecolor\":\"white\",\"ticks\":\"\"}},\"scene\":{\"xaxis\":{\"backgroundcolor\":\"#E5ECF6\",\"gridcolor\":\"white\",\"gridwidth\":2,\"linecolor\":\"white\",\"showbackground\":true,\"ticks\":\"\",\"zerolinecolor\":\"white\"},\"yaxis\":{\"backgroundcolor\":\"#E5ECF6\",\"gridcolor\":\"white\",\"gridwidth\":2,\"linecolor\":\"white\",\"showbackground\":true,\"ticks\":\"\",\"zerolinecolor\":\"white\"},\"zaxis\":{\"backgroundcolor\":\"#E5ECF6\",\"gridcolor\":\"white\",\"gridwidth\":2,\"linecolor\":\"white\",\"showbackground\":true,\"ticks\":\"\",\"zerolinecolor\":\"white\"}},\"shapedefaults\":{\"line\":{\"color\":\"#2a3f5f\"}},\"ternary\":{\"aaxis\":{\"gridcolor\":\"white\",\"linecolor\":\"white\",\"ticks\":\"\"},\"baxis\":{\"gridcolor\":\"white\",\"linecolor\":\"white\",\"ticks\":\"\"},\"bgcolor\":\"#E5ECF6\",\"caxis\":{\"gridcolor\":\"white\",\"linecolor\":\"white\",\"ticks\":\"\"}},\"title\":{\"x\":0.05},\"xaxis\":{\"automargin\":true,\"gridcolor\":\"white\",\"linecolor\":\"white\",\"ticks\":\"\",\"title\":{\"standoff\":15},\"zerolinecolor\":\"white\",\"zerolinewidth\":2},\"yaxis\":{\"automargin\":true,\"gridcolor\":\"white\",\"linecolor\":\"white\",\"ticks\":\"\",\"title\":{\"standoff\":15},\"zerolinecolor\":\"white\",\"zerolinewidth\":2}}},\"title\":{\"font\":{\"color\":\"#4D5663\"}},\"xaxis\":{\"gridcolor\":\"#E1E5ED\",\"showgrid\":true,\"tickfont\":{\"color\":\"#4D5663\"},\"title\":{\"font\":{\"color\":\"#4D5663\"},\"text\":\"\"},\"zerolinecolor\":\"#E1E5ED\"},\"yaxis\":{\"gridcolor\":\"#E1E5ED\",\"showgrid\":true,\"tickfont\":{\"color\":\"#4D5663\"},\"title\":{\"font\":{\"color\":\"#4D5663\"},\"text\":\"\"},\"zerolinecolor\":\"#E1E5ED\"}},                        {\"showLink\": true, \"linkText\": \"Export to plot.ly\", \"plotlyServerURL\": \"https://plot.ly\", \"responsive\": true}                    ).then(function(){\n",
       "                            \n",
       "var gd = document.getElementById('28045501-adb3-414c-9ca9-5907b0cbce6a');\n",
       "var x = new MutationObserver(function (mutations, observer) {{\n",
       "        var display = window.getComputedStyle(gd).display;\n",
       "        if (!display || display === 'none') {{\n",
       "            console.log([gd, 'removed!']);\n",
       "            Plotly.purge(gd);\n",
       "            observer.disconnect();\n",
       "        }}\n",
       "}});\n",
       "\n",
       "// Listen for the removal of the full notebook cells\n",
       "var notebookContainer = gd.closest('#notebook-container');\n",
       "if (notebookContainer) {{\n",
       "    x.observe(notebookContainer, {childList: true});\n",
       "}}\n",
       "\n",
       "// Listen for the clearing of the current output cell\n",
       "var outputEl = gd.closest('.output');\n",
       "if (outputEl) {{\n",
       "    x.observe(outputEl, {childList: true});\n",
       "}}\n",
       "\n",
       "                        })                };                });            </script>        </div>"
      ]
     },
     "metadata": {},
     "output_type": "display_data"
    }
   ],
   "source": [
    "df.iplot(kind='box')"
   ]
  },
  {
   "cell_type": "code",
   "execution_count": 29,
   "id": "4817729f",
   "metadata": {},
   "outputs": [],
   "source": [
    "df3 = pd.DataFrame({'x':[1,2,3,4,5],'y':[10,20,30,20,10],'z':[5,4,3,2,1]})"
   ]
  },
  {
   "cell_type": "code",
   "execution_count": 30,
   "id": "48720398",
   "metadata": {
    "scrolled": true
   },
   "outputs": [
    {
     "data": {
      "text/html": [
       "<div>\n",
       "<style scoped>\n",
       "    .dataframe tbody tr th:only-of-type {\n",
       "        vertical-align: middle;\n",
       "    }\n",
       "\n",
       "    .dataframe tbody tr th {\n",
       "        vertical-align: top;\n",
       "    }\n",
       "\n",
       "    .dataframe thead th {\n",
       "        text-align: right;\n",
       "    }\n",
       "</style>\n",
       "<table border=\"1\" class=\"dataframe\">\n",
       "  <thead>\n",
       "    <tr style=\"text-align: right;\">\n",
       "      <th></th>\n",
       "      <th>x</th>\n",
       "      <th>y</th>\n",
       "      <th>z</th>\n",
       "    </tr>\n",
       "  </thead>\n",
       "  <tbody>\n",
       "    <tr>\n",
       "      <th>0</th>\n",
       "      <td>1</td>\n",
       "      <td>10</td>\n",
       "      <td>5</td>\n",
       "    </tr>\n",
       "    <tr>\n",
       "      <th>1</th>\n",
       "      <td>2</td>\n",
       "      <td>20</td>\n",
       "      <td>4</td>\n",
       "    </tr>\n",
       "    <tr>\n",
       "      <th>2</th>\n",
       "      <td>3</td>\n",
       "      <td>30</td>\n",
       "      <td>3</td>\n",
       "    </tr>\n",
       "    <tr>\n",
       "      <th>3</th>\n",
       "      <td>4</td>\n",
       "      <td>20</td>\n",
       "      <td>2</td>\n",
       "    </tr>\n",
       "    <tr>\n",
       "      <th>4</th>\n",
       "      <td>5</td>\n",
       "      <td>10</td>\n",
       "      <td>1</td>\n",
       "    </tr>\n",
       "  </tbody>\n",
       "</table>\n",
       "</div>"
      ],
      "text/plain": [
       "   x   y  z\n",
       "0  1  10  5\n",
       "1  2  20  4\n",
       "2  3  30  3\n",
       "3  4  20  2\n",
       "4  5  10  1"
      ]
     },
     "execution_count": 30,
     "metadata": {},
     "output_type": "execute_result"
    }
   ],
   "source": [
    "df3"
   ]
  },
  {
   "cell_type": "code",
   "execution_count": 32,
   "id": "dc6c3363",
   "metadata": {},
   "outputs": [
    {
     "data": {
      "application/vnd.plotly.v1+json": {
       "config": {
        "linkText": "Export to plot.ly",
        "plotlyServerURL": "https://plot.ly",
        "showLink": true
       },
       "data": [
        {
         "colorscale": [
          [
           0,
           "rgb(165,0,38)"
          ],
          [
           0.1,
           "rgb(215,48,39)"
          ],
          [
           0.2,
           "rgb(244,109,67)"
          ],
          [
           0.3,
           "rgb(253,174,97)"
          ],
          [
           0.4,
           "rgb(254,224,144)"
          ],
          [
           0.5,
           "rgb(255,255,191)"
          ],
          [
           0.6,
           "rgb(224,243,248)"
          ],
          [
           0.7,
           "rgb(171,217,233)"
          ],
          [
           0.8,
           "rgb(116,173,209)"
          ],
          [
           0.9,
           "rgb(69,117,180)"
          ],
          [
           1,
           "rgb(49,54,149)"
          ]
         ],
         "type": "surface",
         "x": [
          0,
          1,
          2,
          3,
          4
         ],
         "y": [
          "x",
          "y",
          "z"
         ],
         "z": [
          [
           1,
           2,
           3,
           4,
           5
          ],
          [
           10,
           20,
           30,
           20,
           10
          ],
          [
           5,
           4,
           3,
           2,
           1
          ]
         ]
        }
       ],
       "layout": {
        "legend": {
         "bgcolor": "#F5F6F9",
         "font": {
          "color": "#4D5663"
         }
        },
        "paper_bgcolor": "#F5F6F9",
        "plot_bgcolor": "#F5F6F9",
        "template": {
         "data": {
          "bar": [
           {
            "error_x": {
             "color": "#2a3f5f"
            },
            "error_y": {
             "color": "#2a3f5f"
            },
            "marker": {
             "line": {
              "color": "#E5ECF6",
              "width": 0.5
             },
             "pattern": {
              "fillmode": "overlay",
              "size": 10,
              "solidity": 0.2
             }
            },
            "type": "bar"
           }
          ],
          "barpolar": [
           {
            "marker": {
             "line": {
              "color": "#E5ECF6",
              "width": 0.5
             },
             "pattern": {
              "fillmode": "overlay",
              "size": 10,
              "solidity": 0.2
             }
            },
            "type": "barpolar"
           }
          ],
          "carpet": [
           {
            "aaxis": {
             "endlinecolor": "#2a3f5f",
             "gridcolor": "white",
             "linecolor": "white",
             "minorgridcolor": "white",
             "startlinecolor": "#2a3f5f"
            },
            "baxis": {
             "endlinecolor": "#2a3f5f",
             "gridcolor": "white",
             "linecolor": "white",
             "minorgridcolor": "white",
             "startlinecolor": "#2a3f5f"
            },
            "type": "carpet"
           }
          ],
          "choropleth": [
           {
            "colorbar": {
             "outlinewidth": 0,
             "ticks": ""
            },
            "type": "choropleth"
           }
          ],
          "contour": [
           {
            "colorbar": {
             "outlinewidth": 0,
             "ticks": ""
            },
            "colorscale": [
             [
              0,
              "#0d0887"
             ],
             [
              0.1111111111111111,
              "#46039f"
             ],
             [
              0.2222222222222222,
              "#7201a8"
             ],
             [
              0.3333333333333333,
              "#9c179e"
             ],
             [
              0.4444444444444444,
              "#bd3786"
             ],
             [
              0.5555555555555556,
              "#d8576b"
             ],
             [
              0.6666666666666666,
              "#ed7953"
             ],
             [
              0.7777777777777778,
              "#fb9f3a"
             ],
             [
              0.8888888888888888,
              "#fdca26"
             ],
             [
              1,
              "#f0f921"
             ]
            ],
            "type": "contour"
           }
          ],
          "contourcarpet": [
           {
            "colorbar": {
             "outlinewidth": 0,
             "ticks": ""
            },
            "type": "contourcarpet"
           }
          ],
          "heatmap": [
           {
            "colorbar": {
             "outlinewidth": 0,
             "ticks": ""
            },
            "colorscale": [
             [
              0,
              "#0d0887"
             ],
             [
              0.1111111111111111,
              "#46039f"
             ],
             [
              0.2222222222222222,
              "#7201a8"
             ],
             [
              0.3333333333333333,
              "#9c179e"
             ],
             [
              0.4444444444444444,
              "#bd3786"
             ],
             [
              0.5555555555555556,
              "#d8576b"
             ],
             [
              0.6666666666666666,
              "#ed7953"
             ],
             [
              0.7777777777777778,
              "#fb9f3a"
             ],
             [
              0.8888888888888888,
              "#fdca26"
             ],
             [
              1,
              "#f0f921"
             ]
            ],
            "type": "heatmap"
           }
          ],
          "heatmapgl": [
           {
            "colorbar": {
             "outlinewidth": 0,
             "ticks": ""
            },
            "colorscale": [
             [
              0,
              "#0d0887"
             ],
             [
              0.1111111111111111,
              "#46039f"
             ],
             [
              0.2222222222222222,
              "#7201a8"
             ],
             [
              0.3333333333333333,
              "#9c179e"
             ],
             [
              0.4444444444444444,
              "#bd3786"
             ],
             [
              0.5555555555555556,
              "#d8576b"
             ],
             [
              0.6666666666666666,
              "#ed7953"
             ],
             [
              0.7777777777777778,
              "#fb9f3a"
             ],
             [
              0.8888888888888888,
              "#fdca26"
             ],
             [
              1,
              "#f0f921"
             ]
            ],
            "type": "heatmapgl"
           }
          ],
          "histogram": [
           {
            "marker": {
             "pattern": {
              "fillmode": "overlay",
              "size": 10,
              "solidity": 0.2
             }
            },
            "type": "histogram"
           }
          ],
          "histogram2d": [
           {
            "colorbar": {
             "outlinewidth": 0,
             "ticks": ""
            },
            "colorscale": [
             [
              0,
              "#0d0887"
             ],
             [
              0.1111111111111111,
              "#46039f"
             ],
             [
              0.2222222222222222,
              "#7201a8"
             ],
             [
              0.3333333333333333,
              "#9c179e"
             ],
             [
              0.4444444444444444,
              "#bd3786"
             ],
             [
              0.5555555555555556,
              "#d8576b"
             ],
             [
              0.6666666666666666,
              "#ed7953"
             ],
             [
              0.7777777777777778,
              "#fb9f3a"
             ],
             [
              0.8888888888888888,
              "#fdca26"
             ],
             [
              1,
              "#f0f921"
             ]
            ],
            "type": "histogram2d"
           }
          ],
          "histogram2dcontour": [
           {
            "colorbar": {
             "outlinewidth": 0,
             "ticks": ""
            },
            "colorscale": [
             [
              0,
              "#0d0887"
             ],
             [
              0.1111111111111111,
              "#46039f"
             ],
             [
              0.2222222222222222,
              "#7201a8"
             ],
             [
              0.3333333333333333,
              "#9c179e"
             ],
             [
              0.4444444444444444,
              "#bd3786"
             ],
             [
              0.5555555555555556,
              "#d8576b"
             ],
             [
              0.6666666666666666,
              "#ed7953"
             ],
             [
              0.7777777777777778,
              "#fb9f3a"
             ],
             [
              0.8888888888888888,
              "#fdca26"
             ],
             [
              1,
              "#f0f921"
             ]
            ],
            "type": "histogram2dcontour"
           }
          ],
          "mesh3d": [
           {
            "colorbar": {
             "outlinewidth": 0,
             "ticks": ""
            },
            "type": "mesh3d"
           }
          ],
          "parcoords": [
           {
            "line": {
             "colorbar": {
              "outlinewidth": 0,
              "ticks": ""
             }
            },
            "type": "parcoords"
           }
          ],
          "pie": [
           {
            "automargin": true,
            "type": "pie"
           }
          ],
          "scatter": [
           {
            "marker": {
             "colorbar": {
              "outlinewidth": 0,
              "ticks": ""
             }
            },
            "type": "scatter"
           }
          ],
          "scatter3d": [
           {
            "line": {
             "colorbar": {
              "outlinewidth": 0,
              "ticks": ""
             }
            },
            "marker": {
             "colorbar": {
              "outlinewidth": 0,
              "ticks": ""
             }
            },
            "type": "scatter3d"
           }
          ],
          "scattercarpet": [
           {
            "marker": {
             "colorbar": {
              "outlinewidth": 0,
              "ticks": ""
             }
            },
            "type": "scattercarpet"
           }
          ],
          "scattergeo": [
           {
            "marker": {
             "colorbar": {
              "outlinewidth": 0,
              "ticks": ""
             }
            },
            "type": "scattergeo"
           }
          ],
          "scattergl": [
           {
            "marker": {
             "colorbar": {
              "outlinewidth": 0,
              "ticks": ""
             }
            },
            "type": "scattergl"
           }
          ],
          "scattermapbox": [
           {
            "marker": {
             "colorbar": {
              "outlinewidth": 0,
              "ticks": ""
             }
            },
            "type": "scattermapbox"
           }
          ],
          "scatterpolar": [
           {
            "marker": {
             "colorbar": {
              "outlinewidth": 0,
              "ticks": ""
             }
            },
            "type": "scatterpolar"
           }
          ],
          "scatterpolargl": [
           {
            "marker": {
             "colorbar": {
              "outlinewidth": 0,
              "ticks": ""
             }
            },
            "type": "scatterpolargl"
           }
          ],
          "scatterternary": [
           {
            "marker": {
             "colorbar": {
              "outlinewidth": 0,
              "ticks": ""
             }
            },
            "type": "scatterternary"
           }
          ],
          "surface": [
           {
            "colorbar": {
             "outlinewidth": 0,
             "ticks": ""
            },
            "colorscale": [
             [
              0,
              "#0d0887"
             ],
             [
              0.1111111111111111,
              "#46039f"
             ],
             [
              0.2222222222222222,
              "#7201a8"
             ],
             [
              0.3333333333333333,
              "#9c179e"
             ],
             [
              0.4444444444444444,
              "#bd3786"
             ],
             [
              0.5555555555555556,
              "#d8576b"
             ],
             [
              0.6666666666666666,
              "#ed7953"
             ],
             [
              0.7777777777777778,
              "#fb9f3a"
             ],
             [
              0.8888888888888888,
              "#fdca26"
             ],
             [
              1,
              "#f0f921"
             ]
            ],
            "type": "surface"
           }
          ],
          "table": [
           {
            "cells": {
             "fill": {
              "color": "#EBF0F8"
             },
             "line": {
              "color": "white"
             }
            },
            "header": {
             "fill": {
              "color": "#C8D4E3"
             },
             "line": {
              "color": "white"
             }
            },
            "type": "table"
           }
          ]
         },
         "layout": {
          "annotationdefaults": {
           "arrowcolor": "#2a3f5f",
           "arrowhead": 0,
           "arrowwidth": 1
          },
          "autotypenumbers": "strict",
          "coloraxis": {
           "colorbar": {
            "outlinewidth": 0,
            "ticks": ""
           }
          },
          "colorscale": {
           "diverging": [
            [
             0,
             "#8e0152"
            ],
            [
             0.1,
             "#c51b7d"
            ],
            [
             0.2,
             "#de77ae"
            ],
            [
             0.3,
             "#f1b6da"
            ],
            [
             0.4,
             "#fde0ef"
            ],
            [
             0.5,
             "#f7f7f7"
            ],
            [
             0.6,
             "#e6f5d0"
            ],
            [
             0.7,
             "#b8e186"
            ],
            [
             0.8,
             "#7fbc41"
            ],
            [
             0.9,
             "#4d9221"
            ],
            [
             1,
             "#276419"
            ]
           ],
           "sequential": [
            [
             0,
             "#0d0887"
            ],
            [
             0.1111111111111111,
             "#46039f"
            ],
            [
             0.2222222222222222,
             "#7201a8"
            ],
            [
             0.3333333333333333,
             "#9c179e"
            ],
            [
             0.4444444444444444,
             "#bd3786"
            ],
            [
             0.5555555555555556,
             "#d8576b"
            ],
            [
             0.6666666666666666,
             "#ed7953"
            ],
            [
             0.7777777777777778,
             "#fb9f3a"
            ],
            [
             0.8888888888888888,
             "#fdca26"
            ],
            [
             1,
             "#f0f921"
            ]
           ],
           "sequentialminus": [
            [
             0,
             "#0d0887"
            ],
            [
             0.1111111111111111,
             "#46039f"
            ],
            [
             0.2222222222222222,
             "#7201a8"
            ],
            [
             0.3333333333333333,
             "#9c179e"
            ],
            [
             0.4444444444444444,
             "#bd3786"
            ],
            [
             0.5555555555555556,
             "#d8576b"
            ],
            [
             0.6666666666666666,
             "#ed7953"
            ],
            [
             0.7777777777777778,
             "#fb9f3a"
            ],
            [
             0.8888888888888888,
             "#fdca26"
            ],
            [
             1,
             "#f0f921"
            ]
           ]
          },
          "colorway": [
           "#636efa",
           "#EF553B",
           "#00cc96",
           "#ab63fa",
           "#FFA15A",
           "#19d3f3",
           "#FF6692",
           "#B6E880",
           "#FF97FF",
           "#FECB52"
          ],
          "font": {
           "color": "#2a3f5f"
          },
          "geo": {
           "bgcolor": "white",
           "lakecolor": "white",
           "landcolor": "#E5ECF6",
           "showlakes": true,
           "showland": true,
           "subunitcolor": "white"
          },
          "hoverlabel": {
           "align": "left"
          },
          "hovermode": "closest",
          "mapbox": {
           "style": "light"
          },
          "paper_bgcolor": "white",
          "plot_bgcolor": "#E5ECF6",
          "polar": {
           "angularaxis": {
            "gridcolor": "white",
            "linecolor": "white",
            "ticks": ""
           },
           "bgcolor": "#E5ECF6",
           "radialaxis": {
            "gridcolor": "white",
            "linecolor": "white",
            "ticks": ""
           }
          },
          "scene": {
           "xaxis": {
            "backgroundcolor": "#E5ECF6",
            "gridcolor": "white",
            "gridwidth": 2,
            "linecolor": "white",
            "showbackground": true,
            "ticks": "",
            "zerolinecolor": "white"
           },
           "yaxis": {
            "backgroundcolor": "#E5ECF6",
            "gridcolor": "white",
            "gridwidth": 2,
            "linecolor": "white",
            "showbackground": true,
            "ticks": "",
            "zerolinecolor": "white"
           },
           "zaxis": {
            "backgroundcolor": "#E5ECF6",
            "gridcolor": "white",
            "gridwidth": 2,
            "linecolor": "white",
            "showbackground": true,
            "ticks": "",
            "zerolinecolor": "white"
           }
          },
          "shapedefaults": {
           "line": {
            "color": "#2a3f5f"
           }
          },
          "ternary": {
           "aaxis": {
            "gridcolor": "white",
            "linecolor": "white",
            "ticks": ""
           },
           "baxis": {
            "gridcolor": "white",
            "linecolor": "white",
            "ticks": ""
           },
           "bgcolor": "#E5ECF6",
           "caxis": {
            "gridcolor": "white",
            "linecolor": "white",
            "ticks": ""
           }
          },
          "title": {
           "x": 0.05
          },
          "xaxis": {
           "automargin": true,
           "gridcolor": "white",
           "linecolor": "white",
           "ticks": "",
           "title": {
            "standoff": 15
           },
           "zerolinecolor": "white",
           "zerolinewidth": 2
          },
          "yaxis": {
           "automargin": true,
           "gridcolor": "white",
           "linecolor": "white",
           "ticks": "",
           "title": {
            "standoff": 15
           },
           "zerolinecolor": "white",
           "zerolinewidth": 2
          }
         }
        },
        "title": {
         "font": {
          "color": "#4D5663"
         }
        },
        "xaxis": {
         "gridcolor": "#E1E5ED",
         "showgrid": true,
         "tickfont": {
          "color": "#4D5663"
         },
         "title": {
          "font": {
           "color": "#4D5663"
          },
          "text": ""
         },
         "zerolinecolor": "#E1E5ED"
        },
        "yaxis": {
         "gridcolor": "#E1E5ED",
         "showgrid": true,
         "tickfont": {
          "color": "#4D5663"
         },
         "title": {
          "font": {
           "color": "#4D5663"
          },
          "text": ""
         },
         "zerolinecolor": "#E1E5ED"
        }
       }
      },
      "text/html": [
       "<div>                            <div id=\"639d5ffb-3ea7-4369-b04b-f5a0816a11d7\" class=\"plotly-graph-div\" style=\"height:525px; width:100%;\"></div>            <script type=\"text/javascript\">                require([\"plotly\"], function(Plotly) {                    window.PLOTLYENV=window.PLOTLYENV || {};\n",
       "                    window.PLOTLYENV.BASE_URL='https://plot.ly';                                    if (document.getElementById(\"639d5ffb-3ea7-4369-b04b-f5a0816a11d7\")) {                    Plotly.newPlot(                        \"639d5ffb-3ea7-4369-b04b-f5a0816a11d7\",                        [{\"colorscale\":[[0.0,\"rgb(165,0,38)\"],[0.1,\"rgb(215,48,39)\"],[0.2,\"rgb(244,109,67)\"],[0.3,\"rgb(253,174,97)\"],[0.4,\"rgb(254,224,144)\"],[0.5,\"rgb(255,255,191)\"],[0.6,\"rgb(224,243,248)\"],[0.7,\"rgb(171,217,233)\"],[0.8,\"rgb(116,173,209)\"],[0.9,\"rgb(69,117,180)\"],[1.0,\"rgb(49,54,149)\"]],\"type\":\"surface\",\"x\":[0,1,2,3,4],\"y\":[\"x\",\"y\",\"z\"],\"z\":[[1,2,3,4,5],[10,20,30,20,10],[5,4,3,2,1]]}],                        {\"legend\":{\"bgcolor\":\"#F5F6F9\",\"font\":{\"color\":\"#4D5663\"}},\"paper_bgcolor\":\"#F5F6F9\",\"plot_bgcolor\":\"#F5F6F9\",\"template\":{\"data\":{\"bar\":[{\"error_x\":{\"color\":\"#2a3f5f\"},\"error_y\":{\"color\":\"#2a3f5f\"},\"marker\":{\"line\":{\"color\":\"#E5ECF6\",\"width\":0.5},\"pattern\":{\"fillmode\":\"overlay\",\"size\":10,\"solidity\":0.2}},\"type\":\"bar\"}],\"barpolar\":[{\"marker\":{\"line\":{\"color\":\"#E5ECF6\",\"width\":0.5},\"pattern\":{\"fillmode\":\"overlay\",\"size\":10,\"solidity\":0.2}},\"type\":\"barpolar\"}],\"carpet\":[{\"aaxis\":{\"endlinecolor\":\"#2a3f5f\",\"gridcolor\":\"white\",\"linecolor\":\"white\",\"minorgridcolor\":\"white\",\"startlinecolor\":\"#2a3f5f\"},\"baxis\":{\"endlinecolor\":\"#2a3f5f\",\"gridcolor\":\"white\",\"linecolor\":\"white\",\"minorgridcolor\":\"white\",\"startlinecolor\":\"#2a3f5f\"},\"type\":\"carpet\"}],\"choropleth\":[{\"colorbar\":{\"outlinewidth\":0,\"ticks\":\"\"},\"type\":\"choropleth\"}],\"contour\":[{\"colorbar\":{\"outlinewidth\":0,\"ticks\":\"\"},\"colorscale\":[[0.0,\"#0d0887\"],[0.1111111111111111,\"#46039f\"],[0.2222222222222222,\"#7201a8\"],[0.3333333333333333,\"#9c179e\"],[0.4444444444444444,\"#bd3786\"],[0.5555555555555556,\"#d8576b\"],[0.6666666666666666,\"#ed7953\"],[0.7777777777777778,\"#fb9f3a\"],[0.8888888888888888,\"#fdca26\"],[1.0,\"#f0f921\"]],\"type\":\"contour\"}],\"contourcarpet\":[{\"colorbar\":{\"outlinewidth\":0,\"ticks\":\"\"},\"type\":\"contourcarpet\"}],\"heatmap\":[{\"colorbar\":{\"outlinewidth\":0,\"ticks\":\"\"},\"colorscale\":[[0.0,\"#0d0887\"],[0.1111111111111111,\"#46039f\"],[0.2222222222222222,\"#7201a8\"],[0.3333333333333333,\"#9c179e\"],[0.4444444444444444,\"#bd3786\"],[0.5555555555555556,\"#d8576b\"],[0.6666666666666666,\"#ed7953\"],[0.7777777777777778,\"#fb9f3a\"],[0.8888888888888888,\"#fdca26\"],[1.0,\"#f0f921\"]],\"type\":\"heatmap\"}],\"heatmapgl\":[{\"colorbar\":{\"outlinewidth\":0,\"ticks\":\"\"},\"colorscale\":[[0.0,\"#0d0887\"],[0.1111111111111111,\"#46039f\"],[0.2222222222222222,\"#7201a8\"],[0.3333333333333333,\"#9c179e\"],[0.4444444444444444,\"#bd3786\"],[0.5555555555555556,\"#d8576b\"],[0.6666666666666666,\"#ed7953\"],[0.7777777777777778,\"#fb9f3a\"],[0.8888888888888888,\"#fdca26\"],[1.0,\"#f0f921\"]],\"type\":\"heatmapgl\"}],\"histogram\":[{\"marker\":{\"pattern\":{\"fillmode\":\"overlay\",\"size\":10,\"solidity\":0.2}},\"type\":\"histogram\"}],\"histogram2d\":[{\"colorbar\":{\"outlinewidth\":0,\"ticks\":\"\"},\"colorscale\":[[0.0,\"#0d0887\"],[0.1111111111111111,\"#46039f\"],[0.2222222222222222,\"#7201a8\"],[0.3333333333333333,\"#9c179e\"],[0.4444444444444444,\"#bd3786\"],[0.5555555555555556,\"#d8576b\"],[0.6666666666666666,\"#ed7953\"],[0.7777777777777778,\"#fb9f3a\"],[0.8888888888888888,\"#fdca26\"],[1.0,\"#f0f921\"]],\"type\":\"histogram2d\"}],\"histogram2dcontour\":[{\"colorbar\":{\"outlinewidth\":0,\"ticks\":\"\"},\"colorscale\":[[0.0,\"#0d0887\"],[0.1111111111111111,\"#46039f\"],[0.2222222222222222,\"#7201a8\"],[0.3333333333333333,\"#9c179e\"],[0.4444444444444444,\"#bd3786\"],[0.5555555555555556,\"#d8576b\"],[0.6666666666666666,\"#ed7953\"],[0.7777777777777778,\"#fb9f3a\"],[0.8888888888888888,\"#fdca26\"],[1.0,\"#f0f921\"]],\"type\":\"histogram2dcontour\"}],\"mesh3d\":[{\"colorbar\":{\"outlinewidth\":0,\"ticks\":\"\"},\"type\":\"mesh3d\"}],\"parcoords\":[{\"line\":{\"colorbar\":{\"outlinewidth\":0,\"ticks\":\"\"}},\"type\":\"parcoords\"}],\"pie\":[{\"automargin\":true,\"type\":\"pie\"}],\"scatter\":[{\"marker\":{\"colorbar\":{\"outlinewidth\":0,\"ticks\":\"\"}},\"type\":\"scatter\"}],\"scatter3d\":[{\"line\":{\"colorbar\":{\"outlinewidth\":0,\"ticks\":\"\"}},\"marker\":{\"colorbar\":{\"outlinewidth\":0,\"ticks\":\"\"}},\"type\":\"scatter3d\"}],\"scattercarpet\":[{\"marker\":{\"colorbar\":{\"outlinewidth\":0,\"ticks\":\"\"}},\"type\":\"scattercarpet\"}],\"scattergeo\":[{\"marker\":{\"colorbar\":{\"outlinewidth\":0,\"ticks\":\"\"}},\"type\":\"scattergeo\"}],\"scattergl\":[{\"marker\":{\"colorbar\":{\"outlinewidth\":0,\"ticks\":\"\"}},\"type\":\"scattergl\"}],\"scattermapbox\":[{\"marker\":{\"colorbar\":{\"outlinewidth\":0,\"ticks\":\"\"}},\"type\":\"scattermapbox\"}],\"scatterpolar\":[{\"marker\":{\"colorbar\":{\"outlinewidth\":0,\"ticks\":\"\"}},\"type\":\"scatterpolar\"}],\"scatterpolargl\":[{\"marker\":{\"colorbar\":{\"outlinewidth\":0,\"ticks\":\"\"}},\"type\":\"scatterpolargl\"}],\"scatterternary\":[{\"marker\":{\"colorbar\":{\"outlinewidth\":0,\"ticks\":\"\"}},\"type\":\"scatterternary\"}],\"surface\":[{\"colorbar\":{\"outlinewidth\":0,\"ticks\":\"\"},\"colorscale\":[[0.0,\"#0d0887\"],[0.1111111111111111,\"#46039f\"],[0.2222222222222222,\"#7201a8\"],[0.3333333333333333,\"#9c179e\"],[0.4444444444444444,\"#bd3786\"],[0.5555555555555556,\"#d8576b\"],[0.6666666666666666,\"#ed7953\"],[0.7777777777777778,\"#fb9f3a\"],[0.8888888888888888,\"#fdca26\"],[1.0,\"#f0f921\"]],\"type\":\"surface\"}],\"table\":[{\"cells\":{\"fill\":{\"color\":\"#EBF0F8\"},\"line\":{\"color\":\"white\"}},\"header\":{\"fill\":{\"color\":\"#C8D4E3\"},\"line\":{\"color\":\"white\"}},\"type\":\"table\"}]},\"layout\":{\"annotationdefaults\":{\"arrowcolor\":\"#2a3f5f\",\"arrowhead\":0,\"arrowwidth\":1},\"autotypenumbers\":\"strict\",\"coloraxis\":{\"colorbar\":{\"outlinewidth\":0,\"ticks\":\"\"}},\"colorscale\":{\"diverging\":[[0,\"#8e0152\"],[0.1,\"#c51b7d\"],[0.2,\"#de77ae\"],[0.3,\"#f1b6da\"],[0.4,\"#fde0ef\"],[0.5,\"#f7f7f7\"],[0.6,\"#e6f5d0\"],[0.7,\"#b8e186\"],[0.8,\"#7fbc41\"],[0.9,\"#4d9221\"],[1,\"#276419\"]],\"sequential\":[[0.0,\"#0d0887\"],[0.1111111111111111,\"#46039f\"],[0.2222222222222222,\"#7201a8\"],[0.3333333333333333,\"#9c179e\"],[0.4444444444444444,\"#bd3786\"],[0.5555555555555556,\"#d8576b\"],[0.6666666666666666,\"#ed7953\"],[0.7777777777777778,\"#fb9f3a\"],[0.8888888888888888,\"#fdca26\"],[1.0,\"#f0f921\"]],\"sequentialminus\":[[0.0,\"#0d0887\"],[0.1111111111111111,\"#46039f\"],[0.2222222222222222,\"#7201a8\"],[0.3333333333333333,\"#9c179e\"],[0.4444444444444444,\"#bd3786\"],[0.5555555555555556,\"#d8576b\"],[0.6666666666666666,\"#ed7953\"],[0.7777777777777778,\"#fb9f3a\"],[0.8888888888888888,\"#fdca26\"],[1.0,\"#f0f921\"]]},\"colorway\":[\"#636efa\",\"#EF553B\",\"#00cc96\",\"#ab63fa\",\"#FFA15A\",\"#19d3f3\",\"#FF6692\",\"#B6E880\",\"#FF97FF\",\"#FECB52\"],\"font\":{\"color\":\"#2a3f5f\"},\"geo\":{\"bgcolor\":\"white\",\"lakecolor\":\"white\",\"landcolor\":\"#E5ECF6\",\"showlakes\":true,\"showland\":true,\"subunitcolor\":\"white\"},\"hoverlabel\":{\"align\":\"left\"},\"hovermode\":\"closest\",\"mapbox\":{\"style\":\"light\"},\"paper_bgcolor\":\"white\",\"plot_bgcolor\":\"#E5ECF6\",\"polar\":{\"angularaxis\":{\"gridcolor\":\"white\",\"linecolor\":\"white\",\"ticks\":\"\"},\"bgcolor\":\"#E5ECF6\",\"radialaxis\":{\"gridcolor\":\"white\",\"linecolor\":\"white\",\"ticks\":\"\"}},\"scene\":{\"xaxis\":{\"backgroundcolor\":\"#E5ECF6\",\"gridcolor\":\"white\",\"gridwidth\":2,\"linecolor\":\"white\",\"showbackground\":true,\"ticks\":\"\",\"zerolinecolor\":\"white\"},\"yaxis\":{\"backgroundcolor\":\"#E5ECF6\",\"gridcolor\":\"white\",\"gridwidth\":2,\"linecolor\":\"white\",\"showbackground\":true,\"ticks\":\"\",\"zerolinecolor\":\"white\"},\"zaxis\":{\"backgroundcolor\":\"#E5ECF6\",\"gridcolor\":\"white\",\"gridwidth\":2,\"linecolor\":\"white\",\"showbackground\":true,\"ticks\":\"\",\"zerolinecolor\":\"white\"}},\"shapedefaults\":{\"line\":{\"color\":\"#2a3f5f\"}},\"ternary\":{\"aaxis\":{\"gridcolor\":\"white\",\"linecolor\":\"white\",\"ticks\":\"\"},\"baxis\":{\"gridcolor\":\"white\",\"linecolor\":\"white\",\"ticks\":\"\"},\"bgcolor\":\"#E5ECF6\",\"caxis\":{\"gridcolor\":\"white\",\"linecolor\":\"white\",\"ticks\":\"\"}},\"title\":{\"x\":0.05},\"xaxis\":{\"automargin\":true,\"gridcolor\":\"white\",\"linecolor\":\"white\",\"ticks\":\"\",\"title\":{\"standoff\":15},\"zerolinecolor\":\"white\",\"zerolinewidth\":2},\"yaxis\":{\"automargin\":true,\"gridcolor\":\"white\",\"linecolor\":\"white\",\"ticks\":\"\",\"title\":{\"standoff\":15},\"zerolinecolor\":\"white\",\"zerolinewidth\":2}}},\"title\":{\"font\":{\"color\":\"#4D5663\"}},\"xaxis\":{\"gridcolor\":\"#E1E5ED\",\"showgrid\":true,\"tickfont\":{\"color\":\"#4D5663\"},\"title\":{\"font\":{\"color\":\"#4D5663\"},\"text\":\"\"},\"zerolinecolor\":\"#E1E5ED\"},\"yaxis\":{\"gridcolor\":\"#E1E5ED\",\"showgrid\":true,\"tickfont\":{\"color\":\"#4D5663\"},\"title\":{\"font\":{\"color\":\"#4D5663\"},\"text\":\"\"},\"zerolinecolor\":\"#E1E5ED\"}},                        {\"showLink\": true, \"linkText\": \"Export to plot.ly\", \"plotlyServerURL\": \"https://plot.ly\", \"responsive\": true}                    ).then(function(){\n",
       "                            \n",
       "var gd = document.getElementById('639d5ffb-3ea7-4369-b04b-f5a0816a11d7');\n",
       "var x = new MutationObserver(function (mutations, observer) {{\n",
       "        var display = window.getComputedStyle(gd).display;\n",
       "        if (!display || display === 'none') {{\n",
       "            console.log([gd, 'removed!']);\n",
       "            Plotly.purge(gd);\n",
       "            observer.disconnect();\n",
       "        }}\n",
       "}});\n",
       "\n",
       "// Listen for the removal of the full notebook cells\n",
       "var notebookContainer = gd.closest('#notebook-container');\n",
       "if (notebookContainer) {{\n",
       "    x.observe(notebookContainer, {childList: true});\n",
       "}}\n",
       "\n",
       "// Listen for the clearing of the current output cell\n",
       "var outputEl = gd.closest('.output');\n",
       "if (outputEl) {{\n",
       "    x.observe(outputEl, {childList: true});\n",
       "}}\n",
       "\n",
       "                        })                };                });            </script>        </div>"
      ]
     },
     "metadata": {},
     "output_type": "display_data"
    }
   ],
   "source": [
    "df3.iplot(kind='surface', colorscale='rdylbu')"
   ]
  },
  {
   "cell_type": "code",
   "execution_count": 34,
   "id": "c1202771",
   "metadata": {},
   "outputs": [
    {
     "data": {
      "application/vnd.plotly.v1+json": {
       "config": {
        "linkText": "Export to plot.ly",
        "plotlyServerURL": "https://plot.ly",
        "showLink": true
       },
       "data": [
        {
         "histfunc": "count",
         "histnorm": "",
         "marker": {
          "color": "rgba(255, 153, 51, 1.0)",
          "line": {
           "color": "#4D5663",
           "width": 1.3
          }
         },
         "name": "A",
         "nbinsx": 25,
         "opacity": 0.8,
         "orientation": "v",
         "type": "histogram",
         "x": [
          0.6874854690341766,
          0.5513974765103675,
          0.45219615905465405,
          0.3220074688721969,
          0.49848573503280835,
          0.8958082016552023,
          0.5924551606207522,
          0.019085849506069286,
          0.16849589082793093,
          0.03917191500638728,
          0.9121123388386799,
          0.23796051949259922,
          0.7258352658575087,
          0.34011954084222296,
          0.9491936521385159,
          0.15990653103289698,
          0.9754274244115759,
          0.3513871614097297,
          0.7066711673159177,
          0.6239263416350013,
          0.7027295187093794,
          0.799269947258963,
          0.33849993354535746,
          0.6301050773543084,
          0.051192931727014224,
          0.7224205087266852,
          0.4610464129486934,
          0.18313301492030254,
          0.40054735793284857,
          0.014412382101959054,
          0.5456590908441381,
          0.10855883211332473,
          0.11586655917905408,
          0.10568130158337796,
          0.9818825910553824,
          0.8617623526104413,
          0.9415055939261352,
          0.35812691402662733,
          0.6234732510966413,
          0.15305832576902845,
          0.23400930433298706,
          0.4388023440377373,
          0.09120750092250074,
          0.2590262261903984,
          0.03974027611508335,
          0.9284703344580862,
          0.6080577294722969,
          0.1012374898742957,
          0.11618317926899302,
          0.6088220366799406,
          0.11991550032916609,
          0.28278449287021923,
          0.12753378858961406,
          0.21490654709576862,
          0.7204691205883724,
          0.5518301887870176,
          0.7226709942872196,
          0.328001954785583,
          0.49011610109086257,
          0.11945543432845651,
          0.7686714245848407,
          0.8652286415169714,
          0.3387705814403654,
          0.20014342665332918,
          0.260917778080169,
          0.9954206073810935,
          0.27240193790782574,
          0.27575568228905967,
          0.30877116216175204,
          0.579622051446661,
          0.5461726196682098,
          0.6872479995752397,
          0.4276608269347526,
          0.6431573587078688,
          0.10326755653659647,
          0.021542551887952288,
          0.5826640406415982,
          0.1961995137374999,
          0.9301684925096566,
          0.35239104974070956,
          0.9269534890286317,
          0.00967037511330382,
          0.6469773371700347,
          0.08189466503482001,
          0.6470770636312277,
          0.7186538462033282,
          0.64798841147515,
          0.9390131824104669,
          0.39599019547534,
          0.4997378936919815,
          0.3979814103169699,
          0.43334068025240957,
          0.18204684784992287,
          0.9055616278589967,
          0.4950070469382203,
          0.2728325871340562,
          0.3263777289755577,
          0.9382923709357847,
          0.9228802624702013,
          0.2280123275393151
         ]
        }
       ],
       "layout": {
        "barmode": "overlay",
        "legend": {
         "bgcolor": "#F5F6F9",
         "font": {
          "color": "#4D5663"
         }
        },
        "paper_bgcolor": "#F5F6F9",
        "plot_bgcolor": "#F5F6F9",
        "template": {
         "data": {
          "bar": [
           {
            "error_x": {
             "color": "#2a3f5f"
            },
            "error_y": {
             "color": "#2a3f5f"
            },
            "marker": {
             "line": {
              "color": "#E5ECF6",
              "width": 0.5
             },
             "pattern": {
              "fillmode": "overlay",
              "size": 10,
              "solidity": 0.2
             }
            },
            "type": "bar"
           }
          ],
          "barpolar": [
           {
            "marker": {
             "line": {
              "color": "#E5ECF6",
              "width": 0.5
             },
             "pattern": {
              "fillmode": "overlay",
              "size": 10,
              "solidity": 0.2
             }
            },
            "type": "barpolar"
           }
          ],
          "carpet": [
           {
            "aaxis": {
             "endlinecolor": "#2a3f5f",
             "gridcolor": "white",
             "linecolor": "white",
             "minorgridcolor": "white",
             "startlinecolor": "#2a3f5f"
            },
            "baxis": {
             "endlinecolor": "#2a3f5f",
             "gridcolor": "white",
             "linecolor": "white",
             "minorgridcolor": "white",
             "startlinecolor": "#2a3f5f"
            },
            "type": "carpet"
           }
          ],
          "choropleth": [
           {
            "colorbar": {
             "outlinewidth": 0,
             "ticks": ""
            },
            "type": "choropleth"
           }
          ],
          "contour": [
           {
            "colorbar": {
             "outlinewidth": 0,
             "ticks": ""
            },
            "colorscale": [
             [
              0,
              "#0d0887"
             ],
             [
              0.1111111111111111,
              "#46039f"
             ],
             [
              0.2222222222222222,
              "#7201a8"
             ],
             [
              0.3333333333333333,
              "#9c179e"
             ],
             [
              0.4444444444444444,
              "#bd3786"
             ],
             [
              0.5555555555555556,
              "#d8576b"
             ],
             [
              0.6666666666666666,
              "#ed7953"
             ],
             [
              0.7777777777777778,
              "#fb9f3a"
             ],
             [
              0.8888888888888888,
              "#fdca26"
             ],
             [
              1,
              "#f0f921"
             ]
            ],
            "type": "contour"
           }
          ],
          "contourcarpet": [
           {
            "colorbar": {
             "outlinewidth": 0,
             "ticks": ""
            },
            "type": "contourcarpet"
           }
          ],
          "heatmap": [
           {
            "colorbar": {
             "outlinewidth": 0,
             "ticks": ""
            },
            "colorscale": [
             [
              0,
              "#0d0887"
             ],
             [
              0.1111111111111111,
              "#46039f"
             ],
             [
              0.2222222222222222,
              "#7201a8"
             ],
             [
              0.3333333333333333,
              "#9c179e"
             ],
             [
              0.4444444444444444,
              "#bd3786"
             ],
             [
              0.5555555555555556,
              "#d8576b"
             ],
             [
              0.6666666666666666,
              "#ed7953"
             ],
             [
              0.7777777777777778,
              "#fb9f3a"
             ],
             [
              0.8888888888888888,
              "#fdca26"
             ],
             [
              1,
              "#f0f921"
             ]
            ],
            "type": "heatmap"
           }
          ],
          "heatmapgl": [
           {
            "colorbar": {
             "outlinewidth": 0,
             "ticks": ""
            },
            "colorscale": [
             [
              0,
              "#0d0887"
             ],
             [
              0.1111111111111111,
              "#46039f"
             ],
             [
              0.2222222222222222,
              "#7201a8"
             ],
             [
              0.3333333333333333,
              "#9c179e"
             ],
             [
              0.4444444444444444,
              "#bd3786"
             ],
             [
              0.5555555555555556,
              "#d8576b"
             ],
             [
              0.6666666666666666,
              "#ed7953"
             ],
             [
              0.7777777777777778,
              "#fb9f3a"
             ],
             [
              0.8888888888888888,
              "#fdca26"
             ],
             [
              1,
              "#f0f921"
             ]
            ],
            "type": "heatmapgl"
           }
          ],
          "histogram": [
           {
            "marker": {
             "pattern": {
              "fillmode": "overlay",
              "size": 10,
              "solidity": 0.2
             }
            },
            "type": "histogram"
           }
          ],
          "histogram2d": [
           {
            "colorbar": {
             "outlinewidth": 0,
             "ticks": ""
            },
            "colorscale": [
             [
              0,
              "#0d0887"
             ],
             [
              0.1111111111111111,
              "#46039f"
             ],
             [
              0.2222222222222222,
              "#7201a8"
             ],
             [
              0.3333333333333333,
              "#9c179e"
             ],
             [
              0.4444444444444444,
              "#bd3786"
             ],
             [
              0.5555555555555556,
              "#d8576b"
             ],
             [
              0.6666666666666666,
              "#ed7953"
             ],
             [
              0.7777777777777778,
              "#fb9f3a"
             ],
             [
              0.8888888888888888,
              "#fdca26"
             ],
             [
              1,
              "#f0f921"
             ]
            ],
            "type": "histogram2d"
           }
          ],
          "histogram2dcontour": [
           {
            "colorbar": {
             "outlinewidth": 0,
             "ticks": ""
            },
            "colorscale": [
             [
              0,
              "#0d0887"
             ],
             [
              0.1111111111111111,
              "#46039f"
             ],
             [
              0.2222222222222222,
              "#7201a8"
             ],
             [
              0.3333333333333333,
              "#9c179e"
             ],
             [
              0.4444444444444444,
              "#bd3786"
             ],
             [
              0.5555555555555556,
              "#d8576b"
             ],
             [
              0.6666666666666666,
              "#ed7953"
             ],
             [
              0.7777777777777778,
              "#fb9f3a"
             ],
             [
              0.8888888888888888,
              "#fdca26"
             ],
             [
              1,
              "#f0f921"
             ]
            ],
            "type": "histogram2dcontour"
           }
          ],
          "mesh3d": [
           {
            "colorbar": {
             "outlinewidth": 0,
             "ticks": ""
            },
            "type": "mesh3d"
           }
          ],
          "parcoords": [
           {
            "line": {
             "colorbar": {
              "outlinewidth": 0,
              "ticks": ""
             }
            },
            "type": "parcoords"
           }
          ],
          "pie": [
           {
            "automargin": true,
            "type": "pie"
           }
          ],
          "scatter": [
           {
            "marker": {
             "colorbar": {
              "outlinewidth": 0,
              "ticks": ""
             }
            },
            "type": "scatter"
           }
          ],
          "scatter3d": [
           {
            "line": {
             "colorbar": {
              "outlinewidth": 0,
              "ticks": ""
             }
            },
            "marker": {
             "colorbar": {
              "outlinewidth": 0,
              "ticks": ""
             }
            },
            "type": "scatter3d"
           }
          ],
          "scattercarpet": [
           {
            "marker": {
             "colorbar": {
              "outlinewidth": 0,
              "ticks": ""
             }
            },
            "type": "scattercarpet"
           }
          ],
          "scattergeo": [
           {
            "marker": {
             "colorbar": {
              "outlinewidth": 0,
              "ticks": ""
             }
            },
            "type": "scattergeo"
           }
          ],
          "scattergl": [
           {
            "marker": {
             "colorbar": {
              "outlinewidth": 0,
              "ticks": ""
             }
            },
            "type": "scattergl"
           }
          ],
          "scattermapbox": [
           {
            "marker": {
             "colorbar": {
              "outlinewidth": 0,
              "ticks": ""
             }
            },
            "type": "scattermapbox"
           }
          ],
          "scatterpolar": [
           {
            "marker": {
             "colorbar": {
              "outlinewidth": 0,
              "ticks": ""
             }
            },
            "type": "scatterpolar"
           }
          ],
          "scatterpolargl": [
           {
            "marker": {
             "colorbar": {
              "outlinewidth": 0,
              "ticks": ""
             }
            },
            "type": "scatterpolargl"
           }
          ],
          "scatterternary": [
           {
            "marker": {
             "colorbar": {
              "outlinewidth": 0,
              "ticks": ""
             }
            },
            "type": "scatterternary"
           }
          ],
          "surface": [
           {
            "colorbar": {
             "outlinewidth": 0,
             "ticks": ""
            },
            "colorscale": [
             [
              0,
              "#0d0887"
             ],
             [
              0.1111111111111111,
              "#46039f"
             ],
             [
              0.2222222222222222,
              "#7201a8"
             ],
             [
              0.3333333333333333,
              "#9c179e"
             ],
             [
              0.4444444444444444,
              "#bd3786"
             ],
             [
              0.5555555555555556,
              "#d8576b"
             ],
             [
              0.6666666666666666,
              "#ed7953"
             ],
             [
              0.7777777777777778,
              "#fb9f3a"
             ],
             [
              0.8888888888888888,
              "#fdca26"
             ],
             [
              1,
              "#f0f921"
             ]
            ],
            "type": "surface"
           }
          ],
          "table": [
           {
            "cells": {
             "fill": {
              "color": "#EBF0F8"
             },
             "line": {
              "color": "white"
             }
            },
            "header": {
             "fill": {
              "color": "#C8D4E3"
             },
             "line": {
              "color": "white"
             }
            },
            "type": "table"
           }
          ]
         },
         "layout": {
          "annotationdefaults": {
           "arrowcolor": "#2a3f5f",
           "arrowhead": 0,
           "arrowwidth": 1
          },
          "autotypenumbers": "strict",
          "coloraxis": {
           "colorbar": {
            "outlinewidth": 0,
            "ticks": ""
           }
          },
          "colorscale": {
           "diverging": [
            [
             0,
             "#8e0152"
            ],
            [
             0.1,
             "#c51b7d"
            ],
            [
             0.2,
             "#de77ae"
            ],
            [
             0.3,
             "#f1b6da"
            ],
            [
             0.4,
             "#fde0ef"
            ],
            [
             0.5,
             "#f7f7f7"
            ],
            [
             0.6,
             "#e6f5d0"
            ],
            [
             0.7,
             "#b8e186"
            ],
            [
             0.8,
             "#7fbc41"
            ],
            [
             0.9,
             "#4d9221"
            ],
            [
             1,
             "#276419"
            ]
           ],
           "sequential": [
            [
             0,
             "#0d0887"
            ],
            [
             0.1111111111111111,
             "#46039f"
            ],
            [
             0.2222222222222222,
             "#7201a8"
            ],
            [
             0.3333333333333333,
             "#9c179e"
            ],
            [
             0.4444444444444444,
             "#bd3786"
            ],
            [
             0.5555555555555556,
             "#d8576b"
            ],
            [
             0.6666666666666666,
             "#ed7953"
            ],
            [
             0.7777777777777778,
             "#fb9f3a"
            ],
            [
             0.8888888888888888,
             "#fdca26"
            ],
            [
             1,
             "#f0f921"
            ]
           ],
           "sequentialminus": [
            [
             0,
             "#0d0887"
            ],
            [
             0.1111111111111111,
             "#46039f"
            ],
            [
             0.2222222222222222,
             "#7201a8"
            ],
            [
             0.3333333333333333,
             "#9c179e"
            ],
            [
             0.4444444444444444,
             "#bd3786"
            ],
            [
             0.5555555555555556,
             "#d8576b"
            ],
            [
             0.6666666666666666,
             "#ed7953"
            ],
            [
             0.7777777777777778,
             "#fb9f3a"
            ],
            [
             0.8888888888888888,
             "#fdca26"
            ],
            [
             1,
             "#f0f921"
            ]
           ]
          },
          "colorway": [
           "#636efa",
           "#EF553B",
           "#00cc96",
           "#ab63fa",
           "#FFA15A",
           "#19d3f3",
           "#FF6692",
           "#B6E880",
           "#FF97FF",
           "#FECB52"
          ],
          "font": {
           "color": "#2a3f5f"
          },
          "geo": {
           "bgcolor": "white",
           "lakecolor": "white",
           "landcolor": "#E5ECF6",
           "showlakes": true,
           "showland": true,
           "subunitcolor": "white"
          },
          "hoverlabel": {
           "align": "left"
          },
          "hovermode": "closest",
          "mapbox": {
           "style": "light"
          },
          "paper_bgcolor": "white",
          "plot_bgcolor": "#E5ECF6",
          "polar": {
           "angularaxis": {
            "gridcolor": "white",
            "linecolor": "white",
            "ticks": ""
           },
           "bgcolor": "#E5ECF6",
           "radialaxis": {
            "gridcolor": "white",
            "linecolor": "white",
            "ticks": ""
           }
          },
          "scene": {
           "xaxis": {
            "backgroundcolor": "#E5ECF6",
            "gridcolor": "white",
            "gridwidth": 2,
            "linecolor": "white",
            "showbackground": true,
            "ticks": "",
            "zerolinecolor": "white"
           },
           "yaxis": {
            "backgroundcolor": "#E5ECF6",
            "gridcolor": "white",
            "gridwidth": 2,
            "linecolor": "white",
            "showbackground": true,
            "ticks": "",
            "zerolinecolor": "white"
           },
           "zaxis": {
            "backgroundcolor": "#E5ECF6",
            "gridcolor": "white",
            "gridwidth": 2,
            "linecolor": "white",
            "showbackground": true,
            "ticks": "",
            "zerolinecolor": "white"
           }
          },
          "shapedefaults": {
           "line": {
            "color": "#2a3f5f"
           }
          },
          "ternary": {
           "aaxis": {
            "gridcolor": "white",
            "linecolor": "white",
            "ticks": ""
           },
           "baxis": {
            "gridcolor": "white",
            "linecolor": "white",
            "ticks": ""
           },
           "bgcolor": "#E5ECF6",
           "caxis": {
            "gridcolor": "white",
            "linecolor": "white",
            "ticks": ""
           }
          },
          "title": {
           "x": 0.05
          },
          "xaxis": {
           "automargin": true,
           "gridcolor": "white",
           "linecolor": "white",
           "ticks": "",
           "title": {
            "standoff": 15
           },
           "zerolinecolor": "white",
           "zerolinewidth": 2
          },
          "yaxis": {
           "automargin": true,
           "gridcolor": "white",
           "linecolor": "white",
           "ticks": "",
           "title": {
            "standoff": 15
           },
           "zerolinecolor": "white",
           "zerolinewidth": 2
          }
         }
        },
        "title": {
         "font": {
          "color": "#4D5663"
         }
        },
        "xaxis": {
         "gridcolor": "#E1E5ED",
         "showgrid": true,
         "tickfont": {
          "color": "#4D5663"
         },
         "title": {
          "font": {
           "color": "#4D5663"
          },
          "text": ""
         },
         "zerolinecolor": "#E1E5ED"
        },
        "yaxis": {
         "gridcolor": "#E1E5ED",
         "showgrid": true,
         "tickfont": {
          "color": "#4D5663"
         },
         "title": {
          "font": {
           "color": "#4D5663"
          },
          "text": ""
         },
         "zerolinecolor": "#E1E5ED"
        }
       }
      },
      "text/html": [
       "<div>                            <div id=\"ff3ae0d1-ae3a-4b6b-8ef2-d41c095a0362\" class=\"plotly-graph-div\" style=\"height:525px; width:100%;\"></div>            <script type=\"text/javascript\">                require([\"plotly\"], function(Plotly) {                    window.PLOTLYENV=window.PLOTLYENV || {};\n",
       "                    window.PLOTLYENV.BASE_URL='https://plot.ly';                                    if (document.getElementById(\"ff3ae0d1-ae3a-4b6b-8ef2-d41c095a0362\")) {                    Plotly.newPlot(                        \"ff3ae0d1-ae3a-4b6b-8ef2-d41c095a0362\",                        [{\"histfunc\":\"count\",\"histnorm\":\"\",\"marker\":{\"color\":\"rgba(255, 153, 51, 1.0)\",\"line\":{\"color\":\"#4D5663\",\"width\":1.3}},\"name\":\"A\",\"nbinsx\":25,\"opacity\":0.8,\"orientation\":\"v\",\"type\":\"histogram\",\"x\":[0.6874854690341766,0.5513974765103675,0.45219615905465405,0.3220074688721969,0.49848573503280835,0.8958082016552023,0.5924551606207522,0.019085849506069286,0.16849589082793093,0.03917191500638728,0.9121123388386799,0.23796051949259922,0.7258352658575087,0.34011954084222296,0.9491936521385159,0.15990653103289698,0.9754274244115759,0.3513871614097297,0.7066711673159177,0.6239263416350013,0.7027295187093794,0.799269947258963,0.33849993354535746,0.6301050773543084,0.051192931727014224,0.7224205087266852,0.4610464129486934,0.18313301492030254,0.40054735793284857,0.014412382101959054,0.5456590908441381,0.10855883211332473,0.11586655917905408,0.10568130158337796,0.9818825910553824,0.8617623526104413,0.9415055939261352,0.35812691402662733,0.6234732510966413,0.15305832576902845,0.23400930433298706,0.4388023440377373,0.09120750092250074,0.2590262261903984,0.03974027611508335,0.9284703344580862,0.6080577294722969,0.1012374898742957,0.11618317926899302,0.6088220366799406,0.11991550032916609,0.28278449287021923,0.12753378858961406,0.21490654709576862,0.7204691205883724,0.5518301887870176,0.7226709942872196,0.328001954785583,0.49011610109086257,0.11945543432845651,0.7686714245848407,0.8652286415169714,0.3387705814403654,0.20014342665332918,0.260917778080169,0.9954206073810935,0.27240193790782574,0.27575568228905967,0.30877116216175204,0.579622051446661,0.5461726196682098,0.6872479995752397,0.4276608269347526,0.6431573587078688,0.10326755653659647,0.021542551887952288,0.5826640406415982,0.1961995137374999,0.9301684925096566,0.35239104974070956,0.9269534890286317,0.00967037511330382,0.6469773371700347,0.08189466503482001,0.6470770636312277,0.7186538462033282,0.64798841147515,0.9390131824104669,0.39599019547534,0.4997378936919815,0.3979814103169699,0.43334068025240957,0.18204684784992287,0.9055616278589967,0.4950070469382203,0.2728325871340562,0.3263777289755577,0.9382923709357847,0.9228802624702013,0.2280123275393151]}],                        {\"barmode\":\"overlay\",\"legend\":{\"bgcolor\":\"#F5F6F9\",\"font\":{\"color\":\"#4D5663\"}},\"paper_bgcolor\":\"#F5F6F9\",\"plot_bgcolor\":\"#F5F6F9\",\"template\":{\"data\":{\"bar\":[{\"error_x\":{\"color\":\"#2a3f5f\"},\"error_y\":{\"color\":\"#2a3f5f\"},\"marker\":{\"line\":{\"color\":\"#E5ECF6\",\"width\":0.5},\"pattern\":{\"fillmode\":\"overlay\",\"size\":10,\"solidity\":0.2}},\"type\":\"bar\"}],\"barpolar\":[{\"marker\":{\"line\":{\"color\":\"#E5ECF6\",\"width\":0.5},\"pattern\":{\"fillmode\":\"overlay\",\"size\":10,\"solidity\":0.2}},\"type\":\"barpolar\"}],\"carpet\":[{\"aaxis\":{\"endlinecolor\":\"#2a3f5f\",\"gridcolor\":\"white\",\"linecolor\":\"white\",\"minorgridcolor\":\"white\",\"startlinecolor\":\"#2a3f5f\"},\"baxis\":{\"endlinecolor\":\"#2a3f5f\",\"gridcolor\":\"white\",\"linecolor\":\"white\",\"minorgridcolor\":\"white\",\"startlinecolor\":\"#2a3f5f\"},\"type\":\"carpet\"}],\"choropleth\":[{\"colorbar\":{\"outlinewidth\":0,\"ticks\":\"\"},\"type\":\"choropleth\"}],\"contour\":[{\"colorbar\":{\"outlinewidth\":0,\"ticks\":\"\"},\"colorscale\":[[0.0,\"#0d0887\"],[0.1111111111111111,\"#46039f\"],[0.2222222222222222,\"#7201a8\"],[0.3333333333333333,\"#9c179e\"],[0.4444444444444444,\"#bd3786\"],[0.5555555555555556,\"#d8576b\"],[0.6666666666666666,\"#ed7953\"],[0.7777777777777778,\"#fb9f3a\"],[0.8888888888888888,\"#fdca26\"],[1.0,\"#f0f921\"]],\"type\":\"contour\"}],\"contourcarpet\":[{\"colorbar\":{\"outlinewidth\":0,\"ticks\":\"\"},\"type\":\"contourcarpet\"}],\"heatmap\":[{\"colorbar\":{\"outlinewidth\":0,\"ticks\":\"\"},\"colorscale\":[[0.0,\"#0d0887\"],[0.1111111111111111,\"#46039f\"],[0.2222222222222222,\"#7201a8\"],[0.3333333333333333,\"#9c179e\"],[0.4444444444444444,\"#bd3786\"],[0.5555555555555556,\"#d8576b\"],[0.6666666666666666,\"#ed7953\"],[0.7777777777777778,\"#fb9f3a\"],[0.8888888888888888,\"#fdca26\"],[1.0,\"#f0f921\"]],\"type\":\"heatmap\"}],\"heatmapgl\":[{\"colorbar\":{\"outlinewidth\":0,\"ticks\":\"\"},\"colorscale\":[[0.0,\"#0d0887\"],[0.1111111111111111,\"#46039f\"],[0.2222222222222222,\"#7201a8\"],[0.3333333333333333,\"#9c179e\"],[0.4444444444444444,\"#bd3786\"],[0.5555555555555556,\"#d8576b\"],[0.6666666666666666,\"#ed7953\"],[0.7777777777777778,\"#fb9f3a\"],[0.8888888888888888,\"#fdca26\"],[1.0,\"#f0f921\"]],\"type\":\"heatmapgl\"}],\"histogram\":[{\"marker\":{\"pattern\":{\"fillmode\":\"overlay\",\"size\":10,\"solidity\":0.2}},\"type\":\"histogram\"}],\"histogram2d\":[{\"colorbar\":{\"outlinewidth\":0,\"ticks\":\"\"},\"colorscale\":[[0.0,\"#0d0887\"],[0.1111111111111111,\"#46039f\"],[0.2222222222222222,\"#7201a8\"],[0.3333333333333333,\"#9c179e\"],[0.4444444444444444,\"#bd3786\"],[0.5555555555555556,\"#d8576b\"],[0.6666666666666666,\"#ed7953\"],[0.7777777777777778,\"#fb9f3a\"],[0.8888888888888888,\"#fdca26\"],[1.0,\"#f0f921\"]],\"type\":\"histogram2d\"}],\"histogram2dcontour\":[{\"colorbar\":{\"outlinewidth\":0,\"ticks\":\"\"},\"colorscale\":[[0.0,\"#0d0887\"],[0.1111111111111111,\"#46039f\"],[0.2222222222222222,\"#7201a8\"],[0.3333333333333333,\"#9c179e\"],[0.4444444444444444,\"#bd3786\"],[0.5555555555555556,\"#d8576b\"],[0.6666666666666666,\"#ed7953\"],[0.7777777777777778,\"#fb9f3a\"],[0.8888888888888888,\"#fdca26\"],[1.0,\"#f0f921\"]],\"type\":\"histogram2dcontour\"}],\"mesh3d\":[{\"colorbar\":{\"outlinewidth\":0,\"ticks\":\"\"},\"type\":\"mesh3d\"}],\"parcoords\":[{\"line\":{\"colorbar\":{\"outlinewidth\":0,\"ticks\":\"\"}},\"type\":\"parcoords\"}],\"pie\":[{\"automargin\":true,\"type\":\"pie\"}],\"scatter\":[{\"marker\":{\"colorbar\":{\"outlinewidth\":0,\"ticks\":\"\"}},\"type\":\"scatter\"}],\"scatter3d\":[{\"line\":{\"colorbar\":{\"outlinewidth\":0,\"ticks\":\"\"}},\"marker\":{\"colorbar\":{\"outlinewidth\":0,\"ticks\":\"\"}},\"type\":\"scatter3d\"}],\"scattercarpet\":[{\"marker\":{\"colorbar\":{\"outlinewidth\":0,\"ticks\":\"\"}},\"type\":\"scattercarpet\"}],\"scattergeo\":[{\"marker\":{\"colorbar\":{\"outlinewidth\":0,\"ticks\":\"\"}},\"type\":\"scattergeo\"}],\"scattergl\":[{\"marker\":{\"colorbar\":{\"outlinewidth\":0,\"ticks\":\"\"}},\"type\":\"scattergl\"}],\"scattermapbox\":[{\"marker\":{\"colorbar\":{\"outlinewidth\":0,\"ticks\":\"\"}},\"type\":\"scattermapbox\"}],\"scatterpolar\":[{\"marker\":{\"colorbar\":{\"outlinewidth\":0,\"ticks\":\"\"}},\"type\":\"scatterpolar\"}],\"scatterpolargl\":[{\"marker\":{\"colorbar\":{\"outlinewidth\":0,\"ticks\":\"\"}},\"type\":\"scatterpolargl\"}],\"scatterternary\":[{\"marker\":{\"colorbar\":{\"outlinewidth\":0,\"ticks\":\"\"}},\"type\":\"scatterternary\"}],\"surface\":[{\"colorbar\":{\"outlinewidth\":0,\"ticks\":\"\"},\"colorscale\":[[0.0,\"#0d0887\"],[0.1111111111111111,\"#46039f\"],[0.2222222222222222,\"#7201a8\"],[0.3333333333333333,\"#9c179e\"],[0.4444444444444444,\"#bd3786\"],[0.5555555555555556,\"#d8576b\"],[0.6666666666666666,\"#ed7953\"],[0.7777777777777778,\"#fb9f3a\"],[0.8888888888888888,\"#fdca26\"],[1.0,\"#f0f921\"]],\"type\":\"surface\"}],\"table\":[{\"cells\":{\"fill\":{\"color\":\"#EBF0F8\"},\"line\":{\"color\":\"white\"}},\"header\":{\"fill\":{\"color\":\"#C8D4E3\"},\"line\":{\"color\":\"white\"}},\"type\":\"table\"}]},\"layout\":{\"annotationdefaults\":{\"arrowcolor\":\"#2a3f5f\",\"arrowhead\":0,\"arrowwidth\":1},\"autotypenumbers\":\"strict\",\"coloraxis\":{\"colorbar\":{\"outlinewidth\":0,\"ticks\":\"\"}},\"colorscale\":{\"diverging\":[[0,\"#8e0152\"],[0.1,\"#c51b7d\"],[0.2,\"#de77ae\"],[0.3,\"#f1b6da\"],[0.4,\"#fde0ef\"],[0.5,\"#f7f7f7\"],[0.6,\"#e6f5d0\"],[0.7,\"#b8e186\"],[0.8,\"#7fbc41\"],[0.9,\"#4d9221\"],[1,\"#276419\"]],\"sequential\":[[0.0,\"#0d0887\"],[0.1111111111111111,\"#46039f\"],[0.2222222222222222,\"#7201a8\"],[0.3333333333333333,\"#9c179e\"],[0.4444444444444444,\"#bd3786\"],[0.5555555555555556,\"#d8576b\"],[0.6666666666666666,\"#ed7953\"],[0.7777777777777778,\"#fb9f3a\"],[0.8888888888888888,\"#fdca26\"],[1.0,\"#f0f921\"]],\"sequentialminus\":[[0.0,\"#0d0887\"],[0.1111111111111111,\"#46039f\"],[0.2222222222222222,\"#7201a8\"],[0.3333333333333333,\"#9c179e\"],[0.4444444444444444,\"#bd3786\"],[0.5555555555555556,\"#d8576b\"],[0.6666666666666666,\"#ed7953\"],[0.7777777777777778,\"#fb9f3a\"],[0.8888888888888888,\"#fdca26\"],[1.0,\"#f0f921\"]]},\"colorway\":[\"#636efa\",\"#EF553B\",\"#00cc96\",\"#ab63fa\",\"#FFA15A\",\"#19d3f3\",\"#FF6692\",\"#B6E880\",\"#FF97FF\",\"#FECB52\"],\"font\":{\"color\":\"#2a3f5f\"},\"geo\":{\"bgcolor\":\"white\",\"lakecolor\":\"white\",\"landcolor\":\"#E5ECF6\",\"showlakes\":true,\"showland\":true,\"subunitcolor\":\"white\"},\"hoverlabel\":{\"align\":\"left\"},\"hovermode\":\"closest\",\"mapbox\":{\"style\":\"light\"},\"paper_bgcolor\":\"white\",\"plot_bgcolor\":\"#E5ECF6\",\"polar\":{\"angularaxis\":{\"gridcolor\":\"white\",\"linecolor\":\"white\",\"ticks\":\"\"},\"bgcolor\":\"#E5ECF6\",\"radialaxis\":{\"gridcolor\":\"white\",\"linecolor\":\"white\",\"ticks\":\"\"}},\"scene\":{\"xaxis\":{\"backgroundcolor\":\"#E5ECF6\",\"gridcolor\":\"white\",\"gridwidth\":2,\"linecolor\":\"white\",\"showbackground\":true,\"ticks\":\"\",\"zerolinecolor\":\"white\"},\"yaxis\":{\"backgroundcolor\":\"#E5ECF6\",\"gridcolor\":\"white\",\"gridwidth\":2,\"linecolor\":\"white\",\"showbackground\":true,\"ticks\":\"\",\"zerolinecolor\":\"white\"},\"zaxis\":{\"backgroundcolor\":\"#E5ECF6\",\"gridcolor\":\"white\",\"gridwidth\":2,\"linecolor\":\"white\",\"showbackground\":true,\"ticks\":\"\",\"zerolinecolor\":\"white\"}},\"shapedefaults\":{\"line\":{\"color\":\"#2a3f5f\"}},\"ternary\":{\"aaxis\":{\"gridcolor\":\"white\",\"linecolor\":\"white\",\"ticks\":\"\"},\"baxis\":{\"gridcolor\":\"white\",\"linecolor\":\"white\",\"ticks\":\"\"},\"bgcolor\":\"#E5ECF6\",\"caxis\":{\"gridcolor\":\"white\",\"linecolor\":\"white\",\"ticks\":\"\"}},\"title\":{\"x\":0.05},\"xaxis\":{\"automargin\":true,\"gridcolor\":\"white\",\"linecolor\":\"white\",\"ticks\":\"\",\"title\":{\"standoff\":15},\"zerolinecolor\":\"white\",\"zerolinewidth\":2},\"yaxis\":{\"automargin\":true,\"gridcolor\":\"white\",\"linecolor\":\"white\",\"ticks\":\"\",\"title\":{\"standoff\":15},\"zerolinecolor\":\"white\",\"zerolinewidth\":2}}},\"title\":{\"font\":{\"color\":\"#4D5663\"}},\"xaxis\":{\"gridcolor\":\"#E1E5ED\",\"showgrid\":true,\"tickfont\":{\"color\":\"#4D5663\"},\"title\":{\"font\":{\"color\":\"#4D5663\"},\"text\":\"\"},\"zerolinecolor\":\"#E1E5ED\"},\"yaxis\":{\"gridcolor\":\"#E1E5ED\",\"showgrid\":true,\"tickfont\":{\"color\":\"#4D5663\"},\"title\":{\"font\":{\"color\":\"#4D5663\"},\"text\":\"\"},\"zerolinecolor\":\"#E1E5ED\"}},                        {\"showLink\": true, \"linkText\": \"Export to plot.ly\", \"plotlyServerURL\": \"https://plot.ly\", \"responsive\": true}                    ).then(function(){\n",
       "                            \n",
       "var gd = document.getElementById('ff3ae0d1-ae3a-4b6b-8ef2-d41c095a0362');\n",
       "var x = new MutationObserver(function (mutations, observer) {{\n",
       "        var display = window.getComputedStyle(gd).display;\n",
       "        if (!display || display === 'none') {{\n",
       "            console.log([gd, 'removed!']);\n",
       "            Plotly.purge(gd);\n",
       "            observer.disconnect();\n",
       "        }}\n",
       "}});\n",
       "\n",
       "// Listen for the removal of the full notebook cells\n",
       "var notebookContainer = gd.closest('#notebook-container');\n",
       "if (notebookContainer) {{\n",
       "    x.observe(notebookContainer, {childList: true});\n",
       "}}\n",
       "\n",
       "// Listen for the clearing of the current output cell\n",
       "var outputEl = gd.closest('.output');\n",
       "if (outputEl) {{\n",
       "    x.observe(outputEl, {childList: true});\n",
       "}}\n",
       "\n",
       "                        })                };                });            </script>        </div>"
      ]
     },
     "metadata": {},
     "output_type": "display_data"
    }
   ],
   "source": [
    "df['A'].iplot(kind='hist', bins=25)"
   ]
  },
  {
   "cell_type": "code",
   "execution_count": 36,
   "id": "3244d5b7",
   "metadata": {},
   "outputs": [
    {
     "data": {
      "application/vnd.plotly.v1+json": {
       "config": {
        "linkText": "Export to plot.ly",
        "plotlyServerURL": "https://plot.ly",
        "showLink": true
       },
       "data": [
        {
         "histfunc": "count",
         "histnorm": "",
         "marker": {
          "color": "rgba(255, 153, 51, 1.0)",
          "line": {
           "color": "#4D5663",
           "width": 1.3
          }
         },
         "name": "A",
         "opacity": 0.8,
         "orientation": "v",
         "type": "histogram",
         "x": [
          0.6874854690341766,
          0.5513974765103675,
          0.45219615905465405,
          0.3220074688721969,
          0.49848573503280835,
          0.8958082016552023,
          0.5924551606207522,
          0.019085849506069286,
          0.16849589082793093,
          0.03917191500638728,
          0.9121123388386799,
          0.23796051949259922,
          0.7258352658575087,
          0.34011954084222296,
          0.9491936521385159,
          0.15990653103289698,
          0.9754274244115759,
          0.3513871614097297,
          0.7066711673159177,
          0.6239263416350013,
          0.7027295187093794,
          0.799269947258963,
          0.33849993354535746,
          0.6301050773543084,
          0.051192931727014224,
          0.7224205087266852,
          0.4610464129486934,
          0.18313301492030254,
          0.40054735793284857,
          0.014412382101959054,
          0.5456590908441381,
          0.10855883211332473,
          0.11586655917905408,
          0.10568130158337796,
          0.9818825910553824,
          0.8617623526104413,
          0.9415055939261352,
          0.35812691402662733,
          0.6234732510966413,
          0.15305832576902845,
          0.23400930433298706,
          0.4388023440377373,
          0.09120750092250074,
          0.2590262261903984,
          0.03974027611508335,
          0.9284703344580862,
          0.6080577294722969,
          0.1012374898742957,
          0.11618317926899302,
          0.6088220366799406,
          0.11991550032916609,
          0.28278449287021923,
          0.12753378858961406,
          0.21490654709576862,
          0.7204691205883724,
          0.5518301887870176,
          0.7226709942872196,
          0.328001954785583,
          0.49011610109086257,
          0.11945543432845651,
          0.7686714245848407,
          0.8652286415169714,
          0.3387705814403654,
          0.20014342665332918,
          0.260917778080169,
          0.9954206073810935,
          0.27240193790782574,
          0.27575568228905967,
          0.30877116216175204,
          0.579622051446661,
          0.5461726196682098,
          0.6872479995752397,
          0.4276608269347526,
          0.6431573587078688,
          0.10326755653659647,
          0.021542551887952288,
          0.5826640406415982,
          0.1961995137374999,
          0.9301684925096566,
          0.35239104974070956,
          0.9269534890286317,
          0.00967037511330382,
          0.6469773371700347,
          0.08189466503482001,
          0.6470770636312277,
          0.7186538462033282,
          0.64798841147515,
          0.9390131824104669,
          0.39599019547534,
          0.4997378936919815,
          0.3979814103169699,
          0.43334068025240957,
          0.18204684784992287,
          0.9055616278589967,
          0.4950070469382203,
          0.2728325871340562,
          0.3263777289755577,
          0.9382923709357847,
          0.9228802624702013,
          0.2280123275393151
         ]
        },
        {
         "histfunc": "count",
         "histnorm": "",
         "marker": {
          "color": "rgba(55, 128, 191, 1.0)",
          "line": {
           "color": "#4D5663",
           "width": 1.3
          }
         },
         "name": "B",
         "opacity": 0.8,
         "orientation": "v",
         "type": "histogram",
         "x": [
          0.8843255679714199,
          0.4753451338820551,
          0.5564770416397901,
          0.4181370124941951,
          0.8082568964572047,
          0.0041675524322632995,
          0.7357309494209592,
          0.12236491926338045,
          0.8026430626697526,
          0.8551481461602891,
          0.9160726083915803,
          0.1948611008604485,
          0.10701810828909286,
          0.5659538314632473,
          0.006860980634156744,
          0.9230463812155936,
          0.3674568219671307,
          0.19570344085171865,
          0.4859113095727293,
          0.7788449077848387,
          0.4019894727335077,
          0.7895054616695254,
          0.950720477376916,
          0.7324935991597183,
          0.8294060719954223,
          0.6182198093766845,
          0.3101609180831728,
          0.8393311468830299,
          0.541810088608328,
          0.9808512663420359,
          0.7004636554110424,
          0.6112366152144356,
          0.7291840796906991,
          0.3664280752889001,
          0.22748883431446054,
          0.5760954477062057,
          0.056814697827563765,
          0.2644182837393171,
          0.5254839699381781,
          0.6053576784527464,
          0.7582588213806051,
          0.600899443738797,
          0.28418780384870856,
          0.7235975540666422,
          0.5248556362855886,
          0.17192615028233327,
          0.002118427862049077,
          0.10281536998752638,
          0.7699441949341121,
          0.5084122480003067,
          0.6273821881374195,
          0.5823393257132602,
          0.7747669163013711,
          0.7157246969337302,
          0.08690490847151733,
          0.9386285860148799,
          0.24252824943674178,
          0.2869278394690582,
          0.9268408784154505,
          0.45499666799956184,
          0.24128442648819093,
          0.0859334387635351,
          0.587303931632512,
          0.05725274216827514,
          0.02205346107514128,
          0.17496362033400514,
          0.8985829347769082,
          0.2567072722096292,
          0.035850198583307624,
          0.2200534368233742,
          0.9571000858043736,
          0.9737365908047143,
          0.3963828806802123,
          0.6362415350449229,
          0.15697065950891187,
          0.036360552886472775,
          0.982439271041864,
          0.07103230413276096,
          0.04406673582766252,
          0.9977258111089317,
          0.9375260641083187,
          0.5165719897735459,
          0.5328280702622757,
          0.14681397756233838,
          0.5506515843640556,
          0.18482825515656975,
          0.018811782698625823,
          0.3565744638001872,
          0.08815156772705057,
          0.3442811317469232,
          0.829660538258542,
          0.21618861100269104,
          0.3143410975104918,
          0.7634603125071553,
          0.4724020632558451,
          0.4600717513761058,
          0.1361911206485652,
          0.37637493132673405,
          0.8939930917701026,
          0.45455119567056856
         ]
        },
        {
         "histfunc": "count",
         "histnorm": "",
         "marker": {
          "color": "rgba(50, 171, 96, 1.0)",
          "line": {
           "color": "#4D5663",
           "width": 1.3
          }
         },
         "name": "C",
         "opacity": 0.8,
         "orientation": "v",
         "type": "histogram",
         "x": [
          0.2727659694171646,
          0.10013266711232538,
          0.5448327863460596,
          0.09727329894900805,
          0.2197344135623024,
          0.04214646070583883,
          0.46821889609474976,
          0.8025023567493255,
          0.01573595417142093,
          0.8039627485723932,
          0.05351035310071783,
          0.9000406066334424,
          0.037098494546418004,
          0.2629835388810038,
          0.6565807923926823,
          0.8123690081745882,
          0.09871617059775817,
          0.17238693234887326,
          0.934884113405032,
          0.34064314236757254,
          0.9115421177085139,
          0.5131761680134694,
          0.5379622467693852,
          0.284426545392087,
          0.8345670148283205,
          0.8487558681961126,
          0.5900632249409625,
          0.714154243306131,
          0.49242633777860434,
          0.5336573146516208,
          0.1453402204294264,
          0.8163375471348691,
          0.6811463764736094,
          0.6245439838334139,
          0.4894177841709727,
          0.10532400939912523,
          0.3618680768124718,
          0.32272026156317757,
          0.8433884451270447,
          0.19000243572657838,
          0.6539164107900397,
          0.9521670993114382,
          0.9987033922593445,
          0.770424395262453,
          0.5375133721748498,
          0.082381733581116,
          0.7608344269402947,
          0.008898723946493714,
          0.0495688379008824,
          0.12610535479249285,
          0.762356668150164,
          0.5806095750100767,
          0.607013446608908,
          0.9196984128010408,
          0.28276562212501666,
          0.2625431879724742,
          0.4614249618074985,
          0.17704613485673404,
          0.7868397345361017,
          0.8066783941246661,
          0.4864485987873186,
          0.6135022168649812,
          0.6273290657176195,
          0.6145518813492507,
          0.23944297122292757,
          0.8931918852211221,
          0.3798528483404081,
          0.33649416223700135,
          0.043255334208812224,
          0.553039130920302,
          0.3620196403359204,
          0.5856002401687663,
          0.6080727470900651,
          0.6777037301958364,
          0.4224623950184081,
          0.5079081085198162,
          0.43057034579573017,
          0.6902588282783292,
          0.411766731657773,
          0.4410796490087915,
          0.5088675781055102,
          0.8729896925135645,
          0.09661973445640559,
          0.7642709600505615,
          0.2637435603231273,
          0.5831670398586298,
          0.0639600760652358,
          0.6666363233039206,
          0.2797930223401284,
          0.00906139330142075,
          0.3949603726304901,
          0.33339740804984064,
          0.05697582815757041,
          0.7295051035746041,
          0.4978557217912828,
          0.8432200315712669,
          0.3665848164074931,
          0.19071377651795673,
          0.3134459169813113,
          0.8906068235198399
         ]
        },
        {
         "histfunc": "count",
         "histnorm": "",
         "marker": {
          "color": "rgba(128, 0, 128, 1.0)",
          "line": {
           "color": "#4D5663",
           "width": 1.3
          }
         },
         "name": "D",
         "opacity": 0.8,
         "orientation": "v",
         "type": "histogram",
         "x": [
          0.531294116296426,
          0.19701194010803857,
          0.36434386467679614,
          0.7458001203276531,
          0.17347779351050963,
          0.5472650332783991,
          0.20544178533742818,
          0.6562607253878838,
          0.26853162694740906,
          0.4881979053580182,
          0.5005925234679313,
          0.11531827042724174,
          0.07724001706144845,
          0.8772379707414086,
          0.32891027646901105,
          0.5437696224417293,
          0.6087019800021553,
          0.1017477381914369,
          0.7597565219358867,
          0.7075870895329108,
          0.7824508389972364,
          0.42490351579904595,
          0.44614267994536105,
          0.7371651939483885,
          0.10515654964232335,
          0.3721918184923646,
          0.4000347031993342,
          0.4811459355861514,
          0.28527624524152306,
          0.6108657981650865,
          0.11789606615592574,
          0.0277722663248563,
          0.8769255225809013,
          0.7115275938327793,
          0.11637247371244663,
          0.6664260205940643,
          0.26428574246004877,
          0.1546039499227917,
          0.7866297050243156,
          0.2640539371816679,
          0.017563027647325202,
          0.4072262393364442,
          0.14003560411484361,
          0.9173998380286212,
          0.5597047231192082,
          0.41036967448991135,
          0.9541359098140745,
          0.9902816120106191,
          0.1415037621225823,
          0.6603396390178276,
          0.6579803055591977,
          0.28293678148689194,
          0.7100677203501573,
          0.7792898210151603,
          0.8199346757081758,
          0.9942471970436231,
          0.34197956696915943,
          0.21538847491699653,
          0.24341009312576722,
          0.5295471707344911,
          0.5626079307554687,
          0.5791795721212617,
          0.4887896598370344,
          0.10556584705722183,
          0.05244441702583369,
          0.056921755072777636,
          0.34312237867599027,
          0.13814114956923884,
          0.27090922114601856,
          0.058817672507912366,
          0.7761114588567718,
          0.13401279581048786,
          0.6414201109781611,
          0.048337886591371726,
          0.4024651244047073,
          0.6151419104465695,
          0.6038409436244889,
          0.007146886921568063,
          0.1909741808633073,
          0.7552171870061412,
          0.37798713573425746,
          0.5033973090492699,
          0.5584382428813486,
          0.90021115687748,
          0.6036546937785389,
          0.14620869127019653,
          0.9077622637907194,
          0.36983232215393747,
          0.1766061217443502,
          0.42006766155659614,
          0.9945948240552664,
          0.351962390526806,
          0.8273353540020281,
          0.4065405784702987,
          0.48489755686655456,
          0.544047922177115,
          0.9107186822299095,
          0.7707004394369558,
          0.12804846560045036,
          0.048428768381344134
         ]
        }
       ],
       "layout": {
        "barmode": "overlay",
        "legend": {
         "bgcolor": "#F5F6F9",
         "font": {
          "color": "#4D5663"
         }
        },
        "paper_bgcolor": "#F5F6F9",
        "plot_bgcolor": "#F5F6F9",
        "template": {
         "data": {
          "bar": [
           {
            "error_x": {
             "color": "#2a3f5f"
            },
            "error_y": {
             "color": "#2a3f5f"
            },
            "marker": {
             "line": {
              "color": "#E5ECF6",
              "width": 0.5
             },
             "pattern": {
              "fillmode": "overlay",
              "size": 10,
              "solidity": 0.2
             }
            },
            "type": "bar"
           }
          ],
          "barpolar": [
           {
            "marker": {
             "line": {
              "color": "#E5ECF6",
              "width": 0.5
             },
             "pattern": {
              "fillmode": "overlay",
              "size": 10,
              "solidity": 0.2
             }
            },
            "type": "barpolar"
           }
          ],
          "carpet": [
           {
            "aaxis": {
             "endlinecolor": "#2a3f5f",
             "gridcolor": "white",
             "linecolor": "white",
             "minorgridcolor": "white",
             "startlinecolor": "#2a3f5f"
            },
            "baxis": {
             "endlinecolor": "#2a3f5f",
             "gridcolor": "white",
             "linecolor": "white",
             "minorgridcolor": "white",
             "startlinecolor": "#2a3f5f"
            },
            "type": "carpet"
           }
          ],
          "choropleth": [
           {
            "colorbar": {
             "outlinewidth": 0,
             "ticks": ""
            },
            "type": "choropleth"
           }
          ],
          "contour": [
           {
            "colorbar": {
             "outlinewidth": 0,
             "ticks": ""
            },
            "colorscale": [
             [
              0,
              "#0d0887"
             ],
             [
              0.1111111111111111,
              "#46039f"
             ],
             [
              0.2222222222222222,
              "#7201a8"
             ],
             [
              0.3333333333333333,
              "#9c179e"
             ],
             [
              0.4444444444444444,
              "#bd3786"
             ],
             [
              0.5555555555555556,
              "#d8576b"
             ],
             [
              0.6666666666666666,
              "#ed7953"
             ],
             [
              0.7777777777777778,
              "#fb9f3a"
             ],
             [
              0.8888888888888888,
              "#fdca26"
             ],
             [
              1,
              "#f0f921"
             ]
            ],
            "type": "contour"
           }
          ],
          "contourcarpet": [
           {
            "colorbar": {
             "outlinewidth": 0,
             "ticks": ""
            },
            "type": "contourcarpet"
           }
          ],
          "heatmap": [
           {
            "colorbar": {
             "outlinewidth": 0,
             "ticks": ""
            },
            "colorscale": [
             [
              0,
              "#0d0887"
             ],
             [
              0.1111111111111111,
              "#46039f"
             ],
             [
              0.2222222222222222,
              "#7201a8"
             ],
             [
              0.3333333333333333,
              "#9c179e"
             ],
             [
              0.4444444444444444,
              "#bd3786"
             ],
             [
              0.5555555555555556,
              "#d8576b"
             ],
             [
              0.6666666666666666,
              "#ed7953"
             ],
             [
              0.7777777777777778,
              "#fb9f3a"
             ],
             [
              0.8888888888888888,
              "#fdca26"
             ],
             [
              1,
              "#f0f921"
             ]
            ],
            "type": "heatmap"
           }
          ],
          "heatmapgl": [
           {
            "colorbar": {
             "outlinewidth": 0,
             "ticks": ""
            },
            "colorscale": [
             [
              0,
              "#0d0887"
             ],
             [
              0.1111111111111111,
              "#46039f"
             ],
             [
              0.2222222222222222,
              "#7201a8"
             ],
             [
              0.3333333333333333,
              "#9c179e"
             ],
             [
              0.4444444444444444,
              "#bd3786"
             ],
             [
              0.5555555555555556,
              "#d8576b"
             ],
             [
              0.6666666666666666,
              "#ed7953"
             ],
             [
              0.7777777777777778,
              "#fb9f3a"
             ],
             [
              0.8888888888888888,
              "#fdca26"
             ],
             [
              1,
              "#f0f921"
             ]
            ],
            "type": "heatmapgl"
           }
          ],
          "histogram": [
           {
            "marker": {
             "pattern": {
              "fillmode": "overlay",
              "size": 10,
              "solidity": 0.2
             }
            },
            "type": "histogram"
           }
          ],
          "histogram2d": [
           {
            "colorbar": {
             "outlinewidth": 0,
             "ticks": ""
            },
            "colorscale": [
             [
              0,
              "#0d0887"
             ],
             [
              0.1111111111111111,
              "#46039f"
             ],
             [
              0.2222222222222222,
              "#7201a8"
             ],
             [
              0.3333333333333333,
              "#9c179e"
             ],
             [
              0.4444444444444444,
              "#bd3786"
             ],
             [
              0.5555555555555556,
              "#d8576b"
             ],
             [
              0.6666666666666666,
              "#ed7953"
             ],
             [
              0.7777777777777778,
              "#fb9f3a"
             ],
             [
              0.8888888888888888,
              "#fdca26"
             ],
             [
              1,
              "#f0f921"
             ]
            ],
            "type": "histogram2d"
           }
          ],
          "histogram2dcontour": [
           {
            "colorbar": {
             "outlinewidth": 0,
             "ticks": ""
            },
            "colorscale": [
             [
              0,
              "#0d0887"
             ],
             [
              0.1111111111111111,
              "#46039f"
             ],
             [
              0.2222222222222222,
              "#7201a8"
             ],
             [
              0.3333333333333333,
              "#9c179e"
             ],
             [
              0.4444444444444444,
              "#bd3786"
             ],
             [
              0.5555555555555556,
              "#d8576b"
             ],
             [
              0.6666666666666666,
              "#ed7953"
             ],
             [
              0.7777777777777778,
              "#fb9f3a"
             ],
             [
              0.8888888888888888,
              "#fdca26"
             ],
             [
              1,
              "#f0f921"
             ]
            ],
            "type": "histogram2dcontour"
           }
          ],
          "mesh3d": [
           {
            "colorbar": {
             "outlinewidth": 0,
             "ticks": ""
            },
            "type": "mesh3d"
           }
          ],
          "parcoords": [
           {
            "line": {
             "colorbar": {
              "outlinewidth": 0,
              "ticks": ""
             }
            },
            "type": "parcoords"
           }
          ],
          "pie": [
           {
            "automargin": true,
            "type": "pie"
           }
          ],
          "scatter": [
           {
            "marker": {
             "colorbar": {
              "outlinewidth": 0,
              "ticks": ""
             }
            },
            "type": "scatter"
           }
          ],
          "scatter3d": [
           {
            "line": {
             "colorbar": {
              "outlinewidth": 0,
              "ticks": ""
             }
            },
            "marker": {
             "colorbar": {
              "outlinewidth": 0,
              "ticks": ""
             }
            },
            "type": "scatter3d"
           }
          ],
          "scattercarpet": [
           {
            "marker": {
             "colorbar": {
              "outlinewidth": 0,
              "ticks": ""
             }
            },
            "type": "scattercarpet"
           }
          ],
          "scattergeo": [
           {
            "marker": {
             "colorbar": {
              "outlinewidth": 0,
              "ticks": ""
             }
            },
            "type": "scattergeo"
           }
          ],
          "scattergl": [
           {
            "marker": {
             "colorbar": {
              "outlinewidth": 0,
              "ticks": ""
             }
            },
            "type": "scattergl"
           }
          ],
          "scattermapbox": [
           {
            "marker": {
             "colorbar": {
              "outlinewidth": 0,
              "ticks": ""
             }
            },
            "type": "scattermapbox"
           }
          ],
          "scatterpolar": [
           {
            "marker": {
             "colorbar": {
              "outlinewidth": 0,
              "ticks": ""
             }
            },
            "type": "scatterpolar"
           }
          ],
          "scatterpolargl": [
           {
            "marker": {
             "colorbar": {
              "outlinewidth": 0,
              "ticks": ""
             }
            },
            "type": "scatterpolargl"
           }
          ],
          "scatterternary": [
           {
            "marker": {
             "colorbar": {
              "outlinewidth": 0,
              "ticks": ""
             }
            },
            "type": "scatterternary"
           }
          ],
          "surface": [
           {
            "colorbar": {
             "outlinewidth": 0,
             "ticks": ""
            },
            "colorscale": [
             [
              0,
              "#0d0887"
             ],
             [
              0.1111111111111111,
              "#46039f"
             ],
             [
              0.2222222222222222,
              "#7201a8"
             ],
             [
              0.3333333333333333,
              "#9c179e"
             ],
             [
              0.4444444444444444,
              "#bd3786"
             ],
             [
              0.5555555555555556,
              "#d8576b"
             ],
             [
              0.6666666666666666,
              "#ed7953"
             ],
             [
              0.7777777777777778,
              "#fb9f3a"
             ],
             [
              0.8888888888888888,
              "#fdca26"
             ],
             [
              1,
              "#f0f921"
             ]
            ],
            "type": "surface"
           }
          ],
          "table": [
           {
            "cells": {
             "fill": {
              "color": "#EBF0F8"
             },
             "line": {
              "color": "white"
             }
            },
            "header": {
             "fill": {
              "color": "#C8D4E3"
             },
             "line": {
              "color": "white"
             }
            },
            "type": "table"
           }
          ]
         },
         "layout": {
          "annotationdefaults": {
           "arrowcolor": "#2a3f5f",
           "arrowhead": 0,
           "arrowwidth": 1
          },
          "autotypenumbers": "strict",
          "coloraxis": {
           "colorbar": {
            "outlinewidth": 0,
            "ticks": ""
           }
          },
          "colorscale": {
           "diverging": [
            [
             0,
             "#8e0152"
            ],
            [
             0.1,
             "#c51b7d"
            ],
            [
             0.2,
             "#de77ae"
            ],
            [
             0.3,
             "#f1b6da"
            ],
            [
             0.4,
             "#fde0ef"
            ],
            [
             0.5,
             "#f7f7f7"
            ],
            [
             0.6,
             "#e6f5d0"
            ],
            [
             0.7,
             "#b8e186"
            ],
            [
             0.8,
             "#7fbc41"
            ],
            [
             0.9,
             "#4d9221"
            ],
            [
             1,
             "#276419"
            ]
           ],
           "sequential": [
            [
             0,
             "#0d0887"
            ],
            [
             0.1111111111111111,
             "#46039f"
            ],
            [
             0.2222222222222222,
             "#7201a8"
            ],
            [
             0.3333333333333333,
             "#9c179e"
            ],
            [
             0.4444444444444444,
             "#bd3786"
            ],
            [
             0.5555555555555556,
             "#d8576b"
            ],
            [
             0.6666666666666666,
             "#ed7953"
            ],
            [
             0.7777777777777778,
             "#fb9f3a"
            ],
            [
             0.8888888888888888,
             "#fdca26"
            ],
            [
             1,
             "#f0f921"
            ]
           ],
           "sequentialminus": [
            [
             0,
             "#0d0887"
            ],
            [
             0.1111111111111111,
             "#46039f"
            ],
            [
             0.2222222222222222,
             "#7201a8"
            ],
            [
             0.3333333333333333,
             "#9c179e"
            ],
            [
             0.4444444444444444,
             "#bd3786"
            ],
            [
             0.5555555555555556,
             "#d8576b"
            ],
            [
             0.6666666666666666,
             "#ed7953"
            ],
            [
             0.7777777777777778,
             "#fb9f3a"
            ],
            [
             0.8888888888888888,
             "#fdca26"
            ],
            [
             1,
             "#f0f921"
            ]
           ]
          },
          "colorway": [
           "#636efa",
           "#EF553B",
           "#00cc96",
           "#ab63fa",
           "#FFA15A",
           "#19d3f3",
           "#FF6692",
           "#B6E880",
           "#FF97FF",
           "#FECB52"
          ],
          "font": {
           "color": "#2a3f5f"
          },
          "geo": {
           "bgcolor": "white",
           "lakecolor": "white",
           "landcolor": "#E5ECF6",
           "showlakes": true,
           "showland": true,
           "subunitcolor": "white"
          },
          "hoverlabel": {
           "align": "left"
          },
          "hovermode": "closest",
          "mapbox": {
           "style": "light"
          },
          "paper_bgcolor": "white",
          "plot_bgcolor": "#E5ECF6",
          "polar": {
           "angularaxis": {
            "gridcolor": "white",
            "linecolor": "white",
            "ticks": ""
           },
           "bgcolor": "#E5ECF6",
           "radialaxis": {
            "gridcolor": "white",
            "linecolor": "white",
            "ticks": ""
           }
          },
          "scene": {
           "xaxis": {
            "backgroundcolor": "#E5ECF6",
            "gridcolor": "white",
            "gridwidth": 2,
            "linecolor": "white",
            "showbackground": true,
            "ticks": "",
            "zerolinecolor": "white"
           },
           "yaxis": {
            "backgroundcolor": "#E5ECF6",
            "gridcolor": "white",
            "gridwidth": 2,
            "linecolor": "white",
            "showbackground": true,
            "ticks": "",
            "zerolinecolor": "white"
           },
           "zaxis": {
            "backgroundcolor": "#E5ECF6",
            "gridcolor": "white",
            "gridwidth": 2,
            "linecolor": "white",
            "showbackground": true,
            "ticks": "",
            "zerolinecolor": "white"
           }
          },
          "shapedefaults": {
           "line": {
            "color": "#2a3f5f"
           }
          },
          "ternary": {
           "aaxis": {
            "gridcolor": "white",
            "linecolor": "white",
            "ticks": ""
           },
           "baxis": {
            "gridcolor": "white",
            "linecolor": "white",
            "ticks": ""
           },
           "bgcolor": "#E5ECF6",
           "caxis": {
            "gridcolor": "white",
            "linecolor": "white",
            "ticks": ""
           }
          },
          "title": {
           "x": 0.05
          },
          "xaxis": {
           "automargin": true,
           "gridcolor": "white",
           "linecolor": "white",
           "ticks": "",
           "title": {
            "standoff": 15
           },
           "zerolinecolor": "white",
           "zerolinewidth": 2
          },
          "yaxis": {
           "automargin": true,
           "gridcolor": "white",
           "linecolor": "white",
           "ticks": "",
           "title": {
            "standoff": 15
           },
           "zerolinecolor": "white",
           "zerolinewidth": 2
          }
         }
        },
        "title": {
         "font": {
          "color": "#4D5663"
         }
        },
        "xaxis": {
         "gridcolor": "#E1E5ED",
         "showgrid": true,
         "tickfont": {
          "color": "#4D5663"
         },
         "title": {
          "font": {
           "color": "#4D5663"
          },
          "text": ""
         },
         "zerolinecolor": "#E1E5ED"
        },
        "yaxis": {
         "gridcolor": "#E1E5ED",
         "showgrid": true,
         "tickfont": {
          "color": "#4D5663"
         },
         "title": {
          "font": {
           "color": "#4D5663"
          },
          "text": ""
         },
         "zerolinecolor": "#E1E5ED"
        }
       }
      },
      "text/html": [
       "<div>                            <div id=\"a0d6584e-62fd-4c3a-8fd0-85539fa601ed\" class=\"plotly-graph-div\" style=\"height:525px; width:100%;\"></div>            <script type=\"text/javascript\">                require([\"plotly\"], function(Plotly) {                    window.PLOTLYENV=window.PLOTLYENV || {};\n",
       "                    window.PLOTLYENV.BASE_URL='https://plot.ly';                                    if (document.getElementById(\"a0d6584e-62fd-4c3a-8fd0-85539fa601ed\")) {                    Plotly.newPlot(                        \"a0d6584e-62fd-4c3a-8fd0-85539fa601ed\",                        [{\"histfunc\":\"count\",\"histnorm\":\"\",\"marker\":{\"color\":\"rgba(255, 153, 51, 1.0)\",\"line\":{\"color\":\"#4D5663\",\"width\":1.3}},\"name\":\"A\",\"opacity\":0.8,\"orientation\":\"v\",\"type\":\"histogram\",\"x\":[0.6874854690341766,0.5513974765103675,0.45219615905465405,0.3220074688721969,0.49848573503280835,0.8958082016552023,0.5924551606207522,0.019085849506069286,0.16849589082793093,0.03917191500638728,0.9121123388386799,0.23796051949259922,0.7258352658575087,0.34011954084222296,0.9491936521385159,0.15990653103289698,0.9754274244115759,0.3513871614097297,0.7066711673159177,0.6239263416350013,0.7027295187093794,0.799269947258963,0.33849993354535746,0.6301050773543084,0.051192931727014224,0.7224205087266852,0.4610464129486934,0.18313301492030254,0.40054735793284857,0.014412382101959054,0.5456590908441381,0.10855883211332473,0.11586655917905408,0.10568130158337796,0.9818825910553824,0.8617623526104413,0.9415055939261352,0.35812691402662733,0.6234732510966413,0.15305832576902845,0.23400930433298706,0.4388023440377373,0.09120750092250074,0.2590262261903984,0.03974027611508335,0.9284703344580862,0.6080577294722969,0.1012374898742957,0.11618317926899302,0.6088220366799406,0.11991550032916609,0.28278449287021923,0.12753378858961406,0.21490654709576862,0.7204691205883724,0.5518301887870176,0.7226709942872196,0.328001954785583,0.49011610109086257,0.11945543432845651,0.7686714245848407,0.8652286415169714,0.3387705814403654,0.20014342665332918,0.260917778080169,0.9954206073810935,0.27240193790782574,0.27575568228905967,0.30877116216175204,0.579622051446661,0.5461726196682098,0.6872479995752397,0.4276608269347526,0.6431573587078688,0.10326755653659647,0.021542551887952288,0.5826640406415982,0.1961995137374999,0.9301684925096566,0.35239104974070956,0.9269534890286317,0.00967037511330382,0.6469773371700347,0.08189466503482001,0.6470770636312277,0.7186538462033282,0.64798841147515,0.9390131824104669,0.39599019547534,0.4997378936919815,0.3979814103169699,0.43334068025240957,0.18204684784992287,0.9055616278589967,0.4950070469382203,0.2728325871340562,0.3263777289755577,0.9382923709357847,0.9228802624702013,0.2280123275393151]},{\"histfunc\":\"count\",\"histnorm\":\"\",\"marker\":{\"color\":\"rgba(55, 128, 191, 1.0)\",\"line\":{\"color\":\"#4D5663\",\"width\":1.3}},\"name\":\"B\",\"opacity\":0.8,\"orientation\":\"v\",\"type\":\"histogram\",\"x\":[0.8843255679714199,0.4753451338820551,0.5564770416397901,0.4181370124941951,0.8082568964572047,0.0041675524322632995,0.7357309494209592,0.12236491926338045,0.8026430626697526,0.8551481461602891,0.9160726083915803,0.1948611008604485,0.10701810828909286,0.5659538314632473,0.006860980634156744,0.9230463812155936,0.3674568219671307,0.19570344085171865,0.4859113095727293,0.7788449077848387,0.4019894727335077,0.7895054616695254,0.950720477376916,0.7324935991597183,0.8294060719954223,0.6182198093766845,0.3101609180831728,0.8393311468830299,0.541810088608328,0.9808512663420359,0.7004636554110424,0.6112366152144356,0.7291840796906991,0.3664280752889001,0.22748883431446054,0.5760954477062057,0.056814697827563765,0.2644182837393171,0.5254839699381781,0.6053576784527464,0.7582588213806051,0.600899443738797,0.28418780384870856,0.7235975540666422,0.5248556362855886,0.17192615028233327,0.002118427862049077,0.10281536998752638,0.7699441949341121,0.5084122480003067,0.6273821881374195,0.5823393257132602,0.7747669163013711,0.7157246969337302,0.08690490847151733,0.9386285860148799,0.24252824943674178,0.2869278394690582,0.9268408784154505,0.45499666799956184,0.24128442648819093,0.0859334387635351,0.587303931632512,0.05725274216827514,0.02205346107514128,0.17496362033400514,0.8985829347769082,0.2567072722096292,0.035850198583307624,0.2200534368233742,0.9571000858043736,0.9737365908047143,0.3963828806802123,0.6362415350449229,0.15697065950891187,0.036360552886472775,0.982439271041864,0.07103230413276096,0.04406673582766252,0.9977258111089317,0.9375260641083187,0.5165719897735459,0.5328280702622757,0.14681397756233838,0.5506515843640556,0.18482825515656975,0.018811782698625823,0.3565744638001872,0.08815156772705057,0.3442811317469232,0.829660538258542,0.21618861100269104,0.3143410975104918,0.7634603125071553,0.4724020632558451,0.4600717513761058,0.1361911206485652,0.37637493132673405,0.8939930917701026,0.45455119567056856]},{\"histfunc\":\"count\",\"histnorm\":\"\",\"marker\":{\"color\":\"rgba(50, 171, 96, 1.0)\",\"line\":{\"color\":\"#4D5663\",\"width\":1.3}},\"name\":\"C\",\"opacity\":0.8,\"orientation\":\"v\",\"type\":\"histogram\",\"x\":[0.2727659694171646,0.10013266711232538,0.5448327863460596,0.09727329894900805,0.2197344135623024,0.04214646070583883,0.46821889609474976,0.8025023567493255,0.01573595417142093,0.8039627485723932,0.05351035310071783,0.9000406066334424,0.037098494546418004,0.2629835388810038,0.6565807923926823,0.8123690081745882,0.09871617059775817,0.17238693234887326,0.934884113405032,0.34064314236757254,0.9115421177085139,0.5131761680134694,0.5379622467693852,0.284426545392087,0.8345670148283205,0.8487558681961126,0.5900632249409625,0.714154243306131,0.49242633777860434,0.5336573146516208,0.1453402204294264,0.8163375471348691,0.6811463764736094,0.6245439838334139,0.4894177841709727,0.10532400939912523,0.3618680768124718,0.32272026156317757,0.8433884451270447,0.19000243572657838,0.6539164107900397,0.9521670993114382,0.9987033922593445,0.770424395262453,0.5375133721748498,0.082381733581116,0.7608344269402947,0.008898723946493714,0.0495688379008824,0.12610535479249285,0.762356668150164,0.5806095750100767,0.607013446608908,0.9196984128010408,0.28276562212501666,0.2625431879724742,0.4614249618074985,0.17704613485673404,0.7868397345361017,0.8066783941246661,0.4864485987873186,0.6135022168649812,0.6273290657176195,0.6145518813492507,0.23944297122292757,0.8931918852211221,0.3798528483404081,0.33649416223700135,0.043255334208812224,0.553039130920302,0.3620196403359204,0.5856002401687663,0.6080727470900651,0.6777037301958364,0.4224623950184081,0.5079081085198162,0.43057034579573017,0.6902588282783292,0.411766731657773,0.4410796490087915,0.5088675781055102,0.8729896925135645,0.09661973445640559,0.7642709600505615,0.2637435603231273,0.5831670398586298,0.0639600760652358,0.6666363233039206,0.2797930223401284,0.00906139330142075,0.3949603726304901,0.33339740804984064,0.05697582815757041,0.7295051035746041,0.4978557217912828,0.8432200315712669,0.3665848164074931,0.19071377651795673,0.3134459169813113,0.8906068235198399]},{\"histfunc\":\"count\",\"histnorm\":\"\",\"marker\":{\"color\":\"rgba(128, 0, 128, 1.0)\",\"line\":{\"color\":\"#4D5663\",\"width\":1.3}},\"name\":\"D\",\"opacity\":0.8,\"orientation\":\"v\",\"type\":\"histogram\",\"x\":[0.531294116296426,0.19701194010803857,0.36434386467679614,0.7458001203276531,0.17347779351050963,0.5472650332783991,0.20544178533742818,0.6562607253878838,0.26853162694740906,0.4881979053580182,0.5005925234679313,0.11531827042724174,0.07724001706144845,0.8772379707414086,0.32891027646901105,0.5437696224417293,0.6087019800021553,0.1017477381914369,0.7597565219358867,0.7075870895329108,0.7824508389972364,0.42490351579904595,0.44614267994536105,0.7371651939483885,0.10515654964232335,0.3721918184923646,0.4000347031993342,0.4811459355861514,0.28527624524152306,0.6108657981650865,0.11789606615592574,0.0277722663248563,0.8769255225809013,0.7115275938327793,0.11637247371244663,0.6664260205940643,0.26428574246004877,0.1546039499227917,0.7866297050243156,0.2640539371816679,0.017563027647325202,0.4072262393364442,0.14003560411484361,0.9173998380286212,0.5597047231192082,0.41036967448991135,0.9541359098140745,0.9902816120106191,0.1415037621225823,0.6603396390178276,0.6579803055591977,0.28293678148689194,0.7100677203501573,0.7792898210151603,0.8199346757081758,0.9942471970436231,0.34197956696915943,0.21538847491699653,0.24341009312576722,0.5295471707344911,0.5626079307554687,0.5791795721212617,0.4887896598370344,0.10556584705722183,0.05244441702583369,0.056921755072777636,0.34312237867599027,0.13814114956923884,0.27090922114601856,0.058817672507912366,0.7761114588567718,0.13401279581048786,0.6414201109781611,0.048337886591371726,0.4024651244047073,0.6151419104465695,0.6038409436244889,0.007146886921568063,0.1909741808633073,0.7552171870061412,0.37798713573425746,0.5033973090492699,0.5584382428813486,0.90021115687748,0.6036546937785389,0.14620869127019653,0.9077622637907194,0.36983232215393747,0.1766061217443502,0.42006766155659614,0.9945948240552664,0.351962390526806,0.8273353540020281,0.4065405784702987,0.48489755686655456,0.544047922177115,0.9107186822299095,0.7707004394369558,0.12804846560045036,0.048428768381344134]}],                        {\"barmode\":\"overlay\",\"legend\":{\"bgcolor\":\"#F5F6F9\",\"font\":{\"color\":\"#4D5663\"}},\"paper_bgcolor\":\"#F5F6F9\",\"plot_bgcolor\":\"#F5F6F9\",\"template\":{\"data\":{\"bar\":[{\"error_x\":{\"color\":\"#2a3f5f\"},\"error_y\":{\"color\":\"#2a3f5f\"},\"marker\":{\"line\":{\"color\":\"#E5ECF6\",\"width\":0.5},\"pattern\":{\"fillmode\":\"overlay\",\"size\":10,\"solidity\":0.2}},\"type\":\"bar\"}],\"barpolar\":[{\"marker\":{\"line\":{\"color\":\"#E5ECF6\",\"width\":0.5},\"pattern\":{\"fillmode\":\"overlay\",\"size\":10,\"solidity\":0.2}},\"type\":\"barpolar\"}],\"carpet\":[{\"aaxis\":{\"endlinecolor\":\"#2a3f5f\",\"gridcolor\":\"white\",\"linecolor\":\"white\",\"minorgridcolor\":\"white\",\"startlinecolor\":\"#2a3f5f\"},\"baxis\":{\"endlinecolor\":\"#2a3f5f\",\"gridcolor\":\"white\",\"linecolor\":\"white\",\"minorgridcolor\":\"white\",\"startlinecolor\":\"#2a3f5f\"},\"type\":\"carpet\"}],\"choropleth\":[{\"colorbar\":{\"outlinewidth\":0,\"ticks\":\"\"},\"type\":\"choropleth\"}],\"contour\":[{\"colorbar\":{\"outlinewidth\":0,\"ticks\":\"\"},\"colorscale\":[[0.0,\"#0d0887\"],[0.1111111111111111,\"#46039f\"],[0.2222222222222222,\"#7201a8\"],[0.3333333333333333,\"#9c179e\"],[0.4444444444444444,\"#bd3786\"],[0.5555555555555556,\"#d8576b\"],[0.6666666666666666,\"#ed7953\"],[0.7777777777777778,\"#fb9f3a\"],[0.8888888888888888,\"#fdca26\"],[1.0,\"#f0f921\"]],\"type\":\"contour\"}],\"contourcarpet\":[{\"colorbar\":{\"outlinewidth\":0,\"ticks\":\"\"},\"type\":\"contourcarpet\"}],\"heatmap\":[{\"colorbar\":{\"outlinewidth\":0,\"ticks\":\"\"},\"colorscale\":[[0.0,\"#0d0887\"],[0.1111111111111111,\"#46039f\"],[0.2222222222222222,\"#7201a8\"],[0.3333333333333333,\"#9c179e\"],[0.4444444444444444,\"#bd3786\"],[0.5555555555555556,\"#d8576b\"],[0.6666666666666666,\"#ed7953\"],[0.7777777777777778,\"#fb9f3a\"],[0.8888888888888888,\"#fdca26\"],[1.0,\"#f0f921\"]],\"type\":\"heatmap\"}],\"heatmapgl\":[{\"colorbar\":{\"outlinewidth\":0,\"ticks\":\"\"},\"colorscale\":[[0.0,\"#0d0887\"],[0.1111111111111111,\"#46039f\"],[0.2222222222222222,\"#7201a8\"],[0.3333333333333333,\"#9c179e\"],[0.4444444444444444,\"#bd3786\"],[0.5555555555555556,\"#d8576b\"],[0.6666666666666666,\"#ed7953\"],[0.7777777777777778,\"#fb9f3a\"],[0.8888888888888888,\"#fdca26\"],[1.0,\"#f0f921\"]],\"type\":\"heatmapgl\"}],\"histogram\":[{\"marker\":{\"pattern\":{\"fillmode\":\"overlay\",\"size\":10,\"solidity\":0.2}},\"type\":\"histogram\"}],\"histogram2d\":[{\"colorbar\":{\"outlinewidth\":0,\"ticks\":\"\"},\"colorscale\":[[0.0,\"#0d0887\"],[0.1111111111111111,\"#46039f\"],[0.2222222222222222,\"#7201a8\"],[0.3333333333333333,\"#9c179e\"],[0.4444444444444444,\"#bd3786\"],[0.5555555555555556,\"#d8576b\"],[0.6666666666666666,\"#ed7953\"],[0.7777777777777778,\"#fb9f3a\"],[0.8888888888888888,\"#fdca26\"],[1.0,\"#f0f921\"]],\"type\":\"histogram2d\"}],\"histogram2dcontour\":[{\"colorbar\":{\"outlinewidth\":0,\"ticks\":\"\"},\"colorscale\":[[0.0,\"#0d0887\"],[0.1111111111111111,\"#46039f\"],[0.2222222222222222,\"#7201a8\"],[0.3333333333333333,\"#9c179e\"],[0.4444444444444444,\"#bd3786\"],[0.5555555555555556,\"#d8576b\"],[0.6666666666666666,\"#ed7953\"],[0.7777777777777778,\"#fb9f3a\"],[0.8888888888888888,\"#fdca26\"],[1.0,\"#f0f921\"]],\"type\":\"histogram2dcontour\"}],\"mesh3d\":[{\"colorbar\":{\"outlinewidth\":0,\"ticks\":\"\"},\"type\":\"mesh3d\"}],\"parcoords\":[{\"line\":{\"colorbar\":{\"outlinewidth\":0,\"ticks\":\"\"}},\"type\":\"parcoords\"}],\"pie\":[{\"automargin\":true,\"type\":\"pie\"}],\"scatter\":[{\"marker\":{\"colorbar\":{\"outlinewidth\":0,\"ticks\":\"\"}},\"type\":\"scatter\"}],\"scatter3d\":[{\"line\":{\"colorbar\":{\"outlinewidth\":0,\"ticks\":\"\"}},\"marker\":{\"colorbar\":{\"outlinewidth\":0,\"ticks\":\"\"}},\"type\":\"scatter3d\"}],\"scattercarpet\":[{\"marker\":{\"colorbar\":{\"outlinewidth\":0,\"ticks\":\"\"}},\"type\":\"scattercarpet\"}],\"scattergeo\":[{\"marker\":{\"colorbar\":{\"outlinewidth\":0,\"ticks\":\"\"}},\"type\":\"scattergeo\"}],\"scattergl\":[{\"marker\":{\"colorbar\":{\"outlinewidth\":0,\"ticks\":\"\"}},\"type\":\"scattergl\"}],\"scattermapbox\":[{\"marker\":{\"colorbar\":{\"outlinewidth\":0,\"ticks\":\"\"}},\"type\":\"scattermapbox\"}],\"scatterpolar\":[{\"marker\":{\"colorbar\":{\"outlinewidth\":0,\"ticks\":\"\"}},\"type\":\"scatterpolar\"}],\"scatterpolargl\":[{\"marker\":{\"colorbar\":{\"outlinewidth\":0,\"ticks\":\"\"}},\"type\":\"scatterpolargl\"}],\"scatterternary\":[{\"marker\":{\"colorbar\":{\"outlinewidth\":0,\"ticks\":\"\"}},\"type\":\"scatterternary\"}],\"surface\":[{\"colorbar\":{\"outlinewidth\":0,\"ticks\":\"\"},\"colorscale\":[[0.0,\"#0d0887\"],[0.1111111111111111,\"#46039f\"],[0.2222222222222222,\"#7201a8\"],[0.3333333333333333,\"#9c179e\"],[0.4444444444444444,\"#bd3786\"],[0.5555555555555556,\"#d8576b\"],[0.6666666666666666,\"#ed7953\"],[0.7777777777777778,\"#fb9f3a\"],[0.8888888888888888,\"#fdca26\"],[1.0,\"#f0f921\"]],\"type\":\"surface\"}],\"table\":[{\"cells\":{\"fill\":{\"color\":\"#EBF0F8\"},\"line\":{\"color\":\"white\"}},\"header\":{\"fill\":{\"color\":\"#C8D4E3\"},\"line\":{\"color\":\"white\"}},\"type\":\"table\"}]},\"layout\":{\"annotationdefaults\":{\"arrowcolor\":\"#2a3f5f\",\"arrowhead\":0,\"arrowwidth\":1},\"autotypenumbers\":\"strict\",\"coloraxis\":{\"colorbar\":{\"outlinewidth\":0,\"ticks\":\"\"}},\"colorscale\":{\"diverging\":[[0,\"#8e0152\"],[0.1,\"#c51b7d\"],[0.2,\"#de77ae\"],[0.3,\"#f1b6da\"],[0.4,\"#fde0ef\"],[0.5,\"#f7f7f7\"],[0.6,\"#e6f5d0\"],[0.7,\"#b8e186\"],[0.8,\"#7fbc41\"],[0.9,\"#4d9221\"],[1,\"#276419\"]],\"sequential\":[[0.0,\"#0d0887\"],[0.1111111111111111,\"#46039f\"],[0.2222222222222222,\"#7201a8\"],[0.3333333333333333,\"#9c179e\"],[0.4444444444444444,\"#bd3786\"],[0.5555555555555556,\"#d8576b\"],[0.6666666666666666,\"#ed7953\"],[0.7777777777777778,\"#fb9f3a\"],[0.8888888888888888,\"#fdca26\"],[1.0,\"#f0f921\"]],\"sequentialminus\":[[0.0,\"#0d0887\"],[0.1111111111111111,\"#46039f\"],[0.2222222222222222,\"#7201a8\"],[0.3333333333333333,\"#9c179e\"],[0.4444444444444444,\"#bd3786\"],[0.5555555555555556,\"#d8576b\"],[0.6666666666666666,\"#ed7953\"],[0.7777777777777778,\"#fb9f3a\"],[0.8888888888888888,\"#fdca26\"],[1.0,\"#f0f921\"]]},\"colorway\":[\"#636efa\",\"#EF553B\",\"#00cc96\",\"#ab63fa\",\"#FFA15A\",\"#19d3f3\",\"#FF6692\",\"#B6E880\",\"#FF97FF\",\"#FECB52\"],\"font\":{\"color\":\"#2a3f5f\"},\"geo\":{\"bgcolor\":\"white\",\"lakecolor\":\"white\",\"landcolor\":\"#E5ECF6\",\"showlakes\":true,\"showland\":true,\"subunitcolor\":\"white\"},\"hoverlabel\":{\"align\":\"left\"},\"hovermode\":\"closest\",\"mapbox\":{\"style\":\"light\"},\"paper_bgcolor\":\"white\",\"plot_bgcolor\":\"#E5ECF6\",\"polar\":{\"angularaxis\":{\"gridcolor\":\"white\",\"linecolor\":\"white\",\"ticks\":\"\"},\"bgcolor\":\"#E5ECF6\",\"radialaxis\":{\"gridcolor\":\"white\",\"linecolor\":\"white\",\"ticks\":\"\"}},\"scene\":{\"xaxis\":{\"backgroundcolor\":\"#E5ECF6\",\"gridcolor\":\"white\",\"gridwidth\":2,\"linecolor\":\"white\",\"showbackground\":true,\"ticks\":\"\",\"zerolinecolor\":\"white\"},\"yaxis\":{\"backgroundcolor\":\"#E5ECF6\",\"gridcolor\":\"white\",\"gridwidth\":2,\"linecolor\":\"white\",\"showbackground\":true,\"ticks\":\"\",\"zerolinecolor\":\"white\"},\"zaxis\":{\"backgroundcolor\":\"#E5ECF6\",\"gridcolor\":\"white\",\"gridwidth\":2,\"linecolor\":\"white\",\"showbackground\":true,\"ticks\":\"\",\"zerolinecolor\":\"white\"}},\"shapedefaults\":{\"line\":{\"color\":\"#2a3f5f\"}},\"ternary\":{\"aaxis\":{\"gridcolor\":\"white\",\"linecolor\":\"white\",\"ticks\":\"\"},\"baxis\":{\"gridcolor\":\"white\",\"linecolor\":\"white\",\"ticks\":\"\"},\"bgcolor\":\"#E5ECF6\",\"caxis\":{\"gridcolor\":\"white\",\"linecolor\":\"white\",\"ticks\":\"\"}},\"title\":{\"x\":0.05},\"xaxis\":{\"automargin\":true,\"gridcolor\":\"white\",\"linecolor\":\"white\",\"ticks\":\"\",\"title\":{\"standoff\":15},\"zerolinecolor\":\"white\",\"zerolinewidth\":2},\"yaxis\":{\"automargin\":true,\"gridcolor\":\"white\",\"linecolor\":\"white\",\"ticks\":\"\",\"title\":{\"standoff\":15},\"zerolinecolor\":\"white\",\"zerolinewidth\":2}}},\"title\":{\"font\":{\"color\":\"#4D5663\"}},\"xaxis\":{\"gridcolor\":\"#E1E5ED\",\"showgrid\":true,\"tickfont\":{\"color\":\"#4D5663\"},\"title\":{\"font\":{\"color\":\"#4D5663\"},\"text\":\"\"},\"zerolinecolor\":\"#E1E5ED\"},\"yaxis\":{\"gridcolor\":\"#E1E5ED\",\"showgrid\":true,\"tickfont\":{\"color\":\"#4D5663\"},\"title\":{\"font\":{\"color\":\"#4D5663\"},\"text\":\"\"},\"zerolinecolor\":\"#E1E5ED\"}},                        {\"showLink\": true, \"linkText\": \"Export to plot.ly\", \"plotlyServerURL\": \"https://plot.ly\", \"responsive\": true}                    ).then(function(){\n",
       "                            \n",
       "var gd = document.getElementById('a0d6584e-62fd-4c3a-8fd0-85539fa601ed');\n",
       "var x = new MutationObserver(function (mutations, observer) {{\n",
       "        var display = window.getComputedStyle(gd).display;\n",
       "        if (!display || display === 'none') {{\n",
       "            console.log([gd, 'removed!']);\n",
       "            Plotly.purge(gd);\n",
       "            observer.disconnect();\n",
       "        }}\n",
       "}});\n",
       "\n",
       "// Listen for the removal of the full notebook cells\n",
       "var notebookContainer = gd.closest('#notebook-container');\n",
       "if (notebookContainer) {{\n",
       "    x.observe(notebookContainer, {childList: true});\n",
       "}}\n",
       "\n",
       "// Listen for the clearing of the current output cell\n",
       "var outputEl = gd.closest('.output');\n",
       "if (outputEl) {{\n",
       "    x.observe(outputEl, {childList: true});\n",
       "}}\n",
       "\n",
       "                        })                };                });            </script>        </div>"
      ]
     },
     "metadata": {},
     "output_type": "display_data"
    }
   ],
   "source": [
    "df.iplot(kind='hist')"
   ]
  },
  {
   "cell_type": "code",
   "execution_count": 38,
   "id": "922856ee",
   "metadata": {},
   "outputs": [
    {
     "name": "stderr",
     "output_type": "stream",
     "text": [
      "C:\\Users\\Tahmid\\anaconda3\\lib\\site-packages\\cufflinks\\plotlytools.py:849: FutureWarning:\n",
      "\n",
      "The pandas.np module is deprecated and will be removed from pandas in a future version. Import numpy directly instead\n",
      "\n",
      "C:\\Users\\Tahmid\\anaconda3\\lib\\site-packages\\cufflinks\\plotlytools.py:850: FutureWarning:\n",
      "\n",
      "The pandas.np module is deprecated and will be removed from pandas in a future version. Import numpy directly instead\n",
      "\n"
     ]
    },
    {
     "data": {
      "application/vnd.plotly.v1+json": {
       "config": {
        "linkText": "Export to plot.ly",
        "plotlyServerURL": "https://plot.ly",
        "showLink": true
       },
       "data": [
        {
         "line": {
          "color": "rgba(255, 153, 51, 1.0)",
          "dash": "solid",
          "shape": "linear",
          "width": 1.3
         },
         "mode": "lines",
         "name": "A",
         "text": "",
         "type": "scatter",
         "x": [
          0,
          1,
          2,
          3,
          4,
          5,
          6,
          7,
          8,
          9,
          10,
          11,
          12,
          13,
          14,
          15,
          16,
          17,
          18,
          19,
          20,
          21,
          22,
          23,
          24,
          25,
          26,
          27,
          28,
          29,
          30,
          31,
          32,
          33,
          34,
          35,
          36,
          37,
          38,
          39,
          40,
          41,
          42,
          43,
          44,
          45,
          46,
          47,
          48,
          49,
          50,
          51,
          52,
          53,
          54,
          55,
          56,
          57,
          58,
          59,
          60,
          61,
          62,
          63,
          64,
          65,
          66,
          67,
          68,
          69,
          70,
          71,
          72,
          73,
          74,
          75,
          76,
          77,
          78,
          79,
          80,
          81,
          82,
          83,
          84,
          85,
          86,
          87,
          88,
          89,
          90,
          91,
          92,
          93,
          94,
          95,
          96,
          97,
          98,
          99
         ],
         "y": [
          0.6874854690341766,
          0.5513974765103675,
          0.45219615905465405,
          0.3220074688721969,
          0.49848573503280835,
          0.8958082016552023,
          0.5924551606207522,
          0.019085849506069286,
          0.16849589082793093,
          0.03917191500638728,
          0.9121123388386799,
          0.23796051949259922,
          0.7258352658575087,
          0.34011954084222296,
          0.9491936521385159,
          0.15990653103289698,
          0.9754274244115759,
          0.3513871614097297,
          0.7066711673159177,
          0.6239263416350013,
          0.7027295187093794,
          0.799269947258963,
          0.33849993354535746,
          0.6301050773543084,
          0.051192931727014224,
          0.7224205087266852,
          0.4610464129486934,
          0.18313301492030254,
          0.40054735793284857,
          0.014412382101959054,
          0.5456590908441381,
          0.10855883211332473,
          0.11586655917905408,
          0.10568130158337796,
          0.9818825910553824,
          0.8617623526104413,
          0.9415055939261352,
          0.35812691402662733,
          0.6234732510966413,
          0.15305832576902845,
          0.23400930433298706,
          0.4388023440377373,
          0.09120750092250074,
          0.2590262261903984,
          0.03974027611508335,
          0.9284703344580862,
          0.6080577294722969,
          0.1012374898742957,
          0.11618317926899302,
          0.6088220366799406,
          0.11991550032916609,
          0.28278449287021923,
          0.12753378858961406,
          0.21490654709576862,
          0.7204691205883724,
          0.5518301887870176,
          0.7226709942872196,
          0.328001954785583,
          0.49011610109086257,
          0.11945543432845651,
          0.7686714245848407,
          0.8652286415169714,
          0.3387705814403654,
          0.20014342665332918,
          0.260917778080169,
          0.9954206073810935,
          0.27240193790782574,
          0.27575568228905967,
          0.30877116216175204,
          0.579622051446661,
          0.5461726196682098,
          0.6872479995752397,
          0.4276608269347526,
          0.6431573587078688,
          0.10326755653659647,
          0.021542551887952288,
          0.5826640406415982,
          0.1961995137374999,
          0.9301684925096566,
          0.35239104974070956,
          0.9269534890286317,
          0.00967037511330382,
          0.6469773371700347,
          0.08189466503482001,
          0.6470770636312277,
          0.7186538462033282,
          0.64798841147515,
          0.9390131824104669,
          0.39599019547534,
          0.4997378936919815,
          0.3979814103169699,
          0.43334068025240957,
          0.18204684784992287,
          0.9055616278589967,
          0.4950070469382203,
          0.2728325871340562,
          0.3263777289755577,
          0.9382923709357847,
          0.9228802624702013,
          0.2280123275393151
         ]
        },
        {
         "line": {
          "color": "rgba(55, 128, 191, 1.0)",
          "dash": "solid",
          "shape": "linear",
          "width": 1.3
         },
         "mode": "lines",
         "name": "B",
         "text": "",
         "type": "scatter",
         "x": [
          0,
          1,
          2,
          3,
          4,
          5,
          6,
          7,
          8,
          9,
          10,
          11,
          12,
          13,
          14,
          15,
          16,
          17,
          18,
          19,
          20,
          21,
          22,
          23,
          24,
          25,
          26,
          27,
          28,
          29,
          30,
          31,
          32,
          33,
          34,
          35,
          36,
          37,
          38,
          39,
          40,
          41,
          42,
          43,
          44,
          45,
          46,
          47,
          48,
          49,
          50,
          51,
          52,
          53,
          54,
          55,
          56,
          57,
          58,
          59,
          60,
          61,
          62,
          63,
          64,
          65,
          66,
          67,
          68,
          69,
          70,
          71,
          72,
          73,
          74,
          75,
          76,
          77,
          78,
          79,
          80,
          81,
          82,
          83,
          84,
          85,
          86,
          87,
          88,
          89,
          90,
          91,
          92,
          93,
          94,
          95,
          96,
          97,
          98,
          99
         ],
         "y": [
          0.8843255679714199,
          0.4753451338820551,
          0.5564770416397901,
          0.4181370124941951,
          0.8082568964572047,
          0.0041675524322632995,
          0.7357309494209592,
          0.12236491926338045,
          0.8026430626697526,
          0.8551481461602891,
          0.9160726083915803,
          0.1948611008604485,
          0.10701810828909286,
          0.5659538314632473,
          0.006860980634156744,
          0.9230463812155936,
          0.3674568219671307,
          0.19570344085171865,
          0.4859113095727293,
          0.7788449077848387,
          0.4019894727335077,
          0.7895054616695254,
          0.950720477376916,
          0.7324935991597183,
          0.8294060719954223,
          0.6182198093766845,
          0.3101609180831728,
          0.8393311468830299,
          0.541810088608328,
          0.9808512663420359,
          0.7004636554110424,
          0.6112366152144356,
          0.7291840796906991,
          0.3664280752889001,
          0.22748883431446054,
          0.5760954477062057,
          0.056814697827563765,
          0.2644182837393171,
          0.5254839699381781,
          0.6053576784527464,
          0.7582588213806051,
          0.600899443738797,
          0.28418780384870856,
          0.7235975540666422,
          0.5248556362855886,
          0.17192615028233327,
          0.002118427862049077,
          0.10281536998752638,
          0.7699441949341121,
          0.5084122480003067,
          0.6273821881374195,
          0.5823393257132602,
          0.7747669163013711,
          0.7157246969337302,
          0.08690490847151733,
          0.9386285860148799,
          0.24252824943674178,
          0.2869278394690582,
          0.9268408784154505,
          0.45499666799956184,
          0.24128442648819093,
          0.0859334387635351,
          0.587303931632512,
          0.05725274216827514,
          0.02205346107514128,
          0.17496362033400514,
          0.8985829347769082,
          0.2567072722096292,
          0.035850198583307624,
          0.2200534368233742,
          0.9571000858043736,
          0.9737365908047143,
          0.3963828806802123,
          0.6362415350449229,
          0.15697065950891187,
          0.036360552886472775,
          0.982439271041864,
          0.07103230413276096,
          0.04406673582766252,
          0.9977258111089317,
          0.9375260641083187,
          0.5165719897735459,
          0.5328280702622757,
          0.14681397756233838,
          0.5506515843640556,
          0.18482825515656975,
          0.018811782698625823,
          0.3565744638001872,
          0.08815156772705057,
          0.3442811317469232,
          0.829660538258542,
          0.21618861100269104,
          0.3143410975104918,
          0.7634603125071553,
          0.4724020632558451,
          0.4600717513761058,
          0.1361911206485652,
          0.37637493132673405,
          0.8939930917701026,
          0.45455119567056856
         ]
        },
        {
         "connectgaps": false,
         "fill": "tozeroy",
         "line": {
          "color": "green",
          "dash": "solid",
          "shape": "linear",
          "width": 0.5
         },
         "mode": "lines",
         "name": "Spread",
         "showlegend": false,
         "type": "scatter",
         "x": [
          0,
          1,
          2,
          3,
          4,
          5,
          6,
          7,
          8,
          9,
          10,
          11,
          12,
          13,
          14,
          15,
          16,
          17,
          18,
          19,
          20,
          21,
          22,
          23,
          24,
          25,
          26,
          27,
          28,
          29,
          30,
          31,
          32,
          33,
          34,
          35,
          36,
          37,
          38,
          39,
          40,
          41,
          42,
          43,
          44,
          45,
          46,
          47,
          48,
          49,
          50,
          51,
          52,
          53,
          54,
          55,
          56,
          57,
          58,
          59,
          60,
          61,
          62,
          63,
          64,
          65,
          66,
          67,
          68,
          69,
          70,
          71,
          72,
          73,
          74,
          75,
          76,
          77,
          78,
          79,
          80,
          81,
          82,
          83,
          84,
          85,
          86,
          87,
          88,
          89,
          90,
          91,
          92,
          93,
          94,
          95,
          96,
          97,
          98,
          99
         ],
         "xaxis": "x2",
         "y": [
          "",
          0.0760523426283124,
          "",
          "",
          "",
          0.891640649222939,
          "",
          "",
          "",
          "",
          "",
          0.04309941863215072,
          0.6188171575684158,
          "",
          0.9423326715043592,
          "",
          0.6079706024444452,
          0.15568372055801105,
          0.2207598577431884,
          "",
          0.3007400459758717,
          0.009764485589437655,
          "",
          "",
          "",
          0.10420069935000065,
          0.1508854948655206,
          "",
          "",
          "",
          "",
          "",
          "",
          "",
          0.7543937567409219,
          0.28566690490423563,
          0.8846908960985714,
          0.09370863028731025,
          0.09798928115846317,
          "",
          "",
          "",
          "",
          "",
          "",
          0.756544184175753,
          0.6059393016102478,
          "",
          "",
          0.1004097886796339,
          "",
          "",
          "",
          "",
          0.6335642121168551,
          "",
          0.4801427448504778,
          0.04107411531652483,
          "",
          "",
          0.5273869980966498,
          0.7792952027534363,
          "",
          0.14289068448505404,
          0.23886431700502775,
          0.8204569870470884,
          "",
          0.019048410079430478,
          0.2729209635784444,
          0.3595686146232868,
          "",
          "",
          0.03127794625454028,
          0.0069158236629459635,
          "",
          "",
          "",
          0.12516720960473893,
          0.8861017566819941,
          "",
          "",
          "",
          0.11414926690775895,
          "",
          0.09642547926717215,
          0.5338255910467584,
          0.6291766287765241,
          0.5824387186102797,
          0.3078386277482894,
          0.1554567619450583,
          "",
          0.21715206924971853,
          "",
          0.14210131535184145,
          0.02260498368237518,
          "",
          0.19018660832699252,
          0.5619174396090506,
          0.02888717070009872,
          ""
         ],
         "yaxis": "y2"
        },
        {
         "connectgaps": false,
         "fill": "tozeroy",
         "line": {
          "color": "red",
          "dash": "solid",
          "shape": "linear",
          "width": 0.5
         },
         "mode": "lines",
         "name": "Spread",
         "showlegend": false,
         "type": "scatter",
         "x": [
          0,
          1,
          2,
          3,
          4,
          5,
          6,
          7,
          8,
          9,
          10,
          11,
          12,
          13,
          14,
          15,
          16,
          17,
          18,
          19,
          20,
          21,
          22,
          23,
          24,
          25,
          26,
          27,
          28,
          29,
          30,
          31,
          32,
          33,
          34,
          35,
          36,
          37,
          38,
          39,
          40,
          41,
          42,
          43,
          44,
          45,
          46,
          47,
          48,
          49,
          50,
          51,
          52,
          53,
          54,
          55,
          56,
          57,
          58,
          59,
          60,
          61,
          62,
          63,
          64,
          65,
          66,
          67,
          68,
          69,
          70,
          71,
          72,
          73,
          74,
          75,
          76,
          77,
          78,
          79,
          80,
          81,
          82,
          83,
          84,
          85,
          86,
          87,
          88,
          89,
          90,
          91,
          92,
          93,
          94,
          95,
          96,
          97,
          98,
          99
         ],
         "xaxis": "x2",
         "y": [
          -0.1968400989372433,
          "",
          -0.10428088258513601,
          -0.09612954362199821,
          -0.3097711614243963,
          "",
          -0.14327578880020697,
          -0.10327906975731116,
          -0.6341471718418217,
          -0.8159762311539018,
          -0.003960269552900408,
          "",
          "",
          -0.22583429062102434,
          "",
          -0.7631398501826966,
          "",
          "",
          "",
          -0.15491856614983746,
          "",
          "",
          -0.6122205438315586,
          -0.10238852180540992,
          -0.778213140268408,
          "",
          "",
          -0.6561981319627274,
          -0.14126273067547945,
          -0.9664388842400768,
          -0.15480456456690428,
          -0.5026777831011109,
          -0.613317520511645,
          -0.26074677370552213,
          "",
          "",
          "",
          "",
          "",
          -0.4522993526837179,
          -0.524249517047618,
          -0.16209709970105968,
          -0.19298030292620783,
          -0.4645713278762438,
          -0.48511536017050527,
          "",
          "",
          -0.0015778801132306786,
          -0.6537610156651191,
          "",
          -0.5074666878082534,
          -0.29955483284304096,
          -0.647233127711757,
          -0.5008181498379616,
          "",
          -0.38679839722786225,
          "",
          "",
          -0.4367247773245879,
          -0.33554123367110533,
          "",
          "",
          -0.24853335019214662,
          "",
          "",
          "",
          -0.6261809968690825,
          "",
          "",
          "",
          -0.4109274661361637,
          -0.28648859122947457,
          "",
          "",
          -0.0537031029723154,
          -0.014818000998520486,
          -0.39977523040026586,
          "",
          "",
          -0.6453347613682221,
          -0.010572575079687008,
          -0.5069016146602421,
          "",
          -0.06491931252751837,
          "",
          "",
          "",
          "",
          "",
          "",
          -0.43167912794157215,
          "",
          -0.1322942496605689,
          "",
          "",
          -0.18723916424204956,
          "",
          "",
          "",
          -0.22653886813125346
         ],
         "yaxis": "y2"
        }
       ],
       "layout": {
        "hovermode": "x",
        "legend": {
         "bgcolor": "#F5F6F9",
         "font": {
          "color": "#4D5663"
         }
        },
        "paper_bgcolor": "#F5F6F9",
        "plot_bgcolor": "#F5F6F9",
        "template": {
         "data": {
          "bar": [
           {
            "error_x": {
             "color": "#2a3f5f"
            },
            "error_y": {
             "color": "#2a3f5f"
            },
            "marker": {
             "line": {
              "color": "#E5ECF6",
              "width": 0.5
             },
             "pattern": {
              "fillmode": "overlay",
              "size": 10,
              "solidity": 0.2
             }
            },
            "type": "bar"
           }
          ],
          "barpolar": [
           {
            "marker": {
             "line": {
              "color": "#E5ECF6",
              "width": 0.5
             },
             "pattern": {
              "fillmode": "overlay",
              "size": 10,
              "solidity": 0.2
             }
            },
            "type": "barpolar"
           }
          ],
          "carpet": [
           {
            "aaxis": {
             "endlinecolor": "#2a3f5f",
             "gridcolor": "white",
             "linecolor": "white",
             "minorgridcolor": "white",
             "startlinecolor": "#2a3f5f"
            },
            "baxis": {
             "endlinecolor": "#2a3f5f",
             "gridcolor": "white",
             "linecolor": "white",
             "minorgridcolor": "white",
             "startlinecolor": "#2a3f5f"
            },
            "type": "carpet"
           }
          ],
          "choropleth": [
           {
            "colorbar": {
             "outlinewidth": 0,
             "ticks": ""
            },
            "type": "choropleth"
           }
          ],
          "contour": [
           {
            "colorbar": {
             "outlinewidth": 0,
             "ticks": ""
            },
            "colorscale": [
             [
              0,
              "#0d0887"
             ],
             [
              0.1111111111111111,
              "#46039f"
             ],
             [
              0.2222222222222222,
              "#7201a8"
             ],
             [
              0.3333333333333333,
              "#9c179e"
             ],
             [
              0.4444444444444444,
              "#bd3786"
             ],
             [
              0.5555555555555556,
              "#d8576b"
             ],
             [
              0.6666666666666666,
              "#ed7953"
             ],
             [
              0.7777777777777778,
              "#fb9f3a"
             ],
             [
              0.8888888888888888,
              "#fdca26"
             ],
             [
              1,
              "#f0f921"
             ]
            ],
            "type": "contour"
           }
          ],
          "contourcarpet": [
           {
            "colorbar": {
             "outlinewidth": 0,
             "ticks": ""
            },
            "type": "contourcarpet"
           }
          ],
          "heatmap": [
           {
            "colorbar": {
             "outlinewidth": 0,
             "ticks": ""
            },
            "colorscale": [
             [
              0,
              "#0d0887"
             ],
             [
              0.1111111111111111,
              "#46039f"
             ],
             [
              0.2222222222222222,
              "#7201a8"
             ],
             [
              0.3333333333333333,
              "#9c179e"
             ],
             [
              0.4444444444444444,
              "#bd3786"
             ],
             [
              0.5555555555555556,
              "#d8576b"
             ],
             [
              0.6666666666666666,
              "#ed7953"
             ],
             [
              0.7777777777777778,
              "#fb9f3a"
             ],
             [
              0.8888888888888888,
              "#fdca26"
             ],
             [
              1,
              "#f0f921"
             ]
            ],
            "type": "heatmap"
           }
          ],
          "heatmapgl": [
           {
            "colorbar": {
             "outlinewidth": 0,
             "ticks": ""
            },
            "colorscale": [
             [
              0,
              "#0d0887"
             ],
             [
              0.1111111111111111,
              "#46039f"
             ],
             [
              0.2222222222222222,
              "#7201a8"
             ],
             [
              0.3333333333333333,
              "#9c179e"
             ],
             [
              0.4444444444444444,
              "#bd3786"
             ],
             [
              0.5555555555555556,
              "#d8576b"
             ],
             [
              0.6666666666666666,
              "#ed7953"
             ],
             [
              0.7777777777777778,
              "#fb9f3a"
             ],
             [
              0.8888888888888888,
              "#fdca26"
             ],
             [
              1,
              "#f0f921"
             ]
            ],
            "type": "heatmapgl"
           }
          ],
          "histogram": [
           {
            "marker": {
             "pattern": {
              "fillmode": "overlay",
              "size": 10,
              "solidity": 0.2
             }
            },
            "type": "histogram"
           }
          ],
          "histogram2d": [
           {
            "colorbar": {
             "outlinewidth": 0,
             "ticks": ""
            },
            "colorscale": [
             [
              0,
              "#0d0887"
             ],
             [
              0.1111111111111111,
              "#46039f"
             ],
             [
              0.2222222222222222,
              "#7201a8"
             ],
             [
              0.3333333333333333,
              "#9c179e"
             ],
             [
              0.4444444444444444,
              "#bd3786"
             ],
             [
              0.5555555555555556,
              "#d8576b"
             ],
             [
              0.6666666666666666,
              "#ed7953"
             ],
             [
              0.7777777777777778,
              "#fb9f3a"
             ],
             [
              0.8888888888888888,
              "#fdca26"
             ],
             [
              1,
              "#f0f921"
             ]
            ],
            "type": "histogram2d"
           }
          ],
          "histogram2dcontour": [
           {
            "colorbar": {
             "outlinewidth": 0,
             "ticks": ""
            },
            "colorscale": [
             [
              0,
              "#0d0887"
             ],
             [
              0.1111111111111111,
              "#46039f"
             ],
             [
              0.2222222222222222,
              "#7201a8"
             ],
             [
              0.3333333333333333,
              "#9c179e"
             ],
             [
              0.4444444444444444,
              "#bd3786"
             ],
             [
              0.5555555555555556,
              "#d8576b"
             ],
             [
              0.6666666666666666,
              "#ed7953"
             ],
             [
              0.7777777777777778,
              "#fb9f3a"
             ],
             [
              0.8888888888888888,
              "#fdca26"
             ],
             [
              1,
              "#f0f921"
             ]
            ],
            "type": "histogram2dcontour"
           }
          ],
          "mesh3d": [
           {
            "colorbar": {
             "outlinewidth": 0,
             "ticks": ""
            },
            "type": "mesh3d"
           }
          ],
          "parcoords": [
           {
            "line": {
             "colorbar": {
              "outlinewidth": 0,
              "ticks": ""
             }
            },
            "type": "parcoords"
           }
          ],
          "pie": [
           {
            "automargin": true,
            "type": "pie"
           }
          ],
          "scatter": [
           {
            "marker": {
             "colorbar": {
              "outlinewidth": 0,
              "ticks": ""
             }
            },
            "type": "scatter"
           }
          ],
          "scatter3d": [
           {
            "line": {
             "colorbar": {
              "outlinewidth": 0,
              "ticks": ""
             }
            },
            "marker": {
             "colorbar": {
              "outlinewidth": 0,
              "ticks": ""
             }
            },
            "type": "scatter3d"
           }
          ],
          "scattercarpet": [
           {
            "marker": {
             "colorbar": {
              "outlinewidth": 0,
              "ticks": ""
             }
            },
            "type": "scattercarpet"
           }
          ],
          "scattergeo": [
           {
            "marker": {
             "colorbar": {
              "outlinewidth": 0,
              "ticks": ""
             }
            },
            "type": "scattergeo"
           }
          ],
          "scattergl": [
           {
            "marker": {
             "colorbar": {
              "outlinewidth": 0,
              "ticks": ""
             }
            },
            "type": "scattergl"
           }
          ],
          "scattermapbox": [
           {
            "marker": {
             "colorbar": {
              "outlinewidth": 0,
              "ticks": ""
             }
            },
            "type": "scattermapbox"
           }
          ],
          "scatterpolar": [
           {
            "marker": {
             "colorbar": {
              "outlinewidth": 0,
              "ticks": ""
             }
            },
            "type": "scatterpolar"
           }
          ],
          "scatterpolargl": [
           {
            "marker": {
             "colorbar": {
              "outlinewidth": 0,
              "ticks": ""
             }
            },
            "type": "scatterpolargl"
           }
          ],
          "scatterternary": [
           {
            "marker": {
             "colorbar": {
              "outlinewidth": 0,
              "ticks": ""
             }
            },
            "type": "scatterternary"
           }
          ],
          "surface": [
           {
            "colorbar": {
             "outlinewidth": 0,
             "ticks": ""
            },
            "colorscale": [
             [
              0,
              "#0d0887"
             ],
             [
              0.1111111111111111,
              "#46039f"
             ],
             [
              0.2222222222222222,
              "#7201a8"
             ],
             [
              0.3333333333333333,
              "#9c179e"
             ],
             [
              0.4444444444444444,
              "#bd3786"
             ],
             [
              0.5555555555555556,
              "#d8576b"
             ],
             [
              0.6666666666666666,
              "#ed7953"
             ],
             [
              0.7777777777777778,
              "#fb9f3a"
             ],
             [
              0.8888888888888888,
              "#fdca26"
             ],
             [
              1,
              "#f0f921"
             ]
            ],
            "type": "surface"
           }
          ],
          "table": [
           {
            "cells": {
             "fill": {
              "color": "#EBF0F8"
             },
             "line": {
              "color": "white"
             }
            },
            "header": {
             "fill": {
              "color": "#C8D4E3"
             },
             "line": {
              "color": "white"
             }
            },
            "type": "table"
           }
          ]
         },
         "layout": {
          "annotationdefaults": {
           "arrowcolor": "#2a3f5f",
           "arrowhead": 0,
           "arrowwidth": 1
          },
          "autotypenumbers": "strict",
          "coloraxis": {
           "colorbar": {
            "outlinewidth": 0,
            "ticks": ""
           }
          },
          "colorscale": {
           "diverging": [
            [
             0,
             "#8e0152"
            ],
            [
             0.1,
             "#c51b7d"
            ],
            [
             0.2,
             "#de77ae"
            ],
            [
             0.3,
             "#f1b6da"
            ],
            [
             0.4,
             "#fde0ef"
            ],
            [
             0.5,
             "#f7f7f7"
            ],
            [
             0.6,
             "#e6f5d0"
            ],
            [
             0.7,
             "#b8e186"
            ],
            [
             0.8,
             "#7fbc41"
            ],
            [
             0.9,
             "#4d9221"
            ],
            [
             1,
             "#276419"
            ]
           ],
           "sequential": [
            [
             0,
             "#0d0887"
            ],
            [
             0.1111111111111111,
             "#46039f"
            ],
            [
             0.2222222222222222,
             "#7201a8"
            ],
            [
             0.3333333333333333,
             "#9c179e"
            ],
            [
             0.4444444444444444,
             "#bd3786"
            ],
            [
             0.5555555555555556,
             "#d8576b"
            ],
            [
             0.6666666666666666,
             "#ed7953"
            ],
            [
             0.7777777777777778,
             "#fb9f3a"
            ],
            [
             0.8888888888888888,
             "#fdca26"
            ],
            [
             1,
             "#f0f921"
            ]
           ],
           "sequentialminus": [
            [
             0,
             "#0d0887"
            ],
            [
             0.1111111111111111,
             "#46039f"
            ],
            [
             0.2222222222222222,
             "#7201a8"
            ],
            [
             0.3333333333333333,
             "#9c179e"
            ],
            [
             0.4444444444444444,
             "#bd3786"
            ],
            [
             0.5555555555555556,
             "#d8576b"
            ],
            [
             0.6666666666666666,
             "#ed7953"
            ],
            [
             0.7777777777777778,
             "#fb9f3a"
            ],
            [
             0.8888888888888888,
             "#fdca26"
            ],
            [
             1,
             "#f0f921"
            ]
           ]
          },
          "colorway": [
           "#636efa",
           "#EF553B",
           "#00cc96",
           "#ab63fa",
           "#FFA15A",
           "#19d3f3",
           "#FF6692",
           "#B6E880",
           "#FF97FF",
           "#FECB52"
          ],
          "font": {
           "color": "#2a3f5f"
          },
          "geo": {
           "bgcolor": "white",
           "lakecolor": "white",
           "landcolor": "#E5ECF6",
           "showlakes": true,
           "showland": true,
           "subunitcolor": "white"
          },
          "hoverlabel": {
           "align": "left"
          },
          "hovermode": "closest",
          "mapbox": {
           "style": "light"
          },
          "paper_bgcolor": "white",
          "plot_bgcolor": "#E5ECF6",
          "polar": {
           "angularaxis": {
            "gridcolor": "white",
            "linecolor": "white",
            "ticks": ""
           },
           "bgcolor": "#E5ECF6",
           "radialaxis": {
            "gridcolor": "white",
            "linecolor": "white",
            "ticks": ""
           }
          },
          "scene": {
           "xaxis": {
            "backgroundcolor": "#E5ECF6",
            "gridcolor": "white",
            "gridwidth": 2,
            "linecolor": "white",
            "showbackground": true,
            "ticks": "",
            "zerolinecolor": "white"
           },
           "yaxis": {
            "backgroundcolor": "#E5ECF6",
            "gridcolor": "white",
            "gridwidth": 2,
            "linecolor": "white",
            "showbackground": true,
            "ticks": "",
            "zerolinecolor": "white"
           },
           "zaxis": {
            "backgroundcolor": "#E5ECF6",
            "gridcolor": "white",
            "gridwidth": 2,
            "linecolor": "white",
            "showbackground": true,
            "ticks": "",
            "zerolinecolor": "white"
           }
          },
          "shapedefaults": {
           "line": {
            "color": "#2a3f5f"
           }
          },
          "ternary": {
           "aaxis": {
            "gridcolor": "white",
            "linecolor": "white",
            "ticks": ""
           },
           "baxis": {
            "gridcolor": "white",
            "linecolor": "white",
            "ticks": ""
           },
           "bgcolor": "#E5ECF6",
           "caxis": {
            "gridcolor": "white",
            "linecolor": "white",
            "ticks": ""
           }
          },
          "title": {
           "x": 0.05
          },
          "xaxis": {
           "automargin": true,
           "gridcolor": "white",
           "linecolor": "white",
           "ticks": "",
           "title": {
            "standoff": 15
           },
           "zerolinecolor": "white",
           "zerolinewidth": 2
          },
          "yaxis": {
           "automargin": true,
           "gridcolor": "white",
           "linecolor": "white",
           "ticks": "",
           "title": {
            "standoff": 15
           },
           "zerolinecolor": "white",
           "zerolinewidth": 2
          }
         }
        },
        "title": {
         "font": {
          "color": "#4D5663"
         }
        },
        "xaxis": {
         "gridcolor": "#E1E5ED",
         "showgrid": true,
         "tickfont": {
          "color": "#4D5663"
         },
         "title": {
          "font": {
           "color": "#4D5663"
          },
          "text": ""
         },
         "zerolinecolor": "#E1E5ED"
        },
        "xaxis2": {
         "anchor": "y2",
         "gridcolor": "#E1E5ED",
         "showgrid": true,
         "showticklabels": false,
         "tickfont": {
          "color": "#4D5663"
         },
         "title": {
          "font": {
           "color": "#4D5663"
          },
          "text": ""
         },
         "zerolinecolor": "#E1E5ED"
        },
        "yaxis": {
         "domain": [
          0.3,
          1
         ],
         "gridcolor": "#E1E5ED",
         "showgrid": true,
         "tickfont": {
          "color": "#4D5663"
         },
         "title": {
          "font": {
           "color": "#4D5663"
          },
          "text": ""
         },
         "zerolinecolor": "#E1E5ED"
        },
        "yaxis2": {
         "domain": [
          0,
          0.25
         ],
         "gridcolor": "#E1E5ED",
         "showgrid": true,
         "tickfont": {
          "color": "#4D5663"
         },
         "title": {
          "font": {
           "color": "#4D5663"
          },
          "text": "Spread"
         },
         "zerolinecolor": "#E1E5ED"
        }
       }
      },
      "text/html": [
       "<div>                            <div id=\"788d71e4-6a5c-46de-a164-4e97ca04245f\" class=\"plotly-graph-div\" style=\"height:525px; width:100%;\"></div>            <script type=\"text/javascript\">                require([\"plotly\"], function(Plotly) {                    window.PLOTLYENV=window.PLOTLYENV || {};\n",
       "                    window.PLOTLYENV.BASE_URL='https://plot.ly';                                    if (document.getElementById(\"788d71e4-6a5c-46de-a164-4e97ca04245f\")) {                    Plotly.newPlot(                        \"788d71e4-6a5c-46de-a164-4e97ca04245f\",                        [{\"line\":{\"color\":\"rgba(255, 153, 51, 1.0)\",\"dash\":\"solid\",\"shape\":\"linear\",\"width\":1.3},\"mode\":\"lines\",\"name\":\"A\",\"text\":\"\",\"type\":\"scatter\",\"x\":[0,1,2,3,4,5,6,7,8,9,10,11,12,13,14,15,16,17,18,19,20,21,22,23,24,25,26,27,28,29,30,31,32,33,34,35,36,37,38,39,40,41,42,43,44,45,46,47,48,49,50,51,52,53,54,55,56,57,58,59,60,61,62,63,64,65,66,67,68,69,70,71,72,73,74,75,76,77,78,79,80,81,82,83,84,85,86,87,88,89,90,91,92,93,94,95,96,97,98,99],\"y\":[0.6874854690341766,0.5513974765103675,0.45219615905465405,0.3220074688721969,0.49848573503280835,0.8958082016552023,0.5924551606207522,0.019085849506069286,0.16849589082793093,0.03917191500638728,0.9121123388386799,0.23796051949259922,0.7258352658575087,0.34011954084222296,0.9491936521385159,0.15990653103289698,0.9754274244115759,0.3513871614097297,0.7066711673159177,0.6239263416350013,0.7027295187093794,0.799269947258963,0.33849993354535746,0.6301050773543084,0.051192931727014224,0.7224205087266852,0.4610464129486934,0.18313301492030254,0.40054735793284857,0.014412382101959054,0.5456590908441381,0.10855883211332473,0.11586655917905408,0.10568130158337796,0.9818825910553824,0.8617623526104413,0.9415055939261352,0.35812691402662733,0.6234732510966413,0.15305832576902845,0.23400930433298706,0.4388023440377373,0.09120750092250074,0.2590262261903984,0.03974027611508335,0.9284703344580862,0.6080577294722969,0.1012374898742957,0.11618317926899302,0.6088220366799406,0.11991550032916609,0.28278449287021923,0.12753378858961406,0.21490654709576862,0.7204691205883724,0.5518301887870176,0.7226709942872196,0.328001954785583,0.49011610109086257,0.11945543432845651,0.7686714245848407,0.8652286415169714,0.3387705814403654,0.20014342665332918,0.260917778080169,0.9954206073810935,0.27240193790782574,0.27575568228905967,0.30877116216175204,0.579622051446661,0.5461726196682098,0.6872479995752397,0.4276608269347526,0.6431573587078688,0.10326755653659647,0.021542551887952288,0.5826640406415982,0.1961995137374999,0.9301684925096566,0.35239104974070956,0.9269534890286317,0.00967037511330382,0.6469773371700347,0.08189466503482001,0.6470770636312277,0.7186538462033282,0.64798841147515,0.9390131824104669,0.39599019547534,0.4997378936919815,0.3979814103169699,0.43334068025240957,0.18204684784992287,0.9055616278589967,0.4950070469382203,0.2728325871340562,0.3263777289755577,0.9382923709357847,0.9228802624702013,0.2280123275393151]},{\"line\":{\"color\":\"rgba(55, 128, 191, 1.0)\",\"dash\":\"solid\",\"shape\":\"linear\",\"width\":1.3},\"mode\":\"lines\",\"name\":\"B\",\"text\":\"\",\"type\":\"scatter\",\"x\":[0,1,2,3,4,5,6,7,8,9,10,11,12,13,14,15,16,17,18,19,20,21,22,23,24,25,26,27,28,29,30,31,32,33,34,35,36,37,38,39,40,41,42,43,44,45,46,47,48,49,50,51,52,53,54,55,56,57,58,59,60,61,62,63,64,65,66,67,68,69,70,71,72,73,74,75,76,77,78,79,80,81,82,83,84,85,86,87,88,89,90,91,92,93,94,95,96,97,98,99],\"y\":[0.8843255679714199,0.4753451338820551,0.5564770416397901,0.4181370124941951,0.8082568964572047,0.0041675524322632995,0.7357309494209592,0.12236491926338045,0.8026430626697526,0.8551481461602891,0.9160726083915803,0.1948611008604485,0.10701810828909286,0.5659538314632473,0.006860980634156744,0.9230463812155936,0.3674568219671307,0.19570344085171865,0.4859113095727293,0.7788449077848387,0.4019894727335077,0.7895054616695254,0.950720477376916,0.7324935991597183,0.8294060719954223,0.6182198093766845,0.3101609180831728,0.8393311468830299,0.541810088608328,0.9808512663420359,0.7004636554110424,0.6112366152144356,0.7291840796906991,0.3664280752889001,0.22748883431446054,0.5760954477062057,0.056814697827563765,0.2644182837393171,0.5254839699381781,0.6053576784527464,0.7582588213806051,0.600899443738797,0.28418780384870856,0.7235975540666422,0.5248556362855886,0.17192615028233327,0.002118427862049077,0.10281536998752638,0.7699441949341121,0.5084122480003067,0.6273821881374195,0.5823393257132602,0.7747669163013711,0.7157246969337302,0.08690490847151733,0.9386285860148799,0.24252824943674178,0.2869278394690582,0.9268408784154505,0.45499666799956184,0.24128442648819093,0.0859334387635351,0.587303931632512,0.05725274216827514,0.02205346107514128,0.17496362033400514,0.8985829347769082,0.2567072722096292,0.035850198583307624,0.2200534368233742,0.9571000858043736,0.9737365908047143,0.3963828806802123,0.6362415350449229,0.15697065950891187,0.036360552886472775,0.982439271041864,0.07103230413276096,0.04406673582766252,0.9977258111089317,0.9375260641083187,0.5165719897735459,0.5328280702622757,0.14681397756233838,0.5506515843640556,0.18482825515656975,0.018811782698625823,0.3565744638001872,0.08815156772705057,0.3442811317469232,0.829660538258542,0.21618861100269104,0.3143410975104918,0.7634603125071553,0.4724020632558451,0.4600717513761058,0.1361911206485652,0.37637493132673405,0.8939930917701026,0.45455119567056856]},{\"connectgaps\":false,\"fill\":\"tozeroy\",\"line\":{\"color\":\"green\",\"dash\":\"solid\",\"shape\":\"linear\",\"width\":0.5},\"mode\":\"lines\",\"name\":\"Spread\",\"showlegend\":false,\"type\":\"scatter\",\"x\":[0,1,2,3,4,5,6,7,8,9,10,11,12,13,14,15,16,17,18,19,20,21,22,23,24,25,26,27,28,29,30,31,32,33,34,35,36,37,38,39,40,41,42,43,44,45,46,47,48,49,50,51,52,53,54,55,56,57,58,59,60,61,62,63,64,65,66,67,68,69,70,71,72,73,74,75,76,77,78,79,80,81,82,83,84,85,86,87,88,89,90,91,92,93,94,95,96,97,98,99],\"xaxis\":\"x2\",\"y\":[\"\",0.0760523426283124,\"\",\"\",\"\",0.891640649222939,\"\",\"\",\"\",\"\",\"\",0.04309941863215072,0.6188171575684158,\"\",0.9423326715043592,\"\",0.6079706024444452,0.15568372055801105,0.2207598577431884,\"\",0.3007400459758717,0.009764485589437655,\"\",\"\",\"\",0.10420069935000065,0.1508854948655206,\"\",\"\",\"\",\"\",\"\",\"\",\"\",0.7543937567409219,0.28566690490423563,0.8846908960985714,0.09370863028731025,0.09798928115846317,\"\",\"\",\"\",\"\",\"\",\"\",0.756544184175753,0.6059393016102478,\"\",\"\",0.1004097886796339,\"\",\"\",\"\",\"\",0.6335642121168551,\"\",0.4801427448504778,0.04107411531652483,\"\",\"\",0.5273869980966498,0.7792952027534363,\"\",0.14289068448505404,0.23886431700502775,0.8204569870470884,\"\",0.019048410079430478,0.2729209635784444,0.3595686146232868,\"\",\"\",0.03127794625454028,0.0069158236629459635,\"\",\"\",\"\",0.12516720960473893,0.8861017566819941,\"\",\"\",\"\",0.11414926690775895,\"\",0.09642547926717215,0.5338255910467584,0.6291766287765241,0.5824387186102797,0.3078386277482894,0.1554567619450583,\"\",0.21715206924971853,\"\",0.14210131535184145,0.02260498368237518,\"\",0.19018660832699252,0.5619174396090506,0.02888717070009872,\"\"],\"yaxis\":\"y2\"},{\"connectgaps\":false,\"fill\":\"tozeroy\",\"line\":{\"color\":\"red\",\"dash\":\"solid\",\"shape\":\"linear\",\"width\":0.5},\"mode\":\"lines\",\"name\":\"Spread\",\"showlegend\":false,\"type\":\"scatter\",\"x\":[0,1,2,3,4,5,6,7,8,9,10,11,12,13,14,15,16,17,18,19,20,21,22,23,24,25,26,27,28,29,30,31,32,33,34,35,36,37,38,39,40,41,42,43,44,45,46,47,48,49,50,51,52,53,54,55,56,57,58,59,60,61,62,63,64,65,66,67,68,69,70,71,72,73,74,75,76,77,78,79,80,81,82,83,84,85,86,87,88,89,90,91,92,93,94,95,96,97,98,99],\"xaxis\":\"x2\",\"y\":[-0.1968400989372433,\"\",-0.10428088258513601,-0.09612954362199821,-0.3097711614243963,\"\",-0.14327578880020697,-0.10327906975731116,-0.6341471718418217,-0.8159762311539018,-0.003960269552900408,\"\",\"\",-0.22583429062102434,\"\",-0.7631398501826966,\"\",\"\",\"\",-0.15491856614983746,\"\",\"\",-0.6122205438315586,-0.10238852180540992,-0.778213140268408,\"\",\"\",-0.6561981319627274,-0.14126273067547945,-0.9664388842400768,-0.15480456456690428,-0.5026777831011109,-0.613317520511645,-0.26074677370552213,\"\",\"\",\"\",\"\",\"\",-0.4522993526837179,-0.524249517047618,-0.16209709970105968,-0.19298030292620783,-0.4645713278762438,-0.48511536017050527,\"\",\"\",-0.0015778801132306786,-0.6537610156651191,\"\",-0.5074666878082534,-0.29955483284304096,-0.647233127711757,-0.5008181498379616,\"\",-0.38679839722786225,\"\",\"\",-0.4367247773245879,-0.33554123367110533,\"\",\"\",-0.24853335019214662,\"\",\"\",\"\",-0.6261809968690825,\"\",\"\",\"\",-0.4109274661361637,-0.28648859122947457,\"\",\"\",-0.0537031029723154,-0.014818000998520486,-0.39977523040026586,\"\",\"\",-0.6453347613682221,-0.010572575079687008,-0.5069016146602421,\"\",-0.06491931252751837,\"\",\"\",\"\",\"\",\"\",\"\",-0.43167912794157215,\"\",-0.1322942496605689,\"\",\"\",-0.18723916424204956,\"\",\"\",\"\",-0.22653886813125346],\"yaxis\":\"y2\"}],                        {\"hovermode\":\"x\",\"legend\":{\"bgcolor\":\"#F5F6F9\",\"font\":{\"color\":\"#4D5663\"}},\"paper_bgcolor\":\"#F5F6F9\",\"plot_bgcolor\":\"#F5F6F9\",\"template\":{\"data\":{\"bar\":[{\"error_x\":{\"color\":\"#2a3f5f\"},\"error_y\":{\"color\":\"#2a3f5f\"},\"marker\":{\"line\":{\"color\":\"#E5ECF6\",\"width\":0.5},\"pattern\":{\"fillmode\":\"overlay\",\"size\":10,\"solidity\":0.2}},\"type\":\"bar\"}],\"barpolar\":[{\"marker\":{\"line\":{\"color\":\"#E5ECF6\",\"width\":0.5},\"pattern\":{\"fillmode\":\"overlay\",\"size\":10,\"solidity\":0.2}},\"type\":\"barpolar\"}],\"carpet\":[{\"aaxis\":{\"endlinecolor\":\"#2a3f5f\",\"gridcolor\":\"white\",\"linecolor\":\"white\",\"minorgridcolor\":\"white\",\"startlinecolor\":\"#2a3f5f\"},\"baxis\":{\"endlinecolor\":\"#2a3f5f\",\"gridcolor\":\"white\",\"linecolor\":\"white\",\"minorgridcolor\":\"white\",\"startlinecolor\":\"#2a3f5f\"},\"type\":\"carpet\"}],\"choropleth\":[{\"colorbar\":{\"outlinewidth\":0,\"ticks\":\"\"},\"type\":\"choropleth\"}],\"contour\":[{\"colorbar\":{\"outlinewidth\":0,\"ticks\":\"\"},\"colorscale\":[[0.0,\"#0d0887\"],[0.1111111111111111,\"#46039f\"],[0.2222222222222222,\"#7201a8\"],[0.3333333333333333,\"#9c179e\"],[0.4444444444444444,\"#bd3786\"],[0.5555555555555556,\"#d8576b\"],[0.6666666666666666,\"#ed7953\"],[0.7777777777777778,\"#fb9f3a\"],[0.8888888888888888,\"#fdca26\"],[1.0,\"#f0f921\"]],\"type\":\"contour\"}],\"contourcarpet\":[{\"colorbar\":{\"outlinewidth\":0,\"ticks\":\"\"},\"type\":\"contourcarpet\"}],\"heatmap\":[{\"colorbar\":{\"outlinewidth\":0,\"ticks\":\"\"},\"colorscale\":[[0.0,\"#0d0887\"],[0.1111111111111111,\"#46039f\"],[0.2222222222222222,\"#7201a8\"],[0.3333333333333333,\"#9c179e\"],[0.4444444444444444,\"#bd3786\"],[0.5555555555555556,\"#d8576b\"],[0.6666666666666666,\"#ed7953\"],[0.7777777777777778,\"#fb9f3a\"],[0.8888888888888888,\"#fdca26\"],[1.0,\"#f0f921\"]],\"type\":\"heatmap\"}],\"heatmapgl\":[{\"colorbar\":{\"outlinewidth\":0,\"ticks\":\"\"},\"colorscale\":[[0.0,\"#0d0887\"],[0.1111111111111111,\"#46039f\"],[0.2222222222222222,\"#7201a8\"],[0.3333333333333333,\"#9c179e\"],[0.4444444444444444,\"#bd3786\"],[0.5555555555555556,\"#d8576b\"],[0.6666666666666666,\"#ed7953\"],[0.7777777777777778,\"#fb9f3a\"],[0.8888888888888888,\"#fdca26\"],[1.0,\"#f0f921\"]],\"type\":\"heatmapgl\"}],\"histogram\":[{\"marker\":{\"pattern\":{\"fillmode\":\"overlay\",\"size\":10,\"solidity\":0.2}},\"type\":\"histogram\"}],\"histogram2d\":[{\"colorbar\":{\"outlinewidth\":0,\"ticks\":\"\"},\"colorscale\":[[0.0,\"#0d0887\"],[0.1111111111111111,\"#46039f\"],[0.2222222222222222,\"#7201a8\"],[0.3333333333333333,\"#9c179e\"],[0.4444444444444444,\"#bd3786\"],[0.5555555555555556,\"#d8576b\"],[0.6666666666666666,\"#ed7953\"],[0.7777777777777778,\"#fb9f3a\"],[0.8888888888888888,\"#fdca26\"],[1.0,\"#f0f921\"]],\"type\":\"histogram2d\"}],\"histogram2dcontour\":[{\"colorbar\":{\"outlinewidth\":0,\"ticks\":\"\"},\"colorscale\":[[0.0,\"#0d0887\"],[0.1111111111111111,\"#46039f\"],[0.2222222222222222,\"#7201a8\"],[0.3333333333333333,\"#9c179e\"],[0.4444444444444444,\"#bd3786\"],[0.5555555555555556,\"#d8576b\"],[0.6666666666666666,\"#ed7953\"],[0.7777777777777778,\"#fb9f3a\"],[0.8888888888888888,\"#fdca26\"],[1.0,\"#f0f921\"]],\"type\":\"histogram2dcontour\"}],\"mesh3d\":[{\"colorbar\":{\"outlinewidth\":0,\"ticks\":\"\"},\"type\":\"mesh3d\"}],\"parcoords\":[{\"line\":{\"colorbar\":{\"outlinewidth\":0,\"ticks\":\"\"}},\"type\":\"parcoords\"}],\"pie\":[{\"automargin\":true,\"type\":\"pie\"}],\"scatter\":[{\"marker\":{\"colorbar\":{\"outlinewidth\":0,\"ticks\":\"\"}},\"type\":\"scatter\"}],\"scatter3d\":[{\"line\":{\"colorbar\":{\"outlinewidth\":0,\"ticks\":\"\"}},\"marker\":{\"colorbar\":{\"outlinewidth\":0,\"ticks\":\"\"}},\"type\":\"scatter3d\"}],\"scattercarpet\":[{\"marker\":{\"colorbar\":{\"outlinewidth\":0,\"ticks\":\"\"}},\"type\":\"scattercarpet\"}],\"scattergeo\":[{\"marker\":{\"colorbar\":{\"outlinewidth\":0,\"ticks\":\"\"}},\"type\":\"scattergeo\"}],\"scattergl\":[{\"marker\":{\"colorbar\":{\"outlinewidth\":0,\"ticks\":\"\"}},\"type\":\"scattergl\"}],\"scattermapbox\":[{\"marker\":{\"colorbar\":{\"outlinewidth\":0,\"ticks\":\"\"}},\"type\":\"scattermapbox\"}],\"scatterpolar\":[{\"marker\":{\"colorbar\":{\"outlinewidth\":0,\"ticks\":\"\"}},\"type\":\"scatterpolar\"}],\"scatterpolargl\":[{\"marker\":{\"colorbar\":{\"outlinewidth\":0,\"ticks\":\"\"}},\"type\":\"scatterpolargl\"}],\"scatterternary\":[{\"marker\":{\"colorbar\":{\"outlinewidth\":0,\"ticks\":\"\"}},\"type\":\"scatterternary\"}],\"surface\":[{\"colorbar\":{\"outlinewidth\":0,\"ticks\":\"\"},\"colorscale\":[[0.0,\"#0d0887\"],[0.1111111111111111,\"#46039f\"],[0.2222222222222222,\"#7201a8\"],[0.3333333333333333,\"#9c179e\"],[0.4444444444444444,\"#bd3786\"],[0.5555555555555556,\"#d8576b\"],[0.6666666666666666,\"#ed7953\"],[0.7777777777777778,\"#fb9f3a\"],[0.8888888888888888,\"#fdca26\"],[1.0,\"#f0f921\"]],\"type\":\"surface\"}],\"table\":[{\"cells\":{\"fill\":{\"color\":\"#EBF0F8\"},\"line\":{\"color\":\"white\"}},\"header\":{\"fill\":{\"color\":\"#C8D4E3\"},\"line\":{\"color\":\"white\"}},\"type\":\"table\"}]},\"layout\":{\"annotationdefaults\":{\"arrowcolor\":\"#2a3f5f\",\"arrowhead\":0,\"arrowwidth\":1},\"autotypenumbers\":\"strict\",\"coloraxis\":{\"colorbar\":{\"outlinewidth\":0,\"ticks\":\"\"}},\"colorscale\":{\"diverging\":[[0,\"#8e0152\"],[0.1,\"#c51b7d\"],[0.2,\"#de77ae\"],[0.3,\"#f1b6da\"],[0.4,\"#fde0ef\"],[0.5,\"#f7f7f7\"],[0.6,\"#e6f5d0\"],[0.7,\"#b8e186\"],[0.8,\"#7fbc41\"],[0.9,\"#4d9221\"],[1,\"#276419\"]],\"sequential\":[[0.0,\"#0d0887\"],[0.1111111111111111,\"#46039f\"],[0.2222222222222222,\"#7201a8\"],[0.3333333333333333,\"#9c179e\"],[0.4444444444444444,\"#bd3786\"],[0.5555555555555556,\"#d8576b\"],[0.6666666666666666,\"#ed7953\"],[0.7777777777777778,\"#fb9f3a\"],[0.8888888888888888,\"#fdca26\"],[1.0,\"#f0f921\"]],\"sequentialminus\":[[0.0,\"#0d0887\"],[0.1111111111111111,\"#46039f\"],[0.2222222222222222,\"#7201a8\"],[0.3333333333333333,\"#9c179e\"],[0.4444444444444444,\"#bd3786\"],[0.5555555555555556,\"#d8576b\"],[0.6666666666666666,\"#ed7953\"],[0.7777777777777778,\"#fb9f3a\"],[0.8888888888888888,\"#fdca26\"],[1.0,\"#f0f921\"]]},\"colorway\":[\"#636efa\",\"#EF553B\",\"#00cc96\",\"#ab63fa\",\"#FFA15A\",\"#19d3f3\",\"#FF6692\",\"#B6E880\",\"#FF97FF\",\"#FECB52\"],\"font\":{\"color\":\"#2a3f5f\"},\"geo\":{\"bgcolor\":\"white\",\"lakecolor\":\"white\",\"landcolor\":\"#E5ECF6\",\"showlakes\":true,\"showland\":true,\"subunitcolor\":\"white\"},\"hoverlabel\":{\"align\":\"left\"},\"hovermode\":\"closest\",\"mapbox\":{\"style\":\"light\"},\"paper_bgcolor\":\"white\",\"plot_bgcolor\":\"#E5ECF6\",\"polar\":{\"angularaxis\":{\"gridcolor\":\"white\",\"linecolor\":\"white\",\"ticks\":\"\"},\"bgcolor\":\"#E5ECF6\",\"radialaxis\":{\"gridcolor\":\"white\",\"linecolor\":\"white\",\"ticks\":\"\"}},\"scene\":{\"xaxis\":{\"backgroundcolor\":\"#E5ECF6\",\"gridcolor\":\"white\",\"gridwidth\":2,\"linecolor\":\"white\",\"showbackground\":true,\"ticks\":\"\",\"zerolinecolor\":\"white\"},\"yaxis\":{\"backgroundcolor\":\"#E5ECF6\",\"gridcolor\":\"white\",\"gridwidth\":2,\"linecolor\":\"white\",\"showbackground\":true,\"ticks\":\"\",\"zerolinecolor\":\"white\"},\"zaxis\":{\"backgroundcolor\":\"#E5ECF6\",\"gridcolor\":\"white\",\"gridwidth\":2,\"linecolor\":\"white\",\"showbackground\":true,\"ticks\":\"\",\"zerolinecolor\":\"white\"}},\"shapedefaults\":{\"line\":{\"color\":\"#2a3f5f\"}},\"ternary\":{\"aaxis\":{\"gridcolor\":\"white\",\"linecolor\":\"white\",\"ticks\":\"\"},\"baxis\":{\"gridcolor\":\"white\",\"linecolor\":\"white\",\"ticks\":\"\"},\"bgcolor\":\"#E5ECF6\",\"caxis\":{\"gridcolor\":\"white\",\"linecolor\":\"white\",\"ticks\":\"\"}},\"title\":{\"x\":0.05},\"xaxis\":{\"automargin\":true,\"gridcolor\":\"white\",\"linecolor\":\"white\",\"ticks\":\"\",\"title\":{\"standoff\":15},\"zerolinecolor\":\"white\",\"zerolinewidth\":2},\"yaxis\":{\"automargin\":true,\"gridcolor\":\"white\",\"linecolor\":\"white\",\"ticks\":\"\",\"title\":{\"standoff\":15},\"zerolinecolor\":\"white\",\"zerolinewidth\":2}}},\"title\":{\"font\":{\"color\":\"#4D5663\"}},\"xaxis\":{\"gridcolor\":\"#E1E5ED\",\"showgrid\":true,\"tickfont\":{\"color\":\"#4D5663\"},\"title\":{\"font\":{\"color\":\"#4D5663\"},\"text\":\"\"},\"zerolinecolor\":\"#E1E5ED\"},\"xaxis2\":{\"anchor\":\"y2\",\"gridcolor\":\"#E1E5ED\",\"showgrid\":true,\"showticklabels\":false,\"tickfont\":{\"color\":\"#4D5663\"},\"title\":{\"font\":{\"color\":\"#4D5663\"},\"text\":\"\"},\"zerolinecolor\":\"#E1E5ED\"},\"yaxis\":{\"domain\":[0.3,1],\"gridcolor\":\"#E1E5ED\",\"showgrid\":true,\"tickfont\":{\"color\":\"#4D5663\"},\"title\":{\"font\":{\"color\":\"#4D5663\"},\"text\":\"\"},\"zerolinecolor\":\"#E1E5ED\"},\"yaxis2\":{\"domain\":[0,0.25],\"gridcolor\":\"#E1E5ED\",\"showgrid\":true,\"tickfont\":{\"color\":\"#4D5663\"},\"title\":{\"font\":{\"color\":\"#4D5663\"},\"text\":\"Spread\"},\"zerolinecolor\":\"#E1E5ED\"}},                        {\"showLink\": true, \"linkText\": \"Export to plot.ly\", \"plotlyServerURL\": \"https://plot.ly\", \"responsive\": true}                    ).then(function(){\n",
       "                            \n",
       "var gd = document.getElementById('788d71e4-6a5c-46de-a164-4e97ca04245f');\n",
       "var x = new MutationObserver(function (mutations, observer) {{\n",
       "        var display = window.getComputedStyle(gd).display;\n",
       "        if (!display || display === 'none') {{\n",
       "            console.log([gd, 'removed!']);\n",
       "            Plotly.purge(gd);\n",
       "            observer.disconnect();\n",
       "        }}\n",
       "}});\n",
       "\n",
       "// Listen for the removal of the full notebook cells\n",
       "var notebookContainer = gd.closest('#notebook-container');\n",
       "if (notebookContainer) {{\n",
       "    x.observe(notebookContainer, {childList: true});\n",
       "}}\n",
       "\n",
       "// Listen for the clearing of the current output cell\n",
       "var outputEl = gd.closest('.output');\n",
       "if (outputEl) {{\n",
       "    x.observe(outputEl, {childList: true});\n",
       "}}\n",
       "\n",
       "                        })                };                });            </script>        </div>"
      ]
     },
     "metadata": {},
     "output_type": "display_data"
    }
   ],
   "source": [
    "df[['A','B']].iplot(kind='spread')"
   ]
  },
  {
   "cell_type": "code",
   "execution_count": 39,
   "id": "f69e3349",
   "metadata": {},
   "outputs": [
    {
     "data": {
      "application/vnd.plotly.v1+json": {
       "config": {
        "linkText": "Export to plot.ly",
        "plotlyServerURL": "https://plot.ly",
        "showLink": true
       },
       "data": [
        {
         "marker": {
          "color": [
           "rgb(255, 153, 51)",
           "rgb(55, 128, 191)",
           "rgb(50, 171, 96)",
           "rgb(128, 0, 128)",
           "rgb(219, 64, 82)",
           "rgb(0, 128, 128)",
           "rgb(255, 255, 51)",
           "rgb(128, 128, 0)",
           "rgb(251, 128, 114)",
           "rgb(128, 177, 211)"
          ],
          "line": {
           "width": 1.3
          },
          "size": [
           38,
           21,
           66,
           20,
           33,
           15,
           58,
           92,
           12,
           92,
           16,
           102,
           14,
           37,
           77,
           93,
           21,
           28,
           105,
           45,
           103,
           62,
           65,
           39,
           95,
           96,
           70,
           83,
           60,
           65,
           25,
           93,
           79,
           74,
           60,
           21,
           47,
           43,
           96,
           30,
           77,
           107,
           112,
           88,
           65,
           19,
           87,
           12,
           16,
           23,
           88,
           69,
           72,
           104,
           39,
           37,
           57,
           28,
           90,
           92,
           60,
           73,
           74,
           73,
           35,
           101,
           49,
           45,
           15,
           66,
           47,
           70,
           72,
           79,
           53,
           62,
           54,
           80,
           52,
           55,
           62,
           99,
           20,
           88,
           37,
           70,
           17,
           78,
           39,
           12,
           51,
           44,
           16,
           84,
           61,
           96,
           48,
           30,
           42,
           101
          ],
          "symbol": "circle"
         },
         "mode": "markers",
         "text": "",
         "type": "scatter",
         "x": [
          0.6874854690341766,
          0.5513974765103675,
          0.45219615905465405,
          0.3220074688721969,
          0.49848573503280835,
          0.8958082016552023,
          0.5924551606207522,
          0.019085849506069286,
          0.16849589082793093,
          0.03917191500638728,
          0.9121123388386799,
          0.23796051949259922,
          0.7258352658575087,
          0.34011954084222296,
          0.9491936521385159,
          0.15990653103289698,
          0.9754274244115759,
          0.3513871614097297,
          0.7066711673159177,
          0.6239263416350013,
          0.7027295187093794,
          0.799269947258963,
          0.33849993354535746,
          0.6301050773543084,
          0.051192931727014224,
          0.7224205087266852,
          0.4610464129486934,
          0.18313301492030254,
          0.40054735793284857,
          0.014412382101959054,
          0.5456590908441381,
          0.10855883211332473,
          0.11586655917905408,
          0.10568130158337796,
          0.9818825910553824,
          0.8617623526104413,
          0.9415055939261352,
          0.35812691402662733,
          0.6234732510966413,
          0.15305832576902845,
          0.23400930433298706,
          0.4388023440377373,
          0.09120750092250074,
          0.2590262261903984,
          0.03974027611508335,
          0.9284703344580862,
          0.6080577294722969,
          0.1012374898742957,
          0.11618317926899302,
          0.6088220366799406,
          0.11991550032916609,
          0.28278449287021923,
          0.12753378858961406,
          0.21490654709576862,
          0.7204691205883724,
          0.5518301887870176,
          0.7226709942872196,
          0.328001954785583,
          0.49011610109086257,
          0.11945543432845651,
          0.7686714245848407,
          0.8652286415169714,
          0.3387705814403654,
          0.20014342665332918,
          0.260917778080169,
          0.9954206073810935,
          0.27240193790782574,
          0.27575568228905967,
          0.30877116216175204,
          0.579622051446661,
          0.5461726196682098,
          0.6872479995752397,
          0.4276608269347526,
          0.6431573587078688,
          0.10326755653659647,
          0.021542551887952288,
          0.5826640406415982,
          0.1961995137374999,
          0.9301684925096566,
          0.35239104974070956,
          0.9269534890286317,
          0.00967037511330382,
          0.6469773371700347,
          0.08189466503482001,
          0.6470770636312277,
          0.7186538462033282,
          0.64798841147515,
          0.9390131824104669,
          0.39599019547534,
          0.4997378936919815,
          0.3979814103169699,
          0.43334068025240957,
          0.18204684784992287,
          0.9055616278589967,
          0.4950070469382203,
          0.2728325871340562,
          0.3263777289755577,
          0.9382923709357847,
          0.9228802624702013,
          0.2280123275393151
         ],
         "y": [
          0.8843255679714199,
          0.4753451338820551,
          0.5564770416397901,
          0.4181370124941951,
          0.8082568964572047,
          0.0041675524322632995,
          0.7357309494209592,
          0.12236491926338045,
          0.8026430626697526,
          0.8551481461602891,
          0.9160726083915803,
          0.1948611008604485,
          0.10701810828909286,
          0.5659538314632473,
          0.006860980634156744,
          0.9230463812155936,
          0.3674568219671307,
          0.19570344085171865,
          0.4859113095727293,
          0.7788449077848387,
          0.4019894727335077,
          0.7895054616695254,
          0.950720477376916,
          0.7324935991597183,
          0.8294060719954223,
          0.6182198093766845,
          0.3101609180831728,
          0.8393311468830299,
          0.541810088608328,
          0.9808512663420359,
          0.7004636554110424,
          0.6112366152144356,
          0.7291840796906991,
          0.3664280752889001,
          0.22748883431446054,
          0.5760954477062057,
          0.056814697827563765,
          0.2644182837393171,
          0.5254839699381781,
          0.6053576784527464,
          0.7582588213806051,
          0.600899443738797,
          0.28418780384870856,
          0.7235975540666422,
          0.5248556362855886,
          0.17192615028233327,
          0.002118427862049077,
          0.10281536998752638,
          0.7699441949341121,
          0.5084122480003067,
          0.6273821881374195,
          0.5823393257132602,
          0.7747669163013711,
          0.7157246969337302,
          0.08690490847151733,
          0.9386285860148799,
          0.24252824943674178,
          0.2869278394690582,
          0.9268408784154505,
          0.45499666799956184,
          0.24128442648819093,
          0.0859334387635351,
          0.587303931632512,
          0.05725274216827514,
          0.02205346107514128,
          0.17496362033400514,
          0.8985829347769082,
          0.2567072722096292,
          0.035850198583307624,
          0.2200534368233742,
          0.9571000858043736,
          0.9737365908047143,
          0.3963828806802123,
          0.6362415350449229,
          0.15697065950891187,
          0.036360552886472775,
          0.982439271041864,
          0.07103230413276096,
          0.04406673582766252,
          0.9977258111089317,
          0.9375260641083187,
          0.5165719897735459,
          0.5328280702622757,
          0.14681397756233838,
          0.5506515843640556,
          0.18482825515656975,
          0.018811782698625823,
          0.3565744638001872,
          0.08815156772705057,
          0.3442811317469232,
          0.829660538258542,
          0.21618861100269104,
          0.3143410975104918,
          0.7634603125071553,
          0.4724020632558451,
          0.4600717513761058,
          0.1361911206485652,
          0.37637493132673405,
          0.8939930917701026,
          0.45455119567056856
         ]
        }
       ],
       "layout": {
        "legend": {
         "bgcolor": "#F5F6F9",
         "font": {
          "color": "#4D5663"
         }
        },
        "paper_bgcolor": "#F5F6F9",
        "plot_bgcolor": "#F5F6F9",
        "template": {
         "data": {
          "bar": [
           {
            "error_x": {
             "color": "#2a3f5f"
            },
            "error_y": {
             "color": "#2a3f5f"
            },
            "marker": {
             "line": {
              "color": "#E5ECF6",
              "width": 0.5
             },
             "pattern": {
              "fillmode": "overlay",
              "size": 10,
              "solidity": 0.2
             }
            },
            "type": "bar"
           }
          ],
          "barpolar": [
           {
            "marker": {
             "line": {
              "color": "#E5ECF6",
              "width": 0.5
             },
             "pattern": {
              "fillmode": "overlay",
              "size": 10,
              "solidity": 0.2
             }
            },
            "type": "barpolar"
           }
          ],
          "carpet": [
           {
            "aaxis": {
             "endlinecolor": "#2a3f5f",
             "gridcolor": "white",
             "linecolor": "white",
             "minorgridcolor": "white",
             "startlinecolor": "#2a3f5f"
            },
            "baxis": {
             "endlinecolor": "#2a3f5f",
             "gridcolor": "white",
             "linecolor": "white",
             "minorgridcolor": "white",
             "startlinecolor": "#2a3f5f"
            },
            "type": "carpet"
           }
          ],
          "choropleth": [
           {
            "colorbar": {
             "outlinewidth": 0,
             "ticks": ""
            },
            "type": "choropleth"
           }
          ],
          "contour": [
           {
            "colorbar": {
             "outlinewidth": 0,
             "ticks": ""
            },
            "colorscale": [
             [
              0,
              "#0d0887"
             ],
             [
              0.1111111111111111,
              "#46039f"
             ],
             [
              0.2222222222222222,
              "#7201a8"
             ],
             [
              0.3333333333333333,
              "#9c179e"
             ],
             [
              0.4444444444444444,
              "#bd3786"
             ],
             [
              0.5555555555555556,
              "#d8576b"
             ],
             [
              0.6666666666666666,
              "#ed7953"
             ],
             [
              0.7777777777777778,
              "#fb9f3a"
             ],
             [
              0.8888888888888888,
              "#fdca26"
             ],
             [
              1,
              "#f0f921"
             ]
            ],
            "type": "contour"
           }
          ],
          "contourcarpet": [
           {
            "colorbar": {
             "outlinewidth": 0,
             "ticks": ""
            },
            "type": "contourcarpet"
           }
          ],
          "heatmap": [
           {
            "colorbar": {
             "outlinewidth": 0,
             "ticks": ""
            },
            "colorscale": [
             [
              0,
              "#0d0887"
             ],
             [
              0.1111111111111111,
              "#46039f"
             ],
             [
              0.2222222222222222,
              "#7201a8"
             ],
             [
              0.3333333333333333,
              "#9c179e"
             ],
             [
              0.4444444444444444,
              "#bd3786"
             ],
             [
              0.5555555555555556,
              "#d8576b"
             ],
             [
              0.6666666666666666,
              "#ed7953"
             ],
             [
              0.7777777777777778,
              "#fb9f3a"
             ],
             [
              0.8888888888888888,
              "#fdca26"
             ],
             [
              1,
              "#f0f921"
             ]
            ],
            "type": "heatmap"
           }
          ],
          "heatmapgl": [
           {
            "colorbar": {
             "outlinewidth": 0,
             "ticks": ""
            },
            "colorscale": [
             [
              0,
              "#0d0887"
             ],
             [
              0.1111111111111111,
              "#46039f"
             ],
             [
              0.2222222222222222,
              "#7201a8"
             ],
             [
              0.3333333333333333,
              "#9c179e"
             ],
             [
              0.4444444444444444,
              "#bd3786"
             ],
             [
              0.5555555555555556,
              "#d8576b"
             ],
             [
              0.6666666666666666,
              "#ed7953"
             ],
             [
              0.7777777777777778,
              "#fb9f3a"
             ],
             [
              0.8888888888888888,
              "#fdca26"
             ],
             [
              1,
              "#f0f921"
             ]
            ],
            "type": "heatmapgl"
           }
          ],
          "histogram": [
           {
            "marker": {
             "pattern": {
              "fillmode": "overlay",
              "size": 10,
              "solidity": 0.2
             }
            },
            "type": "histogram"
           }
          ],
          "histogram2d": [
           {
            "colorbar": {
             "outlinewidth": 0,
             "ticks": ""
            },
            "colorscale": [
             [
              0,
              "#0d0887"
             ],
             [
              0.1111111111111111,
              "#46039f"
             ],
             [
              0.2222222222222222,
              "#7201a8"
             ],
             [
              0.3333333333333333,
              "#9c179e"
             ],
             [
              0.4444444444444444,
              "#bd3786"
             ],
             [
              0.5555555555555556,
              "#d8576b"
             ],
             [
              0.6666666666666666,
              "#ed7953"
             ],
             [
              0.7777777777777778,
              "#fb9f3a"
             ],
             [
              0.8888888888888888,
              "#fdca26"
             ],
             [
              1,
              "#f0f921"
             ]
            ],
            "type": "histogram2d"
           }
          ],
          "histogram2dcontour": [
           {
            "colorbar": {
             "outlinewidth": 0,
             "ticks": ""
            },
            "colorscale": [
             [
              0,
              "#0d0887"
             ],
             [
              0.1111111111111111,
              "#46039f"
             ],
             [
              0.2222222222222222,
              "#7201a8"
             ],
             [
              0.3333333333333333,
              "#9c179e"
             ],
             [
              0.4444444444444444,
              "#bd3786"
             ],
             [
              0.5555555555555556,
              "#d8576b"
             ],
             [
              0.6666666666666666,
              "#ed7953"
             ],
             [
              0.7777777777777778,
              "#fb9f3a"
             ],
             [
              0.8888888888888888,
              "#fdca26"
             ],
             [
              1,
              "#f0f921"
             ]
            ],
            "type": "histogram2dcontour"
           }
          ],
          "mesh3d": [
           {
            "colorbar": {
             "outlinewidth": 0,
             "ticks": ""
            },
            "type": "mesh3d"
           }
          ],
          "parcoords": [
           {
            "line": {
             "colorbar": {
              "outlinewidth": 0,
              "ticks": ""
             }
            },
            "type": "parcoords"
           }
          ],
          "pie": [
           {
            "automargin": true,
            "type": "pie"
           }
          ],
          "scatter": [
           {
            "marker": {
             "colorbar": {
              "outlinewidth": 0,
              "ticks": ""
             }
            },
            "type": "scatter"
           }
          ],
          "scatter3d": [
           {
            "line": {
             "colorbar": {
              "outlinewidth": 0,
              "ticks": ""
             }
            },
            "marker": {
             "colorbar": {
              "outlinewidth": 0,
              "ticks": ""
             }
            },
            "type": "scatter3d"
           }
          ],
          "scattercarpet": [
           {
            "marker": {
             "colorbar": {
              "outlinewidth": 0,
              "ticks": ""
             }
            },
            "type": "scattercarpet"
           }
          ],
          "scattergeo": [
           {
            "marker": {
             "colorbar": {
              "outlinewidth": 0,
              "ticks": ""
             }
            },
            "type": "scattergeo"
           }
          ],
          "scattergl": [
           {
            "marker": {
             "colorbar": {
              "outlinewidth": 0,
              "ticks": ""
             }
            },
            "type": "scattergl"
           }
          ],
          "scattermapbox": [
           {
            "marker": {
             "colorbar": {
              "outlinewidth": 0,
              "ticks": ""
             }
            },
            "type": "scattermapbox"
           }
          ],
          "scatterpolar": [
           {
            "marker": {
             "colorbar": {
              "outlinewidth": 0,
              "ticks": ""
             }
            },
            "type": "scatterpolar"
           }
          ],
          "scatterpolargl": [
           {
            "marker": {
             "colorbar": {
              "outlinewidth": 0,
              "ticks": ""
             }
            },
            "type": "scatterpolargl"
           }
          ],
          "scatterternary": [
           {
            "marker": {
             "colorbar": {
              "outlinewidth": 0,
              "ticks": ""
             }
            },
            "type": "scatterternary"
           }
          ],
          "surface": [
           {
            "colorbar": {
             "outlinewidth": 0,
             "ticks": ""
            },
            "colorscale": [
             [
              0,
              "#0d0887"
             ],
             [
              0.1111111111111111,
              "#46039f"
             ],
             [
              0.2222222222222222,
              "#7201a8"
             ],
             [
              0.3333333333333333,
              "#9c179e"
             ],
             [
              0.4444444444444444,
              "#bd3786"
             ],
             [
              0.5555555555555556,
              "#d8576b"
             ],
             [
              0.6666666666666666,
              "#ed7953"
             ],
             [
              0.7777777777777778,
              "#fb9f3a"
             ],
             [
              0.8888888888888888,
              "#fdca26"
             ],
             [
              1,
              "#f0f921"
             ]
            ],
            "type": "surface"
           }
          ],
          "table": [
           {
            "cells": {
             "fill": {
              "color": "#EBF0F8"
             },
             "line": {
              "color": "white"
             }
            },
            "header": {
             "fill": {
              "color": "#C8D4E3"
             },
             "line": {
              "color": "white"
             }
            },
            "type": "table"
           }
          ]
         },
         "layout": {
          "annotationdefaults": {
           "arrowcolor": "#2a3f5f",
           "arrowhead": 0,
           "arrowwidth": 1
          },
          "autotypenumbers": "strict",
          "coloraxis": {
           "colorbar": {
            "outlinewidth": 0,
            "ticks": ""
           }
          },
          "colorscale": {
           "diverging": [
            [
             0,
             "#8e0152"
            ],
            [
             0.1,
             "#c51b7d"
            ],
            [
             0.2,
             "#de77ae"
            ],
            [
             0.3,
             "#f1b6da"
            ],
            [
             0.4,
             "#fde0ef"
            ],
            [
             0.5,
             "#f7f7f7"
            ],
            [
             0.6,
             "#e6f5d0"
            ],
            [
             0.7,
             "#b8e186"
            ],
            [
             0.8,
             "#7fbc41"
            ],
            [
             0.9,
             "#4d9221"
            ],
            [
             1,
             "#276419"
            ]
           ],
           "sequential": [
            [
             0,
             "#0d0887"
            ],
            [
             0.1111111111111111,
             "#46039f"
            ],
            [
             0.2222222222222222,
             "#7201a8"
            ],
            [
             0.3333333333333333,
             "#9c179e"
            ],
            [
             0.4444444444444444,
             "#bd3786"
            ],
            [
             0.5555555555555556,
             "#d8576b"
            ],
            [
             0.6666666666666666,
             "#ed7953"
            ],
            [
             0.7777777777777778,
             "#fb9f3a"
            ],
            [
             0.8888888888888888,
             "#fdca26"
            ],
            [
             1,
             "#f0f921"
            ]
           ],
           "sequentialminus": [
            [
             0,
             "#0d0887"
            ],
            [
             0.1111111111111111,
             "#46039f"
            ],
            [
             0.2222222222222222,
             "#7201a8"
            ],
            [
             0.3333333333333333,
             "#9c179e"
            ],
            [
             0.4444444444444444,
             "#bd3786"
            ],
            [
             0.5555555555555556,
             "#d8576b"
            ],
            [
             0.6666666666666666,
             "#ed7953"
            ],
            [
             0.7777777777777778,
             "#fb9f3a"
            ],
            [
             0.8888888888888888,
             "#fdca26"
            ],
            [
             1,
             "#f0f921"
            ]
           ]
          },
          "colorway": [
           "#636efa",
           "#EF553B",
           "#00cc96",
           "#ab63fa",
           "#FFA15A",
           "#19d3f3",
           "#FF6692",
           "#B6E880",
           "#FF97FF",
           "#FECB52"
          ],
          "font": {
           "color": "#2a3f5f"
          },
          "geo": {
           "bgcolor": "white",
           "lakecolor": "white",
           "landcolor": "#E5ECF6",
           "showlakes": true,
           "showland": true,
           "subunitcolor": "white"
          },
          "hoverlabel": {
           "align": "left"
          },
          "hovermode": "closest",
          "mapbox": {
           "style": "light"
          },
          "paper_bgcolor": "white",
          "plot_bgcolor": "#E5ECF6",
          "polar": {
           "angularaxis": {
            "gridcolor": "white",
            "linecolor": "white",
            "ticks": ""
           },
           "bgcolor": "#E5ECF6",
           "radialaxis": {
            "gridcolor": "white",
            "linecolor": "white",
            "ticks": ""
           }
          },
          "scene": {
           "xaxis": {
            "backgroundcolor": "#E5ECF6",
            "gridcolor": "white",
            "gridwidth": 2,
            "linecolor": "white",
            "showbackground": true,
            "ticks": "",
            "zerolinecolor": "white"
           },
           "yaxis": {
            "backgroundcolor": "#E5ECF6",
            "gridcolor": "white",
            "gridwidth": 2,
            "linecolor": "white",
            "showbackground": true,
            "ticks": "",
            "zerolinecolor": "white"
           },
           "zaxis": {
            "backgroundcolor": "#E5ECF6",
            "gridcolor": "white",
            "gridwidth": 2,
            "linecolor": "white",
            "showbackground": true,
            "ticks": "",
            "zerolinecolor": "white"
           }
          },
          "shapedefaults": {
           "line": {
            "color": "#2a3f5f"
           }
          },
          "ternary": {
           "aaxis": {
            "gridcolor": "white",
            "linecolor": "white",
            "ticks": ""
           },
           "baxis": {
            "gridcolor": "white",
            "linecolor": "white",
            "ticks": ""
           },
           "bgcolor": "#E5ECF6",
           "caxis": {
            "gridcolor": "white",
            "linecolor": "white",
            "ticks": ""
           }
          },
          "title": {
           "x": 0.05
          },
          "xaxis": {
           "automargin": true,
           "gridcolor": "white",
           "linecolor": "white",
           "ticks": "",
           "title": {
            "standoff": 15
           },
           "zerolinecolor": "white",
           "zerolinewidth": 2
          },
          "yaxis": {
           "automargin": true,
           "gridcolor": "white",
           "linecolor": "white",
           "ticks": "",
           "title": {
            "standoff": 15
           },
           "zerolinecolor": "white",
           "zerolinewidth": 2
          }
         }
        },
        "title": {
         "font": {
          "color": "#4D5663"
         }
        },
        "xaxis": {
         "gridcolor": "#E1E5ED",
         "showgrid": true,
         "tickfont": {
          "color": "#4D5663"
         },
         "title": {
          "font": {
           "color": "#4D5663"
          },
          "text": ""
         },
         "zerolinecolor": "#E1E5ED"
        },
        "yaxis": {
         "gridcolor": "#E1E5ED",
         "showgrid": true,
         "tickfont": {
          "color": "#4D5663"
         },
         "title": {
          "font": {
           "color": "#4D5663"
          },
          "text": ""
         },
         "zerolinecolor": "#E1E5ED"
        }
       }
      },
      "text/html": [
       "<div>                            <div id=\"6952960e-0688-4d70-b895-c3f0e468b780\" class=\"plotly-graph-div\" style=\"height:525px; width:100%;\"></div>            <script type=\"text/javascript\">                require([\"plotly\"], function(Plotly) {                    window.PLOTLYENV=window.PLOTLYENV || {};\n",
       "                    window.PLOTLYENV.BASE_URL='https://plot.ly';                                    if (document.getElementById(\"6952960e-0688-4d70-b895-c3f0e468b780\")) {                    Plotly.newPlot(                        \"6952960e-0688-4d70-b895-c3f0e468b780\",                        [{\"marker\":{\"color\":[\"rgb(255, 153, 51)\",\"rgb(55, 128, 191)\",\"rgb(50, 171, 96)\",\"rgb(128, 0, 128)\",\"rgb(219, 64, 82)\",\"rgb(0, 128, 128)\",\"rgb(255, 255, 51)\",\"rgb(128, 128, 0)\",\"rgb(251, 128, 114)\",\"rgb(128, 177, 211)\"],\"line\":{\"width\":1.3},\"size\":[38,21,66,20,33,15,58,92,12,92,16,102,14,37,77,93,21,28,105,45,103,62,65,39,95,96,70,83,60,65,25,93,79,74,60,21,47,43,96,30,77,107,112,88,65,19,87,12,16,23,88,69,72,104,39,37,57,28,90,92,60,73,74,73,35,101,49,45,15,66,47,70,72,79,53,62,54,80,52,55,62,99,20,88,37,70,17,78,39,12,51,44,16,84,61,96,48,30,42,101],\"symbol\":\"circle\"},\"mode\":\"markers\",\"text\":\"\",\"type\":\"scatter\",\"x\":[0.6874854690341766,0.5513974765103675,0.45219615905465405,0.3220074688721969,0.49848573503280835,0.8958082016552023,0.5924551606207522,0.019085849506069286,0.16849589082793093,0.03917191500638728,0.9121123388386799,0.23796051949259922,0.7258352658575087,0.34011954084222296,0.9491936521385159,0.15990653103289698,0.9754274244115759,0.3513871614097297,0.7066711673159177,0.6239263416350013,0.7027295187093794,0.799269947258963,0.33849993354535746,0.6301050773543084,0.051192931727014224,0.7224205087266852,0.4610464129486934,0.18313301492030254,0.40054735793284857,0.014412382101959054,0.5456590908441381,0.10855883211332473,0.11586655917905408,0.10568130158337796,0.9818825910553824,0.8617623526104413,0.9415055939261352,0.35812691402662733,0.6234732510966413,0.15305832576902845,0.23400930433298706,0.4388023440377373,0.09120750092250074,0.2590262261903984,0.03974027611508335,0.9284703344580862,0.6080577294722969,0.1012374898742957,0.11618317926899302,0.6088220366799406,0.11991550032916609,0.28278449287021923,0.12753378858961406,0.21490654709576862,0.7204691205883724,0.5518301887870176,0.7226709942872196,0.328001954785583,0.49011610109086257,0.11945543432845651,0.7686714245848407,0.8652286415169714,0.3387705814403654,0.20014342665332918,0.260917778080169,0.9954206073810935,0.27240193790782574,0.27575568228905967,0.30877116216175204,0.579622051446661,0.5461726196682098,0.6872479995752397,0.4276608269347526,0.6431573587078688,0.10326755653659647,0.021542551887952288,0.5826640406415982,0.1961995137374999,0.9301684925096566,0.35239104974070956,0.9269534890286317,0.00967037511330382,0.6469773371700347,0.08189466503482001,0.6470770636312277,0.7186538462033282,0.64798841147515,0.9390131824104669,0.39599019547534,0.4997378936919815,0.3979814103169699,0.43334068025240957,0.18204684784992287,0.9055616278589967,0.4950070469382203,0.2728325871340562,0.3263777289755577,0.9382923709357847,0.9228802624702013,0.2280123275393151],\"y\":[0.8843255679714199,0.4753451338820551,0.5564770416397901,0.4181370124941951,0.8082568964572047,0.0041675524322632995,0.7357309494209592,0.12236491926338045,0.8026430626697526,0.8551481461602891,0.9160726083915803,0.1948611008604485,0.10701810828909286,0.5659538314632473,0.006860980634156744,0.9230463812155936,0.3674568219671307,0.19570344085171865,0.4859113095727293,0.7788449077848387,0.4019894727335077,0.7895054616695254,0.950720477376916,0.7324935991597183,0.8294060719954223,0.6182198093766845,0.3101609180831728,0.8393311468830299,0.541810088608328,0.9808512663420359,0.7004636554110424,0.6112366152144356,0.7291840796906991,0.3664280752889001,0.22748883431446054,0.5760954477062057,0.056814697827563765,0.2644182837393171,0.5254839699381781,0.6053576784527464,0.7582588213806051,0.600899443738797,0.28418780384870856,0.7235975540666422,0.5248556362855886,0.17192615028233327,0.002118427862049077,0.10281536998752638,0.7699441949341121,0.5084122480003067,0.6273821881374195,0.5823393257132602,0.7747669163013711,0.7157246969337302,0.08690490847151733,0.9386285860148799,0.24252824943674178,0.2869278394690582,0.9268408784154505,0.45499666799956184,0.24128442648819093,0.0859334387635351,0.587303931632512,0.05725274216827514,0.02205346107514128,0.17496362033400514,0.8985829347769082,0.2567072722096292,0.035850198583307624,0.2200534368233742,0.9571000858043736,0.9737365908047143,0.3963828806802123,0.6362415350449229,0.15697065950891187,0.036360552886472775,0.982439271041864,0.07103230413276096,0.04406673582766252,0.9977258111089317,0.9375260641083187,0.5165719897735459,0.5328280702622757,0.14681397756233838,0.5506515843640556,0.18482825515656975,0.018811782698625823,0.3565744638001872,0.08815156772705057,0.3442811317469232,0.829660538258542,0.21618861100269104,0.3143410975104918,0.7634603125071553,0.4724020632558451,0.4600717513761058,0.1361911206485652,0.37637493132673405,0.8939930917701026,0.45455119567056856]}],                        {\"legend\":{\"bgcolor\":\"#F5F6F9\",\"font\":{\"color\":\"#4D5663\"}},\"paper_bgcolor\":\"#F5F6F9\",\"plot_bgcolor\":\"#F5F6F9\",\"template\":{\"data\":{\"bar\":[{\"error_x\":{\"color\":\"#2a3f5f\"},\"error_y\":{\"color\":\"#2a3f5f\"},\"marker\":{\"line\":{\"color\":\"#E5ECF6\",\"width\":0.5},\"pattern\":{\"fillmode\":\"overlay\",\"size\":10,\"solidity\":0.2}},\"type\":\"bar\"}],\"barpolar\":[{\"marker\":{\"line\":{\"color\":\"#E5ECF6\",\"width\":0.5},\"pattern\":{\"fillmode\":\"overlay\",\"size\":10,\"solidity\":0.2}},\"type\":\"barpolar\"}],\"carpet\":[{\"aaxis\":{\"endlinecolor\":\"#2a3f5f\",\"gridcolor\":\"white\",\"linecolor\":\"white\",\"minorgridcolor\":\"white\",\"startlinecolor\":\"#2a3f5f\"},\"baxis\":{\"endlinecolor\":\"#2a3f5f\",\"gridcolor\":\"white\",\"linecolor\":\"white\",\"minorgridcolor\":\"white\",\"startlinecolor\":\"#2a3f5f\"},\"type\":\"carpet\"}],\"choropleth\":[{\"colorbar\":{\"outlinewidth\":0,\"ticks\":\"\"},\"type\":\"choropleth\"}],\"contour\":[{\"colorbar\":{\"outlinewidth\":0,\"ticks\":\"\"},\"colorscale\":[[0.0,\"#0d0887\"],[0.1111111111111111,\"#46039f\"],[0.2222222222222222,\"#7201a8\"],[0.3333333333333333,\"#9c179e\"],[0.4444444444444444,\"#bd3786\"],[0.5555555555555556,\"#d8576b\"],[0.6666666666666666,\"#ed7953\"],[0.7777777777777778,\"#fb9f3a\"],[0.8888888888888888,\"#fdca26\"],[1.0,\"#f0f921\"]],\"type\":\"contour\"}],\"contourcarpet\":[{\"colorbar\":{\"outlinewidth\":0,\"ticks\":\"\"},\"type\":\"contourcarpet\"}],\"heatmap\":[{\"colorbar\":{\"outlinewidth\":0,\"ticks\":\"\"},\"colorscale\":[[0.0,\"#0d0887\"],[0.1111111111111111,\"#46039f\"],[0.2222222222222222,\"#7201a8\"],[0.3333333333333333,\"#9c179e\"],[0.4444444444444444,\"#bd3786\"],[0.5555555555555556,\"#d8576b\"],[0.6666666666666666,\"#ed7953\"],[0.7777777777777778,\"#fb9f3a\"],[0.8888888888888888,\"#fdca26\"],[1.0,\"#f0f921\"]],\"type\":\"heatmap\"}],\"heatmapgl\":[{\"colorbar\":{\"outlinewidth\":0,\"ticks\":\"\"},\"colorscale\":[[0.0,\"#0d0887\"],[0.1111111111111111,\"#46039f\"],[0.2222222222222222,\"#7201a8\"],[0.3333333333333333,\"#9c179e\"],[0.4444444444444444,\"#bd3786\"],[0.5555555555555556,\"#d8576b\"],[0.6666666666666666,\"#ed7953\"],[0.7777777777777778,\"#fb9f3a\"],[0.8888888888888888,\"#fdca26\"],[1.0,\"#f0f921\"]],\"type\":\"heatmapgl\"}],\"histogram\":[{\"marker\":{\"pattern\":{\"fillmode\":\"overlay\",\"size\":10,\"solidity\":0.2}},\"type\":\"histogram\"}],\"histogram2d\":[{\"colorbar\":{\"outlinewidth\":0,\"ticks\":\"\"},\"colorscale\":[[0.0,\"#0d0887\"],[0.1111111111111111,\"#46039f\"],[0.2222222222222222,\"#7201a8\"],[0.3333333333333333,\"#9c179e\"],[0.4444444444444444,\"#bd3786\"],[0.5555555555555556,\"#d8576b\"],[0.6666666666666666,\"#ed7953\"],[0.7777777777777778,\"#fb9f3a\"],[0.8888888888888888,\"#fdca26\"],[1.0,\"#f0f921\"]],\"type\":\"histogram2d\"}],\"histogram2dcontour\":[{\"colorbar\":{\"outlinewidth\":0,\"ticks\":\"\"},\"colorscale\":[[0.0,\"#0d0887\"],[0.1111111111111111,\"#46039f\"],[0.2222222222222222,\"#7201a8\"],[0.3333333333333333,\"#9c179e\"],[0.4444444444444444,\"#bd3786\"],[0.5555555555555556,\"#d8576b\"],[0.6666666666666666,\"#ed7953\"],[0.7777777777777778,\"#fb9f3a\"],[0.8888888888888888,\"#fdca26\"],[1.0,\"#f0f921\"]],\"type\":\"histogram2dcontour\"}],\"mesh3d\":[{\"colorbar\":{\"outlinewidth\":0,\"ticks\":\"\"},\"type\":\"mesh3d\"}],\"parcoords\":[{\"line\":{\"colorbar\":{\"outlinewidth\":0,\"ticks\":\"\"}},\"type\":\"parcoords\"}],\"pie\":[{\"automargin\":true,\"type\":\"pie\"}],\"scatter\":[{\"marker\":{\"colorbar\":{\"outlinewidth\":0,\"ticks\":\"\"}},\"type\":\"scatter\"}],\"scatter3d\":[{\"line\":{\"colorbar\":{\"outlinewidth\":0,\"ticks\":\"\"}},\"marker\":{\"colorbar\":{\"outlinewidth\":0,\"ticks\":\"\"}},\"type\":\"scatter3d\"}],\"scattercarpet\":[{\"marker\":{\"colorbar\":{\"outlinewidth\":0,\"ticks\":\"\"}},\"type\":\"scattercarpet\"}],\"scattergeo\":[{\"marker\":{\"colorbar\":{\"outlinewidth\":0,\"ticks\":\"\"}},\"type\":\"scattergeo\"}],\"scattergl\":[{\"marker\":{\"colorbar\":{\"outlinewidth\":0,\"ticks\":\"\"}},\"type\":\"scattergl\"}],\"scattermapbox\":[{\"marker\":{\"colorbar\":{\"outlinewidth\":0,\"ticks\":\"\"}},\"type\":\"scattermapbox\"}],\"scatterpolar\":[{\"marker\":{\"colorbar\":{\"outlinewidth\":0,\"ticks\":\"\"}},\"type\":\"scatterpolar\"}],\"scatterpolargl\":[{\"marker\":{\"colorbar\":{\"outlinewidth\":0,\"ticks\":\"\"}},\"type\":\"scatterpolargl\"}],\"scatterternary\":[{\"marker\":{\"colorbar\":{\"outlinewidth\":0,\"ticks\":\"\"}},\"type\":\"scatterternary\"}],\"surface\":[{\"colorbar\":{\"outlinewidth\":0,\"ticks\":\"\"},\"colorscale\":[[0.0,\"#0d0887\"],[0.1111111111111111,\"#46039f\"],[0.2222222222222222,\"#7201a8\"],[0.3333333333333333,\"#9c179e\"],[0.4444444444444444,\"#bd3786\"],[0.5555555555555556,\"#d8576b\"],[0.6666666666666666,\"#ed7953\"],[0.7777777777777778,\"#fb9f3a\"],[0.8888888888888888,\"#fdca26\"],[1.0,\"#f0f921\"]],\"type\":\"surface\"}],\"table\":[{\"cells\":{\"fill\":{\"color\":\"#EBF0F8\"},\"line\":{\"color\":\"white\"}},\"header\":{\"fill\":{\"color\":\"#C8D4E3\"},\"line\":{\"color\":\"white\"}},\"type\":\"table\"}]},\"layout\":{\"annotationdefaults\":{\"arrowcolor\":\"#2a3f5f\",\"arrowhead\":0,\"arrowwidth\":1},\"autotypenumbers\":\"strict\",\"coloraxis\":{\"colorbar\":{\"outlinewidth\":0,\"ticks\":\"\"}},\"colorscale\":{\"diverging\":[[0,\"#8e0152\"],[0.1,\"#c51b7d\"],[0.2,\"#de77ae\"],[0.3,\"#f1b6da\"],[0.4,\"#fde0ef\"],[0.5,\"#f7f7f7\"],[0.6,\"#e6f5d0\"],[0.7,\"#b8e186\"],[0.8,\"#7fbc41\"],[0.9,\"#4d9221\"],[1,\"#276419\"]],\"sequential\":[[0.0,\"#0d0887\"],[0.1111111111111111,\"#46039f\"],[0.2222222222222222,\"#7201a8\"],[0.3333333333333333,\"#9c179e\"],[0.4444444444444444,\"#bd3786\"],[0.5555555555555556,\"#d8576b\"],[0.6666666666666666,\"#ed7953\"],[0.7777777777777778,\"#fb9f3a\"],[0.8888888888888888,\"#fdca26\"],[1.0,\"#f0f921\"]],\"sequentialminus\":[[0.0,\"#0d0887\"],[0.1111111111111111,\"#46039f\"],[0.2222222222222222,\"#7201a8\"],[0.3333333333333333,\"#9c179e\"],[0.4444444444444444,\"#bd3786\"],[0.5555555555555556,\"#d8576b\"],[0.6666666666666666,\"#ed7953\"],[0.7777777777777778,\"#fb9f3a\"],[0.8888888888888888,\"#fdca26\"],[1.0,\"#f0f921\"]]},\"colorway\":[\"#636efa\",\"#EF553B\",\"#00cc96\",\"#ab63fa\",\"#FFA15A\",\"#19d3f3\",\"#FF6692\",\"#B6E880\",\"#FF97FF\",\"#FECB52\"],\"font\":{\"color\":\"#2a3f5f\"},\"geo\":{\"bgcolor\":\"white\",\"lakecolor\":\"white\",\"landcolor\":\"#E5ECF6\",\"showlakes\":true,\"showland\":true,\"subunitcolor\":\"white\"},\"hoverlabel\":{\"align\":\"left\"},\"hovermode\":\"closest\",\"mapbox\":{\"style\":\"light\"},\"paper_bgcolor\":\"white\",\"plot_bgcolor\":\"#E5ECF6\",\"polar\":{\"angularaxis\":{\"gridcolor\":\"white\",\"linecolor\":\"white\",\"ticks\":\"\"},\"bgcolor\":\"#E5ECF6\",\"radialaxis\":{\"gridcolor\":\"white\",\"linecolor\":\"white\",\"ticks\":\"\"}},\"scene\":{\"xaxis\":{\"backgroundcolor\":\"#E5ECF6\",\"gridcolor\":\"white\",\"gridwidth\":2,\"linecolor\":\"white\",\"showbackground\":true,\"ticks\":\"\",\"zerolinecolor\":\"white\"},\"yaxis\":{\"backgroundcolor\":\"#E5ECF6\",\"gridcolor\":\"white\",\"gridwidth\":2,\"linecolor\":\"white\",\"showbackground\":true,\"ticks\":\"\",\"zerolinecolor\":\"white\"},\"zaxis\":{\"backgroundcolor\":\"#E5ECF6\",\"gridcolor\":\"white\",\"gridwidth\":2,\"linecolor\":\"white\",\"showbackground\":true,\"ticks\":\"\",\"zerolinecolor\":\"white\"}},\"shapedefaults\":{\"line\":{\"color\":\"#2a3f5f\"}},\"ternary\":{\"aaxis\":{\"gridcolor\":\"white\",\"linecolor\":\"white\",\"ticks\":\"\"},\"baxis\":{\"gridcolor\":\"white\",\"linecolor\":\"white\",\"ticks\":\"\"},\"bgcolor\":\"#E5ECF6\",\"caxis\":{\"gridcolor\":\"white\",\"linecolor\":\"white\",\"ticks\":\"\"}},\"title\":{\"x\":0.05},\"xaxis\":{\"automargin\":true,\"gridcolor\":\"white\",\"linecolor\":\"white\",\"ticks\":\"\",\"title\":{\"standoff\":15},\"zerolinecolor\":\"white\",\"zerolinewidth\":2},\"yaxis\":{\"automargin\":true,\"gridcolor\":\"white\",\"linecolor\":\"white\",\"ticks\":\"\",\"title\":{\"standoff\":15},\"zerolinecolor\":\"white\",\"zerolinewidth\":2}}},\"title\":{\"font\":{\"color\":\"#4D5663\"}},\"xaxis\":{\"gridcolor\":\"#E1E5ED\",\"showgrid\":true,\"tickfont\":{\"color\":\"#4D5663\"},\"title\":{\"font\":{\"color\":\"#4D5663\"},\"text\":\"\"},\"zerolinecolor\":\"#E1E5ED\"},\"yaxis\":{\"gridcolor\":\"#E1E5ED\",\"showgrid\":true,\"tickfont\":{\"color\":\"#4D5663\"},\"title\":{\"font\":{\"color\":\"#4D5663\"},\"text\":\"\"},\"zerolinecolor\":\"#E1E5ED\"}},                        {\"showLink\": true, \"linkText\": \"Export to plot.ly\", \"plotlyServerURL\": \"https://plot.ly\", \"responsive\": true}                    ).then(function(){\n",
       "                            \n",
       "var gd = document.getElementById('6952960e-0688-4d70-b895-c3f0e468b780');\n",
       "var x = new MutationObserver(function (mutations, observer) {{\n",
       "        var display = window.getComputedStyle(gd).display;\n",
       "        if (!display || display === 'none') {{\n",
       "            console.log([gd, 'removed!']);\n",
       "            Plotly.purge(gd);\n",
       "            observer.disconnect();\n",
       "        }}\n",
       "}});\n",
       "\n",
       "// Listen for the removal of the full notebook cells\n",
       "var notebookContainer = gd.closest('#notebook-container');\n",
       "if (notebookContainer) {{\n",
       "    x.observe(notebookContainer, {childList: true});\n",
       "}}\n",
       "\n",
       "// Listen for the clearing of the current output cell\n",
       "var outputEl = gd.closest('.output');\n",
       "if (outputEl) {{\n",
       "    x.observe(outputEl, {childList: true});\n",
       "}}\n",
       "\n",
       "                        })                };                });            </script>        </div>"
      ]
     },
     "metadata": {},
     "output_type": "display_data"
    }
   ],
   "source": [
    "df.iplot(kind='bubble',x='A',y='B',size='C')"
   ]
  },
  {
   "cell_type": "code",
   "execution_count": 40,
   "id": "5d386997",
   "metadata": {},
   "outputs": [
    {
     "data": {
      "application/vnd.plotly.v1+json": {
       "config": {
        "linkText": "Export to plot.ly",
        "plotlyServerURL": "https://plot.ly",
        "showLink": true
       },
       "data": [
        {
         "histfunc": "count",
         "histnorm": "",
         "marker": {
          "color": "rgba(255, 153, 51, 1.0)",
          "line": {
           "color": "#4D5663",
           "width": 1.3
          }
         },
         "name": "A",
         "nbinsx": 10,
         "opacity": 0.8,
         "orientation": "v",
         "type": "histogram",
         "x": [
          0.6874854690341766,
          0.5513974765103675,
          0.45219615905465405,
          0.3220074688721969,
          0.49848573503280835,
          0.8958082016552023,
          0.5924551606207522,
          0.019085849506069286,
          0.16849589082793093,
          0.03917191500638728,
          0.9121123388386799,
          0.23796051949259922,
          0.7258352658575087,
          0.34011954084222296,
          0.9491936521385159,
          0.15990653103289698,
          0.9754274244115759,
          0.3513871614097297,
          0.7066711673159177,
          0.6239263416350013,
          0.7027295187093794,
          0.799269947258963,
          0.33849993354535746,
          0.6301050773543084,
          0.051192931727014224,
          0.7224205087266852,
          0.4610464129486934,
          0.18313301492030254,
          0.40054735793284857,
          0.014412382101959054,
          0.5456590908441381,
          0.10855883211332473,
          0.11586655917905408,
          0.10568130158337796,
          0.9818825910553824,
          0.8617623526104413,
          0.9415055939261352,
          0.35812691402662733,
          0.6234732510966413,
          0.15305832576902845,
          0.23400930433298706,
          0.4388023440377373,
          0.09120750092250074,
          0.2590262261903984,
          0.03974027611508335,
          0.9284703344580862,
          0.6080577294722969,
          0.1012374898742957,
          0.11618317926899302,
          0.6088220366799406,
          0.11991550032916609,
          0.28278449287021923,
          0.12753378858961406,
          0.21490654709576862,
          0.7204691205883724,
          0.5518301887870176,
          0.7226709942872196,
          0.328001954785583,
          0.49011610109086257,
          0.11945543432845651,
          0.7686714245848407,
          0.8652286415169714,
          0.3387705814403654,
          0.20014342665332918,
          0.260917778080169,
          0.9954206073810935,
          0.27240193790782574,
          0.27575568228905967,
          0.30877116216175204,
          0.579622051446661,
          0.5461726196682098,
          0.6872479995752397,
          0.4276608269347526,
          0.6431573587078688,
          0.10326755653659647,
          0.021542551887952288,
          0.5826640406415982,
          0.1961995137374999,
          0.9301684925096566,
          0.35239104974070956,
          0.9269534890286317,
          0.00967037511330382,
          0.6469773371700347,
          0.08189466503482001,
          0.6470770636312277,
          0.7186538462033282,
          0.64798841147515,
          0.9390131824104669,
          0.39599019547534,
          0.4997378936919815,
          0.3979814103169699,
          0.43334068025240957,
          0.18204684784992287,
          0.9055616278589967,
          0.4950070469382203,
          0.2728325871340562,
          0.3263777289755577,
          0.9382923709357847,
          0.9228802624702013,
          0.2280123275393151
         ],
         "xaxis": "x",
         "yaxis": "y"
        },
        {
         "line": {
          "color": "rgba(128, 128, 128, 1.0)",
          "dash": "solid",
          "shape": "linear",
          "width": 1.3
         },
         "marker": {
          "size": 2,
          "symbol": "circle"
         },
         "mode": "markers",
         "name": "A",
         "text": "",
         "type": "scatter",
         "x": [
          0.8843255679714199,
          0.4753451338820551,
          0.5564770416397901,
          0.4181370124941951,
          0.8082568964572047,
          0.0041675524322632995,
          0.7357309494209592,
          0.12236491926338045,
          0.8026430626697526,
          0.8551481461602891,
          0.9160726083915803,
          0.1948611008604485,
          0.10701810828909286,
          0.5659538314632473,
          0.006860980634156744,
          0.9230463812155936,
          0.3674568219671307,
          0.19570344085171865,
          0.4859113095727293,
          0.7788449077848387,
          0.4019894727335077,
          0.7895054616695254,
          0.950720477376916,
          0.7324935991597183,
          0.8294060719954223,
          0.6182198093766845,
          0.3101609180831728,
          0.8393311468830299,
          0.541810088608328,
          0.9808512663420359,
          0.7004636554110424,
          0.6112366152144356,
          0.7291840796906991,
          0.3664280752889001,
          0.22748883431446054,
          0.5760954477062057,
          0.056814697827563765,
          0.2644182837393171,
          0.5254839699381781,
          0.6053576784527464,
          0.7582588213806051,
          0.600899443738797,
          0.28418780384870856,
          0.7235975540666422,
          0.5248556362855886,
          0.17192615028233327,
          0.002118427862049077,
          0.10281536998752638,
          0.7699441949341121,
          0.5084122480003067,
          0.6273821881374195,
          0.5823393257132602,
          0.7747669163013711,
          0.7157246969337302,
          0.08690490847151733,
          0.9386285860148799,
          0.24252824943674178,
          0.2869278394690582,
          0.9268408784154505,
          0.45499666799956184,
          0.24128442648819093,
          0.0859334387635351,
          0.587303931632512,
          0.05725274216827514,
          0.02205346107514128,
          0.17496362033400514,
          0.8985829347769082,
          0.2567072722096292,
          0.035850198583307624,
          0.2200534368233742,
          0.9571000858043736,
          0.9737365908047143,
          0.3963828806802123,
          0.6362415350449229,
          0.15697065950891187,
          0.036360552886472775,
          0.982439271041864,
          0.07103230413276096,
          0.04406673582766252,
          0.9977258111089317,
          0.9375260641083187,
          0.5165719897735459,
          0.5328280702622757,
          0.14681397756233838,
          0.5506515843640556,
          0.18482825515656975,
          0.018811782698625823,
          0.3565744638001872,
          0.08815156772705057,
          0.3442811317469232,
          0.829660538258542,
          0.21618861100269104,
          0.3143410975104918,
          0.7634603125071553,
          0.4724020632558451,
          0.4600717513761058,
          0.1361911206485652,
          0.37637493132673405,
          0.8939930917701026,
          0.45455119567056856
         ],
         "xaxis": "x2",
         "y": [
          0.6874854690341766,
          0.5513974765103675,
          0.45219615905465405,
          0.3220074688721969,
          0.49848573503280835,
          0.8958082016552023,
          0.5924551606207522,
          0.019085849506069286,
          0.16849589082793093,
          0.03917191500638728,
          0.9121123388386799,
          0.23796051949259922,
          0.7258352658575087,
          0.34011954084222296,
          0.9491936521385159,
          0.15990653103289698,
          0.9754274244115759,
          0.3513871614097297,
          0.7066711673159177,
          0.6239263416350013,
          0.7027295187093794,
          0.799269947258963,
          0.33849993354535746,
          0.6301050773543084,
          0.051192931727014224,
          0.7224205087266852,
          0.4610464129486934,
          0.18313301492030254,
          0.40054735793284857,
          0.014412382101959054,
          0.5456590908441381,
          0.10855883211332473,
          0.11586655917905408,
          0.10568130158337796,
          0.9818825910553824,
          0.8617623526104413,
          0.9415055939261352,
          0.35812691402662733,
          0.6234732510966413,
          0.15305832576902845,
          0.23400930433298706,
          0.4388023440377373,
          0.09120750092250074,
          0.2590262261903984,
          0.03974027611508335,
          0.9284703344580862,
          0.6080577294722969,
          0.1012374898742957,
          0.11618317926899302,
          0.6088220366799406,
          0.11991550032916609,
          0.28278449287021923,
          0.12753378858961406,
          0.21490654709576862,
          0.7204691205883724,
          0.5518301887870176,
          0.7226709942872196,
          0.328001954785583,
          0.49011610109086257,
          0.11945543432845651,
          0.7686714245848407,
          0.8652286415169714,
          0.3387705814403654,
          0.20014342665332918,
          0.260917778080169,
          0.9954206073810935,
          0.27240193790782574,
          0.27575568228905967,
          0.30877116216175204,
          0.579622051446661,
          0.5461726196682098,
          0.6872479995752397,
          0.4276608269347526,
          0.6431573587078688,
          0.10326755653659647,
          0.021542551887952288,
          0.5826640406415982,
          0.1961995137374999,
          0.9301684925096566,
          0.35239104974070956,
          0.9269534890286317,
          0.00967037511330382,
          0.6469773371700347,
          0.08189466503482001,
          0.6470770636312277,
          0.7186538462033282,
          0.64798841147515,
          0.9390131824104669,
          0.39599019547534,
          0.4997378936919815,
          0.3979814103169699,
          0.43334068025240957,
          0.18204684784992287,
          0.9055616278589967,
          0.4950070469382203,
          0.2728325871340562,
          0.3263777289755577,
          0.9382923709357847,
          0.9228802624702013,
          0.2280123275393151
         ],
         "yaxis": "y2"
        },
        {
         "line": {
          "color": "rgba(128, 128, 128, 1.0)",
          "dash": "solid",
          "shape": "linear",
          "width": 1.3
         },
         "marker": {
          "size": 2,
          "symbol": "circle"
         },
         "mode": "markers",
         "name": "A",
         "text": "",
         "type": "scatter",
         "x": [
          0.2727659694171646,
          0.10013266711232538,
          0.5448327863460596,
          0.09727329894900805,
          0.2197344135623024,
          0.04214646070583883,
          0.46821889609474976,
          0.8025023567493255,
          0.01573595417142093,
          0.8039627485723932,
          0.05351035310071783,
          0.9000406066334424,
          0.037098494546418004,
          0.2629835388810038,
          0.6565807923926823,
          0.8123690081745882,
          0.09871617059775817,
          0.17238693234887326,
          0.934884113405032,
          0.34064314236757254,
          0.9115421177085139,
          0.5131761680134694,
          0.5379622467693852,
          0.284426545392087,
          0.8345670148283205,
          0.8487558681961126,
          0.5900632249409625,
          0.714154243306131,
          0.49242633777860434,
          0.5336573146516208,
          0.1453402204294264,
          0.8163375471348691,
          0.6811463764736094,
          0.6245439838334139,
          0.4894177841709727,
          0.10532400939912523,
          0.3618680768124718,
          0.32272026156317757,
          0.8433884451270447,
          0.19000243572657838,
          0.6539164107900397,
          0.9521670993114382,
          0.9987033922593445,
          0.770424395262453,
          0.5375133721748498,
          0.082381733581116,
          0.7608344269402947,
          0.008898723946493714,
          0.0495688379008824,
          0.12610535479249285,
          0.762356668150164,
          0.5806095750100767,
          0.607013446608908,
          0.9196984128010408,
          0.28276562212501666,
          0.2625431879724742,
          0.4614249618074985,
          0.17704613485673404,
          0.7868397345361017,
          0.8066783941246661,
          0.4864485987873186,
          0.6135022168649812,
          0.6273290657176195,
          0.6145518813492507,
          0.23944297122292757,
          0.8931918852211221,
          0.3798528483404081,
          0.33649416223700135,
          0.043255334208812224,
          0.553039130920302,
          0.3620196403359204,
          0.5856002401687663,
          0.6080727470900651,
          0.6777037301958364,
          0.4224623950184081,
          0.5079081085198162,
          0.43057034579573017,
          0.6902588282783292,
          0.411766731657773,
          0.4410796490087915,
          0.5088675781055102,
          0.8729896925135645,
          0.09661973445640559,
          0.7642709600505615,
          0.2637435603231273,
          0.5831670398586298,
          0.0639600760652358,
          0.6666363233039206,
          0.2797930223401284,
          0.00906139330142075,
          0.3949603726304901,
          0.33339740804984064,
          0.05697582815757041,
          0.7295051035746041,
          0.4978557217912828,
          0.8432200315712669,
          0.3665848164074931,
          0.19071377651795673,
          0.3134459169813113,
          0.8906068235198399
         ],
         "xaxis": "x3",
         "y": [
          0.6874854690341766,
          0.5513974765103675,
          0.45219615905465405,
          0.3220074688721969,
          0.49848573503280835,
          0.8958082016552023,
          0.5924551606207522,
          0.019085849506069286,
          0.16849589082793093,
          0.03917191500638728,
          0.9121123388386799,
          0.23796051949259922,
          0.7258352658575087,
          0.34011954084222296,
          0.9491936521385159,
          0.15990653103289698,
          0.9754274244115759,
          0.3513871614097297,
          0.7066711673159177,
          0.6239263416350013,
          0.7027295187093794,
          0.799269947258963,
          0.33849993354535746,
          0.6301050773543084,
          0.051192931727014224,
          0.7224205087266852,
          0.4610464129486934,
          0.18313301492030254,
          0.40054735793284857,
          0.014412382101959054,
          0.5456590908441381,
          0.10855883211332473,
          0.11586655917905408,
          0.10568130158337796,
          0.9818825910553824,
          0.8617623526104413,
          0.9415055939261352,
          0.35812691402662733,
          0.6234732510966413,
          0.15305832576902845,
          0.23400930433298706,
          0.4388023440377373,
          0.09120750092250074,
          0.2590262261903984,
          0.03974027611508335,
          0.9284703344580862,
          0.6080577294722969,
          0.1012374898742957,
          0.11618317926899302,
          0.6088220366799406,
          0.11991550032916609,
          0.28278449287021923,
          0.12753378858961406,
          0.21490654709576862,
          0.7204691205883724,
          0.5518301887870176,
          0.7226709942872196,
          0.328001954785583,
          0.49011610109086257,
          0.11945543432845651,
          0.7686714245848407,
          0.8652286415169714,
          0.3387705814403654,
          0.20014342665332918,
          0.260917778080169,
          0.9954206073810935,
          0.27240193790782574,
          0.27575568228905967,
          0.30877116216175204,
          0.579622051446661,
          0.5461726196682098,
          0.6872479995752397,
          0.4276608269347526,
          0.6431573587078688,
          0.10326755653659647,
          0.021542551887952288,
          0.5826640406415982,
          0.1961995137374999,
          0.9301684925096566,
          0.35239104974070956,
          0.9269534890286317,
          0.00967037511330382,
          0.6469773371700347,
          0.08189466503482001,
          0.6470770636312277,
          0.7186538462033282,
          0.64798841147515,
          0.9390131824104669,
          0.39599019547534,
          0.4997378936919815,
          0.3979814103169699,
          0.43334068025240957,
          0.18204684784992287,
          0.9055616278589967,
          0.4950070469382203,
          0.2728325871340562,
          0.3263777289755577,
          0.9382923709357847,
          0.9228802624702013,
          0.2280123275393151
         ],
         "yaxis": "y3"
        },
        {
         "line": {
          "color": "rgba(128, 128, 128, 1.0)",
          "dash": "solid",
          "shape": "linear",
          "width": 1.3
         },
         "marker": {
          "size": 2,
          "symbol": "circle"
         },
         "mode": "markers",
         "name": "A",
         "text": "",
         "type": "scatter",
         "x": [
          0.531294116296426,
          0.19701194010803857,
          0.36434386467679614,
          0.7458001203276531,
          0.17347779351050963,
          0.5472650332783991,
          0.20544178533742818,
          0.6562607253878838,
          0.26853162694740906,
          0.4881979053580182,
          0.5005925234679313,
          0.11531827042724174,
          0.07724001706144845,
          0.8772379707414086,
          0.32891027646901105,
          0.5437696224417293,
          0.6087019800021553,
          0.1017477381914369,
          0.7597565219358867,
          0.7075870895329108,
          0.7824508389972364,
          0.42490351579904595,
          0.44614267994536105,
          0.7371651939483885,
          0.10515654964232335,
          0.3721918184923646,
          0.4000347031993342,
          0.4811459355861514,
          0.28527624524152306,
          0.6108657981650865,
          0.11789606615592574,
          0.0277722663248563,
          0.8769255225809013,
          0.7115275938327793,
          0.11637247371244663,
          0.6664260205940643,
          0.26428574246004877,
          0.1546039499227917,
          0.7866297050243156,
          0.2640539371816679,
          0.017563027647325202,
          0.4072262393364442,
          0.14003560411484361,
          0.9173998380286212,
          0.5597047231192082,
          0.41036967448991135,
          0.9541359098140745,
          0.9902816120106191,
          0.1415037621225823,
          0.6603396390178276,
          0.6579803055591977,
          0.28293678148689194,
          0.7100677203501573,
          0.7792898210151603,
          0.8199346757081758,
          0.9942471970436231,
          0.34197956696915943,
          0.21538847491699653,
          0.24341009312576722,
          0.5295471707344911,
          0.5626079307554687,
          0.5791795721212617,
          0.4887896598370344,
          0.10556584705722183,
          0.05244441702583369,
          0.056921755072777636,
          0.34312237867599027,
          0.13814114956923884,
          0.27090922114601856,
          0.058817672507912366,
          0.7761114588567718,
          0.13401279581048786,
          0.6414201109781611,
          0.048337886591371726,
          0.4024651244047073,
          0.6151419104465695,
          0.6038409436244889,
          0.007146886921568063,
          0.1909741808633073,
          0.7552171870061412,
          0.37798713573425746,
          0.5033973090492699,
          0.5584382428813486,
          0.90021115687748,
          0.6036546937785389,
          0.14620869127019653,
          0.9077622637907194,
          0.36983232215393747,
          0.1766061217443502,
          0.42006766155659614,
          0.9945948240552664,
          0.351962390526806,
          0.8273353540020281,
          0.4065405784702987,
          0.48489755686655456,
          0.544047922177115,
          0.9107186822299095,
          0.7707004394369558,
          0.12804846560045036,
          0.048428768381344134
         ],
         "xaxis": "x4",
         "y": [
          0.6874854690341766,
          0.5513974765103675,
          0.45219615905465405,
          0.3220074688721969,
          0.49848573503280835,
          0.8958082016552023,
          0.5924551606207522,
          0.019085849506069286,
          0.16849589082793093,
          0.03917191500638728,
          0.9121123388386799,
          0.23796051949259922,
          0.7258352658575087,
          0.34011954084222296,
          0.9491936521385159,
          0.15990653103289698,
          0.9754274244115759,
          0.3513871614097297,
          0.7066711673159177,
          0.6239263416350013,
          0.7027295187093794,
          0.799269947258963,
          0.33849993354535746,
          0.6301050773543084,
          0.051192931727014224,
          0.7224205087266852,
          0.4610464129486934,
          0.18313301492030254,
          0.40054735793284857,
          0.014412382101959054,
          0.5456590908441381,
          0.10855883211332473,
          0.11586655917905408,
          0.10568130158337796,
          0.9818825910553824,
          0.8617623526104413,
          0.9415055939261352,
          0.35812691402662733,
          0.6234732510966413,
          0.15305832576902845,
          0.23400930433298706,
          0.4388023440377373,
          0.09120750092250074,
          0.2590262261903984,
          0.03974027611508335,
          0.9284703344580862,
          0.6080577294722969,
          0.1012374898742957,
          0.11618317926899302,
          0.6088220366799406,
          0.11991550032916609,
          0.28278449287021923,
          0.12753378858961406,
          0.21490654709576862,
          0.7204691205883724,
          0.5518301887870176,
          0.7226709942872196,
          0.328001954785583,
          0.49011610109086257,
          0.11945543432845651,
          0.7686714245848407,
          0.8652286415169714,
          0.3387705814403654,
          0.20014342665332918,
          0.260917778080169,
          0.9954206073810935,
          0.27240193790782574,
          0.27575568228905967,
          0.30877116216175204,
          0.579622051446661,
          0.5461726196682098,
          0.6872479995752397,
          0.4276608269347526,
          0.6431573587078688,
          0.10326755653659647,
          0.021542551887952288,
          0.5826640406415982,
          0.1961995137374999,
          0.9301684925096566,
          0.35239104974070956,
          0.9269534890286317,
          0.00967037511330382,
          0.6469773371700347,
          0.08189466503482001,
          0.6470770636312277,
          0.7186538462033282,
          0.64798841147515,
          0.9390131824104669,
          0.39599019547534,
          0.4997378936919815,
          0.3979814103169699,
          0.43334068025240957,
          0.18204684784992287,
          0.9055616278589967,
          0.4950070469382203,
          0.2728325871340562,
          0.3263777289755577,
          0.9382923709357847,
          0.9228802624702013,
          0.2280123275393151
         ],
         "yaxis": "y4"
        },
        {
         "line": {
          "color": "rgba(128, 128, 128, 1.0)",
          "dash": "solid",
          "shape": "linear",
          "width": 1.3
         },
         "marker": {
          "size": 2,
          "symbol": "circle"
         },
         "mode": "markers",
         "name": "B",
         "text": "",
         "type": "scatter",
         "x": [
          0.6874854690341766,
          0.5513974765103675,
          0.45219615905465405,
          0.3220074688721969,
          0.49848573503280835,
          0.8958082016552023,
          0.5924551606207522,
          0.019085849506069286,
          0.16849589082793093,
          0.03917191500638728,
          0.9121123388386799,
          0.23796051949259922,
          0.7258352658575087,
          0.34011954084222296,
          0.9491936521385159,
          0.15990653103289698,
          0.9754274244115759,
          0.3513871614097297,
          0.7066711673159177,
          0.6239263416350013,
          0.7027295187093794,
          0.799269947258963,
          0.33849993354535746,
          0.6301050773543084,
          0.051192931727014224,
          0.7224205087266852,
          0.4610464129486934,
          0.18313301492030254,
          0.40054735793284857,
          0.014412382101959054,
          0.5456590908441381,
          0.10855883211332473,
          0.11586655917905408,
          0.10568130158337796,
          0.9818825910553824,
          0.8617623526104413,
          0.9415055939261352,
          0.35812691402662733,
          0.6234732510966413,
          0.15305832576902845,
          0.23400930433298706,
          0.4388023440377373,
          0.09120750092250074,
          0.2590262261903984,
          0.03974027611508335,
          0.9284703344580862,
          0.6080577294722969,
          0.1012374898742957,
          0.11618317926899302,
          0.6088220366799406,
          0.11991550032916609,
          0.28278449287021923,
          0.12753378858961406,
          0.21490654709576862,
          0.7204691205883724,
          0.5518301887870176,
          0.7226709942872196,
          0.328001954785583,
          0.49011610109086257,
          0.11945543432845651,
          0.7686714245848407,
          0.8652286415169714,
          0.3387705814403654,
          0.20014342665332918,
          0.260917778080169,
          0.9954206073810935,
          0.27240193790782574,
          0.27575568228905967,
          0.30877116216175204,
          0.579622051446661,
          0.5461726196682098,
          0.6872479995752397,
          0.4276608269347526,
          0.6431573587078688,
          0.10326755653659647,
          0.021542551887952288,
          0.5826640406415982,
          0.1961995137374999,
          0.9301684925096566,
          0.35239104974070956,
          0.9269534890286317,
          0.00967037511330382,
          0.6469773371700347,
          0.08189466503482001,
          0.6470770636312277,
          0.7186538462033282,
          0.64798841147515,
          0.9390131824104669,
          0.39599019547534,
          0.4997378936919815,
          0.3979814103169699,
          0.43334068025240957,
          0.18204684784992287,
          0.9055616278589967,
          0.4950070469382203,
          0.2728325871340562,
          0.3263777289755577,
          0.9382923709357847,
          0.9228802624702013,
          0.2280123275393151
         ],
         "xaxis": "x5",
         "y": [
          0.8843255679714199,
          0.4753451338820551,
          0.5564770416397901,
          0.4181370124941951,
          0.8082568964572047,
          0.0041675524322632995,
          0.7357309494209592,
          0.12236491926338045,
          0.8026430626697526,
          0.8551481461602891,
          0.9160726083915803,
          0.1948611008604485,
          0.10701810828909286,
          0.5659538314632473,
          0.006860980634156744,
          0.9230463812155936,
          0.3674568219671307,
          0.19570344085171865,
          0.4859113095727293,
          0.7788449077848387,
          0.4019894727335077,
          0.7895054616695254,
          0.950720477376916,
          0.7324935991597183,
          0.8294060719954223,
          0.6182198093766845,
          0.3101609180831728,
          0.8393311468830299,
          0.541810088608328,
          0.9808512663420359,
          0.7004636554110424,
          0.6112366152144356,
          0.7291840796906991,
          0.3664280752889001,
          0.22748883431446054,
          0.5760954477062057,
          0.056814697827563765,
          0.2644182837393171,
          0.5254839699381781,
          0.6053576784527464,
          0.7582588213806051,
          0.600899443738797,
          0.28418780384870856,
          0.7235975540666422,
          0.5248556362855886,
          0.17192615028233327,
          0.002118427862049077,
          0.10281536998752638,
          0.7699441949341121,
          0.5084122480003067,
          0.6273821881374195,
          0.5823393257132602,
          0.7747669163013711,
          0.7157246969337302,
          0.08690490847151733,
          0.9386285860148799,
          0.24252824943674178,
          0.2869278394690582,
          0.9268408784154505,
          0.45499666799956184,
          0.24128442648819093,
          0.0859334387635351,
          0.587303931632512,
          0.05725274216827514,
          0.02205346107514128,
          0.17496362033400514,
          0.8985829347769082,
          0.2567072722096292,
          0.035850198583307624,
          0.2200534368233742,
          0.9571000858043736,
          0.9737365908047143,
          0.3963828806802123,
          0.6362415350449229,
          0.15697065950891187,
          0.036360552886472775,
          0.982439271041864,
          0.07103230413276096,
          0.04406673582766252,
          0.9977258111089317,
          0.9375260641083187,
          0.5165719897735459,
          0.5328280702622757,
          0.14681397756233838,
          0.5506515843640556,
          0.18482825515656975,
          0.018811782698625823,
          0.3565744638001872,
          0.08815156772705057,
          0.3442811317469232,
          0.829660538258542,
          0.21618861100269104,
          0.3143410975104918,
          0.7634603125071553,
          0.4724020632558451,
          0.4600717513761058,
          0.1361911206485652,
          0.37637493132673405,
          0.8939930917701026,
          0.45455119567056856
         ],
         "yaxis": "y5"
        },
        {
         "histfunc": "count",
         "histnorm": "",
         "marker": {
          "color": "rgba(55, 128, 191, 1.0)",
          "line": {
           "color": "#4D5663",
           "width": 1.3
          }
         },
         "name": "B",
         "nbinsx": 10,
         "opacity": 0.8,
         "orientation": "v",
         "type": "histogram",
         "x": [
          0.8843255679714199,
          0.4753451338820551,
          0.5564770416397901,
          0.4181370124941951,
          0.8082568964572047,
          0.0041675524322632995,
          0.7357309494209592,
          0.12236491926338045,
          0.8026430626697526,
          0.8551481461602891,
          0.9160726083915803,
          0.1948611008604485,
          0.10701810828909286,
          0.5659538314632473,
          0.006860980634156744,
          0.9230463812155936,
          0.3674568219671307,
          0.19570344085171865,
          0.4859113095727293,
          0.7788449077848387,
          0.4019894727335077,
          0.7895054616695254,
          0.950720477376916,
          0.7324935991597183,
          0.8294060719954223,
          0.6182198093766845,
          0.3101609180831728,
          0.8393311468830299,
          0.541810088608328,
          0.9808512663420359,
          0.7004636554110424,
          0.6112366152144356,
          0.7291840796906991,
          0.3664280752889001,
          0.22748883431446054,
          0.5760954477062057,
          0.056814697827563765,
          0.2644182837393171,
          0.5254839699381781,
          0.6053576784527464,
          0.7582588213806051,
          0.600899443738797,
          0.28418780384870856,
          0.7235975540666422,
          0.5248556362855886,
          0.17192615028233327,
          0.002118427862049077,
          0.10281536998752638,
          0.7699441949341121,
          0.5084122480003067,
          0.6273821881374195,
          0.5823393257132602,
          0.7747669163013711,
          0.7157246969337302,
          0.08690490847151733,
          0.9386285860148799,
          0.24252824943674178,
          0.2869278394690582,
          0.9268408784154505,
          0.45499666799956184,
          0.24128442648819093,
          0.0859334387635351,
          0.587303931632512,
          0.05725274216827514,
          0.02205346107514128,
          0.17496362033400514,
          0.8985829347769082,
          0.2567072722096292,
          0.035850198583307624,
          0.2200534368233742,
          0.9571000858043736,
          0.9737365908047143,
          0.3963828806802123,
          0.6362415350449229,
          0.15697065950891187,
          0.036360552886472775,
          0.982439271041864,
          0.07103230413276096,
          0.04406673582766252,
          0.9977258111089317,
          0.9375260641083187,
          0.5165719897735459,
          0.5328280702622757,
          0.14681397756233838,
          0.5506515843640556,
          0.18482825515656975,
          0.018811782698625823,
          0.3565744638001872,
          0.08815156772705057,
          0.3442811317469232,
          0.829660538258542,
          0.21618861100269104,
          0.3143410975104918,
          0.7634603125071553,
          0.4724020632558451,
          0.4600717513761058,
          0.1361911206485652,
          0.37637493132673405,
          0.8939930917701026,
          0.45455119567056856
         ],
         "xaxis": "x6",
         "yaxis": "y6"
        },
        {
         "line": {
          "color": "rgba(128, 128, 128, 1.0)",
          "dash": "solid",
          "shape": "linear",
          "width": 1.3
         },
         "marker": {
          "size": 2,
          "symbol": "circle"
         },
         "mode": "markers",
         "name": "B",
         "text": "",
         "type": "scatter",
         "x": [
          0.2727659694171646,
          0.10013266711232538,
          0.5448327863460596,
          0.09727329894900805,
          0.2197344135623024,
          0.04214646070583883,
          0.46821889609474976,
          0.8025023567493255,
          0.01573595417142093,
          0.8039627485723932,
          0.05351035310071783,
          0.9000406066334424,
          0.037098494546418004,
          0.2629835388810038,
          0.6565807923926823,
          0.8123690081745882,
          0.09871617059775817,
          0.17238693234887326,
          0.934884113405032,
          0.34064314236757254,
          0.9115421177085139,
          0.5131761680134694,
          0.5379622467693852,
          0.284426545392087,
          0.8345670148283205,
          0.8487558681961126,
          0.5900632249409625,
          0.714154243306131,
          0.49242633777860434,
          0.5336573146516208,
          0.1453402204294264,
          0.8163375471348691,
          0.6811463764736094,
          0.6245439838334139,
          0.4894177841709727,
          0.10532400939912523,
          0.3618680768124718,
          0.32272026156317757,
          0.8433884451270447,
          0.19000243572657838,
          0.6539164107900397,
          0.9521670993114382,
          0.9987033922593445,
          0.770424395262453,
          0.5375133721748498,
          0.082381733581116,
          0.7608344269402947,
          0.008898723946493714,
          0.0495688379008824,
          0.12610535479249285,
          0.762356668150164,
          0.5806095750100767,
          0.607013446608908,
          0.9196984128010408,
          0.28276562212501666,
          0.2625431879724742,
          0.4614249618074985,
          0.17704613485673404,
          0.7868397345361017,
          0.8066783941246661,
          0.4864485987873186,
          0.6135022168649812,
          0.6273290657176195,
          0.6145518813492507,
          0.23944297122292757,
          0.8931918852211221,
          0.3798528483404081,
          0.33649416223700135,
          0.043255334208812224,
          0.553039130920302,
          0.3620196403359204,
          0.5856002401687663,
          0.6080727470900651,
          0.6777037301958364,
          0.4224623950184081,
          0.5079081085198162,
          0.43057034579573017,
          0.6902588282783292,
          0.411766731657773,
          0.4410796490087915,
          0.5088675781055102,
          0.8729896925135645,
          0.09661973445640559,
          0.7642709600505615,
          0.2637435603231273,
          0.5831670398586298,
          0.0639600760652358,
          0.6666363233039206,
          0.2797930223401284,
          0.00906139330142075,
          0.3949603726304901,
          0.33339740804984064,
          0.05697582815757041,
          0.7295051035746041,
          0.4978557217912828,
          0.8432200315712669,
          0.3665848164074931,
          0.19071377651795673,
          0.3134459169813113,
          0.8906068235198399
         ],
         "xaxis": "x7",
         "y": [
          0.8843255679714199,
          0.4753451338820551,
          0.5564770416397901,
          0.4181370124941951,
          0.8082568964572047,
          0.0041675524322632995,
          0.7357309494209592,
          0.12236491926338045,
          0.8026430626697526,
          0.8551481461602891,
          0.9160726083915803,
          0.1948611008604485,
          0.10701810828909286,
          0.5659538314632473,
          0.006860980634156744,
          0.9230463812155936,
          0.3674568219671307,
          0.19570344085171865,
          0.4859113095727293,
          0.7788449077848387,
          0.4019894727335077,
          0.7895054616695254,
          0.950720477376916,
          0.7324935991597183,
          0.8294060719954223,
          0.6182198093766845,
          0.3101609180831728,
          0.8393311468830299,
          0.541810088608328,
          0.9808512663420359,
          0.7004636554110424,
          0.6112366152144356,
          0.7291840796906991,
          0.3664280752889001,
          0.22748883431446054,
          0.5760954477062057,
          0.056814697827563765,
          0.2644182837393171,
          0.5254839699381781,
          0.6053576784527464,
          0.7582588213806051,
          0.600899443738797,
          0.28418780384870856,
          0.7235975540666422,
          0.5248556362855886,
          0.17192615028233327,
          0.002118427862049077,
          0.10281536998752638,
          0.7699441949341121,
          0.5084122480003067,
          0.6273821881374195,
          0.5823393257132602,
          0.7747669163013711,
          0.7157246969337302,
          0.08690490847151733,
          0.9386285860148799,
          0.24252824943674178,
          0.2869278394690582,
          0.9268408784154505,
          0.45499666799956184,
          0.24128442648819093,
          0.0859334387635351,
          0.587303931632512,
          0.05725274216827514,
          0.02205346107514128,
          0.17496362033400514,
          0.8985829347769082,
          0.2567072722096292,
          0.035850198583307624,
          0.2200534368233742,
          0.9571000858043736,
          0.9737365908047143,
          0.3963828806802123,
          0.6362415350449229,
          0.15697065950891187,
          0.036360552886472775,
          0.982439271041864,
          0.07103230413276096,
          0.04406673582766252,
          0.9977258111089317,
          0.9375260641083187,
          0.5165719897735459,
          0.5328280702622757,
          0.14681397756233838,
          0.5506515843640556,
          0.18482825515656975,
          0.018811782698625823,
          0.3565744638001872,
          0.08815156772705057,
          0.3442811317469232,
          0.829660538258542,
          0.21618861100269104,
          0.3143410975104918,
          0.7634603125071553,
          0.4724020632558451,
          0.4600717513761058,
          0.1361911206485652,
          0.37637493132673405,
          0.8939930917701026,
          0.45455119567056856
         ],
         "yaxis": "y7"
        },
        {
         "line": {
          "color": "rgba(128, 128, 128, 1.0)",
          "dash": "solid",
          "shape": "linear",
          "width": 1.3
         },
         "marker": {
          "size": 2,
          "symbol": "circle"
         },
         "mode": "markers",
         "name": "B",
         "text": "",
         "type": "scatter",
         "x": [
          0.531294116296426,
          0.19701194010803857,
          0.36434386467679614,
          0.7458001203276531,
          0.17347779351050963,
          0.5472650332783991,
          0.20544178533742818,
          0.6562607253878838,
          0.26853162694740906,
          0.4881979053580182,
          0.5005925234679313,
          0.11531827042724174,
          0.07724001706144845,
          0.8772379707414086,
          0.32891027646901105,
          0.5437696224417293,
          0.6087019800021553,
          0.1017477381914369,
          0.7597565219358867,
          0.7075870895329108,
          0.7824508389972364,
          0.42490351579904595,
          0.44614267994536105,
          0.7371651939483885,
          0.10515654964232335,
          0.3721918184923646,
          0.4000347031993342,
          0.4811459355861514,
          0.28527624524152306,
          0.6108657981650865,
          0.11789606615592574,
          0.0277722663248563,
          0.8769255225809013,
          0.7115275938327793,
          0.11637247371244663,
          0.6664260205940643,
          0.26428574246004877,
          0.1546039499227917,
          0.7866297050243156,
          0.2640539371816679,
          0.017563027647325202,
          0.4072262393364442,
          0.14003560411484361,
          0.9173998380286212,
          0.5597047231192082,
          0.41036967448991135,
          0.9541359098140745,
          0.9902816120106191,
          0.1415037621225823,
          0.6603396390178276,
          0.6579803055591977,
          0.28293678148689194,
          0.7100677203501573,
          0.7792898210151603,
          0.8199346757081758,
          0.9942471970436231,
          0.34197956696915943,
          0.21538847491699653,
          0.24341009312576722,
          0.5295471707344911,
          0.5626079307554687,
          0.5791795721212617,
          0.4887896598370344,
          0.10556584705722183,
          0.05244441702583369,
          0.056921755072777636,
          0.34312237867599027,
          0.13814114956923884,
          0.27090922114601856,
          0.058817672507912366,
          0.7761114588567718,
          0.13401279581048786,
          0.6414201109781611,
          0.048337886591371726,
          0.4024651244047073,
          0.6151419104465695,
          0.6038409436244889,
          0.007146886921568063,
          0.1909741808633073,
          0.7552171870061412,
          0.37798713573425746,
          0.5033973090492699,
          0.5584382428813486,
          0.90021115687748,
          0.6036546937785389,
          0.14620869127019653,
          0.9077622637907194,
          0.36983232215393747,
          0.1766061217443502,
          0.42006766155659614,
          0.9945948240552664,
          0.351962390526806,
          0.8273353540020281,
          0.4065405784702987,
          0.48489755686655456,
          0.544047922177115,
          0.9107186822299095,
          0.7707004394369558,
          0.12804846560045036,
          0.048428768381344134
         ],
         "xaxis": "x8",
         "y": [
          0.8843255679714199,
          0.4753451338820551,
          0.5564770416397901,
          0.4181370124941951,
          0.8082568964572047,
          0.0041675524322632995,
          0.7357309494209592,
          0.12236491926338045,
          0.8026430626697526,
          0.8551481461602891,
          0.9160726083915803,
          0.1948611008604485,
          0.10701810828909286,
          0.5659538314632473,
          0.006860980634156744,
          0.9230463812155936,
          0.3674568219671307,
          0.19570344085171865,
          0.4859113095727293,
          0.7788449077848387,
          0.4019894727335077,
          0.7895054616695254,
          0.950720477376916,
          0.7324935991597183,
          0.8294060719954223,
          0.6182198093766845,
          0.3101609180831728,
          0.8393311468830299,
          0.541810088608328,
          0.9808512663420359,
          0.7004636554110424,
          0.6112366152144356,
          0.7291840796906991,
          0.3664280752889001,
          0.22748883431446054,
          0.5760954477062057,
          0.056814697827563765,
          0.2644182837393171,
          0.5254839699381781,
          0.6053576784527464,
          0.7582588213806051,
          0.600899443738797,
          0.28418780384870856,
          0.7235975540666422,
          0.5248556362855886,
          0.17192615028233327,
          0.002118427862049077,
          0.10281536998752638,
          0.7699441949341121,
          0.5084122480003067,
          0.6273821881374195,
          0.5823393257132602,
          0.7747669163013711,
          0.7157246969337302,
          0.08690490847151733,
          0.9386285860148799,
          0.24252824943674178,
          0.2869278394690582,
          0.9268408784154505,
          0.45499666799956184,
          0.24128442648819093,
          0.0859334387635351,
          0.587303931632512,
          0.05725274216827514,
          0.02205346107514128,
          0.17496362033400514,
          0.8985829347769082,
          0.2567072722096292,
          0.035850198583307624,
          0.2200534368233742,
          0.9571000858043736,
          0.9737365908047143,
          0.3963828806802123,
          0.6362415350449229,
          0.15697065950891187,
          0.036360552886472775,
          0.982439271041864,
          0.07103230413276096,
          0.04406673582766252,
          0.9977258111089317,
          0.9375260641083187,
          0.5165719897735459,
          0.5328280702622757,
          0.14681397756233838,
          0.5506515843640556,
          0.18482825515656975,
          0.018811782698625823,
          0.3565744638001872,
          0.08815156772705057,
          0.3442811317469232,
          0.829660538258542,
          0.21618861100269104,
          0.3143410975104918,
          0.7634603125071553,
          0.4724020632558451,
          0.4600717513761058,
          0.1361911206485652,
          0.37637493132673405,
          0.8939930917701026,
          0.45455119567056856
         ],
         "yaxis": "y8"
        },
        {
         "line": {
          "color": "rgba(128, 128, 128, 1.0)",
          "dash": "solid",
          "shape": "linear",
          "width": 1.3
         },
         "marker": {
          "size": 2,
          "symbol": "circle"
         },
         "mode": "markers",
         "name": "C",
         "text": "",
         "type": "scatter",
         "x": [
          0.6874854690341766,
          0.5513974765103675,
          0.45219615905465405,
          0.3220074688721969,
          0.49848573503280835,
          0.8958082016552023,
          0.5924551606207522,
          0.019085849506069286,
          0.16849589082793093,
          0.03917191500638728,
          0.9121123388386799,
          0.23796051949259922,
          0.7258352658575087,
          0.34011954084222296,
          0.9491936521385159,
          0.15990653103289698,
          0.9754274244115759,
          0.3513871614097297,
          0.7066711673159177,
          0.6239263416350013,
          0.7027295187093794,
          0.799269947258963,
          0.33849993354535746,
          0.6301050773543084,
          0.051192931727014224,
          0.7224205087266852,
          0.4610464129486934,
          0.18313301492030254,
          0.40054735793284857,
          0.014412382101959054,
          0.5456590908441381,
          0.10855883211332473,
          0.11586655917905408,
          0.10568130158337796,
          0.9818825910553824,
          0.8617623526104413,
          0.9415055939261352,
          0.35812691402662733,
          0.6234732510966413,
          0.15305832576902845,
          0.23400930433298706,
          0.4388023440377373,
          0.09120750092250074,
          0.2590262261903984,
          0.03974027611508335,
          0.9284703344580862,
          0.6080577294722969,
          0.1012374898742957,
          0.11618317926899302,
          0.6088220366799406,
          0.11991550032916609,
          0.28278449287021923,
          0.12753378858961406,
          0.21490654709576862,
          0.7204691205883724,
          0.5518301887870176,
          0.7226709942872196,
          0.328001954785583,
          0.49011610109086257,
          0.11945543432845651,
          0.7686714245848407,
          0.8652286415169714,
          0.3387705814403654,
          0.20014342665332918,
          0.260917778080169,
          0.9954206073810935,
          0.27240193790782574,
          0.27575568228905967,
          0.30877116216175204,
          0.579622051446661,
          0.5461726196682098,
          0.6872479995752397,
          0.4276608269347526,
          0.6431573587078688,
          0.10326755653659647,
          0.021542551887952288,
          0.5826640406415982,
          0.1961995137374999,
          0.9301684925096566,
          0.35239104974070956,
          0.9269534890286317,
          0.00967037511330382,
          0.6469773371700347,
          0.08189466503482001,
          0.6470770636312277,
          0.7186538462033282,
          0.64798841147515,
          0.9390131824104669,
          0.39599019547534,
          0.4997378936919815,
          0.3979814103169699,
          0.43334068025240957,
          0.18204684784992287,
          0.9055616278589967,
          0.4950070469382203,
          0.2728325871340562,
          0.3263777289755577,
          0.9382923709357847,
          0.9228802624702013,
          0.2280123275393151
         ],
         "xaxis": "x9",
         "y": [
          0.2727659694171646,
          0.10013266711232538,
          0.5448327863460596,
          0.09727329894900805,
          0.2197344135623024,
          0.04214646070583883,
          0.46821889609474976,
          0.8025023567493255,
          0.01573595417142093,
          0.8039627485723932,
          0.05351035310071783,
          0.9000406066334424,
          0.037098494546418004,
          0.2629835388810038,
          0.6565807923926823,
          0.8123690081745882,
          0.09871617059775817,
          0.17238693234887326,
          0.934884113405032,
          0.34064314236757254,
          0.9115421177085139,
          0.5131761680134694,
          0.5379622467693852,
          0.284426545392087,
          0.8345670148283205,
          0.8487558681961126,
          0.5900632249409625,
          0.714154243306131,
          0.49242633777860434,
          0.5336573146516208,
          0.1453402204294264,
          0.8163375471348691,
          0.6811463764736094,
          0.6245439838334139,
          0.4894177841709727,
          0.10532400939912523,
          0.3618680768124718,
          0.32272026156317757,
          0.8433884451270447,
          0.19000243572657838,
          0.6539164107900397,
          0.9521670993114382,
          0.9987033922593445,
          0.770424395262453,
          0.5375133721748498,
          0.082381733581116,
          0.7608344269402947,
          0.008898723946493714,
          0.0495688379008824,
          0.12610535479249285,
          0.762356668150164,
          0.5806095750100767,
          0.607013446608908,
          0.9196984128010408,
          0.28276562212501666,
          0.2625431879724742,
          0.4614249618074985,
          0.17704613485673404,
          0.7868397345361017,
          0.8066783941246661,
          0.4864485987873186,
          0.6135022168649812,
          0.6273290657176195,
          0.6145518813492507,
          0.23944297122292757,
          0.8931918852211221,
          0.3798528483404081,
          0.33649416223700135,
          0.043255334208812224,
          0.553039130920302,
          0.3620196403359204,
          0.5856002401687663,
          0.6080727470900651,
          0.6777037301958364,
          0.4224623950184081,
          0.5079081085198162,
          0.43057034579573017,
          0.6902588282783292,
          0.411766731657773,
          0.4410796490087915,
          0.5088675781055102,
          0.8729896925135645,
          0.09661973445640559,
          0.7642709600505615,
          0.2637435603231273,
          0.5831670398586298,
          0.0639600760652358,
          0.6666363233039206,
          0.2797930223401284,
          0.00906139330142075,
          0.3949603726304901,
          0.33339740804984064,
          0.05697582815757041,
          0.7295051035746041,
          0.4978557217912828,
          0.8432200315712669,
          0.3665848164074931,
          0.19071377651795673,
          0.3134459169813113,
          0.8906068235198399
         ],
         "yaxis": "y9"
        },
        {
         "line": {
          "color": "rgba(128, 128, 128, 1.0)",
          "dash": "solid",
          "shape": "linear",
          "width": 1.3
         },
         "marker": {
          "size": 2,
          "symbol": "circle"
         },
         "mode": "markers",
         "name": "C",
         "text": "",
         "type": "scatter",
         "x": [
          0.8843255679714199,
          0.4753451338820551,
          0.5564770416397901,
          0.4181370124941951,
          0.8082568964572047,
          0.0041675524322632995,
          0.7357309494209592,
          0.12236491926338045,
          0.8026430626697526,
          0.8551481461602891,
          0.9160726083915803,
          0.1948611008604485,
          0.10701810828909286,
          0.5659538314632473,
          0.006860980634156744,
          0.9230463812155936,
          0.3674568219671307,
          0.19570344085171865,
          0.4859113095727293,
          0.7788449077848387,
          0.4019894727335077,
          0.7895054616695254,
          0.950720477376916,
          0.7324935991597183,
          0.8294060719954223,
          0.6182198093766845,
          0.3101609180831728,
          0.8393311468830299,
          0.541810088608328,
          0.9808512663420359,
          0.7004636554110424,
          0.6112366152144356,
          0.7291840796906991,
          0.3664280752889001,
          0.22748883431446054,
          0.5760954477062057,
          0.056814697827563765,
          0.2644182837393171,
          0.5254839699381781,
          0.6053576784527464,
          0.7582588213806051,
          0.600899443738797,
          0.28418780384870856,
          0.7235975540666422,
          0.5248556362855886,
          0.17192615028233327,
          0.002118427862049077,
          0.10281536998752638,
          0.7699441949341121,
          0.5084122480003067,
          0.6273821881374195,
          0.5823393257132602,
          0.7747669163013711,
          0.7157246969337302,
          0.08690490847151733,
          0.9386285860148799,
          0.24252824943674178,
          0.2869278394690582,
          0.9268408784154505,
          0.45499666799956184,
          0.24128442648819093,
          0.0859334387635351,
          0.587303931632512,
          0.05725274216827514,
          0.02205346107514128,
          0.17496362033400514,
          0.8985829347769082,
          0.2567072722096292,
          0.035850198583307624,
          0.2200534368233742,
          0.9571000858043736,
          0.9737365908047143,
          0.3963828806802123,
          0.6362415350449229,
          0.15697065950891187,
          0.036360552886472775,
          0.982439271041864,
          0.07103230413276096,
          0.04406673582766252,
          0.9977258111089317,
          0.9375260641083187,
          0.5165719897735459,
          0.5328280702622757,
          0.14681397756233838,
          0.5506515843640556,
          0.18482825515656975,
          0.018811782698625823,
          0.3565744638001872,
          0.08815156772705057,
          0.3442811317469232,
          0.829660538258542,
          0.21618861100269104,
          0.3143410975104918,
          0.7634603125071553,
          0.4724020632558451,
          0.4600717513761058,
          0.1361911206485652,
          0.37637493132673405,
          0.8939930917701026,
          0.45455119567056856
         ],
         "xaxis": "x10",
         "y": [
          0.2727659694171646,
          0.10013266711232538,
          0.5448327863460596,
          0.09727329894900805,
          0.2197344135623024,
          0.04214646070583883,
          0.46821889609474976,
          0.8025023567493255,
          0.01573595417142093,
          0.8039627485723932,
          0.05351035310071783,
          0.9000406066334424,
          0.037098494546418004,
          0.2629835388810038,
          0.6565807923926823,
          0.8123690081745882,
          0.09871617059775817,
          0.17238693234887326,
          0.934884113405032,
          0.34064314236757254,
          0.9115421177085139,
          0.5131761680134694,
          0.5379622467693852,
          0.284426545392087,
          0.8345670148283205,
          0.8487558681961126,
          0.5900632249409625,
          0.714154243306131,
          0.49242633777860434,
          0.5336573146516208,
          0.1453402204294264,
          0.8163375471348691,
          0.6811463764736094,
          0.6245439838334139,
          0.4894177841709727,
          0.10532400939912523,
          0.3618680768124718,
          0.32272026156317757,
          0.8433884451270447,
          0.19000243572657838,
          0.6539164107900397,
          0.9521670993114382,
          0.9987033922593445,
          0.770424395262453,
          0.5375133721748498,
          0.082381733581116,
          0.7608344269402947,
          0.008898723946493714,
          0.0495688379008824,
          0.12610535479249285,
          0.762356668150164,
          0.5806095750100767,
          0.607013446608908,
          0.9196984128010408,
          0.28276562212501666,
          0.2625431879724742,
          0.4614249618074985,
          0.17704613485673404,
          0.7868397345361017,
          0.8066783941246661,
          0.4864485987873186,
          0.6135022168649812,
          0.6273290657176195,
          0.6145518813492507,
          0.23944297122292757,
          0.8931918852211221,
          0.3798528483404081,
          0.33649416223700135,
          0.043255334208812224,
          0.553039130920302,
          0.3620196403359204,
          0.5856002401687663,
          0.6080727470900651,
          0.6777037301958364,
          0.4224623950184081,
          0.5079081085198162,
          0.43057034579573017,
          0.6902588282783292,
          0.411766731657773,
          0.4410796490087915,
          0.5088675781055102,
          0.8729896925135645,
          0.09661973445640559,
          0.7642709600505615,
          0.2637435603231273,
          0.5831670398586298,
          0.0639600760652358,
          0.6666363233039206,
          0.2797930223401284,
          0.00906139330142075,
          0.3949603726304901,
          0.33339740804984064,
          0.05697582815757041,
          0.7295051035746041,
          0.4978557217912828,
          0.8432200315712669,
          0.3665848164074931,
          0.19071377651795673,
          0.3134459169813113,
          0.8906068235198399
         ],
         "yaxis": "y10"
        },
        {
         "histfunc": "count",
         "histnorm": "",
         "marker": {
          "color": "rgba(50, 171, 96, 1.0)",
          "line": {
           "color": "#4D5663",
           "width": 1.3
          }
         },
         "name": "C",
         "nbinsx": 10,
         "opacity": 0.8,
         "orientation": "v",
         "type": "histogram",
         "x": [
          0.2727659694171646,
          0.10013266711232538,
          0.5448327863460596,
          0.09727329894900805,
          0.2197344135623024,
          0.04214646070583883,
          0.46821889609474976,
          0.8025023567493255,
          0.01573595417142093,
          0.8039627485723932,
          0.05351035310071783,
          0.9000406066334424,
          0.037098494546418004,
          0.2629835388810038,
          0.6565807923926823,
          0.8123690081745882,
          0.09871617059775817,
          0.17238693234887326,
          0.934884113405032,
          0.34064314236757254,
          0.9115421177085139,
          0.5131761680134694,
          0.5379622467693852,
          0.284426545392087,
          0.8345670148283205,
          0.8487558681961126,
          0.5900632249409625,
          0.714154243306131,
          0.49242633777860434,
          0.5336573146516208,
          0.1453402204294264,
          0.8163375471348691,
          0.6811463764736094,
          0.6245439838334139,
          0.4894177841709727,
          0.10532400939912523,
          0.3618680768124718,
          0.32272026156317757,
          0.8433884451270447,
          0.19000243572657838,
          0.6539164107900397,
          0.9521670993114382,
          0.9987033922593445,
          0.770424395262453,
          0.5375133721748498,
          0.082381733581116,
          0.7608344269402947,
          0.008898723946493714,
          0.0495688379008824,
          0.12610535479249285,
          0.762356668150164,
          0.5806095750100767,
          0.607013446608908,
          0.9196984128010408,
          0.28276562212501666,
          0.2625431879724742,
          0.4614249618074985,
          0.17704613485673404,
          0.7868397345361017,
          0.8066783941246661,
          0.4864485987873186,
          0.6135022168649812,
          0.6273290657176195,
          0.6145518813492507,
          0.23944297122292757,
          0.8931918852211221,
          0.3798528483404081,
          0.33649416223700135,
          0.043255334208812224,
          0.553039130920302,
          0.3620196403359204,
          0.5856002401687663,
          0.6080727470900651,
          0.6777037301958364,
          0.4224623950184081,
          0.5079081085198162,
          0.43057034579573017,
          0.6902588282783292,
          0.411766731657773,
          0.4410796490087915,
          0.5088675781055102,
          0.8729896925135645,
          0.09661973445640559,
          0.7642709600505615,
          0.2637435603231273,
          0.5831670398586298,
          0.0639600760652358,
          0.6666363233039206,
          0.2797930223401284,
          0.00906139330142075,
          0.3949603726304901,
          0.33339740804984064,
          0.05697582815757041,
          0.7295051035746041,
          0.4978557217912828,
          0.8432200315712669,
          0.3665848164074931,
          0.19071377651795673,
          0.3134459169813113,
          0.8906068235198399
         ],
         "xaxis": "x11",
         "yaxis": "y11"
        },
        {
         "line": {
          "color": "rgba(128, 128, 128, 1.0)",
          "dash": "solid",
          "shape": "linear",
          "width": 1.3
         },
         "marker": {
          "size": 2,
          "symbol": "circle"
         },
         "mode": "markers",
         "name": "C",
         "text": "",
         "type": "scatter",
         "x": [
          0.531294116296426,
          0.19701194010803857,
          0.36434386467679614,
          0.7458001203276531,
          0.17347779351050963,
          0.5472650332783991,
          0.20544178533742818,
          0.6562607253878838,
          0.26853162694740906,
          0.4881979053580182,
          0.5005925234679313,
          0.11531827042724174,
          0.07724001706144845,
          0.8772379707414086,
          0.32891027646901105,
          0.5437696224417293,
          0.6087019800021553,
          0.1017477381914369,
          0.7597565219358867,
          0.7075870895329108,
          0.7824508389972364,
          0.42490351579904595,
          0.44614267994536105,
          0.7371651939483885,
          0.10515654964232335,
          0.3721918184923646,
          0.4000347031993342,
          0.4811459355861514,
          0.28527624524152306,
          0.6108657981650865,
          0.11789606615592574,
          0.0277722663248563,
          0.8769255225809013,
          0.7115275938327793,
          0.11637247371244663,
          0.6664260205940643,
          0.26428574246004877,
          0.1546039499227917,
          0.7866297050243156,
          0.2640539371816679,
          0.017563027647325202,
          0.4072262393364442,
          0.14003560411484361,
          0.9173998380286212,
          0.5597047231192082,
          0.41036967448991135,
          0.9541359098140745,
          0.9902816120106191,
          0.1415037621225823,
          0.6603396390178276,
          0.6579803055591977,
          0.28293678148689194,
          0.7100677203501573,
          0.7792898210151603,
          0.8199346757081758,
          0.9942471970436231,
          0.34197956696915943,
          0.21538847491699653,
          0.24341009312576722,
          0.5295471707344911,
          0.5626079307554687,
          0.5791795721212617,
          0.4887896598370344,
          0.10556584705722183,
          0.05244441702583369,
          0.056921755072777636,
          0.34312237867599027,
          0.13814114956923884,
          0.27090922114601856,
          0.058817672507912366,
          0.7761114588567718,
          0.13401279581048786,
          0.6414201109781611,
          0.048337886591371726,
          0.4024651244047073,
          0.6151419104465695,
          0.6038409436244889,
          0.007146886921568063,
          0.1909741808633073,
          0.7552171870061412,
          0.37798713573425746,
          0.5033973090492699,
          0.5584382428813486,
          0.90021115687748,
          0.6036546937785389,
          0.14620869127019653,
          0.9077622637907194,
          0.36983232215393747,
          0.1766061217443502,
          0.42006766155659614,
          0.9945948240552664,
          0.351962390526806,
          0.8273353540020281,
          0.4065405784702987,
          0.48489755686655456,
          0.544047922177115,
          0.9107186822299095,
          0.7707004394369558,
          0.12804846560045036,
          0.048428768381344134
         ],
         "xaxis": "x12",
         "y": [
          0.2727659694171646,
          0.10013266711232538,
          0.5448327863460596,
          0.09727329894900805,
          0.2197344135623024,
          0.04214646070583883,
          0.46821889609474976,
          0.8025023567493255,
          0.01573595417142093,
          0.8039627485723932,
          0.05351035310071783,
          0.9000406066334424,
          0.037098494546418004,
          0.2629835388810038,
          0.6565807923926823,
          0.8123690081745882,
          0.09871617059775817,
          0.17238693234887326,
          0.934884113405032,
          0.34064314236757254,
          0.9115421177085139,
          0.5131761680134694,
          0.5379622467693852,
          0.284426545392087,
          0.8345670148283205,
          0.8487558681961126,
          0.5900632249409625,
          0.714154243306131,
          0.49242633777860434,
          0.5336573146516208,
          0.1453402204294264,
          0.8163375471348691,
          0.6811463764736094,
          0.6245439838334139,
          0.4894177841709727,
          0.10532400939912523,
          0.3618680768124718,
          0.32272026156317757,
          0.8433884451270447,
          0.19000243572657838,
          0.6539164107900397,
          0.9521670993114382,
          0.9987033922593445,
          0.770424395262453,
          0.5375133721748498,
          0.082381733581116,
          0.7608344269402947,
          0.008898723946493714,
          0.0495688379008824,
          0.12610535479249285,
          0.762356668150164,
          0.5806095750100767,
          0.607013446608908,
          0.9196984128010408,
          0.28276562212501666,
          0.2625431879724742,
          0.4614249618074985,
          0.17704613485673404,
          0.7868397345361017,
          0.8066783941246661,
          0.4864485987873186,
          0.6135022168649812,
          0.6273290657176195,
          0.6145518813492507,
          0.23944297122292757,
          0.8931918852211221,
          0.3798528483404081,
          0.33649416223700135,
          0.043255334208812224,
          0.553039130920302,
          0.3620196403359204,
          0.5856002401687663,
          0.6080727470900651,
          0.6777037301958364,
          0.4224623950184081,
          0.5079081085198162,
          0.43057034579573017,
          0.6902588282783292,
          0.411766731657773,
          0.4410796490087915,
          0.5088675781055102,
          0.8729896925135645,
          0.09661973445640559,
          0.7642709600505615,
          0.2637435603231273,
          0.5831670398586298,
          0.0639600760652358,
          0.6666363233039206,
          0.2797930223401284,
          0.00906139330142075,
          0.3949603726304901,
          0.33339740804984064,
          0.05697582815757041,
          0.7295051035746041,
          0.4978557217912828,
          0.8432200315712669,
          0.3665848164074931,
          0.19071377651795673,
          0.3134459169813113,
          0.8906068235198399
         ],
         "yaxis": "y12"
        },
        {
         "line": {
          "color": "rgba(128, 128, 128, 1.0)",
          "dash": "solid",
          "shape": "linear",
          "width": 1.3
         },
         "marker": {
          "size": 2,
          "symbol": "circle"
         },
         "mode": "markers",
         "name": "D",
         "text": "",
         "type": "scatter",
         "x": [
          0.6874854690341766,
          0.5513974765103675,
          0.45219615905465405,
          0.3220074688721969,
          0.49848573503280835,
          0.8958082016552023,
          0.5924551606207522,
          0.019085849506069286,
          0.16849589082793093,
          0.03917191500638728,
          0.9121123388386799,
          0.23796051949259922,
          0.7258352658575087,
          0.34011954084222296,
          0.9491936521385159,
          0.15990653103289698,
          0.9754274244115759,
          0.3513871614097297,
          0.7066711673159177,
          0.6239263416350013,
          0.7027295187093794,
          0.799269947258963,
          0.33849993354535746,
          0.6301050773543084,
          0.051192931727014224,
          0.7224205087266852,
          0.4610464129486934,
          0.18313301492030254,
          0.40054735793284857,
          0.014412382101959054,
          0.5456590908441381,
          0.10855883211332473,
          0.11586655917905408,
          0.10568130158337796,
          0.9818825910553824,
          0.8617623526104413,
          0.9415055939261352,
          0.35812691402662733,
          0.6234732510966413,
          0.15305832576902845,
          0.23400930433298706,
          0.4388023440377373,
          0.09120750092250074,
          0.2590262261903984,
          0.03974027611508335,
          0.9284703344580862,
          0.6080577294722969,
          0.1012374898742957,
          0.11618317926899302,
          0.6088220366799406,
          0.11991550032916609,
          0.28278449287021923,
          0.12753378858961406,
          0.21490654709576862,
          0.7204691205883724,
          0.5518301887870176,
          0.7226709942872196,
          0.328001954785583,
          0.49011610109086257,
          0.11945543432845651,
          0.7686714245848407,
          0.8652286415169714,
          0.3387705814403654,
          0.20014342665332918,
          0.260917778080169,
          0.9954206073810935,
          0.27240193790782574,
          0.27575568228905967,
          0.30877116216175204,
          0.579622051446661,
          0.5461726196682098,
          0.6872479995752397,
          0.4276608269347526,
          0.6431573587078688,
          0.10326755653659647,
          0.021542551887952288,
          0.5826640406415982,
          0.1961995137374999,
          0.9301684925096566,
          0.35239104974070956,
          0.9269534890286317,
          0.00967037511330382,
          0.6469773371700347,
          0.08189466503482001,
          0.6470770636312277,
          0.7186538462033282,
          0.64798841147515,
          0.9390131824104669,
          0.39599019547534,
          0.4997378936919815,
          0.3979814103169699,
          0.43334068025240957,
          0.18204684784992287,
          0.9055616278589967,
          0.4950070469382203,
          0.2728325871340562,
          0.3263777289755577,
          0.9382923709357847,
          0.9228802624702013,
          0.2280123275393151
         ],
         "xaxis": "x13",
         "y": [
          0.531294116296426,
          0.19701194010803857,
          0.36434386467679614,
          0.7458001203276531,
          0.17347779351050963,
          0.5472650332783991,
          0.20544178533742818,
          0.6562607253878838,
          0.26853162694740906,
          0.4881979053580182,
          0.5005925234679313,
          0.11531827042724174,
          0.07724001706144845,
          0.8772379707414086,
          0.32891027646901105,
          0.5437696224417293,
          0.6087019800021553,
          0.1017477381914369,
          0.7597565219358867,
          0.7075870895329108,
          0.7824508389972364,
          0.42490351579904595,
          0.44614267994536105,
          0.7371651939483885,
          0.10515654964232335,
          0.3721918184923646,
          0.4000347031993342,
          0.4811459355861514,
          0.28527624524152306,
          0.6108657981650865,
          0.11789606615592574,
          0.0277722663248563,
          0.8769255225809013,
          0.7115275938327793,
          0.11637247371244663,
          0.6664260205940643,
          0.26428574246004877,
          0.1546039499227917,
          0.7866297050243156,
          0.2640539371816679,
          0.017563027647325202,
          0.4072262393364442,
          0.14003560411484361,
          0.9173998380286212,
          0.5597047231192082,
          0.41036967448991135,
          0.9541359098140745,
          0.9902816120106191,
          0.1415037621225823,
          0.6603396390178276,
          0.6579803055591977,
          0.28293678148689194,
          0.7100677203501573,
          0.7792898210151603,
          0.8199346757081758,
          0.9942471970436231,
          0.34197956696915943,
          0.21538847491699653,
          0.24341009312576722,
          0.5295471707344911,
          0.5626079307554687,
          0.5791795721212617,
          0.4887896598370344,
          0.10556584705722183,
          0.05244441702583369,
          0.056921755072777636,
          0.34312237867599027,
          0.13814114956923884,
          0.27090922114601856,
          0.058817672507912366,
          0.7761114588567718,
          0.13401279581048786,
          0.6414201109781611,
          0.048337886591371726,
          0.4024651244047073,
          0.6151419104465695,
          0.6038409436244889,
          0.007146886921568063,
          0.1909741808633073,
          0.7552171870061412,
          0.37798713573425746,
          0.5033973090492699,
          0.5584382428813486,
          0.90021115687748,
          0.6036546937785389,
          0.14620869127019653,
          0.9077622637907194,
          0.36983232215393747,
          0.1766061217443502,
          0.42006766155659614,
          0.9945948240552664,
          0.351962390526806,
          0.8273353540020281,
          0.4065405784702987,
          0.48489755686655456,
          0.544047922177115,
          0.9107186822299095,
          0.7707004394369558,
          0.12804846560045036,
          0.048428768381344134
         ],
         "yaxis": "y13"
        },
        {
         "line": {
          "color": "rgba(128, 128, 128, 1.0)",
          "dash": "solid",
          "shape": "linear",
          "width": 1.3
         },
         "marker": {
          "size": 2,
          "symbol": "circle"
         },
         "mode": "markers",
         "name": "D",
         "text": "",
         "type": "scatter",
         "x": [
          0.8843255679714199,
          0.4753451338820551,
          0.5564770416397901,
          0.4181370124941951,
          0.8082568964572047,
          0.0041675524322632995,
          0.7357309494209592,
          0.12236491926338045,
          0.8026430626697526,
          0.8551481461602891,
          0.9160726083915803,
          0.1948611008604485,
          0.10701810828909286,
          0.5659538314632473,
          0.006860980634156744,
          0.9230463812155936,
          0.3674568219671307,
          0.19570344085171865,
          0.4859113095727293,
          0.7788449077848387,
          0.4019894727335077,
          0.7895054616695254,
          0.950720477376916,
          0.7324935991597183,
          0.8294060719954223,
          0.6182198093766845,
          0.3101609180831728,
          0.8393311468830299,
          0.541810088608328,
          0.9808512663420359,
          0.7004636554110424,
          0.6112366152144356,
          0.7291840796906991,
          0.3664280752889001,
          0.22748883431446054,
          0.5760954477062057,
          0.056814697827563765,
          0.2644182837393171,
          0.5254839699381781,
          0.6053576784527464,
          0.7582588213806051,
          0.600899443738797,
          0.28418780384870856,
          0.7235975540666422,
          0.5248556362855886,
          0.17192615028233327,
          0.002118427862049077,
          0.10281536998752638,
          0.7699441949341121,
          0.5084122480003067,
          0.6273821881374195,
          0.5823393257132602,
          0.7747669163013711,
          0.7157246969337302,
          0.08690490847151733,
          0.9386285860148799,
          0.24252824943674178,
          0.2869278394690582,
          0.9268408784154505,
          0.45499666799956184,
          0.24128442648819093,
          0.0859334387635351,
          0.587303931632512,
          0.05725274216827514,
          0.02205346107514128,
          0.17496362033400514,
          0.8985829347769082,
          0.2567072722096292,
          0.035850198583307624,
          0.2200534368233742,
          0.9571000858043736,
          0.9737365908047143,
          0.3963828806802123,
          0.6362415350449229,
          0.15697065950891187,
          0.036360552886472775,
          0.982439271041864,
          0.07103230413276096,
          0.04406673582766252,
          0.9977258111089317,
          0.9375260641083187,
          0.5165719897735459,
          0.5328280702622757,
          0.14681397756233838,
          0.5506515843640556,
          0.18482825515656975,
          0.018811782698625823,
          0.3565744638001872,
          0.08815156772705057,
          0.3442811317469232,
          0.829660538258542,
          0.21618861100269104,
          0.3143410975104918,
          0.7634603125071553,
          0.4724020632558451,
          0.4600717513761058,
          0.1361911206485652,
          0.37637493132673405,
          0.8939930917701026,
          0.45455119567056856
         ],
         "xaxis": "x14",
         "y": [
          0.531294116296426,
          0.19701194010803857,
          0.36434386467679614,
          0.7458001203276531,
          0.17347779351050963,
          0.5472650332783991,
          0.20544178533742818,
          0.6562607253878838,
          0.26853162694740906,
          0.4881979053580182,
          0.5005925234679313,
          0.11531827042724174,
          0.07724001706144845,
          0.8772379707414086,
          0.32891027646901105,
          0.5437696224417293,
          0.6087019800021553,
          0.1017477381914369,
          0.7597565219358867,
          0.7075870895329108,
          0.7824508389972364,
          0.42490351579904595,
          0.44614267994536105,
          0.7371651939483885,
          0.10515654964232335,
          0.3721918184923646,
          0.4000347031993342,
          0.4811459355861514,
          0.28527624524152306,
          0.6108657981650865,
          0.11789606615592574,
          0.0277722663248563,
          0.8769255225809013,
          0.7115275938327793,
          0.11637247371244663,
          0.6664260205940643,
          0.26428574246004877,
          0.1546039499227917,
          0.7866297050243156,
          0.2640539371816679,
          0.017563027647325202,
          0.4072262393364442,
          0.14003560411484361,
          0.9173998380286212,
          0.5597047231192082,
          0.41036967448991135,
          0.9541359098140745,
          0.9902816120106191,
          0.1415037621225823,
          0.6603396390178276,
          0.6579803055591977,
          0.28293678148689194,
          0.7100677203501573,
          0.7792898210151603,
          0.8199346757081758,
          0.9942471970436231,
          0.34197956696915943,
          0.21538847491699653,
          0.24341009312576722,
          0.5295471707344911,
          0.5626079307554687,
          0.5791795721212617,
          0.4887896598370344,
          0.10556584705722183,
          0.05244441702583369,
          0.056921755072777636,
          0.34312237867599027,
          0.13814114956923884,
          0.27090922114601856,
          0.058817672507912366,
          0.7761114588567718,
          0.13401279581048786,
          0.6414201109781611,
          0.048337886591371726,
          0.4024651244047073,
          0.6151419104465695,
          0.6038409436244889,
          0.007146886921568063,
          0.1909741808633073,
          0.7552171870061412,
          0.37798713573425746,
          0.5033973090492699,
          0.5584382428813486,
          0.90021115687748,
          0.6036546937785389,
          0.14620869127019653,
          0.9077622637907194,
          0.36983232215393747,
          0.1766061217443502,
          0.42006766155659614,
          0.9945948240552664,
          0.351962390526806,
          0.8273353540020281,
          0.4065405784702987,
          0.48489755686655456,
          0.544047922177115,
          0.9107186822299095,
          0.7707004394369558,
          0.12804846560045036,
          0.048428768381344134
         ],
         "yaxis": "y14"
        },
        {
         "line": {
          "color": "rgba(128, 128, 128, 1.0)",
          "dash": "solid",
          "shape": "linear",
          "width": 1.3
         },
         "marker": {
          "size": 2,
          "symbol": "circle"
         },
         "mode": "markers",
         "name": "D",
         "text": "",
         "type": "scatter",
         "x": [
          0.2727659694171646,
          0.10013266711232538,
          0.5448327863460596,
          0.09727329894900805,
          0.2197344135623024,
          0.04214646070583883,
          0.46821889609474976,
          0.8025023567493255,
          0.01573595417142093,
          0.8039627485723932,
          0.05351035310071783,
          0.9000406066334424,
          0.037098494546418004,
          0.2629835388810038,
          0.6565807923926823,
          0.8123690081745882,
          0.09871617059775817,
          0.17238693234887326,
          0.934884113405032,
          0.34064314236757254,
          0.9115421177085139,
          0.5131761680134694,
          0.5379622467693852,
          0.284426545392087,
          0.8345670148283205,
          0.8487558681961126,
          0.5900632249409625,
          0.714154243306131,
          0.49242633777860434,
          0.5336573146516208,
          0.1453402204294264,
          0.8163375471348691,
          0.6811463764736094,
          0.6245439838334139,
          0.4894177841709727,
          0.10532400939912523,
          0.3618680768124718,
          0.32272026156317757,
          0.8433884451270447,
          0.19000243572657838,
          0.6539164107900397,
          0.9521670993114382,
          0.9987033922593445,
          0.770424395262453,
          0.5375133721748498,
          0.082381733581116,
          0.7608344269402947,
          0.008898723946493714,
          0.0495688379008824,
          0.12610535479249285,
          0.762356668150164,
          0.5806095750100767,
          0.607013446608908,
          0.9196984128010408,
          0.28276562212501666,
          0.2625431879724742,
          0.4614249618074985,
          0.17704613485673404,
          0.7868397345361017,
          0.8066783941246661,
          0.4864485987873186,
          0.6135022168649812,
          0.6273290657176195,
          0.6145518813492507,
          0.23944297122292757,
          0.8931918852211221,
          0.3798528483404081,
          0.33649416223700135,
          0.043255334208812224,
          0.553039130920302,
          0.3620196403359204,
          0.5856002401687663,
          0.6080727470900651,
          0.6777037301958364,
          0.4224623950184081,
          0.5079081085198162,
          0.43057034579573017,
          0.6902588282783292,
          0.411766731657773,
          0.4410796490087915,
          0.5088675781055102,
          0.8729896925135645,
          0.09661973445640559,
          0.7642709600505615,
          0.2637435603231273,
          0.5831670398586298,
          0.0639600760652358,
          0.6666363233039206,
          0.2797930223401284,
          0.00906139330142075,
          0.3949603726304901,
          0.33339740804984064,
          0.05697582815757041,
          0.7295051035746041,
          0.4978557217912828,
          0.8432200315712669,
          0.3665848164074931,
          0.19071377651795673,
          0.3134459169813113,
          0.8906068235198399
         ],
         "xaxis": "x15",
         "y": [
          0.531294116296426,
          0.19701194010803857,
          0.36434386467679614,
          0.7458001203276531,
          0.17347779351050963,
          0.5472650332783991,
          0.20544178533742818,
          0.6562607253878838,
          0.26853162694740906,
          0.4881979053580182,
          0.5005925234679313,
          0.11531827042724174,
          0.07724001706144845,
          0.8772379707414086,
          0.32891027646901105,
          0.5437696224417293,
          0.6087019800021553,
          0.1017477381914369,
          0.7597565219358867,
          0.7075870895329108,
          0.7824508389972364,
          0.42490351579904595,
          0.44614267994536105,
          0.7371651939483885,
          0.10515654964232335,
          0.3721918184923646,
          0.4000347031993342,
          0.4811459355861514,
          0.28527624524152306,
          0.6108657981650865,
          0.11789606615592574,
          0.0277722663248563,
          0.8769255225809013,
          0.7115275938327793,
          0.11637247371244663,
          0.6664260205940643,
          0.26428574246004877,
          0.1546039499227917,
          0.7866297050243156,
          0.2640539371816679,
          0.017563027647325202,
          0.4072262393364442,
          0.14003560411484361,
          0.9173998380286212,
          0.5597047231192082,
          0.41036967448991135,
          0.9541359098140745,
          0.9902816120106191,
          0.1415037621225823,
          0.6603396390178276,
          0.6579803055591977,
          0.28293678148689194,
          0.7100677203501573,
          0.7792898210151603,
          0.8199346757081758,
          0.9942471970436231,
          0.34197956696915943,
          0.21538847491699653,
          0.24341009312576722,
          0.5295471707344911,
          0.5626079307554687,
          0.5791795721212617,
          0.4887896598370344,
          0.10556584705722183,
          0.05244441702583369,
          0.056921755072777636,
          0.34312237867599027,
          0.13814114956923884,
          0.27090922114601856,
          0.058817672507912366,
          0.7761114588567718,
          0.13401279581048786,
          0.6414201109781611,
          0.048337886591371726,
          0.4024651244047073,
          0.6151419104465695,
          0.6038409436244889,
          0.007146886921568063,
          0.1909741808633073,
          0.7552171870061412,
          0.37798713573425746,
          0.5033973090492699,
          0.5584382428813486,
          0.90021115687748,
          0.6036546937785389,
          0.14620869127019653,
          0.9077622637907194,
          0.36983232215393747,
          0.1766061217443502,
          0.42006766155659614,
          0.9945948240552664,
          0.351962390526806,
          0.8273353540020281,
          0.4065405784702987,
          0.48489755686655456,
          0.544047922177115,
          0.9107186822299095,
          0.7707004394369558,
          0.12804846560045036,
          0.048428768381344134
         ],
         "yaxis": "y15"
        },
        {
         "histfunc": "count",
         "histnorm": "",
         "marker": {
          "color": "rgba(128, 0, 128, 1.0)",
          "line": {
           "color": "#4D5663",
           "width": 1.3
          }
         },
         "name": "D",
         "nbinsx": 10,
         "opacity": 0.8,
         "orientation": "v",
         "type": "histogram",
         "x": [
          0.531294116296426,
          0.19701194010803857,
          0.36434386467679614,
          0.7458001203276531,
          0.17347779351050963,
          0.5472650332783991,
          0.20544178533742818,
          0.6562607253878838,
          0.26853162694740906,
          0.4881979053580182,
          0.5005925234679313,
          0.11531827042724174,
          0.07724001706144845,
          0.8772379707414086,
          0.32891027646901105,
          0.5437696224417293,
          0.6087019800021553,
          0.1017477381914369,
          0.7597565219358867,
          0.7075870895329108,
          0.7824508389972364,
          0.42490351579904595,
          0.44614267994536105,
          0.7371651939483885,
          0.10515654964232335,
          0.3721918184923646,
          0.4000347031993342,
          0.4811459355861514,
          0.28527624524152306,
          0.6108657981650865,
          0.11789606615592574,
          0.0277722663248563,
          0.8769255225809013,
          0.7115275938327793,
          0.11637247371244663,
          0.6664260205940643,
          0.26428574246004877,
          0.1546039499227917,
          0.7866297050243156,
          0.2640539371816679,
          0.017563027647325202,
          0.4072262393364442,
          0.14003560411484361,
          0.9173998380286212,
          0.5597047231192082,
          0.41036967448991135,
          0.9541359098140745,
          0.9902816120106191,
          0.1415037621225823,
          0.6603396390178276,
          0.6579803055591977,
          0.28293678148689194,
          0.7100677203501573,
          0.7792898210151603,
          0.8199346757081758,
          0.9942471970436231,
          0.34197956696915943,
          0.21538847491699653,
          0.24341009312576722,
          0.5295471707344911,
          0.5626079307554687,
          0.5791795721212617,
          0.4887896598370344,
          0.10556584705722183,
          0.05244441702583369,
          0.056921755072777636,
          0.34312237867599027,
          0.13814114956923884,
          0.27090922114601856,
          0.058817672507912366,
          0.7761114588567718,
          0.13401279581048786,
          0.6414201109781611,
          0.048337886591371726,
          0.4024651244047073,
          0.6151419104465695,
          0.6038409436244889,
          0.007146886921568063,
          0.1909741808633073,
          0.7552171870061412,
          0.37798713573425746,
          0.5033973090492699,
          0.5584382428813486,
          0.90021115687748,
          0.6036546937785389,
          0.14620869127019653,
          0.9077622637907194,
          0.36983232215393747,
          0.1766061217443502,
          0.42006766155659614,
          0.9945948240552664,
          0.351962390526806,
          0.8273353540020281,
          0.4065405784702987,
          0.48489755686655456,
          0.544047922177115,
          0.9107186822299095,
          0.7707004394369558,
          0.12804846560045036,
          0.048428768381344134
         ],
         "xaxis": "x16",
         "yaxis": "y16"
        }
       ],
       "layout": {
        "bargap": 0.02,
        "legend": {
         "bgcolor": "#F5F6F9",
         "font": {
          "color": "#4D5663"
         }
        },
        "paper_bgcolor": "#F5F6F9",
        "plot_bgcolor": "#F5F6F9",
        "showlegend": false,
        "template": {
         "data": {
          "bar": [
           {
            "error_x": {
             "color": "#2a3f5f"
            },
            "error_y": {
             "color": "#2a3f5f"
            },
            "marker": {
             "line": {
              "color": "#E5ECF6",
              "width": 0.5
             },
             "pattern": {
              "fillmode": "overlay",
              "size": 10,
              "solidity": 0.2
             }
            },
            "type": "bar"
           }
          ],
          "barpolar": [
           {
            "marker": {
             "line": {
              "color": "#E5ECF6",
              "width": 0.5
             },
             "pattern": {
              "fillmode": "overlay",
              "size": 10,
              "solidity": 0.2
             }
            },
            "type": "barpolar"
           }
          ],
          "carpet": [
           {
            "aaxis": {
             "endlinecolor": "#2a3f5f",
             "gridcolor": "white",
             "linecolor": "white",
             "minorgridcolor": "white",
             "startlinecolor": "#2a3f5f"
            },
            "baxis": {
             "endlinecolor": "#2a3f5f",
             "gridcolor": "white",
             "linecolor": "white",
             "minorgridcolor": "white",
             "startlinecolor": "#2a3f5f"
            },
            "type": "carpet"
           }
          ],
          "choropleth": [
           {
            "colorbar": {
             "outlinewidth": 0,
             "ticks": ""
            },
            "type": "choropleth"
           }
          ],
          "contour": [
           {
            "colorbar": {
             "outlinewidth": 0,
             "ticks": ""
            },
            "colorscale": [
             [
              0,
              "#0d0887"
             ],
             [
              0.1111111111111111,
              "#46039f"
             ],
             [
              0.2222222222222222,
              "#7201a8"
             ],
             [
              0.3333333333333333,
              "#9c179e"
             ],
             [
              0.4444444444444444,
              "#bd3786"
             ],
             [
              0.5555555555555556,
              "#d8576b"
             ],
             [
              0.6666666666666666,
              "#ed7953"
             ],
             [
              0.7777777777777778,
              "#fb9f3a"
             ],
             [
              0.8888888888888888,
              "#fdca26"
             ],
             [
              1,
              "#f0f921"
             ]
            ],
            "type": "contour"
           }
          ],
          "contourcarpet": [
           {
            "colorbar": {
             "outlinewidth": 0,
             "ticks": ""
            },
            "type": "contourcarpet"
           }
          ],
          "heatmap": [
           {
            "colorbar": {
             "outlinewidth": 0,
             "ticks": ""
            },
            "colorscale": [
             [
              0,
              "#0d0887"
             ],
             [
              0.1111111111111111,
              "#46039f"
             ],
             [
              0.2222222222222222,
              "#7201a8"
             ],
             [
              0.3333333333333333,
              "#9c179e"
             ],
             [
              0.4444444444444444,
              "#bd3786"
             ],
             [
              0.5555555555555556,
              "#d8576b"
             ],
             [
              0.6666666666666666,
              "#ed7953"
             ],
             [
              0.7777777777777778,
              "#fb9f3a"
             ],
             [
              0.8888888888888888,
              "#fdca26"
             ],
             [
              1,
              "#f0f921"
             ]
            ],
            "type": "heatmap"
           }
          ],
          "heatmapgl": [
           {
            "colorbar": {
             "outlinewidth": 0,
             "ticks": ""
            },
            "colorscale": [
             [
              0,
              "#0d0887"
             ],
             [
              0.1111111111111111,
              "#46039f"
             ],
             [
              0.2222222222222222,
              "#7201a8"
             ],
             [
              0.3333333333333333,
              "#9c179e"
             ],
             [
              0.4444444444444444,
              "#bd3786"
             ],
             [
              0.5555555555555556,
              "#d8576b"
             ],
             [
              0.6666666666666666,
              "#ed7953"
             ],
             [
              0.7777777777777778,
              "#fb9f3a"
             ],
             [
              0.8888888888888888,
              "#fdca26"
             ],
             [
              1,
              "#f0f921"
             ]
            ],
            "type": "heatmapgl"
           }
          ],
          "histogram": [
           {
            "marker": {
             "pattern": {
              "fillmode": "overlay",
              "size": 10,
              "solidity": 0.2
             }
            },
            "type": "histogram"
           }
          ],
          "histogram2d": [
           {
            "colorbar": {
             "outlinewidth": 0,
             "ticks": ""
            },
            "colorscale": [
             [
              0,
              "#0d0887"
             ],
             [
              0.1111111111111111,
              "#46039f"
             ],
             [
              0.2222222222222222,
              "#7201a8"
             ],
             [
              0.3333333333333333,
              "#9c179e"
             ],
             [
              0.4444444444444444,
              "#bd3786"
             ],
             [
              0.5555555555555556,
              "#d8576b"
             ],
             [
              0.6666666666666666,
              "#ed7953"
             ],
             [
              0.7777777777777778,
              "#fb9f3a"
             ],
             [
              0.8888888888888888,
              "#fdca26"
             ],
             [
              1,
              "#f0f921"
             ]
            ],
            "type": "histogram2d"
           }
          ],
          "histogram2dcontour": [
           {
            "colorbar": {
             "outlinewidth": 0,
             "ticks": ""
            },
            "colorscale": [
             [
              0,
              "#0d0887"
             ],
             [
              0.1111111111111111,
              "#46039f"
             ],
             [
              0.2222222222222222,
              "#7201a8"
             ],
             [
              0.3333333333333333,
              "#9c179e"
             ],
             [
              0.4444444444444444,
              "#bd3786"
             ],
             [
              0.5555555555555556,
              "#d8576b"
             ],
             [
              0.6666666666666666,
              "#ed7953"
             ],
             [
              0.7777777777777778,
              "#fb9f3a"
             ],
             [
              0.8888888888888888,
              "#fdca26"
             ],
             [
              1,
              "#f0f921"
             ]
            ],
            "type": "histogram2dcontour"
           }
          ],
          "mesh3d": [
           {
            "colorbar": {
             "outlinewidth": 0,
             "ticks": ""
            },
            "type": "mesh3d"
           }
          ],
          "parcoords": [
           {
            "line": {
             "colorbar": {
              "outlinewidth": 0,
              "ticks": ""
             }
            },
            "type": "parcoords"
           }
          ],
          "pie": [
           {
            "automargin": true,
            "type": "pie"
           }
          ],
          "scatter": [
           {
            "marker": {
             "colorbar": {
              "outlinewidth": 0,
              "ticks": ""
             }
            },
            "type": "scatter"
           }
          ],
          "scatter3d": [
           {
            "line": {
             "colorbar": {
              "outlinewidth": 0,
              "ticks": ""
             }
            },
            "marker": {
             "colorbar": {
              "outlinewidth": 0,
              "ticks": ""
             }
            },
            "type": "scatter3d"
           }
          ],
          "scattercarpet": [
           {
            "marker": {
             "colorbar": {
              "outlinewidth": 0,
              "ticks": ""
             }
            },
            "type": "scattercarpet"
           }
          ],
          "scattergeo": [
           {
            "marker": {
             "colorbar": {
              "outlinewidth": 0,
              "ticks": ""
             }
            },
            "type": "scattergeo"
           }
          ],
          "scattergl": [
           {
            "marker": {
             "colorbar": {
              "outlinewidth": 0,
              "ticks": ""
             }
            },
            "type": "scattergl"
           }
          ],
          "scattermapbox": [
           {
            "marker": {
             "colorbar": {
              "outlinewidth": 0,
              "ticks": ""
             }
            },
            "type": "scattermapbox"
           }
          ],
          "scatterpolar": [
           {
            "marker": {
             "colorbar": {
              "outlinewidth": 0,
              "ticks": ""
             }
            },
            "type": "scatterpolar"
           }
          ],
          "scatterpolargl": [
           {
            "marker": {
             "colorbar": {
              "outlinewidth": 0,
              "ticks": ""
             }
            },
            "type": "scatterpolargl"
           }
          ],
          "scatterternary": [
           {
            "marker": {
             "colorbar": {
              "outlinewidth": 0,
              "ticks": ""
             }
            },
            "type": "scatterternary"
           }
          ],
          "surface": [
           {
            "colorbar": {
             "outlinewidth": 0,
             "ticks": ""
            },
            "colorscale": [
             [
              0,
              "#0d0887"
             ],
             [
              0.1111111111111111,
              "#46039f"
             ],
             [
              0.2222222222222222,
              "#7201a8"
             ],
             [
              0.3333333333333333,
              "#9c179e"
             ],
             [
              0.4444444444444444,
              "#bd3786"
             ],
             [
              0.5555555555555556,
              "#d8576b"
             ],
             [
              0.6666666666666666,
              "#ed7953"
             ],
             [
              0.7777777777777778,
              "#fb9f3a"
             ],
             [
              0.8888888888888888,
              "#fdca26"
             ],
             [
              1,
              "#f0f921"
             ]
            ],
            "type": "surface"
           }
          ],
          "table": [
           {
            "cells": {
             "fill": {
              "color": "#EBF0F8"
             },
             "line": {
              "color": "white"
             }
            },
            "header": {
             "fill": {
              "color": "#C8D4E3"
             },
             "line": {
              "color": "white"
             }
            },
            "type": "table"
           }
          ]
         },
         "layout": {
          "annotationdefaults": {
           "arrowcolor": "#2a3f5f",
           "arrowhead": 0,
           "arrowwidth": 1
          },
          "autotypenumbers": "strict",
          "coloraxis": {
           "colorbar": {
            "outlinewidth": 0,
            "ticks": ""
           }
          },
          "colorscale": {
           "diverging": [
            [
             0,
             "#8e0152"
            ],
            [
             0.1,
             "#c51b7d"
            ],
            [
             0.2,
             "#de77ae"
            ],
            [
             0.3,
             "#f1b6da"
            ],
            [
             0.4,
             "#fde0ef"
            ],
            [
             0.5,
             "#f7f7f7"
            ],
            [
             0.6,
             "#e6f5d0"
            ],
            [
             0.7,
             "#b8e186"
            ],
            [
             0.8,
             "#7fbc41"
            ],
            [
             0.9,
             "#4d9221"
            ],
            [
             1,
             "#276419"
            ]
           ],
           "sequential": [
            [
             0,
             "#0d0887"
            ],
            [
             0.1111111111111111,
             "#46039f"
            ],
            [
             0.2222222222222222,
             "#7201a8"
            ],
            [
             0.3333333333333333,
             "#9c179e"
            ],
            [
             0.4444444444444444,
             "#bd3786"
            ],
            [
             0.5555555555555556,
             "#d8576b"
            ],
            [
             0.6666666666666666,
             "#ed7953"
            ],
            [
             0.7777777777777778,
             "#fb9f3a"
            ],
            [
             0.8888888888888888,
             "#fdca26"
            ],
            [
             1,
             "#f0f921"
            ]
           ],
           "sequentialminus": [
            [
             0,
             "#0d0887"
            ],
            [
             0.1111111111111111,
             "#46039f"
            ],
            [
             0.2222222222222222,
             "#7201a8"
            ],
            [
             0.3333333333333333,
             "#9c179e"
            ],
            [
             0.4444444444444444,
             "#bd3786"
            ],
            [
             0.5555555555555556,
             "#d8576b"
            ],
            [
             0.6666666666666666,
             "#ed7953"
            ],
            [
             0.7777777777777778,
             "#fb9f3a"
            ],
            [
             0.8888888888888888,
             "#fdca26"
            ],
            [
             1,
             "#f0f921"
            ]
           ]
          },
          "colorway": [
           "#636efa",
           "#EF553B",
           "#00cc96",
           "#ab63fa",
           "#FFA15A",
           "#19d3f3",
           "#FF6692",
           "#B6E880",
           "#FF97FF",
           "#FECB52"
          ],
          "font": {
           "color": "#2a3f5f"
          },
          "geo": {
           "bgcolor": "white",
           "lakecolor": "white",
           "landcolor": "#E5ECF6",
           "showlakes": true,
           "showland": true,
           "subunitcolor": "white"
          },
          "hoverlabel": {
           "align": "left"
          },
          "hovermode": "closest",
          "mapbox": {
           "style": "light"
          },
          "paper_bgcolor": "white",
          "plot_bgcolor": "#E5ECF6",
          "polar": {
           "angularaxis": {
            "gridcolor": "white",
            "linecolor": "white",
            "ticks": ""
           },
           "bgcolor": "#E5ECF6",
           "radialaxis": {
            "gridcolor": "white",
            "linecolor": "white",
            "ticks": ""
           }
          },
          "scene": {
           "xaxis": {
            "backgroundcolor": "#E5ECF6",
            "gridcolor": "white",
            "gridwidth": 2,
            "linecolor": "white",
            "showbackground": true,
            "ticks": "",
            "zerolinecolor": "white"
           },
           "yaxis": {
            "backgroundcolor": "#E5ECF6",
            "gridcolor": "white",
            "gridwidth": 2,
            "linecolor": "white",
            "showbackground": true,
            "ticks": "",
            "zerolinecolor": "white"
           },
           "zaxis": {
            "backgroundcolor": "#E5ECF6",
            "gridcolor": "white",
            "gridwidth": 2,
            "linecolor": "white",
            "showbackground": true,
            "ticks": "",
            "zerolinecolor": "white"
           }
          },
          "shapedefaults": {
           "line": {
            "color": "#2a3f5f"
           }
          },
          "ternary": {
           "aaxis": {
            "gridcolor": "white",
            "linecolor": "white",
            "ticks": ""
           },
           "baxis": {
            "gridcolor": "white",
            "linecolor": "white",
            "ticks": ""
           },
           "bgcolor": "#E5ECF6",
           "caxis": {
            "gridcolor": "white",
            "linecolor": "white",
            "ticks": ""
           }
          },
          "title": {
           "x": 0.05
          },
          "xaxis": {
           "automargin": true,
           "gridcolor": "white",
           "linecolor": "white",
           "ticks": "",
           "title": {
            "standoff": 15
           },
           "zerolinecolor": "white",
           "zerolinewidth": 2
          },
          "yaxis": {
           "automargin": true,
           "gridcolor": "white",
           "linecolor": "white",
           "ticks": "",
           "title": {
            "standoff": 15
           },
           "zerolinecolor": "white",
           "zerolinewidth": 2
          }
         }
        },
        "title": {
         "font": {
          "color": "#4D5663"
         }
        },
        "xaxis": {
         "anchor": "y",
         "domain": [
          0,
          0.2125
         ],
         "gridcolor": "#E1E5ED",
         "showgrid": false,
         "tickfont": {
          "color": "#4D5663"
         },
         "title": {
          "font": {
           "color": "#4D5663"
          },
          "text": ""
         },
         "zerolinecolor": "#E1E5ED"
        },
        "xaxis10": {
         "anchor": "y10",
         "domain": [
          0.2625,
          0.475
         ],
         "gridcolor": "#E1E5ED",
         "showgrid": false,
         "tickfont": {
          "color": "#4D5663"
         },
         "title": {
          "font": {
           "color": "#4D5663"
          },
          "text": ""
         },
         "zerolinecolor": "#E1E5ED"
        },
        "xaxis11": {
         "anchor": "y11",
         "domain": [
          0.525,
          0.7375
         ],
         "gridcolor": "#E1E5ED",
         "showgrid": false,
         "tickfont": {
          "color": "#4D5663"
         },
         "title": {
          "font": {
           "color": "#4D5663"
          },
          "text": ""
         },
         "zerolinecolor": "#E1E5ED"
        },
        "xaxis12": {
         "anchor": "y12",
         "domain": [
          0.7875,
          1
         ],
         "gridcolor": "#E1E5ED",
         "showgrid": false,
         "tickfont": {
          "color": "#4D5663"
         },
         "title": {
          "font": {
           "color": "#4D5663"
          },
          "text": ""
         },
         "zerolinecolor": "#E1E5ED"
        },
        "xaxis13": {
         "anchor": "y13",
         "domain": [
          0,
          0.2125
         ],
         "gridcolor": "#E1E5ED",
         "showgrid": false,
         "tickfont": {
          "color": "#4D5663"
         },
         "title": {
          "font": {
           "color": "#4D5663"
          },
          "text": ""
         },
         "zerolinecolor": "#E1E5ED"
        },
        "xaxis14": {
         "anchor": "y14",
         "domain": [
          0.2625,
          0.475
         ],
         "gridcolor": "#E1E5ED",
         "showgrid": false,
         "tickfont": {
          "color": "#4D5663"
         },
         "title": {
          "font": {
           "color": "#4D5663"
          },
          "text": ""
         },
         "zerolinecolor": "#E1E5ED"
        },
        "xaxis15": {
         "anchor": "y15",
         "domain": [
          0.525,
          0.7375
         ],
         "gridcolor": "#E1E5ED",
         "showgrid": false,
         "tickfont": {
          "color": "#4D5663"
         },
         "title": {
          "font": {
           "color": "#4D5663"
          },
          "text": ""
         },
         "zerolinecolor": "#E1E5ED"
        },
        "xaxis16": {
         "anchor": "y16",
         "domain": [
          0.7875,
          1
         ],
         "gridcolor": "#E1E5ED",
         "showgrid": false,
         "tickfont": {
          "color": "#4D5663"
         },
         "title": {
          "font": {
           "color": "#4D5663"
          },
          "text": ""
         },
         "zerolinecolor": "#E1E5ED"
        },
        "xaxis2": {
         "anchor": "y2",
         "domain": [
          0.2625,
          0.475
         ],
         "gridcolor": "#E1E5ED",
         "showgrid": false,
         "tickfont": {
          "color": "#4D5663"
         },
         "title": {
          "font": {
           "color": "#4D5663"
          },
          "text": ""
         },
         "zerolinecolor": "#E1E5ED"
        },
        "xaxis3": {
         "anchor": "y3",
         "domain": [
          0.525,
          0.7375
         ],
         "gridcolor": "#E1E5ED",
         "showgrid": false,
         "tickfont": {
          "color": "#4D5663"
         },
         "title": {
          "font": {
           "color": "#4D5663"
          },
          "text": ""
         },
         "zerolinecolor": "#E1E5ED"
        },
        "xaxis4": {
         "anchor": "y4",
         "domain": [
          0.7875,
          1
         ],
         "gridcolor": "#E1E5ED",
         "showgrid": false,
         "tickfont": {
          "color": "#4D5663"
         },
         "title": {
          "font": {
           "color": "#4D5663"
          },
          "text": ""
         },
         "zerolinecolor": "#E1E5ED"
        },
        "xaxis5": {
         "anchor": "y5",
         "domain": [
          0,
          0.2125
         ],
         "gridcolor": "#E1E5ED",
         "showgrid": false,
         "tickfont": {
          "color": "#4D5663"
         },
         "title": {
          "font": {
           "color": "#4D5663"
          },
          "text": ""
         },
         "zerolinecolor": "#E1E5ED"
        },
        "xaxis6": {
         "anchor": "y6",
         "domain": [
          0.2625,
          0.475
         ],
         "gridcolor": "#E1E5ED",
         "showgrid": false,
         "tickfont": {
          "color": "#4D5663"
         },
         "title": {
          "font": {
           "color": "#4D5663"
          },
          "text": ""
         },
         "zerolinecolor": "#E1E5ED"
        },
        "xaxis7": {
         "anchor": "y7",
         "domain": [
          0.525,
          0.7375
         ],
         "gridcolor": "#E1E5ED",
         "showgrid": false,
         "tickfont": {
          "color": "#4D5663"
         },
         "title": {
          "font": {
           "color": "#4D5663"
          },
          "text": ""
         },
         "zerolinecolor": "#E1E5ED"
        },
        "xaxis8": {
         "anchor": "y8",
         "domain": [
          0.7875,
          1
         ],
         "gridcolor": "#E1E5ED",
         "showgrid": false,
         "tickfont": {
          "color": "#4D5663"
         },
         "title": {
          "font": {
           "color": "#4D5663"
          },
          "text": ""
         },
         "zerolinecolor": "#E1E5ED"
        },
        "xaxis9": {
         "anchor": "y9",
         "domain": [
          0,
          0.2125
         ],
         "gridcolor": "#E1E5ED",
         "showgrid": false,
         "tickfont": {
          "color": "#4D5663"
         },
         "title": {
          "font": {
           "color": "#4D5663"
          },
          "text": ""
         },
         "zerolinecolor": "#E1E5ED"
        },
        "yaxis": {
         "anchor": "x",
         "domain": [
          0.8025,
          1
         ],
         "gridcolor": "#E1E5ED",
         "showgrid": false,
         "tickfont": {
          "color": "#4D5663"
         },
         "title": {
          "font": {
           "color": "#4D5663"
          },
          "text": ""
         },
         "zerolinecolor": "#E1E5ED"
        },
        "yaxis10": {
         "anchor": "x10",
         "domain": [
          0.2675,
          0.465
         ],
         "gridcolor": "#E1E5ED",
         "showgrid": false,
         "tickfont": {
          "color": "#4D5663"
         },
         "title": {
          "font": {
           "color": "#4D5663"
          },
          "text": ""
         },
         "zerolinecolor": "#E1E5ED"
        },
        "yaxis11": {
         "anchor": "x11",
         "domain": [
          0.2675,
          0.465
         ],
         "gridcolor": "#E1E5ED",
         "showgrid": false,
         "tickfont": {
          "color": "#4D5663"
         },
         "title": {
          "font": {
           "color": "#4D5663"
          },
          "text": ""
         },
         "zerolinecolor": "#E1E5ED"
        },
        "yaxis12": {
         "anchor": "x12",
         "domain": [
          0.2675,
          0.465
         ],
         "gridcolor": "#E1E5ED",
         "showgrid": false,
         "tickfont": {
          "color": "#4D5663"
         },
         "title": {
          "font": {
           "color": "#4D5663"
          },
          "text": ""
         },
         "zerolinecolor": "#E1E5ED"
        },
        "yaxis13": {
         "anchor": "x13",
         "domain": [
          0,
          0.1975
         ],
         "gridcolor": "#E1E5ED",
         "showgrid": false,
         "tickfont": {
          "color": "#4D5663"
         },
         "title": {
          "font": {
           "color": "#4D5663"
          },
          "text": ""
         },
         "zerolinecolor": "#E1E5ED"
        },
        "yaxis14": {
         "anchor": "x14",
         "domain": [
          0,
          0.1975
         ],
         "gridcolor": "#E1E5ED",
         "showgrid": false,
         "tickfont": {
          "color": "#4D5663"
         },
         "title": {
          "font": {
           "color": "#4D5663"
          },
          "text": ""
         },
         "zerolinecolor": "#E1E5ED"
        },
        "yaxis15": {
         "anchor": "x15",
         "domain": [
          0,
          0.1975
         ],
         "gridcolor": "#E1E5ED",
         "showgrid": false,
         "tickfont": {
          "color": "#4D5663"
         },
         "title": {
          "font": {
           "color": "#4D5663"
          },
          "text": ""
         },
         "zerolinecolor": "#E1E5ED"
        },
        "yaxis16": {
         "anchor": "x16",
         "domain": [
          0,
          0.1975
         ],
         "gridcolor": "#E1E5ED",
         "showgrid": false,
         "tickfont": {
          "color": "#4D5663"
         },
         "title": {
          "font": {
           "color": "#4D5663"
          },
          "text": ""
         },
         "zerolinecolor": "#E1E5ED"
        },
        "yaxis2": {
         "anchor": "x2",
         "domain": [
          0.8025,
          1
         ],
         "gridcolor": "#E1E5ED",
         "showgrid": false,
         "tickfont": {
          "color": "#4D5663"
         },
         "title": {
          "font": {
           "color": "#4D5663"
          },
          "text": ""
         },
         "zerolinecolor": "#E1E5ED"
        },
        "yaxis3": {
         "anchor": "x3",
         "domain": [
          0.8025,
          1
         ],
         "gridcolor": "#E1E5ED",
         "showgrid": false,
         "tickfont": {
          "color": "#4D5663"
         },
         "title": {
          "font": {
           "color": "#4D5663"
          },
          "text": ""
         },
         "zerolinecolor": "#E1E5ED"
        },
        "yaxis4": {
         "anchor": "x4",
         "domain": [
          0.8025,
          1
         ],
         "gridcolor": "#E1E5ED",
         "showgrid": false,
         "tickfont": {
          "color": "#4D5663"
         },
         "title": {
          "font": {
           "color": "#4D5663"
          },
          "text": ""
         },
         "zerolinecolor": "#E1E5ED"
        },
        "yaxis5": {
         "anchor": "x5",
         "domain": [
          0.535,
          0.7325
         ],
         "gridcolor": "#E1E5ED",
         "showgrid": false,
         "tickfont": {
          "color": "#4D5663"
         },
         "title": {
          "font": {
           "color": "#4D5663"
          },
          "text": ""
         },
         "zerolinecolor": "#E1E5ED"
        },
        "yaxis6": {
         "anchor": "x6",
         "domain": [
          0.535,
          0.7325
         ],
         "gridcolor": "#E1E5ED",
         "showgrid": false,
         "tickfont": {
          "color": "#4D5663"
         },
         "title": {
          "font": {
           "color": "#4D5663"
          },
          "text": ""
         },
         "zerolinecolor": "#E1E5ED"
        },
        "yaxis7": {
         "anchor": "x7",
         "domain": [
          0.535,
          0.7325
         ],
         "gridcolor": "#E1E5ED",
         "showgrid": false,
         "tickfont": {
          "color": "#4D5663"
         },
         "title": {
          "font": {
           "color": "#4D5663"
          },
          "text": ""
         },
         "zerolinecolor": "#E1E5ED"
        },
        "yaxis8": {
         "anchor": "x8",
         "domain": [
          0.535,
          0.7325
         ],
         "gridcolor": "#E1E5ED",
         "showgrid": false,
         "tickfont": {
          "color": "#4D5663"
         },
         "title": {
          "font": {
           "color": "#4D5663"
          },
          "text": ""
         },
         "zerolinecolor": "#E1E5ED"
        },
        "yaxis9": {
         "anchor": "x9",
         "domain": [
          0.2675,
          0.465
         ],
         "gridcolor": "#E1E5ED",
         "showgrid": false,
         "tickfont": {
          "color": "#4D5663"
         },
         "title": {
          "font": {
           "color": "#4D5663"
          },
          "text": ""
         },
         "zerolinecolor": "#E1E5ED"
        }
       }
      },
      "text/html": [
       "<div>                            <div id=\"54da9bb8-6562-49a7-9425-81a383116aba\" class=\"plotly-graph-div\" style=\"height:525px; width:100%;\"></div>            <script type=\"text/javascript\">                require([\"plotly\"], function(Plotly) {                    window.PLOTLYENV=window.PLOTLYENV || {};\n",
       "                    window.PLOTLYENV.BASE_URL='https://plot.ly';                                    if (document.getElementById(\"54da9bb8-6562-49a7-9425-81a383116aba\")) {                    Plotly.newPlot(                        \"54da9bb8-6562-49a7-9425-81a383116aba\",                        [{\"histfunc\":\"count\",\"histnorm\":\"\",\"marker\":{\"color\":\"rgba(255, 153, 51, 1.0)\",\"line\":{\"color\":\"#4D5663\",\"width\":1.3}},\"name\":\"A\",\"nbinsx\":10,\"opacity\":0.8,\"orientation\":\"v\",\"type\":\"histogram\",\"x\":[0.6874854690341766,0.5513974765103675,0.45219615905465405,0.3220074688721969,0.49848573503280835,0.8958082016552023,0.5924551606207522,0.019085849506069286,0.16849589082793093,0.03917191500638728,0.9121123388386799,0.23796051949259922,0.7258352658575087,0.34011954084222296,0.9491936521385159,0.15990653103289698,0.9754274244115759,0.3513871614097297,0.7066711673159177,0.6239263416350013,0.7027295187093794,0.799269947258963,0.33849993354535746,0.6301050773543084,0.051192931727014224,0.7224205087266852,0.4610464129486934,0.18313301492030254,0.40054735793284857,0.014412382101959054,0.5456590908441381,0.10855883211332473,0.11586655917905408,0.10568130158337796,0.9818825910553824,0.8617623526104413,0.9415055939261352,0.35812691402662733,0.6234732510966413,0.15305832576902845,0.23400930433298706,0.4388023440377373,0.09120750092250074,0.2590262261903984,0.03974027611508335,0.9284703344580862,0.6080577294722969,0.1012374898742957,0.11618317926899302,0.6088220366799406,0.11991550032916609,0.28278449287021923,0.12753378858961406,0.21490654709576862,0.7204691205883724,0.5518301887870176,0.7226709942872196,0.328001954785583,0.49011610109086257,0.11945543432845651,0.7686714245848407,0.8652286415169714,0.3387705814403654,0.20014342665332918,0.260917778080169,0.9954206073810935,0.27240193790782574,0.27575568228905967,0.30877116216175204,0.579622051446661,0.5461726196682098,0.6872479995752397,0.4276608269347526,0.6431573587078688,0.10326755653659647,0.021542551887952288,0.5826640406415982,0.1961995137374999,0.9301684925096566,0.35239104974070956,0.9269534890286317,0.00967037511330382,0.6469773371700347,0.08189466503482001,0.6470770636312277,0.7186538462033282,0.64798841147515,0.9390131824104669,0.39599019547534,0.4997378936919815,0.3979814103169699,0.43334068025240957,0.18204684784992287,0.9055616278589967,0.4950070469382203,0.2728325871340562,0.3263777289755577,0.9382923709357847,0.9228802624702013,0.2280123275393151],\"xaxis\":\"x\",\"yaxis\":\"y\"},{\"line\":{\"color\":\"rgba(128, 128, 128, 1.0)\",\"dash\":\"solid\",\"shape\":\"linear\",\"width\":1.3},\"marker\":{\"size\":2,\"symbol\":\"circle\"},\"mode\":\"markers\",\"name\":\"A\",\"text\":\"\",\"type\":\"scatter\",\"x\":[0.8843255679714199,0.4753451338820551,0.5564770416397901,0.4181370124941951,0.8082568964572047,0.0041675524322632995,0.7357309494209592,0.12236491926338045,0.8026430626697526,0.8551481461602891,0.9160726083915803,0.1948611008604485,0.10701810828909286,0.5659538314632473,0.006860980634156744,0.9230463812155936,0.3674568219671307,0.19570344085171865,0.4859113095727293,0.7788449077848387,0.4019894727335077,0.7895054616695254,0.950720477376916,0.7324935991597183,0.8294060719954223,0.6182198093766845,0.3101609180831728,0.8393311468830299,0.541810088608328,0.9808512663420359,0.7004636554110424,0.6112366152144356,0.7291840796906991,0.3664280752889001,0.22748883431446054,0.5760954477062057,0.056814697827563765,0.2644182837393171,0.5254839699381781,0.6053576784527464,0.7582588213806051,0.600899443738797,0.28418780384870856,0.7235975540666422,0.5248556362855886,0.17192615028233327,0.002118427862049077,0.10281536998752638,0.7699441949341121,0.5084122480003067,0.6273821881374195,0.5823393257132602,0.7747669163013711,0.7157246969337302,0.08690490847151733,0.9386285860148799,0.24252824943674178,0.2869278394690582,0.9268408784154505,0.45499666799956184,0.24128442648819093,0.0859334387635351,0.587303931632512,0.05725274216827514,0.02205346107514128,0.17496362033400514,0.8985829347769082,0.2567072722096292,0.035850198583307624,0.2200534368233742,0.9571000858043736,0.9737365908047143,0.3963828806802123,0.6362415350449229,0.15697065950891187,0.036360552886472775,0.982439271041864,0.07103230413276096,0.04406673582766252,0.9977258111089317,0.9375260641083187,0.5165719897735459,0.5328280702622757,0.14681397756233838,0.5506515843640556,0.18482825515656975,0.018811782698625823,0.3565744638001872,0.08815156772705057,0.3442811317469232,0.829660538258542,0.21618861100269104,0.3143410975104918,0.7634603125071553,0.4724020632558451,0.4600717513761058,0.1361911206485652,0.37637493132673405,0.8939930917701026,0.45455119567056856],\"xaxis\":\"x2\",\"y\":[0.6874854690341766,0.5513974765103675,0.45219615905465405,0.3220074688721969,0.49848573503280835,0.8958082016552023,0.5924551606207522,0.019085849506069286,0.16849589082793093,0.03917191500638728,0.9121123388386799,0.23796051949259922,0.7258352658575087,0.34011954084222296,0.9491936521385159,0.15990653103289698,0.9754274244115759,0.3513871614097297,0.7066711673159177,0.6239263416350013,0.7027295187093794,0.799269947258963,0.33849993354535746,0.6301050773543084,0.051192931727014224,0.7224205087266852,0.4610464129486934,0.18313301492030254,0.40054735793284857,0.014412382101959054,0.5456590908441381,0.10855883211332473,0.11586655917905408,0.10568130158337796,0.9818825910553824,0.8617623526104413,0.9415055939261352,0.35812691402662733,0.6234732510966413,0.15305832576902845,0.23400930433298706,0.4388023440377373,0.09120750092250074,0.2590262261903984,0.03974027611508335,0.9284703344580862,0.6080577294722969,0.1012374898742957,0.11618317926899302,0.6088220366799406,0.11991550032916609,0.28278449287021923,0.12753378858961406,0.21490654709576862,0.7204691205883724,0.5518301887870176,0.7226709942872196,0.328001954785583,0.49011610109086257,0.11945543432845651,0.7686714245848407,0.8652286415169714,0.3387705814403654,0.20014342665332918,0.260917778080169,0.9954206073810935,0.27240193790782574,0.27575568228905967,0.30877116216175204,0.579622051446661,0.5461726196682098,0.6872479995752397,0.4276608269347526,0.6431573587078688,0.10326755653659647,0.021542551887952288,0.5826640406415982,0.1961995137374999,0.9301684925096566,0.35239104974070956,0.9269534890286317,0.00967037511330382,0.6469773371700347,0.08189466503482001,0.6470770636312277,0.7186538462033282,0.64798841147515,0.9390131824104669,0.39599019547534,0.4997378936919815,0.3979814103169699,0.43334068025240957,0.18204684784992287,0.9055616278589967,0.4950070469382203,0.2728325871340562,0.3263777289755577,0.9382923709357847,0.9228802624702013,0.2280123275393151],\"yaxis\":\"y2\"},{\"line\":{\"color\":\"rgba(128, 128, 128, 1.0)\",\"dash\":\"solid\",\"shape\":\"linear\",\"width\":1.3},\"marker\":{\"size\":2,\"symbol\":\"circle\"},\"mode\":\"markers\",\"name\":\"A\",\"text\":\"\",\"type\":\"scatter\",\"x\":[0.2727659694171646,0.10013266711232538,0.5448327863460596,0.09727329894900805,0.2197344135623024,0.04214646070583883,0.46821889609474976,0.8025023567493255,0.01573595417142093,0.8039627485723932,0.05351035310071783,0.9000406066334424,0.037098494546418004,0.2629835388810038,0.6565807923926823,0.8123690081745882,0.09871617059775817,0.17238693234887326,0.934884113405032,0.34064314236757254,0.9115421177085139,0.5131761680134694,0.5379622467693852,0.284426545392087,0.8345670148283205,0.8487558681961126,0.5900632249409625,0.714154243306131,0.49242633777860434,0.5336573146516208,0.1453402204294264,0.8163375471348691,0.6811463764736094,0.6245439838334139,0.4894177841709727,0.10532400939912523,0.3618680768124718,0.32272026156317757,0.8433884451270447,0.19000243572657838,0.6539164107900397,0.9521670993114382,0.9987033922593445,0.770424395262453,0.5375133721748498,0.082381733581116,0.7608344269402947,0.008898723946493714,0.0495688379008824,0.12610535479249285,0.762356668150164,0.5806095750100767,0.607013446608908,0.9196984128010408,0.28276562212501666,0.2625431879724742,0.4614249618074985,0.17704613485673404,0.7868397345361017,0.8066783941246661,0.4864485987873186,0.6135022168649812,0.6273290657176195,0.6145518813492507,0.23944297122292757,0.8931918852211221,0.3798528483404081,0.33649416223700135,0.043255334208812224,0.553039130920302,0.3620196403359204,0.5856002401687663,0.6080727470900651,0.6777037301958364,0.4224623950184081,0.5079081085198162,0.43057034579573017,0.6902588282783292,0.411766731657773,0.4410796490087915,0.5088675781055102,0.8729896925135645,0.09661973445640559,0.7642709600505615,0.2637435603231273,0.5831670398586298,0.0639600760652358,0.6666363233039206,0.2797930223401284,0.00906139330142075,0.3949603726304901,0.33339740804984064,0.05697582815757041,0.7295051035746041,0.4978557217912828,0.8432200315712669,0.3665848164074931,0.19071377651795673,0.3134459169813113,0.8906068235198399],\"xaxis\":\"x3\",\"y\":[0.6874854690341766,0.5513974765103675,0.45219615905465405,0.3220074688721969,0.49848573503280835,0.8958082016552023,0.5924551606207522,0.019085849506069286,0.16849589082793093,0.03917191500638728,0.9121123388386799,0.23796051949259922,0.7258352658575087,0.34011954084222296,0.9491936521385159,0.15990653103289698,0.9754274244115759,0.3513871614097297,0.7066711673159177,0.6239263416350013,0.7027295187093794,0.799269947258963,0.33849993354535746,0.6301050773543084,0.051192931727014224,0.7224205087266852,0.4610464129486934,0.18313301492030254,0.40054735793284857,0.014412382101959054,0.5456590908441381,0.10855883211332473,0.11586655917905408,0.10568130158337796,0.9818825910553824,0.8617623526104413,0.9415055939261352,0.35812691402662733,0.6234732510966413,0.15305832576902845,0.23400930433298706,0.4388023440377373,0.09120750092250074,0.2590262261903984,0.03974027611508335,0.9284703344580862,0.6080577294722969,0.1012374898742957,0.11618317926899302,0.6088220366799406,0.11991550032916609,0.28278449287021923,0.12753378858961406,0.21490654709576862,0.7204691205883724,0.5518301887870176,0.7226709942872196,0.328001954785583,0.49011610109086257,0.11945543432845651,0.7686714245848407,0.8652286415169714,0.3387705814403654,0.20014342665332918,0.260917778080169,0.9954206073810935,0.27240193790782574,0.27575568228905967,0.30877116216175204,0.579622051446661,0.5461726196682098,0.6872479995752397,0.4276608269347526,0.6431573587078688,0.10326755653659647,0.021542551887952288,0.5826640406415982,0.1961995137374999,0.9301684925096566,0.35239104974070956,0.9269534890286317,0.00967037511330382,0.6469773371700347,0.08189466503482001,0.6470770636312277,0.7186538462033282,0.64798841147515,0.9390131824104669,0.39599019547534,0.4997378936919815,0.3979814103169699,0.43334068025240957,0.18204684784992287,0.9055616278589967,0.4950070469382203,0.2728325871340562,0.3263777289755577,0.9382923709357847,0.9228802624702013,0.2280123275393151],\"yaxis\":\"y3\"},{\"line\":{\"color\":\"rgba(128, 128, 128, 1.0)\",\"dash\":\"solid\",\"shape\":\"linear\",\"width\":1.3},\"marker\":{\"size\":2,\"symbol\":\"circle\"},\"mode\":\"markers\",\"name\":\"A\",\"text\":\"\",\"type\":\"scatter\",\"x\":[0.531294116296426,0.19701194010803857,0.36434386467679614,0.7458001203276531,0.17347779351050963,0.5472650332783991,0.20544178533742818,0.6562607253878838,0.26853162694740906,0.4881979053580182,0.5005925234679313,0.11531827042724174,0.07724001706144845,0.8772379707414086,0.32891027646901105,0.5437696224417293,0.6087019800021553,0.1017477381914369,0.7597565219358867,0.7075870895329108,0.7824508389972364,0.42490351579904595,0.44614267994536105,0.7371651939483885,0.10515654964232335,0.3721918184923646,0.4000347031993342,0.4811459355861514,0.28527624524152306,0.6108657981650865,0.11789606615592574,0.0277722663248563,0.8769255225809013,0.7115275938327793,0.11637247371244663,0.6664260205940643,0.26428574246004877,0.1546039499227917,0.7866297050243156,0.2640539371816679,0.017563027647325202,0.4072262393364442,0.14003560411484361,0.9173998380286212,0.5597047231192082,0.41036967448991135,0.9541359098140745,0.9902816120106191,0.1415037621225823,0.6603396390178276,0.6579803055591977,0.28293678148689194,0.7100677203501573,0.7792898210151603,0.8199346757081758,0.9942471970436231,0.34197956696915943,0.21538847491699653,0.24341009312576722,0.5295471707344911,0.5626079307554687,0.5791795721212617,0.4887896598370344,0.10556584705722183,0.05244441702583369,0.056921755072777636,0.34312237867599027,0.13814114956923884,0.27090922114601856,0.058817672507912366,0.7761114588567718,0.13401279581048786,0.6414201109781611,0.048337886591371726,0.4024651244047073,0.6151419104465695,0.6038409436244889,0.007146886921568063,0.1909741808633073,0.7552171870061412,0.37798713573425746,0.5033973090492699,0.5584382428813486,0.90021115687748,0.6036546937785389,0.14620869127019653,0.9077622637907194,0.36983232215393747,0.1766061217443502,0.42006766155659614,0.9945948240552664,0.351962390526806,0.8273353540020281,0.4065405784702987,0.48489755686655456,0.544047922177115,0.9107186822299095,0.7707004394369558,0.12804846560045036,0.048428768381344134],\"xaxis\":\"x4\",\"y\":[0.6874854690341766,0.5513974765103675,0.45219615905465405,0.3220074688721969,0.49848573503280835,0.8958082016552023,0.5924551606207522,0.019085849506069286,0.16849589082793093,0.03917191500638728,0.9121123388386799,0.23796051949259922,0.7258352658575087,0.34011954084222296,0.9491936521385159,0.15990653103289698,0.9754274244115759,0.3513871614097297,0.7066711673159177,0.6239263416350013,0.7027295187093794,0.799269947258963,0.33849993354535746,0.6301050773543084,0.051192931727014224,0.7224205087266852,0.4610464129486934,0.18313301492030254,0.40054735793284857,0.014412382101959054,0.5456590908441381,0.10855883211332473,0.11586655917905408,0.10568130158337796,0.9818825910553824,0.8617623526104413,0.9415055939261352,0.35812691402662733,0.6234732510966413,0.15305832576902845,0.23400930433298706,0.4388023440377373,0.09120750092250074,0.2590262261903984,0.03974027611508335,0.9284703344580862,0.6080577294722969,0.1012374898742957,0.11618317926899302,0.6088220366799406,0.11991550032916609,0.28278449287021923,0.12753378858961406,0.21490654709576862,0.7204691205883724,0.5518301887870176,0.7226709942872196,0.328001954785583,0.49011610109086257,0.11945543432845651,0.7686714245848407,0.8652286415169714,0.3387705814403654,0.20014342665332918,0.260917778080169,0.9954206073810935,0.27240193790782574,0.27575568228905967,0.30877116216175204,0.579622051446661,0.5461726196682098,0.6872479995752397,0.4276608269347526,0.6431573587078688,0.10326755653659647,0.021542551887952288,0.5826640406415982,0.1961995137374999,0.9301684925096566,0.35239104974070956,0.9269534890286317,0.00967037511330382,0.6469773371700347,0.08189466503482001,0.6470770636312277,0.7186538462033282,0.64798841147515,0.9390131824104669,0.39599019547534,0.4997378936919815,0.3979814103169699,0.43334068025240957,0.18204684784992287,0.9055616278589967,0.4950070469382203,0.2728325871340562,0.3263777289755577,0.9382923709357847,0.9228802624702013,0.2280123275393151],\"yaxis\":\"y4\"},{\"line\":{\"color\":\"rgba(128, 128, 128, 1.0)\",\"dash\":\"solid\",\"shape\":\"linear\",\"width\":1.3},\"marker\":{\"size\":2,\"symbol\":\"circle\"},\"mode\":\"markers\",\"name\":\"B\",\"text\":\"\",\"type\":\"scatter\",\"x\":[0.6874854690341766,0.5513974765103675,0.45219615905465405,0.3220074688721969,0.49848573503280835,0.8958082016552023,0.5924551606207522,0.019085849506069286,0.16849589082793093,0.03917191500638728,0.9121123388386799,0.23796051949259922,0.7258352658575087,0.34011954084222296,0.9491936521385159,0.15990653103289698,0.9754274244115759,0.3513871614097297,0.7066711673159177,0.6239263416350013,0.7027295187093794,0.799269947258963,0.33849993354535746,0.6301050773543084,0.051192931727014224,0.7224205087266852,0.4610464129486934,0.18313301492030254,0.40054735793284857,0.014412382101959054,0.5456590908441381,0.10855883211332473,0.11586655917905408,0.10568130158337796,0.9818825910553824,0.8617623526104413,0.9415055939261352,0.35812691402662733,0.6234732510966413,0.15305832576902845,0.23400930433298706,0.4388023440377373,0.09120750092250074,0.2590262261903984,0.03974027611508335,0.9284703344580862,0.6080577294722969,0.1012374898742957,0.11618317926899302,0.6088220366799406,0.11991550032916609,0.28278449287021923,0.12753378858961406,0.21490654709576862,0.7204691205883724,0.5518301887870176,0.7226709942872196,0.328001954785583,0.49011610109086257,0.11945543432845651,0.7686714245848407,0.8652286415169714,0.3387705814403654,0.20014342665332918,0.260917778080169,0.9954206073810935,0.27240193790782574,0.27575568228905967,0.30877116216175204,0.579622051446661,0.5461726196682098,0.6872479995752397,0.4276608269347526,0.6431573587078688,0.10326755653659647,0.021542551887952288,0.5826640406415982,0.1961995137374999,0.9301684925096566,0.35239104974070956,0.9269534890286317,0.00967037511330382,0.6469773371700347,0.08189466503482001,0.6470770636312277,0.7186538462033282,0.64798841147515,0.9390131824104669,0.39599019547534,0.4997378936919815,0.3979814103169699,0.43334068025240957,0.18204684784992287,0.9055616278589967,0.4950070469382203,0.2728325871340562,0.3263777289755577,0.9382923709357847,0.9228802624702013,0.2280123275393151],\"xaxis\":\"x5\",\"y\":[0.8843255679714199,0.4753451338820551,0.5564770416397901,0.4181370124941951,0.8082568964572047,0.0041675524322632995,0.7357309494209592,0.12236491926338045,0.8026430626697526,0.8551481461602891,0.9160726083915803,0.1948611008604485,0.10701810828909286,0.5659538314632473,0.006860980634156744,0.9230463812155936,0.3674568219671307,0.19570344085171865,0.4859113095727293,0.7788449077848387,0.4019894727335077,0.7895054616695254,0.950720477376916,0.7324935991597183,0.8294060719954223,0.6182198093766845,0.3101609180831728,0.8393311468830299,0.541810088608328,0.9808512663420359,0.7004636554110424,0.6112366152144356,0.7291840796906991,0.3664280752889001,0.22748883431446054,0.5760954477062057,0.056814697827563765,0.2644182837393171,0.5254839699381781,0.6053576784527464,0.7582588213806051,0.600899443738797,0.28418780384870856,0.7235975540666422,0.5248556362855886,0.17192615028233327,0.002118427862049077,0.10281536998752638,0.7699441949341121,0.5084122480003067,0.6273821881374195,0.5823393257132602,0.7747669163013711,0.7157246969337302,0.08690490847151733,0.9386285860148799,0.24252824943674178,0.2869278394690582,0.9268408784154505,0.45499666799956184,0.24128442648819093,0.0859334387635351,0.587303931632512,0.05725274216827514,0.02205346107514128,0.17496362033400514,0.8985829347769082,0.2567072722096292,0.035850198583307624,0.2200534368233742,0.9571000858043736,0.9737365908047143,0.3963828806802123,0.6362415350449229,0.15697065950891187,0.036360552886472775,0.982439271041864,0.07103230413276096,0.04406673582766252,0.9977258111089317,0.9375260641083187,0.5165719897735459,0.5328280702622757,0.14681397756233838,0.5506515843640556,0.18482825515656975,0.018811782698625823,0.3565744638001872,0.08815156772705057,0.3442811317469232,0.829660538258542,0.21618861100269104,0.3143410975104918,0.7634603125071553,0.4724020632558451,0.4600717513761058,0.1361911206485652,0.37637493132673405,0.8939930917701026,0.45455119567056856],\"yaxis\":\"y5\"},{\"histfunc\":\"count\",\"histnorm\":\"\",\"marker\":{\"color\":\"rgba(55, 128, 191, 1.0)\",\"line\":{\"color\":\"#4D5663\",\"width\":1.3}},\"name\":\"B\",\"nbinsx\":10,\"opacity\":0.8,\"orientation\":\"v\",\"type\":\"histogram\",\"x\":[0.8843255679714199,0.4753451338820551,0.5564770416397901,0.4181370124941951,0.8082568964572047,0.0041675524322632995,0.7357309494209592,0.12236491926338045,0.8026430626697526,0.8551481461602891,0.9160726083915803,0.1948611008604485,0.10701810828909286,0.5659538314632473,0.006860980634156744,0.9230463812155936,0.3674568219671307,0.19570344085171865,0.4859113095727293,0.7788449077848387,0.4019894727335077,0.7895054616695254,0.950720477376916,0.7324935991597183,0.8294060719954223,0.6182198093766845,0.3101609180831728,0.8393311468830299,0.541810088608328,0.9808512663420359,0.7004636554110424,0.6112366152144356,0.7291840796906991,0.3664280752889001,0.22748883431446054,0.5760954477062057,0.056814697827563765,0.2644182837393171,0.5254839699381781,0.6053576784527464,0.7582588213806051,0.600899443738797,0.28418780384870856,0.7235975540666422,0.5248556362855886,0.17192615028233327,0.002118427862049077,0.10281536998752638,0.7699441949341121,0.5084122480003067,0.6273821881374195,0.5823393257132602,0.7747669163013711,0.7157246969337302,0.08690490847151733,0.9386285860148799,0.24252824943674178,0.2869278394690582,0.9268408784154505,0.45499666799956184,0.24128442648819093,0.0859334387635351,0.587303931632512,0.05725274216827514,0.02205346107514128,0.17496362033400514,0.8985829347769082,0.2567072722096292,0.035850198583307624,0.2200534368233742,0.9571000858043736,0.9737365908047143,0.3963828806802123,0.6362415350449229,0.15697065950891187,0.036360552886472775,0.982439271041864,0.07103230413276096,0.04406673582766252,0.9977258111089317,0.9375260641083187,0.5165719897735459,0.5328280702622757,0.14681397756233838,0.5506515843640556,0.18482825515656975,0.018811782698625823,0.3565744638001872,0.08815156772705057,0.3442811317469232,0.829660538258542,0.21618861100269104,0.3143410975104918,0.7634603125071553,0.4724020632558451,0.4600717513761058,0.1361911206485652,0.37637493132673405,0.8939930917701026,0.45455119567056856],\"xaxis\":\"x6\",\"yaxis\":\"y6\"},{\"line\":{\"color\":\"rgba(128, 128, 128, 1.0)\",\"dash\":\"solid\",\"shape\":\"linear\",\"width\":1.3},\"marker\":{\"size\":2,\"symbol\":\"circle\"},\"mode\":\"markers\",\"name\":\"B\",\"text\":\"\",\"type\":\"scatter\",\"x\":[0.2727659694171646,0.10013266711232538,0.5448327863460596,0.09727329894900805,0.2197344135623024,0.04214646070583883,0.46821889609474976,0.8025023567493255,0.01573595417142093,0.8039627485723932,0.05351035310071783,0.9000406066334424,0.037098494546418004,0.2629835388810038,0.6565807923926823,0.8123690081745882,0.09871617059775817,0.17238693234887326,0.934884113405032,0.34064314236757254,0.9115421177085139,0.5131761680134694,0.5379622467693852,0.284426545392087,0.8345670148283205,0.8487558681961126,0.5900632249409625,0.714154243306131,0.49242633777860434,0.5336573146516208,0.1453402204294264,0.8163375471348691,0.6811463764736094,0.6245439838334139,0.4894177841709727,0.10532400939912523,0.3618680768124718,0.32272026156317757,0.8433884451270447,0.19000243572657838,0.6539164107900397,0.9521670993114382,0.9987033922593445,0.770424395262453,0.5375133721748498,0.082381733581116,0.7608344269402947,0.008898723946493714,0.0495688379008824,0.12610535479249285,0.762356668150164,0.5806095750100767,0.607013446608908,0.9196984128010408,0.28276562212501666,0.2625431879724742,0.4614249618074985,0.17704613485673404,0.7868397345361017,0.8066783941246661,0.4864485987873186,0.6135022168649812,0.6273290657176195,0.6145518813492507,0.23944297122292757,0.8931918852211221,0.3798528483404081,0.33649416223700135,0.043255334208812224,0.553039130920302,0.3620196403359204,0.5856002401687663,0.6080727470900651,0.6777037301958364,0.4224623950184081,0.5079081085198162,0.43057034579573017,0.6902588282783292,0.411766731657773,0.4410796490087915,0.5088675781055102,0.8729896925135645,0.09661973445640559,0.7642709600505615,0.2637435603231273,0.5831670398586298,0.0639600760652358,0.6666363233039206,0.2797930223401284,0.00906139330142075,0.3949603726304901,0.33339740804984064,0.05697582815757041,0.7295051035746041,0.4978557217912828,0.8432200315712669,0.3665848164074931,0.19071377651795673,0.3134459169813113,0.8906068235198399],\"xaxis\":\"x7\",\"y\":[0.8843255679714199,0.4753451338820551,0.5564770416397901,0.4181370124941951,0.8082568964572047,0.0041675524322632995,0.7357309494209592,0.12236491926338045,0.8026430626697526,0.8551481461602891,0.9160726083915803,0.1948611008604485,0.10701810828909286,0.5659538314632473,0.006860980634156744,0.9230463812155936,0.3674568219671307,0.19570344085171865,0.4859113095727293,0.7788449077848387,0.4019894727335077,0.7895054616695254,0.950720477376916,0.7324935991597183,0.8294060719954223,0.6182198093766845,0.3101609180831728,0.8393311468830299,0.541810088608328,0.9808512663420359,0.7004636554110424,0.6112366152144356,0.7291840796906991,0.3664280752889001,0.22748883431446054,0.5760954477062057,0.056814697827563765,0.2644182837393171,0.5254839699381781,0.6053576784527464,0.7582588213806051,0.600899443738797,0.28418780384870856,0.7235975540666422,0.5248556362855886,0.17192615028233327,0.002118427862049077,0.10281536998752638,0.7699441949341121,0.5084122480003067,0.6273821881374195,0.5823393257132602,0.7747669163013711,0.7157246969337302,0.08690490847151733,0.9386285860148799,0.24252824943674178,0.2869278394690582,0.9268408784154505,0.45499666799956184,0.24128442648819093,0.0859334387635351,0.587303931632512,0.05725274216827514,0.02205346107514128,0.17496362033400514,0.8985829347769082,0.2567072722096292,0.035850198583307624,0.2200534368233742,0.9571000858043736,0.9737365908047143,0.3963828806802123,0.6362415350449229,0.15697065950891187,0.036360552886472775,0.982439271041864,0.07103230413276096,0.04406673582766252,0.9977258111089317,0.9375260641083187,0.5165719897735459,0.5328280702622757,0.14681397756233838,0.5506515843640556,0.18482825515656975,0.018811782698625823,0.3565744638001872,0.08815156772705057,0.3442811317469232,0.829660538258542,0.21618861100269104,0.3143410975104918,0.7634603125071553,0.4724020632558451,0.4600717513761058,0.1361911206485652,0.37637493132673405,0.8939930917701026,0.45455119567056856],\"yaxis\":\"y7\"},{\"line\":{\"color\":\"rgba(128, 128, 128, 1.0)\",\"dash\":\"solid\",\"shape\":\"linear\",\"width\":1.3},\"marker\":{\"size\":2,\"symbol\":\"circle\"},\"mode\":\"markers\",\"name\":\"B\",\"text\":\"\",\"type\":\"scatter\",\"x\":[0.531294116296426,0.19701194010803857,0.36434386467679614,0.7458001203276531,0.17347779351050963,0.5472650332783991,0.20544178533742818,0.6562607253878838,0.26853162694740906,0.4881979053580182,0.5005925234679313,0.11531827042724174,0.07724001706144845,0.8772379707414086,0.32891027646901105,0.5437696224417293,0.6087019800021553,0.1017477381914369,0.7597565219358867,0.7075870895329108,0.7824508389972364,0.42490351579904595,0.44614267994536105,0.7371651939483885,0.10515654964232335,0.3721918184923646,0.4000347031993342,0.4811459355861514,0.28527624524152306,0.6108657981650865,0.11789606615592574,0.0277722663248563,0.8769255225809013,0.7115275938327793,0.11637247371244663,0.6664260205940643,0.26428574246004877,0.1546039499227917,0.7866297050243156,0.2640539371816679,0.017563027647325202,0.4072262393364442,0.14003560411484361,0.9173998380286212,0.5597047231192082,0.41036967448991135,0.9541359098140745,0.9902816120106191,0.1415037621225823,0.6603396390178276,0.6579803055591977,0.28293678148689194,0.7100677203501573,0.7792898210151603,0.8199346757081758,0.9942471970436231,0.34197956696915943,0.21538847491699653,0.24341009312576722,0.5295471707344911,0.5626079307554687,0.5791795721212617,0.4887896598370344,0.10556584705722183,0.05244441702583369,0.056921755072777636,0.34312237867599027,0.13814114956923884,0.27090922114601856,0.058817672507912366,0.7761114588567718,0.13401279581048786,0.6414201109781611,0.048337886591371726,0.4024651244047073,0.6151419104465695,0.6038409436244889,0.007146886921568063,0.1909741808633073,0.7552171870061412,0.37798713573425746,0.5033973090492699,0.5584382428813486,0.90021115687748,0.6036546937785389,0.14620869127019653,0.9077622637907194,0.36983232215393747,0.1766061217443502,0.42006766155659614,0.9945948240552664,0.351962390526806,0.8273353540020281,0.4065405784702987,0.48489755686655456,0.544047922177115,0.9107186822299095,0.7707004394369558,0.12804846560045036,0.048428768381344134],\"xaxis\":\"x8\",\"y\":[0.8843255679714199,0.4753451338820551,0.5564770416397901,0.4181370124941951,0.8082568964572047,0.0041675524322632995,0.7357309494209592,0.12236491926338045,0.8026430626697526,0.8551481461602891,0.9160726083915803,0.1948611008604485,0.10701810828909286,0.5659538314632473,0.006860980634156744,0.9230463812155936,0.3674568219671307,0.19570344085171865,0.4859113095727293,0.7788449077848387,0.4019894727335077,0.7895054616695254,0.950720477376916,0.7324935991597183,0.8294060719954223,0.6182198093766845,0.3101609180831728,0.8393311468830299,0.541810088608328,0.9808512663420359,0.7004636554110424,0.6112366152144356,0.7291840796906991,0.3664280752889001,0.22748883431446054,0.5760954477062057,0.056814697827563765,0.2644182837393171,0.5254839699381781,0.6053576784527464,0.7582588213806051,0.600899443738797,0.28418780384870856,0.7235975540666422,0.5248556362855886,0.17192615028233327,0.002118427862049077,0.10281536998752638,0.7699441949341121,0.5084122480003067,0.6273821881374195,0.5823393257132602,0.7747669163013711,0.7157246969337302,0.08690490847151733,0.9386285860148799,0.24252824943674178,0.2869278394690582,0.9268408784154505,0.45499666799956184,0.24128442648819093,0.0859334387635351,0.587303931632512,0.05725274216827514,0.02205346107514128,0.17496362033400514,0.8985829347769082,0.2567072722096292,0.035850198583307624,0.2200534368233742,0.9571000858043736,0.9737365908047143,0.3963828806802123,0.6362415350449229,0.15697065950891187,0.036360552886472775,0.982439271041864,0.07103230413276096,0.04406673582766252,0.9977258111089317,0.9375260641083187,0.5165719897735459,0.5328280702622757,0.14681397756233838,0.5506515843640556,0.18482825515656975,0.018811782698625823,0.3565744638001872,0.08815156772705057,0.3442811317469232,0.829660538258542,0.21618861100269104,0.3143410975104918,0.7634603125071553,0.4724020632558451,0.4600717513761058,0.1361911206485652,0.37637493132673405,0.8939930917701026,0.45455119567056856],\"yaxis\":\"y8\"},{\"line\":{\"color\":\"rgba(128, 128, 128, 1.0)\",\"dash\":\"solid\",\"shape\":\"linear\",\"width\":1.3},\"marker\":{\"size\":2,\"symbol\":\"circle\"},\"mode\":\"markers\",\"name\":\"C\",\"text\":\"\",\"type\":\"scatter\",\"x\":[0.6874854690341766,0.5513974765103675,0.45219615905465405,0.3220074688721969,0.49848573503280835,0.8958082016552023,0.5924551606207522,0.019085849506069286,0.16849589082793093,0.03917191500638728,0.9121123388386799,0.23796051949259922,0.7258352658575087,0.34011954084222296,0.9491936521385159,0.15990653103289698,0.9754274244115759,0.3513871614097297,0.7066711673159177,0.6239263416350013,0.7027295187093794,0.799269947258963,0.33849993354535746,0.6301050773543084,0.051192931727014224,0.7224205087266852,0.4610464129486934,0.18313301492030254,0.40054735793284857,0.014412382101959054,0.5456590908441381,0.10855883211332473,0.11586655917905408,0.10568130158337796,0.9818825910553824,0.8617623526104413,0.9415055939261352,0.35812691402662733,0.6234732510966413,0.15305832576902845,0.23400930433298706,0.4388023440377373,0.09120750092250074,0.2590262261903984,0.03974027611508335,0.9284703344580862,0.6080577294722969,0.1012374898742957,0.11618317926899302,0.6088220366799406,0.11991550032916609,0.28278449287021923,0.12753378858961406,0.21490654709576862,0.7204691205883724,0.5518301887870176,0.7226709942872196,0.328001954785583,0.49011610109086257,0.11945543432845651,0.7686714245848407,0.8652286415169714,0.3387705814403654,0.20014342665332918,0.260917778080169,0.9954206073810935,0.27240193790782574,0.27575568228905967,0.30877116216175204,0.579622051446661,0.5461726196682098,0.6872479995752397,0.4276608269347526,0.6431573587078688,0.10326755653659647,0.021542551887952288,0.5826640406415982,0.1961995137374999,0.9301684925096566,0.35239104974070956,0.9269534890286317,0.00967037511330382,0.6469773371700347,0.08189466503482001,0.6470770636312277,0.7186538462033282,0.64798841147515,0.9390131824104669,0.39599019547534,0.4997378936919815,0.3979814103169699,0.43334068025240957,0.18204684784992287,0.9055616278589967,0.4950070469382203,0.2728325871340562,0.3263777289755577,0.9382923709357847,0.9228802624702013,0.2280123275393151],\"xaxis\":\"x9\",\"y\":[0.2727659694171646,0.10013266711232538,0.5448327863460596,0.09727329894900805,0.2197344135623024,0.04214646070583883,0.46821889609474976,0.8025023567493255,0.01573595417142093,0.8039627485723932,0.05351035310071783,0.9000406066334424,0.037098494546418004,0.2629835388810038,0.6565807923926823,0.8123690081745882,0.09871617059775817,0.17238693234887326,0.934884113405032,0.34064314236757254,0.9115421177085139,0.5131761680134694,0.5379622467693852,0.284426545392087,0.8345670148283205,0.8487558681961126,0.5900632249409625,0.714154243306131,0.49242633777860434,0.5336573146516208,0.1453402204294264,0.8163375471348691,0.6811463764736094,0.6245439838334139,0.4894177841709727,0.10532400939912523,0.3618680768124718,0.32272026156317757,0.8433884451270447,0.19000243572657838,0.6539164107900397,0.9521670993114382,0.9987033922593445,0.770424395262453,0.5375133721748498,0.082381733581116,0.7608344269402947,0.008898723946493714,0.0495688379008824,0.12610535479249285,0.762356668150164,0.5806095750100767,0.607013446608908,0.9196984128010408,0.28276562212501666,0.2625431879724742,0.4614249618074985,0.17704613485673404,0.7868397345361017,0.8066783941246661,0.4864485987873186,0.6135022168649812,0.6273290657176195,0.6145518813492507,0.23944297122292757,0.8931918852211221,0.3798528483404081,0.33649416223700135,0.043255334208812224,0.553039130920302,0.3620196403359204,0.5856002401687663,0.6080727470900651,0.6777037301958364,0.4224623950184081,0.5079081085198162,0.43057034579573017,0.6902588282783292,0.411766731657773,0.4410796490087915,0.5088675781055102,0.8729896925135645,0.09661973445640559,0.7642709600505615,0.2637435603231273,0.5831670398586298,0.0639600760652358,0.6666363233039206,0.2797930223401284,0.00906139330142075,0.3949603726304901,0.33339740804984064,0.05697582815757041,0.7295051035746041,0.4978557217912828,0.8432200315712669,0.3665848164074931,0.19071377651795673,0.3134459169813113,0.8906068235198399],\"yaxis\":\"y9\"},{\"line\":{\"color\":\"rgba(128, 128, 128, 1.0)\",\"dash\":\"solid\",\"shape\":\"linear\",\"width\":1.3},\"marker\":{\"size\":2,\"symbol\":\"circle\"},\"mode\":\"markers\",\"name\":\"C\",\"text\":\"\",\"type\":\"scatter\",\"x\":[0.8843255679714199,0.4753451338820551,0.5564770416397901,0.4181370124941951,0.8082568964572047,0.0041675524322632995,0.7357309494209592,0.12236491926338045,0.8026430626697526,0.8551481461602891,0.9160726083915803,0.1948611008604485,0.10701810828909286,0.5659538314632473,0.006860980634156744,0.9230463812155936,0.3674568219671307,0.19570344085171865,0.4859113095727293,0.7788449077848387,0.4019894727335077,0.7895054616695254,0.950720477376916,0.7324935991597183,0.8294060719954223,0.6182198093766845,0.3101609180831728,0.8393311468830299,0.541810088608328,0.9808512663420359,0.7004636554110424,0.6112366152144356,0.7291840796906991,0.3664280752889001,0.22748883431446054,0.5760954477062057,0.056814697827563765,0.2644182837393171,0.5254839699381781,0.6053576784527464,0.7582588213806051,0.600899443738797,0.28418780384870856,0.7235975540666422,0.5248556362855886,0.17192615028233327,0.002118427862049077,0.10281536998752638,0.7699441949341121,0.5084122480003067,0.6273821881374195,0.5823393257132602,0.7747669163013711,0.7157246969337302,0.08690490847151733,0.9386285860148799,0.24252824943674178,0.2869278394690582,0.9268408784154505,0.45499666799956184,0.24128442648819093,0.0859334387635351,0.587303931632512,0.05725274216827514,0.02205346107514128,0.17496362033400514,0.8985829347769082,0.2567072722096292,0.035850198583307624,0.2200534368233742,0.9571000858043736,0.9737365908047143,0.3963828806802123,0.6362415350449229,0.15697065950891187,0.036360552886472775,0.982439271041864,0.07103230413276096,0.04406673582766252,0.9977258111089317,0.9375260641083187,0.5165719897735459,0.5328280702622757,0.14681397756233838,0.5506515843640556,0.18482825515656975,0.018811782698625823,0.3565744638001872,0.08815156772705057,0.3442811317469232,0.829660538258542,0.21618861100269104,0.3143410975104918,0.7634603125071553,0.4724020632558451,0.4600717513761058,0.1361911206485652,0.37637493132673405,0.8939930917701026,0.45455119567056856],\"xaxis\":\"x10\",\"y\":[0.2727659694171646,0.10013266711232538,0.5448327863460596,0.09727329894900805,0.2197344135623024,0.04214646070583883,0.46821889609474976,0.8025023567493255,0.01573595417142093,0.8039627485723932,0.05351035310071783,0.9000406066334424,0.037098494546418004,0.2629835388810038,0.6565807923926823,0.8123690081745882,0.09871617059775817,0.17238693234887326,0.934884113405032,0.34064314236757254,0.9115421177085139,0.5131761680134694,0.5379622467693852,0.284426545392087,0.8345670148283205,0.8487558681961126,0.5900632249409625,0.714154243306131,0.49242633777860434,0.5336573146516208,0.1453402204294264,0.8163375471348691,0.6811463764736094,0.6245439838334139,0.4894177841709727,0.10532400939912523,0.3618680768124718,0.32272026156317757,0.8433884451270447,0.19000243572657838,0.6539164107900397,0.9521670993114382,0.9987033922593445,0.770424395262453,0.5375133721748498,0.082381733581116,0.7608344269402947,0.008898723946493714,0.0495688379008824,0.12610535479249285,0.762356668150164,0.5806095750100767,0.607013446608908,0.9196984128010408,0.28276562212501666,0.2625431879724742,0.4614249618074985,0.17704613485673404,0.7868397345361017,0.8066783941246661,0.4864485987873186,0.6135022168649812,0.6273290657176195,0.6145518813492507,0.23944297122292757,0.8931918852211221,0.3798528483404081,0.33649416223700135,0.043255334208812224,0.553039130920302,0.3620196403359204,0.5856002401687663,0.6080727470900651,0.6777037301958364,0.4224623950184081,0.5079081085198162,0.43057034579573017,0.6902588282783292,0.411766731657773,0.4410796490087915,0.5088675781055102,0.8729896925135645,0.09661973445640559,0.7642709600505615,0.2637435603231273,0.5831670398586298,0.0639600760652358,0.6666363233039206,0.2797930223401284,0.00906139330142075,0.3949603726304901,0.33339740804984064,0.05697582815757041,0.7295051035746041,0.4978557217912828,0.8432200315712669,0.3665848164074931,0.19071377651795673,0.3134459169813113,0.8906068235198399],\"yaxis\":\"y10\"},{\"histfunc\":\"count\",\"histnorm\":\"\",\"marker\":{\"color\":\"rgba(50, 171, 96, 1.0)\",\"line\":{\"color\":\"#4D5663\",\"width\":1.3}},\"name\":\"C\",\"nbinsx\":10,\"opacity\":0.8,\"orientation\":\"v\",\"type\":\"histogram\",\"x\":[0.2727659694171646,0.10013266711232538,0.5448327863460596,0.09727329894900805,0.2197344135623024,0.04214646070583883,0.46821889609474976,0.8025023567493255,0.01573595417142093,0.8039627485723932,0.05351035310071783,0.9000406066334424,0.037098494546418004,0.2629835388810038,0.6565807923926823,0.8123690081745882,0.09871617059775817,0.17238693234887326,0.934884113405032,0.34064314236757254,0.9115421177085139,0.5131761680134694,0.5379622467693852,0.284426545392087,0.8345670148283205,0.8487558681961126,0.5900632249409625,0.714154243306131,0.49242633777860434,0.5336573146516208,0.1453402204294264,0.8163375471348691,0.6811463764736094,0.6245439838334139,0.4894177841709727,0.10532400939912523,0.3618680768124718,0.32272026156317757,0.8433884451270447,0.19000243572657838,0.6539164107900397,0.9521670993114382,0.9987033922593445,0.770424395262453,0.5375133721748498,0.082381733581116,0.7608344269402947,0.008898723946493714,0.0495688379008824,0.12610535479249285,0.762356668150164,0.5806095750100767,0.607013446608908,0.9196984128010408,0.28276562212501666,0.2625431879724742,0.4614249618074985,0.17704613485673404,0.7868397345361017,0.8066783941246661,0.4864485987873186,0.6135022168649812,0.6273290657176195,0.6145518813492507,0.23944297122292757,0.8931918852211221,0.3798528483404081,0.33649416223700135,0.043255334208812224,0.553039130920302,0.3620196403359204,0.5856002401687663,0.6080727470900651,0.6777037301958364,0.4224623950184081,0.5079081085198162,0.43057034579573017,0.6902588282783292,0.411766731657773,0.4410796490087915,0.5088675781055102,0.8729896925135645,0.09661973445640559,0.7642709600505615,0.2637435603231273,0.5831670398586298,0.0639600760652358,0.6666363233039206,0.2797930223401284,0.00906139330142075,0.3949603726304901,0.33339740804984064,0.05697582815757041,0.7295051035746041,0.4978557217912828,0.8432200315712669,0.3665848164074931,0.19071377651795673,0.3134459169813113,0.8906068235198399],\"xaxis\":\"x11\",\"yaxis\":\"y11\"},{\"line\":{\"color\":\"rgba(128, 128, 128, 1.0)\",\"dash\":\"solid\",\"shape\":\"linear\",\"width\":1.3},\"marker\":{\"size\":2,\"symbol\":\"circle\"},\"mode\":\"markers\",\"name\":\"C\",\"text\":\"\",\"type\":\"scatter\",\"x\":[0.531294116296426,0.19701194010803857,0.36434386467679614,0.7458001203276531,0.17347779351050963,0.5472650332783991,0.20544178533742818,0.6562607253878838,0.26853162694740906,0.4881979053580182,0.5005925234679313,0.11531827042724174,0.07724001706144845,0.8772379707414086,0.32891027646901105,0.5437696224417293,0.6087019800021553,0.1017477381914369,0.7597565219358867,0.7075870895329108,0.7824508389972364,0.42490351579904595,0.44614267994536105,0.7371651939483885,0.10515654964232335,0.3721918184923646,0.4000347031993342,0.4811459355861514,0.28527624524152306,0.6108657981650865,0.11789606615592574,0.0277722663248563,0.8769255225809013,0.7115275938327793,0.11637247371244663,0.6664260205940643,0.26428574246004877,0.1546039499227917,0.7866297050243156,0.2640539371816679,0.017563027647325202,0.4072262393364442,0.14003560411484361,0.9173998380286212,0.5597047231192082,0.41036967448991135,0.9541359098140745,0.9902816120106191,0.1415037621225823,0.6603396390178276,0.6579803055591977,0.28293678148689194,0.7100677203501573,0.7792898210151603,0.8199346757081758,0.9942471970436231,0.34197956696915943,0.21538847491699653,0.24341009312576722,0.5295471707344911,0.5626079307554687,0.5791795721212617,0.4887896598370344,0.10556584705722183,0.05244441702583369,0.056921755072777636,0.34312237867599027,0.13814114956923884,0.27090922114601856,0.058817672507912366,0.7761114588567718,0.13401279581048786,0.6414201109781611,0.048337886591371726,0.4024651244047073,0.6151419104465695,0.6038409436244889,0.007146886921568063,0.1909741808633073,0.7552171870061412,0.37798713573425746,0.5033973090492699,0.5584382428813486,0.90021115687748,0.6036546937785389,0.14620869127019653,0.9077622637907194,0.36983232215393747,0.1766061217443502,0.42006766155659614,0.9945948240552664,0.351962390526806,0.8273353540020281,0.4065405784702987,0.48489755686655456,0.544047922177115,0.9107186822299095,0.7707004394369558,0.12804846560045036,0.048428768381344134],\"xaxis\":\"x12\",\"y\":[0.2727659694171646,0.10013266711232538,0.5448327863460596,0.09727329894900805,0.2197344135623024,0.04214646070583883,0.46821889609474976,0.8025023567493255,0.01573595417142093,0.8039627485723932,0.05351035310071783,0.9000406066334424,0.037098494546418004,0.2629835388810038,0.6565807923926823,0.8123690081745882,0.09871617059775817,0.17238693234887326,0.934884113405032,0.34064314236757254,0.9115421177085139,0.5131761680134694,0.5379622467693852,0.284426545392087,0.8345670148283205,0.8487558681961126,0.5900632249409625,0.714154243306131,0.49242633777860434,0.5336573146516208,0.1453402204294264,0.8163375471348691,0.6811463764736094,0.6245439838334139,0.4894177841709727,0.10532400939912523,0.3618680768124718,0.32272026156317757,0.8433884451270447,0.19000243572657838,0.6539164107900397,0.9521670993114382,0.9987033922593445,0.770424395262453,0.5375133721748498,0.082381733581116,0.7608344269402947,0.008898723946493714,0.0495688379008824,0.12610535479249285,0.762356668150164,0.5806095750100767,0.607013446608908,0.9196984128010408,0.28276562212501666,0.2625431879724742,0.4614249618074985,0.17704613485673404,0.7868397345361017,0.8066783941246661,0.4864485987873186,0.6135022168649812,0.6273290657176195,0.6145518813492507,0.23944297122292757,0.8931918852211221,0.3798528483404081,0.33649416223700135,0.043255334208812224,0.553039130920302,0.3620196403359204,0.5856002401687663,0.6080727470900651,0.6777037301958364,0.4224623950184081,0.5079081085198162,0.43057034579573017,0.6902588282783292,0.411766731657773,0.4410796490087915,0.5088675781055102,0.8729896925135645,0.09661973445640559,0.7642709600505615,0.2637435603231273,0.5831670398586298,0.0639600760652358,0.6666363233039206,0.2797930223401284,0.00906139330142075,0.3949603726304901,0.33339740804984064,0.05697582815757041,0.7295051035746041,0.4978557217912828,0.8432200315712669,0.3665848164074931,0.19071377651795673,0.3134459169813113,0.8906068235198399],\"yaxis\":\"y12\"},{\"line\":{\"color\":\"rgba(128, 128, 128, 1.0)\",\"dash\":\"solid\",\"shape\":\"linear\",\"width\":1.3},\"marker\":{\"size\":2,\"symbol\":\"circle\"},\"mode\":\"markers\",\"name\":\"D\",\"text\":\"\",\"type\":\"scatter\",\"x\":[0.6874854690341766,0.5513974765103675,0.45219615905465405,0.3220074688721969,0.49848573503280835,0.8958082016552023,0.5924551606207522,0.019085849506069286,0.16849589082793093,0.03917191500638728,0.9121123388386799,0.23796051949259922,0.7258352658575087,0.34011954084222296,0.9491936521385159,0.15990653103289698,0.9754274244115759,0.3513871614097297,0.7066711673159177,0.6239263416350013,0.7027295187093794,0.799269947258963,0.33849993354535746,0.6301050773543084,0.051192931727014224,0.7224205087266852,0.4610464129486934,0.18313301492030254,0.40054735793284857,0.014412382101959054,0.5456590908441381,0.10855883211332473,0.11586655917905408,0.10568130158337796,0.9818825910553824,0.8617623526104413,0.9415055939261352,0.35812691402662733,0.6234732510966413,0.15305832576902845,0.23400930433298706,0.4388023440377373,0.09120750092250074,0.2590262261903984,0.03974027611508335,0.9284703344580862,0.6080577294722969,0.1012374898742957,0.11618317926899302,0.6088220366799406,0.11991550032916609,0.28278449287021923,0.12753378858961406,0.21490654709576862,0.7204691205883724,0.5518301887870176,0.7226709942872196,0.328001954785583,0.49011610109086257,0.11945543432845651,0.7686714245848407,0.8652286415169714,0.3387705814403654,0.20014342665332918,0.260917778080169,0.9954206073810935,0.27240193790782574,0.27575568228905967,0.30877116216175204,0.579622051446661,0.5461726196682098,0.6872479995752397,0.4276608269347526,0.6431573587078688,0.10326755653659647,0.021542551887952288,0.5826640406415982,0.1961995137374999,0.9301684925096566,0.35239104974070956,0.9269534890286317,0.00967037511330382,0.6469773371700347,0.08189466503482001,0.6470770636312277,0.7186538462033282,0.64798841147515,0.9390131824104669,0.39599019547534,0.4997378936919815,0.3979814103169699,0.43334068025240957,0.18204684784992287,0.9055616278589967,0.4950070469382203,0.2728325871340562,0.3263777289755577,0.9382923709357847,0.9228802624702013,0.2280123275393151],\"xaxis\":\"x13\",\"y\":[0.531294116296426,0.19701194010803857,0.36434386467679614,0.7458001203276531,0.17347779351050963,0.5472650332783991,0.20544178533742818,0.6562607253878838,0.26853162694740906,0.4881979053580182,0.5005925234679313,0.11531827042724174,0.07724001706144845,0.8772379707414086,0.32891027646901105,0.5437696224417293,0.6087019800021553,0.1017477381914369,0.7597565219358867,0.7075870895329108,0.7824508389972364,0.42490351579904595,0.44614267994536105,0.7371651939483885,0.10515654964232335,0.3721918184923646,0.4000347031993342,0.4811459355861514,0.28527624524152306,0.6108657981650865,0.11789606615592574,0.0277722663248563,0.8769255225809013,0.7115275938327793,0.11637247371244663,0.6664260205940643,0.26428574246004877,0.1546039499227917,0.7866297050243156,0.2640539371816679,0.017563027647325202,0.4072262393364442,0.14003560411484361,0.9173998380286212,0.5597047231192082,0.41036967448991135,0.9541359098140745,0.9902816120106191,0.1415037621225823,0.6603396390178276,0.6579803055591977,0.28293678148689194,0.7100677203501573,0.7792898210151603,0.8199346757081758,0.9942471970436231,0.34197956696915943,0.21538847491699653,0.24341009312576722,0.5295471707344911,0.5626079307554687,0.5791795721212617,0.4887896598370344,0.10556584705722183,0.05244441702583369,0.056921755072777636,0.34312237867599027,0.13814114956923884,0.27090922114601856,0.058817672507912366,0.7761114588567718,0.13401279581048786,0.6414201109781611,0.048337886591371726,0.4024651244047073,0.6151419104465695,0.6038409436244889,0.007146886921568063,0.1909741808633073,0.7552171870061412,0.37798713573425746,0.5033973090492699,0.5584382428813486,0.90021115687748,0.6036546937785389,0.14620869127019653,0.9077622637907194,0.36983232215393747,0.1766061217443502,0.42006766155659614,0.9945948240552664,0.351962390526806,0.8273353540020281,0.4065405784702987,0.48489755686655456,0.544047922177115,0.9107186822299095,0.7707004394369558,0.12804846560045036,0.048428768381344134],\"yaxis\":\"y13\"},{\"line\":{\"color\":\"rgba(128, 128, 128, 1.0)\",\"dash\":\"solid\",\"shape\":\"linear\",\"width\":1.3},\"marker\":{\"size\":2,\"symbol\":\"circle\"},\"mode\":\"markers\",\"name\":\"D\",\"text\":\"\",\"type\":\"scatter\",\"x\":[0.8843255679714199,0.4753451338820551,0.5564770416397901,0.4181370124941951,0.8082568964572047,0.0041675524322632995,0.7357309494209592,0.12236491926338045,0.8026430626697526,0.8551481461602891,0.9160726083915803,0.1948611008604485,0.10701810828909286,0.5659538314632473,0.006860980634156744,0.9230463812155936,0.3674568219671307,0.19570344085171865,0.4859113095727293,0.7788449077848387,0.4019894727335077,0.7895054616695254,0.950720477376916,0.7324935991597183,0.8294060719954223,0.6182198093766845,0.3101609180831728,0.8393311468830299,0.541810088608328,0.9808512663420359,0.7004636554110424,0.6112366152144356,0.7291840796906991,0.3664280752889001,0.22748883431446054,0.5760954477062057,0.056814697827563765,0.2644182837393171,0.5254839699381781,0.6053576784527464,0.7582588213806051,0.600899443738797,0.28418780384870856,0.7235975540666422,0.5248556362855886,0.17192615028233327,0.002118427862049077,0.10281536998752638,0.7699441949341121,0.5084122480003067,0.6273821881374195,0.5823393257132602,0.7747669163013711,0.7157246969337302,0.08690490847151733,0.9386285860148799,0.24252824943674178,0.2869278394690582,0.9268408784154505,0.45499666799956184,0.24128442648819093,0.0859334387635351,0.587303931632512,0.05725274216827514,0.02205346107514128,0.17496362033400514,0.8985829347769082,0.2567072722096292,0.035850198583307624,0.2200534368233742,0.9571000858043736,0.9737365908047143,0.3963828806802123,0.6362415350449229,0.15697065950891187,0.036360552886472775,0.982439271041864,0.07103230413276096,0.04406673582766252,0.9977258111089317,0.9375260641083187,0.5165719897735459,0.5328280702622757,0.14681397756233838,0.5506515843640556,0.18482825515656975,0.018811782698625823,0.3565744638001872,0.08815156772705057,0.3442811317469232,0.829660538258542,0.21618861100269104,0.3143410975104918,0.7634603125071553,0.4724020632558451,0.4600717513761058,0.1361911206485652,0.37637493132673405,0.8939930917701026,0.45455119567056856],\"xaxis\":\"x14\",\"y\":[0.531294116296426,0.19701194010803857,0.36434386467679614,0.7458001203276531,0.17347779351050963,0.5472650332783991,0.20544178533742818,0.6562607253878838,0.26853162694740906,0.4881979053580182,0.5005925234679313,0.11531827042724174,0.07724001706144845,0.8772379707414086,0.32891027646901105,0.5437696224417293,0.6087019800021553,0.1017477381914369,0.7597565219358867,0.7075870895329108,0.7824508389972364,0.42490351579904595,0.44614267994536105,0.7371651939483885,0.10515654964232335,0.3721918184923646,0.4000347031993342,0.4811459355861514,0.28527624524152306,0.6108657981650865,0.11789606615592574,0.0277722663248563,0.8769255225809013,0.7115275938327793,0.11637247371244663,0.6664260205940643,0.26428574246004877,0.1546039499227917,0.7866297050243156,0.2640539371816679,0.017563027647325202,0.4072262393364442,0.14003560411484361,0.9173998380286212,0.5597047231192082,0.41036967448991135,0.9541359098140745,0.9902816120106191,0.1415037621225823,0.6603396390178276,0.6579803055591977,0.28293678148689194,0.7100677203501573,0.7792898210151603,0.8199346757081758,0.9942471970436231,0.34197956696915943,0.21538847491699653,0.24341009312576722,0.5295471707344911,0.5626079307554687,0.5791795721212617,0.4887896598370344,0.10556584705722183,0.05244441702583369,0.056921755072777636,0.34312237867599027,0.13814114956923884,0.27090922114601856,0.058817672507912366,0.7761114588567718,0.13401279581048786,0.6414201109781611,0.048337886591371726,0.4024651244047073,0.6151419104465695,0.6038409436244889,0.007146886921568063,0.1909741808633073,0.7552171870061412,0.37798713573425746,0.5033973090492699,0.5584382428813486,0.90021115687748,0.6036546937785389,0.14620869127019653,0.9077622637907194,0.36983232215393747,0.1766061217443502,0.42006766155659614,0.9945948240552664,0.351962390526806,0.8273353540020281,0.4065405784702987,0.48489755686655456,0.544047922177115,0.9107186822299095,0.7707004394369558,0.12804846560045036,0.048428768381344134],\"yaxis\":\"y14\"},{\"line\":{\"color\":\"rgba(128, 128, 128, 1.0)\",\"dash\":\"solid\",\"shape\":\"linear\",\"width\":1.3},\"marker\":{\"size\":2,\"symbol\":\"circle\"},\"mode\":\"markers\",\"name\":\"D\",\"text\":\"\",\"type\":\"scatter\",\"x\":[0.2727659694171646,0.10013266711232538,0.5448327863460596,0.09727329894900805,0.2197344135623024,0.04214646070583883,0.46821889609474976,0.8025023567493255,0.01573595417142093,0.8039627485723932,0.05351035310071783,0.9000406066334424,0.037098494546418004,0.2629835388810038,0.6565807923926823,0.8123690081745882,0.09871617059775817,0.17238693234887326,0.934884113405032,0.34064314236757254,0.9115421177085139,0.5131761680134694,0.5379622467693852,0.284426545392087,0.8345670148283205,0.8487558681961126,0.5900632249409625,0.714154243306131,0.49242633777860434,0.5336573146516208,0.1453402204294264,0.8163375471348691,0.6811463764736094,0.6245439838334139,0.4894177841709727,0.10532400939912523,0.3618680768124718,0.32272026156317757,0.8433884451270447,0.19000243572657838,0.6539164107900397,0.9521670993114382,0.9987033922593445,0.770424395262453,0.5375133721748498,0.082381733581116,0.7608344269402947,0.008898723946493714,0.0495688379008824,0.12610535479249285,0.762356668150164,0.5806095750100767,0.607013446608908,0.9196984128010408,0.28276562212501666,0.2625431879724742,0.4614249618074985,0.17704613485673404,0.7868397345361017,0.8066783941246661,0.4864485987873186,0.6135022168649812,0.6273290657176195,0.6145518813492507,0.23944297122292757,0.8931918852211221,0.3798528483404081,0.33649416223700135,0.043255334208812224,0.553039130920302,0.3620196403359204,0.5856002401687663,0.6080727470900651,0.6777037301958364,0.4224623950184081,0.5079081085198162,0.43057034579573017,0.6902588282783292,0.411766731657773,0.4410796490087915,0.5088675781055102,0.8729896925135645,0.09661973445640559,0.7642709600505615,0.2637435603231273,0.5831670398586298,0.0639600760652358,0.6666363233039206,0.2797930223401284,0.00906139330142075,0.3949603726304901,0.33339740804984064,0.05697582815757041,0.7295051035746041,0.4978557217912828,0.8432200315712669,0.3665848164074931,0.19071377651795673,0.3134459169813113,0.8906068235198399],\"xaxis\":\"x15\",\"y\":[0.531294116296426,0.19701194010803857,0.36434386467679614,0.7458001203276531,0.17347779351050963,0.5472650332783991,0.20544178533742818,0.6562607253878838,0.26853162694740906,0.4881979053580182,0.5005925234679313,0.11531827042724174,0.07724001706144845,0.8772379707414086,0.32891027646901105,0.5437696224417293,0.6087019800021553,0.1017477381914369,0.7597565219358867,0.7075870895329108,0.7824508389972364,0.42490351579904595,0.44614267994536105,0.7371651939483885,0.10515654964232335,0.3721918184923646,0.4000347031993342,0.4811459355861514,0.28527624524152306,0.6108657981650865,0.11789606615592574,0.0277722663248563,0.8769255225809013,0.7115275938327793,0.11637247371244663,0.6664260205940643,0.26428574246004877,0.1546039499227917,0.7866297050243156,0.2640539371816679,0.017563027647325202,0.4072262393364442,0.14003560411484361,0.9173998380286212,0.5597047231192082,0.41036967448991135,0.9541359098140745,0.9902816120106191,0.1415037621225823,0.6603396390178276,0.6579803055591977,0.28293678148689194,0.7100677203501573,0.7792898210151603,0.8199346757081758,0.9942471970436231,0.34197956696915943,0.21538847491699653,0.24341009312576722,0.5295471707344911,0.5626079307554687,0.5791795721212617,0.4887896598370344,0.10556584705722183,0.05244441702583369,0.056921755072777636,0.34312237867599027,0.13814114956923884,0.27090922114601856,0.058817672507912366,0.7761114588567718,0.13401279581048786,0.6414201109781611,0.048337886591371726,0.4024651244047073,0.6151419104465695,0.6038409436244889,0.007146886921568063,0.1909741808633073,0.7552171870061412,0.37798713573425746,0.5033973090492699,0.5584382428813486,0.90021115687748,0.6036546937785389,0.14620869127019653,0.9077622637907194,0.36983232215393747,0.1766061217443502,0.42006766155659614,0.9945948240552664,0.351962390526806,0.8273353540020281,0.4065405784702987,0.48489755686655456,0.544047922177115,0.9107186822299095,0.7707004394369558,0.12804846560045036,0.048428768381344134],\"yaxis\":\"y15\"},{\"histfunc\":\"count\",\"histnorm\":\"\",\"marker\":{\"color\":\"rgba(128, 0, 128, 1.0)\",\"line\":{\"color\":\"#4D5663\",\"width\":1.3}},\"name\":\"D\",\"nbinsx\":10,\"opacity\":0.8,\"orientation\":\"v\",\"type\":\"histogram\",\"x\":[0.531294116296426,0.19701194010803857,0.36434386467679614,0.7458001203276531,0.17347779351050963,0.5472650332783991,0.20544178533742818,0.6562607253878838,0.26853162694740906,0.4881979053580182,0.5005925234679313,0.11531827042724174,0.07724001706144845,0.8772379707414086,0.32891027646901105,0.5437696224417293,0.6087019800021553,0.1017477381914369,0.7597565219358867,0.7075870895329108,0.7824508389972364,0.42490351579904595,0.44614267994536105,0.7371651939483885,0.10515654964232335,0.3721918184923646,0.4000347031993342,0.4811459355861514,0.28527624524152306,0.6108657981650865,0.11789606615592574,0.0277722663248563,0.8769255225809013,0.7115275938327793,0.11637247371244663,0.6664260205940643,0.26428574246004877,0.1546039499227917,0.7866297050243156,0.2640539371816679,0.017563027647325202,0.4072262393364442,0.14003560411484361,0.9173998380286212,0.5597047231192082,0.41036967448991135,0.9541359098140745,0.9902816120106191,0.1415037621225823,0.6603396390178276,0.6579803055591977,0.28293678148689194,0.7100677203501573,0.7792898210151603,0.8199346757081758,0.9942471970436231,0.34197956696915943,0.21538847491699653,0.24341009312576722,0.5295471707344911,0.5626079307554687,0.5791795721212617,0.4887896598370344,0.10556584705722183,0.05244441702583369,0.056921755072777636,0.34312237867599027,0.13814114956923884,0.27090922114601856,0.058817672507912366,0.7761114588567718,0.13401279581048786,0.6414201109781611,0.048337886591371726,0.4024651244047073,0.6151419104465695,0.6038409436244889,0.007146886921568063,0.1909741808633073,0.7552171870061412,0.37798713573425746,0.5033973090492699,0.5584382428813486,0.90021115687748,0.6036546937785389,0.14620869127019653,0.9077622637907194,0.36983232215393747,0.1766061217443502,0.42006766155659614,0.9945948240552664,0.351962390526806,0.8273353540020281,0.4065405784702987,0.48489755686655456,0.544047922177115,0.9107186822299095,0.7707004394369558,0.12804846560045036,0.048428768381344134],\"xaxis\":\"x16\",\"yaxis\":\"y16\"}],                        {\"bargap\":0.02,\"legend\":{\"bgcolor\":\"#F5F6F9\",\"font\":{\"color\":\"#4D5663\"}},\"paper_bgcolor\":\"#F5F6F9\",\"plot_bgcolor\":\"#F5F6F9\",\"showlegend\":false,\"template\":{\"data\":{\"bar\":[{\"error_x\":{\"color\":\"#2a3f5f\"},\"error_y\":{\"color\":\"#2a3f5f\"},\"marker\":{\"line\":{\"color\":\"#E5ECF6\",\"width\":0.5},\"pattern\":{\"fillmode\":\"overlay\",\"size\":10,\"solidity\":0.2}},\"type\":\"bar\"}],\"barpolar\":[{\"marker\":{\"line\":{\"color\":\"#E5ECF6\",\"width\":0.5},\"pattern\":{\"fillmode\":\"overlay\",\"size\":10,\"solidity\":0.2}},\"type\":\"barpolar\"}],\"carpet\":[{\"aaxis\":{\"endlinecolor\":\"#2a3f5f\",\"gridcolor\":\"white\",\"linecolor\":\"white\",\"minorgridcolor\":\"white\",\"startlinecolor\":\"#2a3f5f\"},\"baxis\":{\"endlinecolor\":\"#2a3f5f\",\"gridcolor\":\"white\",\"linecolor\":\"white\",\"minorgridcolor\":\"white\",\"startlinecolor\":\"#2a3f5f\"},\"type\":\"carpet\"}],\"choropleth\":[{\"colorbar\":{\"outlinewidth\":0,\"ticks\":\"\"},\"type\":\"choropleth\"}],\"contour\":[{\"colorbar\":{\"outlinewidth\":0,\"ticks\":\"\"},\"colorscale\":[[0.0,\"#0d0887\"],[0.1111111111111111,\"#46039f\"],[0.2222222222222222,\"#7201a8\"],[0.3333333333333333,\"#9c179e\"],[0.4444444444444444,\"#bd3786\"],[0.5555555555555556,\"#d8576b\"],[0.6666666666666666,\"#ed7953\"],[0.7777777777777778,\"#fb9f3a\"],[0.8888888888888888,\"#fdca26\"],[1.0,\"#f0f921\"]],\"type\":\"contour\"}],\"contourcarpet\":[{\"colorbar\":{\"outlinewidth\":0,\"ticks\":\"\"},\"type\":\"contourcarpet\"}],\"heatmap\":[{\"colorbar\":{\"outlinewidth\":0,\"ticks\":\"\"},\"colorscale\":[[0.0,\"#0d0887\"],[0.1111111111111111,\"#46039f\"],[0.2222222222222222,\"#7201a8\"],[0.3333333333333333,\"#9c179e\"],[0.4444444444444444,\"#bd3786\"],[0.5555555555555556,\"#d8576b\"],[0.6666666666666666,\"#ed7953\"],[0.7777777777777778,\"#fb9f3a\"],[0.8888888888888888,\"#fdca26\"],[1.0,\"#f0f921\"]],\"type\":\"heatmap\"}],\"heatmapgl\":[{\"colorbar\":{\"outlinewidth\":0,\"ticks\":\"\"},\"colorscale\":[[0.0,\"#0d0887\"],[0.1111111111111111,\"#46039f\"],[0.2222222222222222,\"#7201a8\"],[0.3333333333333333,\"#9c179e\"],[0.4444444444444444,\"#bd3786\"],[0.5555555555555556,\"#d8576b\"],[0.6666666666666666,\"#ed7953\"],[0.7777777777777778,\"#fb9f3a\"],[0.8888888888888888,\"#fdca26\"],[1.0,\"#f0f921\"]],\"type\":\"heatmapgl\"}],\"histogram\":[{\"marker\":{\"pattern\":{\"fillmode\":\"overlay\",\"size\":10,\"solidity\":0.2}},\"type\":\"histogram\"}],\"histogram2d\":[{\"colorbar\":{\"outlinewidth\":0,\"ticks\":\"\"},\"colorscale\":[[0.0,\"#0d0887\"],[0.1111111111111111,\"#46039f\"],[0.2222222222222222,\"#7201a8\"],[0.3333333333333333,\"#9c179e\"],[0.4444444444444444,\"#bd3786\"],[0.5555555555555556,\"#d8576b\"],[0.6666666666666666,\"#ed7953\"],[0.7777777777777778,\"#fb9f3a\"],[0.8888888888888888,\"#fdca26\"],[1.0,\"#f0f921\"]],\"type\":\"histogram2d\"}],\"histogram2dcontour\":[{\"colorbar\":{\"outlinewidth\":0,\"ticks\":\"\"},\"colorscale\":[[0.0,\"#0d0887\"],[0.1111111111111111,\"#46039f\"],[0.2222222222222222,\"#7201a8\"],[0.3333333333333333,\"#9c179e\"],[0.4444444444444444,\"#bd3786\"],[0.5555555555555556,\"#d8576b\"],[0.6666666666666666,\"#ed7953\"],[0.7777777777777778,\"#fb9f3a\"],[0.8888888888888888,\"#fdca26\"],[1.0,\"#f0f921\"]],\"type\":\"histogram2dcontour\"}],\"mesh3d\":[{\"colorbar\":{\"outlinewidth\":0,\"ticks\":\"\"},\"type\":\"mesh3d\"}],\"parcoords\":[{\"line\":{\"colorbar\":{\"outlinewidth\":0,\"ticks\":\"\"}},\"type\":\"parcoords\"}],\"pie\":[{\"automargin\":true,\"type\":\"pie\"}],\"scatter\":[{\"marker\":{\"colorbar\":{\"outlinewidth\":0,\"ticks\":\"\"}},\"type\":\"scatter\"}],\"scatter3d\":[{\"line\":{\"colorbar\":{\"outlinewidth\":0,\"ticks\":\"\"}},\"marker\":{\"colorbar\":{\"outlinewidth\":0,\"ticks\":\"\"}},\"type\":\"scatter3d\"}],\"scattercarpet\":[{\"marker\":{\"colorbar\":{\"outlinewidth\":0,\"ticks\":\"\"}},\"type\":\"scattercarpet\"}],\"scattergeo\":[{\"marker\":{\"colorbar\":{\"outlinewidth\":0,\"ticks\":\"\"}},\"type\":\"scattergeo\"}],\"scattergl\":[{\"marker\":{\"colorbar\":{\"outlinewidth\":0,\"ticks\":\"\"}},\"type\":\"scattergl\"}],\"scattermapbox\":[{\"marker\":{\"colorbar\":{\"outlinewidth\":0,\"ticks\":\"\"}},\"type\":\"scattermapbox\"}],\"scatterpolar\":[{\"marker\":{\"colorbar\":{\"outlinewidth\":0,\"ticks\":\"\"}},\"type\":\"scatterpolar\"}],\"scatterpolargl\":[{\"marker\":{\"colorbar\":{\"outlinewidth\":0,\"ticks\":\"\"}},\"type\":\"scatterpolargl\"}],\"scatterternary\":[{\"marker\":{\"colorbar\":{\"outlinewidth\":0,\"ticks\":\"\"}},\"type\":\"scatterternary\"}],\"surface\":[{\"colorbar\":{\"outlinewidth\":0,\"ticks\":\"\"},\"colorscale\":[[0.0,\"#0d0887\"],[0.1111111111111111,\"#46039f\"],[0.2222222222222222,\"#7201a8\"],[0.3333333333333333,\"#9c179e\"],[0.4444444444444444,\"#bd3786\"],[0.5555555555555556,\"#d8576b\"],[0.6666666666666666,\"#ed7953\"],[0.7777777777777778,\"#fb9f3a\"],[0.8888888888888888,\"#fdca26\"],[1.0,\"#f0f921\"]],\"type\":\"surface\"}],\"table\":[{\"cells\":{\"fill\":{\"color\":\"#EBF0F8\"},\"line\":{\"color\":\"white\"}},\"header\":{\"fill\":{\"color\":\"#C8D4E3\"},\"line\":{\"color\":\"white\"}},\"type\":\"table\"}]},\"layout\":{\"annotationdefaults\":{\"arrowcolor\":\"#2a3f5f\",\"arrowhead\":0,\"arrowwidth\":1},\"autotypenumbers\":\"strict\",\"coloraxis\":{\"colorbar\":{\"outlinewidth\":0,\"ticks\":\"\"}},\"colorscale\":{\"diverging\":[[0,\"#8e0152\"],[0.1,\"#c51b7d\"],[0.2,\"#de77ae\"],[0.3,\"#f1b6da\"],[0.4,\"#fde0ef\"],[0.5,\"#f7f7f7\"],[0.6,\"#e6f5d0\"],[0.7,\"#b8e186\"],[0.8,\"#7fbc41\"],[0.9,\"#4d9221\"],[1,\"#276419\"]],\"sequential\":[[0.0,\"#0d0887\"],[0.1111111111111111,\"#46039f\"],[0.2222222222222222,\"#7201a8\"],[0.3333333333333333,\"#9c179e\"],[0.4444444444444444,\"#bd3786\"],[0.5555555555555556,\"#d8576b\"],[0.6666666666666666,\"#ed7953\"],[0.7777777777777778,\"#fb9f3a\"],[0.8888888888888888,\"#fdca26\"],[1.0,\"#f0f921\"]],\"sequentialminus\":[[0.0,\"#0d0887\"],[0.1111111111111111,\"#46039f\"],[0.2222222222222222,\"#7201a8\"],[0.3333333333333333,\"#9c179e\"],[0.4444444444444444,\"#bd3786\"],[0.5555555555555556,\"#d8576b\"],[0.6666666666666666,\"#ed7953\"],[0.7777777777777778,\"#fb9f3a\"],[0.8888888888888888,\"#fdca26\"],[1.0,\"#f0f921\"]]},\"colorway\":[\"#636efa\",\"#EF553B\",\"#00cc96\",\"#ab63fa\",\"#FFA15A\",\"#19d3f3\",\"#FF6692\",\"#B6E880\",\"#FF97FF\",\"#FECB52\"],\"font\":{\"color\":\"#2a3f5f\"},\"geo\":{\"bgcolor\":\"white\",\"lakecolor\":\"white\",\"landcolor\":\"#E5ECF6\",\"showlakes\":true,\"showland\":true,\"subunitcolor\":\"white\"},\"hoverlabel\":{\"align\":\"left\"},\"hovermode\":\"closest\",\"mapbox\":{\"style\":\"light\"},\"paper_bgcolor\":\"white\",\"plot_bgcolor\":\"#E5ECF6\",\"polar\":{\"angularaxis\":{\"gridcolor\":\"white\",\"linecolor\":\"white\",\"ticks\":\"\"},\"bgcolor\":\"#E5ECF6\",\"radialaxis\":{\"gridcolor\":\"white\",\"linecolor\":\"white\",\"ticks\":\"\"}},\"scene\":{\"xaxis\":{\"backgroundcolor\":\"#E5ECF6\",\"gridcolor\":\"white\",\"gridwidth\":2,\"linecolor\":\"white\",\"showbackground\":true,\"ticks\":\"\",\"zerolinecolor\":\"white\"},\"yaxis\":{\"backgroundcolor\":\"#E5ECF6\",\"gridcolor\":\"white\",\"gridwidth\":2,\"linecolor\":\"white\",\"showbackground\":true,\"ticks\":\"\",\"zerolinecolor\":\"white\"},\"zaxis\":{\"backgroundcolor\":\"#E5ECF6\",\"gridcolor\":\"white\",\"gridwidth\":2,\"linecolor\":\"white\",\"showbackground\":true,\"ticks\":\"\",\"zerolinecolor\":\"white\"}},\"shapedefaults\":{\"line\":{\"color\":\"#2a3f5f\"}},\"ternary\":{\"aaxis\":{\"gridcolor\":\"white\",\"linecolor\":\"white\",\"ticks\":\"\"},\"baxis\":{\"gridcolor\":\"white\",\"linecolor\":\"white\",\"ticks\":\"\"},\"bgcolor\":\"#E5ECF6\",\"caxis\":{\"gridcolor\":\"white\",\"linecolor\":\"white\",\"ticks\":\"\"}},\"title\":{\"x\":0.05},\"xaxis\":{\"automargin\":true,\"gridcolor\":\"white\",\"linecolor\":\"white\",\"ticks\":\"\",\"title\":{\"standoff\":15},\"zerolinecolor\":\"white\",\"zerolinewidth\":2},\"yaxis\":{\"automargin\":true,\"gridcolor\":\"white\",\"linecolor\":\"white\",\"ticks\":\"\",\"title\":{\"standoff\":15},\"zerolinecolor\":\"white\",\"zerolinewidth\":2}}},\"title\":{\"font\":{\"color\":\"#4D5663\"}},\"xaxis\":{\"anchor\":\"y\",\"domain\":[0.0,0.2125],\"gridcolor\":\"#E1E5ED\",\"showgrid\":false,\"tickfont\":{\"color\":\"#4D5663\"},\"title\":{\"font\":{\"color\":\"#4D5663\"},\"text\":\"\"},\"zerolinecolor\":\"#E1E5ED\"},\"xaxis10\":{\"anchor\":\"y10\",\"domain\":[0.2625,0.475],\"gridcolor\":\"#E1E5ED\",\"showgrid\":false,\"tickfont\":{\"color\":\"#4D5663\"},\"title\":{\"font\":{\"color\":\"#4D5663\"},\"text\":\"\"},\"zerolinecolor\":\"#E1E5ED\"},\"xaxis11\":{\"anchor\":\"y11\",\"domain\":[0.525,0.7375],\"gridcolor\":\"#E1E5ED\",\"showgrid\":false,\"tickfont\":{\"color\":\"#4D5663\"},\"title\":{\"font\":{\"color\":\"#4D5663\"},\"text\":\"\"},\"zerolinecolor\":\"#E1E5ED\"},\"xaxis12\":{\"anchor\":\"y12\",\"domain\":[0.7875,1.0],\"gridcolor\":\"#E1E5ED\",\"showgrid\":false,\"tickfont\":{\"color\":\"#4D5663\"},\"title\":{\"font\":{\"color\":\"#4D5663\"},\"text\":\"\"},\"zerolinecolor\":\"#E1E5ED\"},\"xaxis13\":{\"anchor\":\"y13\",\"domain\":[0.0,0.2125],\"gridcolor\":\"#E1E5ED\",\"showgrid\":false,\"tickfont\":{\"color\":\"#4D5663\"},\"title\":{\"font\":{\"color\":\"#4D5663\"},\"text\":\"\"},\"zerolinecolor\":\"#E1E5ED\"},\"xaxis14\":{\"anchor\":\"y14\",\"domain\":[0.2625,0.475],\"gridcolor\":\"#E1E5ED\",\"showgrid\":false,\"tickfont\":{\"color\":\"#4D5663\"},\"title\":{\"font\":{\"color\":\"#4D5663\"},\"text\":\"\"},\"zerolinecolor\":\"#E1E5ED\"},\"xaxis15\":{\"anchor\":\"y15\",\"domain\":[0.525,0.7375],\"gridcolor\":\"#E1E5ED\",\"showgrid\":false,\"tickfont\":{\"color\":\"#4D5663\"},\"title\":{\"font\":{\"color\":\"#4D5663\"},\"text\":\"\"},\"zerolinecolor\":\"#E1E5ED\"},\"xaxis16\":{\"anchor\":\"y16\",\"domain\":[0.7875,1.0],\"gridcolor\":\"#E1E5ED\",\"showgrid\":false,\"tickfont\":{\"color\":\"#4D5663\"},\"title\":{\"font\":{\"color\":\"#4D5663\"},\"text\":\"\"},\"zerolinecolor\":\"#E1E5ED\"},\"xaxis2\":{\"anchor\":\"y2\",\"domain\":[0.2625,0.475],\"gridcolor\":\"#E1E5ED\",\"showgrid\":false,\"tickfont\":{\"color\":\"#4D5663\"},\"title\":{\"font\":{\"color\":\"#4D5663\"},\"text\":\"\"},\"zerolinecolor\":\"#E1E5ED\"},\"xaxis3\":{\"anchor\":\"y3\",\"domain\":[0.525,0.7375],\"gridcolor\":\"#E1E5ED\",\"showgrid\":false,\"tickfont\":{\"color\":\"#4D5663\"},\"title\":{\"font\":{\"color\":\"#4D5663\"},\"text\":\"\"},\"zerolinecolor\":\"#E1E5ED\"},\"xaxis4\":{\"anchor\":\"y4\",\"domain\":[0.7875,1.0],\"gridcolor\":\"#E1E5ED\",\"showgrid\":false,\"tickfont\":{\"color\":\"#4D5663\"},\"title\":{\"font\":{\"color\":\"#4D5663\"},\"text\":\"\"},\"zerolinecolor\":\"#E1E5ED\"},\"xaxis5\":{\"anchor\":\"y5\",\"domain\":[0.0,0.2125],\"gridcolor\":\"#E1E5ED\",\"showgrid\":false,\"tickfont\":{\"color\":\"#4D5663\"},\"title\":{\"font\":{\"color\":\"#4D5663\"},\"text\":\"\"},\"zerolinecolor\":\"#E1E5ED\"},\"xaxis6\":{\"anchor\":\"y6\",\"domain\":[0.2625,0.475],\"gridcolor\":\"#E1E5ED\",\"showgrid\":false,\"tickfont\":{\"color\":\"#4D5663\"},\"title\":{\"font\":{\"color\":\"#4D5663\"},\"text\":\"\"},\"zerolinecolor\":\"#E1E5ED\"},\"xaxis7\":{\"anchor\":\"y7\",\"domain\":[0.525,0.7375],\"gridcolor\":\"#E1E5ED\",\"showgrid\":false,\"tickfont\":{\"color\":\"#4D5663\"},\"title\":{\"font\":{\"color\":\"#4D5663\"},\"text\":\"\"},\"zerolinecolor\":\"#E1E5ED\"},\"xaxis8\":{\"anchor\":\"y8\",\"domain\":[0.7875,1.0],\"gridcolor\":\"#E1E5ED\",\"showgrid\":false,\"tickfont\":{\"color\":\"#4D5663\"},\"title\":{\"font\":{\"color\":\"#4D5663\"},\"text\":\"\"},\"zerolinecolor\":\"#E1E5ED\"},\"xaxis9\":{\"anchor\":\"y9\",\"domain\":[0.0,0.2125],\"gridcolor\":\"#E1E5ED\",\"showgrid\":false,\"tickfont\":{\"color\":\"#4D5663\"},\"title\":{\"font\":{\"color\":\"#4D5663\"},\"text\":\"\"},\"zerolinecolor\":\"#E1E5ED\"},\"yaxis\":{\"anchor\":\"x\",\"domain\":[0.8025,1.0],\"gridcolor\":\"#E1E5ED\",\"showgrid\":false,\"tickfont\":{\"color\":\"#4D5663\"},\"title\":{\"font\":{\"color\":\"#4D5663\"},\"text\":\"\"},\"zerolinecolor\":\"#E1E5ED\"},\"yaxis10\":{\"anchor\":\"x10\",\"domain\":[0.2675,0.465],\"gridcolor\":\"#E1E5ED\",\"showgrid\":false,\"tickfont\":{\"color\":\"#4D5663\"},\"title\":{\"font\":{\"color\":\"#4D5663\"},\"text\":\"\"},\"zerolinecolor\":\"#E1E5ED\"},\"yaxis11\":{\"anchor\":\"x11\",\"domain\":[0.2675,0.465],\"gridcolor\":\"#E1E5ED\",\"showgrid\":false,\"tickfont\":{\"color\":\"#4D5663\"},\"title\":{\"font\":{\"color\":\"#4D5663\"},\"text\":\"\"},\"zerolinecolor\":\"#E1E5ED\"},\"yaxis12\":{\"anchor\":\"x12\",\"domain\":[0.2675,0.465],\"gridcolor\":\"#E1E5ED\",\"showgrid\":false,\"tickfont\":{\"color\":\"#4D5663\"},\"title\":{\"font\":{\"color\":\"#4D5663\"},\"text\":\"\"},\"zerolinecolor\":\"#E1E5ED\"},\"yaxis13\":{\"anchor\":\"x13\",\"domain\":[0.0,0.1975],\"gridcolor\":\"#E1E5ED\",\"showgrid\":false,\"tickfont\":{\"color\":\"#4D5663\"},\"title\":{\"font\":{\"color\":\"#4D5663\"},\"text\":\"\"},\"zerolinecolor\":\"#E1E5ED\"},\"yaxis14\":{\"anchor\":\"x14\",\"domain\":[0.0,0.1975],\"gridcolor\":\"#E1E5ED\",\"showgrid\":false,\"tickfont\":{\"color\":\"#4D5663\"},\"title\":{\"font\":{\"color\":\"#4D5663\"},\"text\":\"\"},\"zerolinecolor\":\"#E1E5ED\"},\"yaxis15\":{\"anchor\":\"x15\",\"domain\":[0.0,0.1975],\"gridcolor\":\"#E1E5ED\",\"showgrid\":false,\"tickfont\":{\"color\":\"#4D5663\"},\"title\":{\"font\":{\"color\":\"#4D5663\"},\"text\":\"\"},\"zerolinecolor\":\"#E1E5ED\"},\"yaxis16\":{\"anchor\":\"x16\",\"domain\":[0.0,0.1975],\"gridcolor\":\"#E1E5ED\",\"showgrid\":false,\"tickfont\":{\"color\":\"#4D5663\"},\"title\":{\"font\":{\"color\":\"#4D5663\"},\"text\":\"\"},\"zerolinecolor\":\"#E1E5ED\"},\"yaxis2\":{\"anchor\":\"x2\",\"domain\":[0.8025,1.0],\"gridcolor\":\"#E1E5ED\",\"showgrid\":false,\"tickfont\":{\"color\":\"#4D5663\"},\"title\":{\"font\":{\"color\":\"#4D5663\"},\"text\":\"\"},\"zerolinecolor\":\"#E1E5ED\"},\"yaxis3\":{\"anchor\":\"x3\",\"domain\":[0.8025,1.0],\"gridcolor\":\"#E1E5ED\",\"showgrid\":false,\"tickfont\":{\"color\":\"#4D5663\"},\"title\":{\"font\":{\"color\":\"#4D5663\"},\"text\":\"\"},\"zerolinecolor\":\"#E1E5ED\"},\"yaxis4\":{\"anchor\":\"x4\",\"domain\":[0.8025,1.0],\"gridcolor\":\"#E1E5ED\",\"showgrid\":false,\"tickfont\":{\"color\":\"#4D5663\"},\"title\":{\"font\":{\"color\":\"#4D5663\"},\"text\":\"\"},\"zerolinecolor\":\"#E1E5ED\"},\"yaxis5\":{\"anchor\":\"x5\",\"domain\":[0.535,0.7325],\"gridcolor\":\"#E1E5ED\",\"showgrid\":false,\"tickfont\":{\"color\":\"#4D5663\"},\"title\":{\"font\":{\"color\":\"#4D5663\"},\"text\":\"\"},\"zerolinecolor\":\"#E1E5ED\"},\"yaxis6\":{\"anchor\":\"x6\",\"domain\":[0.535,0.7325],\"gridcolor\":\"#E1E5ED\",\"showgrid\":false,\"tickfont\":{\"color\":\"#4D5663\"},\"title\":{\"font\":{\"color\":\"#4D5663\"},\"text\":\"\"},\"zerolinecolor\":\"#E1E5ED\"},\"yaxis7\":{\"anchor\":\"x7\",\"domain\":[0.535,0.7325],\"gridcolor\":\"#E1E5ED\",\"showgrid\":false,\"tickfont\":{\"color\":\"#4D5663\"},\"title\":{\"font\":{\"color\":\"#4D5663\"},\"text\":\"\"},\"zerolinecolor\":\"#E1E5ED\"},\"yaxis8\":{\"anchor\":\"x8\",\"domain\":[0.535,0.7325],\"gridcolor\":\"#E1E5ED\",\"showgrid\":false,\"tickfont\":{\"color\":\"#4D5663\"},\"title\":{\"font\":{\"color\":\"#4D5663\"},\"text\":\"\"},\"zerolinecolor\":\"#E1E5ED\"},\"yaxis9\":{\"anchor\":\"x9\",\"domain\":[0.2675,0.465],\"gridcolor\":\"#E1E5ED\",\"showgrid\":false,\"tickfont\":{\"color\":\"#4D5663\"},\"title\":{\"font\":{\"color\":\"#4D5663\"},\"text\":\"\"},\"zerolinecolor\":\"#E1E5ED\"}},                        {\"showLink\": true, \"linkText\": \"Export to plot.ly\", \"plotlyServerURL\": \"https://plot.ly\", \"responsive\": true}                    ).then(function(){\n",
       "                            \n",
       "var gd = document.getElementById('54da9bb8-6562-49a7-9425-81a383116aba');\n",
       "var x = new MutationObserver(function (mutations, observer) {{\n",
       "        var display = window.getComputedStyle(gd).display;\n",
       "        if (!display || display === 'none') {{\n",
       "            console.log([gd, 'removed!']);\n",
       "            Plotly.purge(gd);\n",
       "            observer.disconnect();\n",
       "        }}\n",
       "}});\n",
       "\n",
       "// Listen for the removal of the full notebook cells\n",
       "var notebookContainer = gd.closest('#notebook-container');\n",
       "if (notebookContainer) {{\n",
       "    x.observe(notebookContainer, {childList: true});\n",
       "}}\n",
       "\n",
       "// Listen for the clearing of the current output cell\n",
       "var outputEl = gd.closest('.output');\n",
       "if (outputEl) {{\n",
       "    x.observe(outputEl, {childList: true});\n",
       "}}\n",
       "\n",
       "                        })                };                });            </script>        </div>"
      ]
     },
     "metadata": {},
     "output_type": "display_data"
    }
   ],
   "source": [
    "df.scatter_matrix()"
   ]
  },
  {
   "cell_type": "code",
   "execution_count": null,
   "id": "87b59901",
   "metadata": {},
   "outputs": [],
   "source": []
  }
 ],
 "metadata": {
  "kernelspec": {
   "display_name": "Python 3",
   "language": "python",
   "name": "python3"
  },
  "language_info": {
   "codemirror_mode": {
    "name": "ipython",
    "version": 3
   },
   "file_extension": ".py",
   "mimetype": "text/x-python",
   "name": "python",
   "nbconvert_exporter": "python",
   "pygments_lexer": "ipython3",
   "version": "3.8.8"
  }
 },
 "nbformat": 4,
 "nbformat_minor": 5
}
